{
 "cells": [
  {
   "cell_type": "markdown",
   "metadata": {},
   "source": [
    "# NY Yellow Taxi Trips"
   ]
  },
  {
   "cell_type": "markdown",
   "metadata": {},
   "source": [
    "![](https://live.staticflickr.com/8121/8671882197_ae4f16ac5a_b.jpg)\n",
    "\n",
    "### About the dataset\n",
    "\n",
    "We will analyse New York Taxi trips that took place in January 2016. Dataset available [here](https://www.kaggle.com/vishnurapps/newyork-taxi-demand/data?select=yellow_tripdata_2016-01.csv).\n",
    "\n",
    "Team members:\n",
    "- Lenka Krenkova\n",
    "- Chowdhury Ashek Bin Helal\n",
    "\n",
    "There are 19 columns:"
   ]
  },
  {
   "cell_type": "markdown",
   "metadata": {},
   "source": [
    "Field Name | Description\n",
    "------------ | -------------\n",
    "**VendorID** | A code indicating the TPEP provider that provided the record.\n",
    "| 1= Creative Mobile Technologies, LLC; 2= VeriFone Inc.\n",
    "**tpep_pickup_datetime** | The date and time when the meter was engaged.\n",
    "**tpep_dropoff_datetime** | The date and time when the meter was disengaged.\n",
    "**Passenger_count** | The number of passengers in the vehicle.\n",
    "| This is a driver-entered value.\n",
    "**Trip_distance** | The elapsed trip distance in miles reported by the taximeter.\n",
    "**Pickup_longitude** | Longitude of location in which the passenger was picked up.\n",
    "**Pickup_latitude** | Latitude of location in which the passenger was picked up.\n",
    "**RateCodeID** | The final rate code in effect at the end of the trip.\n",
    "| 1= Standard rate\n",
    "|2=JFK\n",
    "|3=Newark\n",
    "|4=Nassau or Westchester\n",
    "|5=Negotiated fare\n",
    "|6=Group ride\n",
    "**Store_and_fwd_flag** | This flag indicates whether the trip record was held in vehicle memory before sending to the vendor, aka “store and forward,” because the vehicle did not have a connection to the server.\n",
    "|Y= store and forward trip\n",
    "|N= not a store and forward trip\n",
    "**Dropoff_longitude** | Longitude of location in which the passenger was dropped off.\n",
    "**Dropoff_latitude** | Latitude of location in which the passenger was dropped off.\n",
    "**Payment_type** | A numeric code signifying how the passenger paid for the trip.\n",
    "|1= Credit card\n",
    "|2= Cash\n",
    "|3= No charge\n",
    "|4= Dispute\n",
    "|5= Unknown\n",
    "|6= Voided trip\n",
    "**Fare_amount** | The time-and-distance fare calculated by the meter.\n",
    "**Extra** | Miscellaneous extras and surcharges. Currently, this only includes the \\\\$0.50 and \\\\$1 rush hour and overnight charges.\n",
    "**MTA_tax** | \\\\$0.50 MTA tax that is automatically triggered based on the metered rate in use.\n",
    "**Improvement_surcharge** | \\$0.30 improvement surcharge assessed trips at the flag drop. The improvement surcharge began being levied in 2015.\n",
    "**Tip_amount** | Tip amount – This field is automatically populated for credit card tips. Cash tips are not included.\n",
    "**Tolls_amount** |Total amount of all tolls paid in trip.\n",
    "**Total_amount** | The total amount charged to passengers. Does not include cash tips."
   ]
  },
  {
   "cell_type": "markdown",
   "metadata": {},
   "source": [
    "# Plan\n",
    "- checking to missing data\n",
    "- checking the duplicate data\n",
    "- check the popular vendor\n",
    "- total distance cover\n",
    "- total time cover\n",
    "- check the mean of distance,time ,price...(describe)\n",
    "- Most busiest time of the day.....\n",
    "- correlations of price and distance, time....\n",
    "- heat map with correlations\n",
    "- plot the pickup points and drop off points on map [here](https://www.kaggle.com/yssefunc/mapping-nyc-taxi-with-the-folium-library)\n",
    "- travel time during the day... to differents airport [here](https://www.r-bloggers.com/analyzing-1-1-billion-nyc-taxi-and-uber-trips-with-a-vengeance/)\n",
    "- tipping analysis [here](https://nycdatascience.com/blog/student-works/nyc-taxi-riders-tipping-behavior-analysis/)\n",
    "- matplotlib [here](https://ramiro.org/notebook/new-york-roads-railways/)"
   ]
  },
  {
   "cell_type": "code",
   "execution_count": 1,
   "metadata": {
    "ExecuteTime": {
     "end_time": "2020-06-30T06:54:39.959269Z",
     "start_time": "2020-06-30T06:54:35.274519Z"
    }
   },
   "outputs": [],
   "source": [
    "import dask.dataframe as dd\n",
    "import dask\n",
    "import dask.array as da\n",
    "import numpy as np\n",
    "import os\n",
    "import datetime as dt\n",
    "import matplotlib.pyplot as plt\n",
    "import pandas as pd\n",
    "import plotly as py\n",
    "import cufflinks as cf\n",
    "from plotly.offline import iplot\n",
    "import plotly.tools as tls\n",
    "import plotly.express as px\n",
    "import time#Convert to unix time\n",
    "from dask.array import from_array as fa"
   ]
  },
  {
   "cell_type": "code",
   "execution_count": 2,
   "metadata": {
    "ExecuteTime": {
     "end_time": "2020-06-30T06:56:13.084686Z",
     "start_time": "2020-06-30T06:56:12.699200Z"
    }
   },
   "outputs": [
    {
     "data": {
      "text/html": [
       "        <script type=\"text/javascript\">\n",
       "        window.PlotlyConfig = {MathJaxConfig: 'local'};\n",
       "        if (window.MathJax) {MathJax.Hub.Config({SVG: {font: \"STIX-Web\"}});}\n",
       "        if (typeof require !== 'undefined') {\n",
       "        require.undef(\"plotly\");\n",
       "        requirejs.config({\n",
       "            paths: {\n",
       "                'plotly': ['https://cdn.plot.ly/plotly-latest.min']\n",
       "            }\n",
       "        });\n",
       "        require(['plotly'], function(Plotly) {\n",
       "            window._Plotly = Plotly;\n",
       "        });\n",
       "        }\n",
       "        </script>\n",
       "        "
      ]
     },
     "metadata": {},
     "output_type": "display_data"
    },
    {
     "data": {
      "text/html": [
       "        <script type=\"text/javascript\">\n",
       "        window.PlotlyConfig = {MathJaxConfig: 'local'};\n",
       "        if (window.MathJax) {MathJax.Hub.Config({SVG: {font: \"STIX-Web\"}});}\n",
       "        if (typeof require !== 'undefined') {\n",
       "        require.undef(\"plotly\");\n",
       "        requirejs.config({\n",
       "            paths: {\n",
       "                'plotly': ['https://cdn.plot.ly/plotly-latest.min']\n",
       "            }\n",
       "        });\n",
       "        require(['plotly'], function(Plotly) {\n",
       "            window._Plotly = Plotly;\n",
       "        });\n",
       "        }\n",
       "        </script>\n",
       "        "
      ]
     },
     "metadata": {},
     "output_type": "display_data"
    }
   ],
   "source": [
    "py.offline.init_notebook_mode(connected=True)\n",
    "cf.go_offline()"
   ]
  },
  {
   "cell_type": "markdown",
   "metadata": {},
   "source": [
    "## Loading the data"
   ]
  },
  {
   "cell_type": "markdown",
   "metadata": {},
   "source": [
    "As the data was too big to manipulate, we decided to take only a fraction of it so we don't overload the system."
   ]
  },
  {
   "cell_type": "code",
   "execution_count": 3,
   "metadata": {
    "ExecuteTime": {
     "end_time": "2020-06-27T08:36:58.705249Z",
     "start_time": "2020-06-27T08:36:58.633441Z"
    }
   },
   "outputs": [
    {
     "name": "stdout",
     "output_type": "stream",
     "text": [
      "Wall time: 36.9 ms\n"
     ]
    }
   ],
   "source": [
    "# %%time\n",
    "# df = dd.read_csv('yellow_tripdata_2016-01.csv')"
   ]
  },
  {
   "cell_type": "markdown",
   "metadata": {},
   "source": [
    "When we attempted to work with the full sized data (1,59GB), we realized that it is overloading our memory to the point, where we can no longer save the file, therefore any further work would be lost.\n",
    "\n",
    "Therefore we decided to to take a random sample of 1/3 of the initial dataset and complete data analysis only on that fraction."
   ]
  },
  {
   "cell_type": "markdown",
   "metadata": {},
   "source": [
    "### Creating new dataset, which is fraction of the initial one"
   ]
  },
  {
   "cell_type": "code",
   "execution_count": 4,
   "metadata": {},
   "outputs": [
    {
     "name": "stdout",
     "output_type": "stream",
     "text": [
      "Wall time: 35.7 s\n"
     ]
    }
   ],
   "source": [
    "# %%time\n",
    "# df = df.sample(frac=0.33).compute()\n",
    "\n",
    "# df = dd.from_pandas(df, npartitions=1)"
   ]
  },
  {
   "cell_type": "code",
   "execution_count": 5,
   "metadata": {},
   "outputs": [
    {
     "name": "stdout",
     "output_type": "stream",
     "text": [
      "Wall time: 1min 21s\n"
     ]
    },
    {
     "data": {
      "text/plain": [
       "['C:/Users/Lenovo/Documents/Integrify/Python/Dask/project/0']"
      ]
     },
     "execution_count": 5,
     "metadata": {},
     "output_type": "execute_result"
    }
   ],
   "source": [
    "# %%time\n",
    "# df.to_csv('C:/Users/Lenovo/Documents/Integrify/Python/Dask/project/*')"
   ]
  },
  {
   "cell_type": "code",
   "execution_count": 7,
   "metadata": {
    "ExecuteTime": {
     "end_time": "2020-06-30T06:57:14.123055Z",
     "start_time": "2020-06-30T06:57:14.091140Z"
    }
   },
   "outputs": [
    {
     "name": "stdout",
     "output_type": "stream",
     "text": [
      "Wall time: 24.9 ms\n"
     ]
    }
   ],
   "source": [
    "%%time\n",
    "df = dd.read_csv('0')"
   ]
  },
  {
   "cell_type": "code",
   "execution_count": 9,
   "metadata": {},
   "outputs": [
    {
     "name": "stdout",
     "output_type": "stream",
     "text": [
      "Wall time: 8.94 s\n"
     ]
    },
    {
     "data": {
      "text/plain": [
       "3599261"
      ]
     },
     "execution_count": 9,
     "metadata": {},
     "output_type": "execute_result"
    }
   ],
   "source": [
    "%%time\n",
    "len(df)"
   ]
  },
  {
   "cell_type": "code",
   "execution_count": 8,
   "metadata": {
    "ExecuteTime": {
     "end_time": "2020-06-30T06:57:18.346771Z",
     "start_time": "2020-06-30T06:57:16.688727Z"
    }
   },
   "outputs": [
    {
     "data": {
      "text/html": [
       "<div>\n",
       "<style scoped>\n",
       "    .dataframe tbody tr th:only-of-type {\n",
       "        vertical-align: middle;\n",
       "    }\n",
       "\n",
       "    .dataframe tbody tr th {\n",
       "        vertical-align: top;\n",
       "    }\n",
       "\n",
       "    .dataframe thead th {\n",
       "        text-align: right;\n",
       "    }\n",
       "</style>\n",
       "<table border=\"1\" class=\"dataframe\">\n",
       "  <thead>\n",
       "    <tr style=\"text-align: right;\">\n",
       "      <th></th>\n",
       "      <th>Unnamed: 0</th>\n",
       "      <th>VendorID</th>\n",
       "      <th>tpep_pickup_datetime</th>\n",
       "      <th>tpep_dropoff_datetime</th>\n",
       "      <th>passenger_count</th>\n",
       "      <th>trip_distance</th>\n",
       "      <th>pickup_longitude</th>\n",
       "      <th>pickup_latitude</th>\n",
       "      <th>RatecodeID</th>\n",
       "      <th>store_and_fwd_flag</th>\n",
       "      <th>dropoff_longitude</th>\n",
       "      <th>dropoff_latitude</th>\n",
       "      <th>payment_type</th>\n",
       "      <th>fare_amount</th>\n",
       "      <th>extra</th>\n",
       "      <th>mta_tax</th>\n",
       "      <th>tip_amount</th>\n",
       "      <th>tolls_amount</th>\n",
       "      <th>improvement_surcharge</th>\n",
       "      <th>total_amount</th>\n",
       "    </tr>\n",
       "  </thead>\n",
       "  <tbody>\n",
       "    <tr>\n",
       "      <th>0</th>\n",
       "      <td>0</td>\n",
       "      <td>2</td>\n",
       "      <td>2016-01-22 15:22:58</td>\n",
       "      <td>2016-01-22 15:32:13</td>\n",
       "      <td>1</td>\n",
       "      <td>1.45</td>\n",
       "      <td>-73.954300</td>\n",
       "      <td>40.764046</td>\n",
       "      <td>1</td>\n",
       "      <td>N</td>\n",
       "      <td>-73.967842</td>\n",
       "      <td>40.752926</td>\n",
       "      <td>1</td>\n",
       "      <td>8.0</td>\n",
       "      <td>0.0</td>\n",
       "      <td>0.5</td>\n",
       "      <td>2.64</td>\n",
       "      <td>0.0</td>\n",
       "      <td>0.3</td>\n",
       "      <td>11.44</td>\n",
       "    </tr>\n",
       "    <tr>\n",
       "      <th>1</th>\n",
       "      <td>0</td>\n",
       "      <td>1</td>\n",
       "      <td>2016-01-05 19:43:57</td>\n",
       "      <td>2016-01-05 19:48:48</td>\n",
       "      <td>2</td>\n",
       "      <td>0.70</td>\n",
       "      <td>-73.962410</td>\n",
       "      <td>40.755157</td>\n",
       "      <td>1</td>\n",
       "      <td>N</td>\n",
       "      <td>-73.958237</td>\n",
       "      <td>40.760284</td>\n",
       "      <td>2</td>\n",
       "      <td>5.0</td>\n",
       "      <td>0.5</td>\n",
       "      <td>0.5</td>\n",
       "      <td>0.00</td>\n",
       "      <td>0.0</td>\n",
       "      <td>0.3</td>\n",
       "      <td>6.30</td>\n",
       "    </tr>\n",
       "    <tr>\n",
       "      <th>2</th>\n",
       "      <td>0</td>\n",
       "      <td>1</td>\n",
       "      <td>2016-01-12 15:09:39</td>\n",
       "      <td>2016-01-12 15:31:50</td>\n",
       "      <td>1</td>\n",
       "      <td>5.70</td>\n",
       "      <td>-74.010239</td>\n",
       "      <td>40.720898</td>\n",
       "      <td>1</td>\n",
       "      <td>N</td>\n",
       "      <td>-73.977043</td>\n",
       "      <td>40.752041</td>\n",
       "      <td>1</td>\n",
       "      <td>21.0</td>\n",
       "      <td>0.0</td>\n",
       "      <td>0.5</td>\n",
       "      <td>4.35</td>\n",
       "      <td>0.0</td>\n",
       "      <td>0.3</td>\n",
       "      <td>26.15</td>\n",
       "    </tr>\n",
       "    <tr>\n",
       "      <th>3</th>\n",
       "      <td>0</td>\n",
       "      <td>1</td>\n",
       "      <td>2016-01-13 14:48:16</td>\n",
       "      <td>2016-01-13 14:57:32</td>\n",
       "      <td>1</td>\n",
       "      <td>1.10</td>\n",
       "      <td>-73.974113</td>\n",
       "      <td>40.762257</td>\n",
       "      <td>1</td>\n",
       "      <td>N</td>\n",
       "      <td>-73.984535</td>\n",
       "      <td>40.748352</td>\n",
       "      <td>2</td>\n",
       "      <td>7.5</td>\n",
       "      <td>0.0</td>\n",
       "      <td>0.5</td>\n",
       "      <td>0.00</td>\n",
       "      <td>0.0</td>\n",
       "      <td>0.3</td>\n",
       "      <td>8.30</td>\n",
       "    </tr>\n",
       "    <tr>\n",
       "      <th>4</th>\n",
       "      <td>0</td>\n",
       "      <td>1</td>\n",
       "      <td>2016-01-20 07:26:13</td>\n",
       "      <td>2016-01-20 07:48:04</td>\n",
       "      <td>1</td>\n",
       "      <td>3.80</td>\n",
       "      <td>-73.996391</td>\n",
       "      <td>40.685993</td>\n",
       "      <td>1</td>\n",
       "      <td>N</td>\n",
       "      <td>-74.009636</td>\n",
       "      <td>40.720921</td>\n",
       "      <td>1</td>\n",
       "      <td>17.0</td>\n",
       "      <td>0.0</td>\n",
       "      <td>0.5</td>\n",
       "      <td>3.56</td>\n",
       "      <td>0.0</td>\n",
       "      <td>0.3</td>\n",
       "      <td>21.36</td>\n",
       "    </tr>\n",
       "    <tr>\n",
       "      <th>5</th>\n",
       "      <td>0</td>\n",
       "      <td>1</td>\n",
       "      <td>2016-01-08 09:15:17</td>\n",
       "      <td>2016-01-08 09:46:15</td>\n",
       "      <td>1</td>\n",
       "      <td>5.20</td>\n",
       "      <td>-73.995651</td>\n",
       "      <td>40.687889</td>\n",
       "      <td>1</td>\n",
       "      <td>N</td>\n",
       "      <td>-73.991203</td>\n",
       "      <td>40.739643</td>\n",
       "      <td>1</td>\n",
       "      <td>23.0</td>\n",
       "      <td>0.0</td>\n",
       "      <td>0.5</td>\n",
       "      <td>4.75</td>\n",
       "      <td>0.0</td>\n",
       "      <td>0.3</td>\n",
       "      <td>28.55</td>\n",
       "    </tr>\n",
       "    <tr>\n",
       "      <th>6</th>\n",
       "      <td>0</td>\n",
       "      <td>1</td>\n",
       "      <td>2016-01-31 04:28:35</td>\n",
       "      <td>2016-01-31 04:30:52</td>\n",
       "      <td>1</td>\n",
       "      <td>0.60</td>\n",
       "      <td>-73.994904</td>\n",
       "      <td>40.760212</td>\n",
       "      <td>1</td>\n",
       "      <td>N</td>\n",
       "      <td>-73.995689</td>\n",
       "      <td>40.754250</td>\n",
       "      <td>2</td>\n",
       "      <td>4.0</td>\n",
       "      <td>0.5</td>\n",
       "      <td>0.5</td>\n",
       "      <td>0.00</td>\n",
       "      <td>0.0</td>\n",
       "      <td>0.3</td>\n",
       "      <td>5.30</td>\n",
       "    </tr>\n",
       "    <tr>\n",
       "      <th>7</th>\n",
       "      <td>0</td>\n",
       "      <td>1</td>\n",
       "      <td>2016-01-12 09:46:58</td>\n",
       "      <td>2016-01-12 09:57:51</td>\n",
       "      <td>1</td>\n",
       "      <td>1.20</td>\n",
       "      <td>-74.001167</td>\n",
       "      <td>40.736629</td>\n",
       "      <td>1</td>\n",
       "      <td>N</td>\n",
       "      <td>-74.006012</td>\n",
       "      <td>40.718533</td>\n",
       "      <td>1</td>\n",
       "      <td>8.5</td>\n",
       "      <td>0.0</td>\n",
       "      <td>0.5</td>\n",
       "      <td>1.00</td>\n",
       "      <td>0.0</td>\n",
       "      <td>0.3</td>\n",
       "      <td>10.30</td>\n",
       "    </tr>\n",
       "    <tr>\n",
       "      <th>8</th>\n",
       "      <td>0</td>\n",
       "      <td>2</td>\n",
       "      <td>2016-01-20 14:50:46</td>\n",
       "      <td>2016-01-20 15:03:00</td>\n",
       "      <td>1</td>\n",
       "      <td>1.40</td>\n",
       "      <td>-74.000938</td>\n",
       "      <td>40.741741</td>\n",
       "      <td>1</td>\n",
       "      <td>N</td>\n",
       "      <td>-73.983383</td>\n",
       "      <td>40.746414</td>\n",
       "      <td>2</td>\n",
       "      <td>9.5</td>\n",
       "      <td>0.0</td>\n",
       "      <td>0.5</td>\n",
       "      <td>0.00</td>\n",
       "      <td>0.0</td>\n",
       "      <td>0.3</td>\n",
       "      <td>10.30</td>\n",
       "    </tr>\n",
       "    <tr>\n",
       "      <th>9</th>\n",
       "      <td>0</td>\n",
       "      <td>2</td>\n",
       "      <td>2016-01-14 17:26:48</td>\n",
       "      <td>2016-01-14 17:31:34</td>\n",
       "      <td>5</td>\n",
       "      <td>0.90</td>\n",
       "      <td>-73.986549</td>\n",
       "      <td>40.740360</td>\n",
       "      <td>1</td>\n",
       "      <td>N</td>\n",
       "      <td>-73.978424</td>\n",
       "      <td>40.751190</td>\n",
       "      <td>1</td>\n",
       "      <td>5.5</td>\n",
       "      <td>1.0</td>\n",
       "      <td>0.5</td>\n",
       "      <td>1.46</td>\n",
       "      <td>0.0</td>\n",
       "      <td>0.3</td>\n",
       "      <td>8.76</td>\n",
       "    </tr>\n",
       "  </tbody>\n",
       "</table>\n",
       "</div>"
      ],
      "text/plain": [
       "   Unnamed: 0  VendorID tpep_pickup_datetime tpep_dropoff_datetime  \\\n",
       "0           0         2  2016-01-22 15:22:58   2016-01-22 15:32:13   \n",
       "1           0         1  2016-01-05 19:43:57   2016-01-05 19:48:48   \n",
       "2           0         1  2016-01-12 15:09:39   2016-01-12 15:31:50   \n",
       "3           0         1  2016-01-13 14:48:16   2016-01-13 14:57:32   \n",
       "4           0         1  2016-01-20 07:26:13   2016-01-20 07:48:04   \n",
       "5           0         1  2016-01-08 09:15:17   2016-01-08 09:46:15   \n",
       "6           0         1  2016-01-31 04:28:35   2016-01-31 04:30:52   \n",
       "7           0         1  2016-01-12 09:46:58   2016-01-12 09:57:51   \n",
       "8           0         2  2016-01-20 14:50:46   2016-01-20 15:03:00   \n",
       "9           0         2  2016-01-14 17:26:48   2016-01-14 17:31:34   \n",
       "\n",
       "   passenger_count  trip_distance  pickup_longitude  pickup_latitude  \\\n",
       "0                1           1.45        -73.954300        40.764046   \n",
       "1                2           0.70        -73.962410        40.755157   \n",
       "2                1           5.70        -74.010239        40.720898   \n",
       "3                1           1.10        -73.974113        40.762257   \n",
       "4                1           3.80        -73.996391        40.685993   \n",
       "5                1           5.20        -73.995651        40.687889   \n",
       "6                1           0.60        -73.994904        40.760212   \n",
       "7                1           1.20        -74.001167        40.736629   \n",
       "8                1           1.40        -74.000938        40.741741   \n",
       "9                5           0.90        -73.986549        40.740360   \n",
       "\n",
       "   RatecodeID store_and_fwd_flag  dropoff_longitude  dropoff_latitude  \\\n",
       "0           1                  N         -73.967842         40.752926   \n",
       "1           1                  N         -73.958237         40.760284   \n",
       "2           1                  N         -73.977043         40.752041   \n",
       "3           1                  N         -73.984535         40.748352   \n",
       "4           1                  N         -74.009636         40.720921   \n",
       "5           1                  N         -73.991203         40.739643   \n",
       "6           1                  N         -73.995689         40.754250   \n",
       "7           1                  N         -74.006012         40.718533   \n",
       "8           1                  N         -73.983383         40.746414   \n",
       "9           1                  N         -73.978424         40.751190   \n",
       "\n",
       "   payment_type  fare_amount  extra  mta_tax  tip_amount  tolls_amount  \\\n",
       "0             1          8.0    0.0      0.5        2.64           0.0   \n",
       "1             2          5.0    0.5      0.5        0.00           0.0   \n",
       "2             1         21.0    0.0      0.5        4.35           0.0   \n",
       "3             2          7.5    0.0      0.5        0.00           0.0   \n",
       "4             1         17.0    0.0      0.5        3.56           0.0   \n",
       "5             1         23.0    0.0      0.5        4.75           0.0   \n",
       "6             2          4.0    0.5      0.5        0.00           0.0   \n",
       "7             1          8.5    0.0      0.5        1.00           0.0   \n",
       "8             2          9.5    0.0      0.5        0.00           0.0   \n",
       "9             1          5.5    1.0      0.5        1.46           0.0   \n",
       "\n",
       "   improvement_surcharge  total_amount  \n",
       "0                    0.3         11.44  \n",
       "1                    0.3          6.30  \n",
       "2                    0.3         26.15  \n",
       "3                    0.3          8.30  \n",
       "4                    0.3         21.36  \n",
       "5                    0.3         28.55  \n",
       "6                    0.3          5.30  \n",
       "7                    0.3         10.30  \n",
       "8                    0.3         10.30  \n",
       "9                    0.3          8.76  "
      ]
     },
     "execution_count": 8,
     "metadata": {},
     "output_type": "execute_result"
    }
   ],
   "source": [
    "df.head(10)"
   ]
  },
  {
   "cell_type": "code",
   "execution_count": 5,
   "metadata": {},
   "outputs": [
    {
     "name": "stdout",
     "output_type": "stream",
     "text": [
      "Wall time: 26.7 s\n"
     ]
    },
    {
     "data": {
      "text/plain": [
       "10906858"
      ]
     },
     "execution_count": 5,
     "metadata": {},
     "output_type": "execute_result"
    }
   ],
   "source": [
    "# Previous length of the whole dataset\n",
    "\n",
    "#%%time\n",
    "#len(df)"
   ]
  },
  {
   "cell_type": "markdown",
   "metadata": {},
   "source": [
    "## Dealing with missing and duplicate values"
   ]
  },
  {
   "cell_type": "code",
   "execution_count": 10,
   "metadata": {},
   "outputs": [
    {
     "name": "stdout",
     "output_type": "stream",
     "text": [
      "Wall time: 7.75 s\n"
     ]
    },
    {
     "data": {
      "text/plain": [
       "Unnamed: 0               0\n",
       "VendorID                 0\n",
       "tpep_pickup_datetime     0\n",
       "tpep_dropoff_datetime    0\n",
       "passenger_count          0\n",
       "trip_distance            0\n",
       "pickup_longitude         0\n",
       "pickup_latitude          0\n",
       "RatecodeID               0\n",
       "store_and_fwd_flag       0\n",
       "dropoff_longitude        0\n",
       "dropoff_latitude         0\n",
       "payment_type             0\n",
       "fare_amount              0\n",
       "extra                    0\n",
       "mta_tax                  0\n",
       "tip_amount               0\n",
       "tolls_amount             0\n",
       "improvement_surcharge    0\n",
       "total_amount             0\n",
       "dtype: int64"
      ]
     },
     "execution_count": 10,
     "metadata": {},
     "output_type": "execute_result"
    }
   ],
   "source": [
    "%%time\n",
    "df.isnull().sum().compute()"
   ]
  },
  {
   "cell_type": "code",
   "execution_count": 11,
   "metadata": {},
   "outputs": [
    {
     "name": "stdout",
     "output_type": "stream",
     "text": [
      "Wall time: 10.5 s\n"
     ]
    },
    {
     "data": {
      "text/plain": [
       "0    None\n",
       "dtype: object"
      ]
     },
     "execution_count": 11,
     "metadata": {},
     "output_type": "execute_result"
    }
   ],
   "source": [
    "%%time\n",
    "df.drop_duplicates(inplace=True).compute()"
   ]
  },
  {
   "cell_type": "markdown",
   "metadata": {},
   "source": [
    "There were no missing or duplicate values."
   ]
  },
  {
   "cell_type": "markdown",
   "metadata": {},
   "source": [
    "## Checking the data"
   ]
  },
  {
   "cell_type": "code",
   "execution_count": 4,
   "metadata": {
    "ExecuteTime": {
     "end_time": "2020-06-26T13:28:09.762381Z",
     "start_time": "2020-06-26T13:27:24.646838Z"
    }
   },
   "outputs": [
    {
     "name": "stdout",
     "output_type": "stream",
     "text": [
      "Wall time: 14.9 s\n"
     ]
    },
    {
     "data": {
      "text/html": [
       "<div>\n",
       "<style scoped>\n",
       "    .dataframe tbody tr th:only-of-type {\n",
       "        vertical-align: middle;\n",
       "    }\n",
       "\n",
       "    .dataframe tbody tr th {\n",
       "        vertical-align: top;\n",
       "    }\n",
       "\n",
       "    .dataframe thead th {\n",
       "        text-align: right;\n",
       "    }\n",
       "</style>\n",
       "<table border=\"1\" class=\"dataframe\">\n",
       "  <thead>\n",
       "    <tr style=\"text-align: right;\">\n",
       "      <th></th>\n",
       "      <th>Unnamed: 0</th>\n",
       "      <th>VendorID</th>\n",
       "      <th>passenger_count</th>\n",
       "      <th>trip_distance</th>\n",
       "      <th>pickup_longitude</th>\n",
       "      <th>pickup_latitude</th>\n",
       "      <th>RatecodeID</th>\n",
       "      <th>dropoff_longitude</th>\n",
       "      <th>dropoff_latitude</th>\n",
       "      <th>payment_type</th>\n",
       "      <th>fare_amount</th>\n",
       "      <th>extra</th>\n",
       "      <th>mta_tax</th>\n",
       "      <th>tip_amount</th>\n",
       "      <th>tolls_amount</th>\n",
       "      <th>improvement_surcharge</th>\n",
       "      <th>total_amount</th>\n",
       "    </tr>\n",
       "  </thead>\n",
       "  <tbody>\n",
       "    <tr>\n",
       "      <th>count</th>\n",
       "      <td>3.599261e+06</td>\n",
       "      <td>3.599261e+06</td>\n",
       "      <td>3.599261e+06</td>\n",
       "      <td>3.599261e+06</td>\n",
       "      <td>3.599261e+06</td>\n",
       "      <td>3.599261e+06</td>\n",
       "      <td>3.599261e+06</td>\n",
       "      <td>3.599261e+06</td>\n",
       "      <td>3.599261e+06</td>\n",
       "      <td>3.599261e+06</td>\n",
       "      <td>3.599261e+06</td>\n",
       "      <td>3.599261e+06</td>\n",
       "      <td>3.599261e+06</td>\n",
       "      <td>3.599261e+06</td>\n",
       "      <td>3.599261e+06</td>\n",
       "      <td>3.599261e+06</td>\n",
       "      <td>3.599261e+06</td>\n",
       "    </tr>\n",
       "    <tr>\n",
       "      <th>mean</th>\n",
       "      <td>2.027667e+05</td>\n",
       "      <td>1.534798e+00</td>\n",
       "      <td>1.671159e+00</td>\n",
       "      <td>6.888716e+00</td>\n",
       "      <td>-7.281634e+01</td>\n",
       "      <td>4.011367e+01</td>\n",
       "      <td>1.039592e+00</td>\n",
       "      <td>-7.288298e+01</td>\n",
       "      <td>4.015118e+01</td>\n",
       "      <td>1.347612e+00</td>\n",
       "      <td>1.248159e+01</td>\n",
       "      <td>3.128257e-01</td>\n",
       "      <td>4.976485e-01</td>\n",
       "      <td>1.749207e+00</td>\n",
       "      <td>2.928928e-01</td>\n",
       "      <td>2.997205e-01</td>\n",
       "      <td>1.563388e+01</td>\n",
       "    </tr>\n",
       "    <tr>\n",
       "      <th>std</th>\n",
       "      <td>1.176064e+05</td>\n",
       "      <td>4.987877e-01</td>\n",
       "      <td>1.325272e+00</td>\n",
       "      <td>4.939958e+03</td>\n",
       "      <td>9.177897e+00</td>\n",
       "      <td>5.055898e+00</td>\n",
       "      <td>5.306784e-01</td>\n",
       "      <td>8.915209e+00</td>\n",
       "      <td>4.911362e+00</td>\n",
       "      <td>4.911300e-01</td>\n",
       "      <td>1.123477e+01</td>\n",
       "      <td>3.661874e-01</td>\n",
       "      <td>4.252791e-02</td>\n",
       "      <td>2.536134e+00</td>\n",
       "      <td>1.729185e+00</td>\n",
       "      <td>1.239716e-02</td>\n",
       "      <td>1.366640e+01</td>\n",
       "    </tr>\n",
       "    <tr>\n",
       "      <th>min</th>\n",
       "      <td>0.000000e+00</td>\n",
       "      <td>1.000000e+00</td>\n",
       "      <td>0.000000e+00</td>\n",
       "      <td>0.000000e+00</td>\n",
       "      <td>-1.219332e+02</td>\n",
       "      <td>0.000000e+00</td>\n",
       "      <td>1.000000e+00</td>\n",
       "      <td>-1.219334e+02</td>\n",
       "      <td>0.000000e+00</td>\n",
       "      <td>1.000000e+00</td>\n",
       "      <td>-4.340000e+02</td>\n",
       "      <td>-3.564000e+01</td>\n",
       "      <td>-5.000000e-01</td>\n",
       "      <td>-2.208000e+02</td>\n",
       "      <td>-5.540000e+00</td>\n",
       "      <td>-3.000000e-01</td>\n",
       "      <td>-4.403400e+02</td>\n",
       "    </tr>\n",
       "    <tr>\n",
       "      <th>25%</th>\n",
       "      <td>9.847800e+04</td>\n",
       "      <td>1.000000e+00</td>\n",
       "      <td>1.000000e+00</td>\n",
       "      <td>1.000000e+00</td>\n",
       "      <td>-7.399125e+01</td>\n",
       "      <td>4.073756e+01</td>\n",
       "      <td>1.000000e+00</td>\n",
       "      <td>-7.399087e+01</td>\n",
       "      <td>4.073654e+01</td>\n",
       "      <td>1.000000e+00</td>\n",
       "      <td>6.500000e+00</td>\n",
       "      <td>0.000000e+00</td>\n",
       "      <td>5.000000e-01</td>\n",
       "      <td>0.000000e+00</td>\n",
       "      <td>0.000000e+00</td>\n",
       "      <td>3.000000e-01</td>\n",
       "      <td>8.380000e+00</td>\n",
       "    </tr>\n",
       "    <tr>\n",
       "      <th>50%</th>\n",
       "      <td>1.964030e+05</td>\n",
       "      <td>2.000000e+00</td>\n",
       "      <td>1.000000e+00</td>\n",
       "      <td>1.700000e+00</td>\n",
       "      <td>-7.398083e+01</td>\n",
       "      <td>4.075495e+01</td>\n",
       "      <td>1.000000e+00</td>\n",
       "      <td>-7.397903e+01</td>\n",
       "      <td>4.075510e+01</td>\n",
       "      <td>1.000000e+00</td>\n",
       "      <td>9.000000e+00</td>\n",
       "      <td>5.000000e-01</td>\n",
       "      <td>5.000000e-01</td>\n",
       "      <td>1.350000e+00</td>\n",
       "      <td>0.000000e+00</td>\n",
       "      <td>3.000000e-01</td>\n",
       "      <td>1.176000e+01</td>\n",
       "    </tr>\n",
       "    <tr>\n",
       "      <th>75%</th>\n",
       "      <td>3.036550e+05</td>\n",
       "      <td>2.000000e+00</td>\n",
       "      <td>2.000000e+00</td>\n",
       "      <td>3.190000e+00</td>\n",
       "      <td>-7.396500e+01</td>\n",
       "      <td>4.076896e+01</td>\n",
       "      <td>1.000000e+00</td>\n",
       "      <td>-7.396088e+01</td>\n",
       "      <td>4.077028e+01</td>\n",
       "      <td>2.000000e+00</td>\n",
       "      <td>1.400000e+01</td>\n",
       "      <td>1.000000e+00</td>\n",
       "      <td>5.000000e-01</td>\n",
       "      <td>2.350000e+00</td>\n",
       "      <td>0.000000e+00</td>\n",
       "      <td>3.000000e-01</td>\n",
       "      <td>1.730000e+01</td>\n",
       "    </tr>\n",
       "    <tr>\n",
       "      <th>90%</th>\n",
       "      <td>3.622500e+05</td>\n",
       "      <td>2.000000e+00</td>\n",
       "      <td>4.000000e+00</td>\n",
       "      <td>6.850000e+00</td>\n",
       "      <td>-7.394804e+01</td>\n",
       "      <td>4.078072e+01</td>\n",
       "      <td>1.000000e+00</td>\n",
       "      <td>-7.394171e+01</td>\n",
       "      <td>4.078476e+01</td>\n",
       "      <td>2.000000e+00</td>\n",
       "      <td>2.450000e+01</td>\n",
       "      <td>1.000000e+00</td>\n",
       "      <td>5.000000e-01</td>\n",
       "      <td>4.000000e+00</td>\n",
       "      <td>0.000000e+00</td>\n",
       "      <td>3.000000e-01</td>\n",
       "      <td>2.964000e+01</td>\n",
       "    </tr>\n",
       "    <tr>\n",
       "      <th>95%</th>\n",
       "      <td>3.847630e+05</td>\n",
       "      <td>2.000000e+00</td>\n",
       "      <td>5.000000e+00</td>\n",
       "      <td>1.080000e+01</td>\n",
       "      <td>-7.386356e+01</td>\n",
       "      <td>4.078825e+01</td>\n",
       "      <td>1.000000e+00</td>\n",
       "      <td>-7.388204e+01</td>\n",
       "      <td>4.079696e+01</td>\n",
       "      <td>2.000000e+00</td>\n",
       "      <td>3.500000e+01</td>\n",
       "      <td>1.000000e+00</td>\n",
       "      <td>5.000000e-01</td>\n",
       "      <td>6.260000e+00</td>\n",
       "      <td>5.540000e+00</td>\n",
       "      <td>3.000000e-01</td>\n",
       "      <td>4.542000e+01</td>\n",
       "    </tr>\n",
       "    <tr>\n",
       "      <th>99%</th>\n",
       "      <td>4.022990e+05</td>\n",
       "      <td>2.000000e+00</td>\n",
       "      <td>6.000000e+00</td>\n",
       "      <td>1.886800e+01</td>\n",
       "      <td>0.000000e+00</td>\n",
       "      <td>4.080553e+01</td>\n",
       "      <td>2.000000e+00</td>\n",
       "      <td>0.000000e+00</td>\n",
       "      <td>4.083765e+01</td>\n",
       "      <td>2.000000e+00</td>\n",
       "      <td>5.200000e+01</td>\n",
       "      <td>1.000000e+00</td>\n",
       "      <td>5.000000e-01</td>\n",
       "      <td>1.167000e+01</td>\n",
       "      <td>5.540000e+00</td>\n",
       "      <td>3.000000e-01</td>\n",
       "      <td>7.001000e+01</td>\n",
       "    </tr>\n",
       "    <tr>\n",
       "      <th>99.9%</th>\n",
       "      <td>4.107657e+05</td>\n",
       "      <td>2.000000e+00</td>\n",
       "      <td>6.000000e+00</td>\n",
       "      <td>2.508232e+01</td>\n",
       "      <td>0.000000e+00</td>\n",
       "      <td>4.084550e+01</td>\n",
       "      <td>5.000000e+00</td>\n",
       "      <td>0.000000e+00</td>\n",
       "      <td>4.089180e+01</td>\n",
       "      <td>4.000000e+00</td>\n",
       "      <td>8.500000e+01</td>\n",
       "      <td>1.000000e+00</td>\n",
       "      <td>5.000000e-01</td>\n",
       "      <td>1.980725e+01</td>\n",
       "      <td>1.600000e+01</td>\n",
       "      <td>3.000000e-01</td>\n",
       "      <td>1.083600e+02</td>\n",
       "    </tr>\n",
       "    <tr>\n",
       "      <th>max</th>\n",
       "      <td>4.111310e+05</td>\n",
       "      <td>2.000000e+00</td>\n",
       "      <td>9.000000e+00</td>\n",
       "      <td>8.000010e+06</td>\n",
       "      <td>0.000000e+00</td>\n",
       "      <td>4.825759e+01</td>\n",
       "      <td>9.900000e+01</td>\n",
       "      <td>0.000000e+00</td>\n",
       "      <td>4.709350e+01</td>\n",
       "      <td>4.000000e+00</td>\n",
       "      <td>4.001150e+03</td>\n",
       "      <td>4.710000e+00</td>\n",
       "      <td>3.644000e+01</td>\n",
       "      <td>5.500000e+02</td>\n",
       "      <td>9.001000e+02</td>\n",
       "      <td>3.000000e-01</td>\n",
       "      <td>4.002050e+03</td>\n",
       "    </tr>\n",
       "  </tbody>\n",
       "</table>\n",
       "</div>"
      ],
      "text/plain": [
       "         Unnamed: 0      VendorID  passenger_count  trip_distance  \\\n",
       "count  3.599261e+06  3.599261e+06     3.599261e+06   3.599261e+06   \n",
       "mean   2.027667e+05  1.534798e+00     1.671159e+00   6.888716e+00   \n",
       "std    1.176064e+05  4.987877e-01     1.325272e+00   4.939958e+03   \n",
       "min    0.000000e+00  1.000000e+00     0.000000e+00   0.000000e+00   \n",
       "25%    9.847800e+04  1.000000e+00     1.000000e+00   1.000000e+00   \n",
       "50%    1.964030e+05  2.000000e+00     1.000000e+00   1.700000e+00   \n",
       "75%    3.036550e+05  2.000000e+00     2.000000e+00   3.190000e+00   \n",
       "90%    3.622500e+05  2.000000e+00     4.000000e+00   6.850000e+00   \n",
       "95%    3.847630e+05  2.000000e+00     5.000000e+00   1.080000e+01   \n",
       "99%    4.022990e+05  2.000000e+00     6.000000e+00   1.886800e+01   \n",
       "99.9%  4.107657e+05  2.000000e+00     6.000000e+00   2.508232e+01   \n",
       "max    4.111310e+05  2.000000e+00     9.000000e+00   8.000010e+06   \n",
       "\n",
       "       pickup_longitude  pickup_latitude    RatecodeID  dropoff_longitude  \\\n",
       "count      3.599261e+06     3.599261e+06  3.599261e+06       3.599261e+06   \n",
       "mean      -7.281634e+01     4.011367e+01  1.039592e+00      -7.288298e+01   \n",
       "std        9.177897e+00     5.055898e+00  5.306784e-01       8.915209e+00   \n",
       "min       -1.219332e+02     0.000000e+00  1.000000e+00      -1.219334e+02   \n",
       "25%       -7.399125e+01     4.073756e+01  1.000000e+00      -7.399087e+01   \n",
       "50%       -7.398083e+01     4.075495e+01  1.000000e+00      -7.397903e+01   \n",
       "75%       -7.396500e+01     4.076896e+01  1.000000e+00      -7.396088e+01   \n",
       "90%       -7.394804e+01     4.078072e+01  1.000000e+00      -7.394171e+01   \n",
       "95%       -7.386356e+01     4.078825e+01  1.000000e+00      -7.388204e+01   \n",
       "99%        0.000000e+00     4.080553e+01  2.000000e+00       0.000000e+00   \n",
       "99.9%      0.000000e+00     4.084550e+01  5.000000e+00       0.000000e+00   \n",
       "max        0.000000e+00     4.825759e+01  9.900000e+01       0.000000e+00   \n",
       "\n",
       "       dropoff_latitude  payment_type   fare_amount         extra  \\\n",
       "count      3.599261e+06  3.599261e+06  3.599261e+06  3.599261e+06   \n",
       "mean       4.015118e+01  1.347612e+00  1.248159e+01  3.128257e-01   \n",
       "std        4.911362e+00  4.911300e-01  1.123477e+01  3.661874e-01   \n",
       "min        0.000000e+00  1.000000e+00 -4.340000e+02 -3.564000e+01   \n",
       "25%        4.073654e+01  1.000000e+00  6.500000e+00  0.000000e+00   \n",
       "50%        4.075510e+01  1.000000e+00  9.000000e+00  5.000000e-01   \n",
       "75%        4.077028e+01  2.000000e+00  1.400000e+01  1.000000e+00   \n",
       "90%        4.078476e+01  2.000000e+00  2.450000e+01  1.000000e+00   \n",
       "95%        4.079696e+01  2.000000e+00  3.500000e+01  1.000000e+00   \n",
       "99%        4.083765e+01  2.000000e+00  5.200000e+01  1.000000e+00   \n",
       "99.9%      4.089180e+01  4.000000e+00  8.500000e+01  1.000000e+00   \n",
       "max        4.709350e+01  4.000000e+00  4.001150e+03  4.710000e+00   \n",
       "\n",
       "            mta_tax    tip_amount  tolls_amount  improvement_surcharge  \\\n",
       "count  3.599261e+06  3.599261e+06  3.599261e+06           3.599261e+06   \n",
       "mean   4.976485e-01  1.749207e+00  2.928928e-01           2.997205e-01   \n",
       "std    4.252791e-02  2.536134e+00  1.729185e+00           1.239716e-02   \n",
       "min   -5.000000e-01 -2.208000e+02 -5.540000e+00          -3.000000e-01   \n",
       "25%    5.000000e-01  0.000000e+00  0.000000e+00           3.000000e-01   \n",
       "50%    5.000000e-01  1.350000e+00  0.000000e+00           3.000000e-01   \n",
       "75%    5.000000e-01  2.350000e+00  0.000000e+00           3.000000e-01   \n",
       "90%    5.000000e-01  4.000000e+00  0.000000e+00           3.000000e-01   \n",
       "95%    5.000000e-01  6.260000e+00  5.540000e+00           3.000000e-01   \n",
       "99%    5.000000e-01  1.167000e+01  5.540000e+00           3.000000e-01   \n",
       "99.9%  5.000000e-01  1.980725e+01  1.600000e+01           3.000000e-01   \n",
       "max    3.644000e+01  5.500000e+02  9.001000e+02           3.000000e-01   \n",
       "\n",
       "       total_amount  \n",
       "count  3.599261e+06  \n",
       "mean   1.563388e+01  \n",
       "std    1.366640e+01  \n",
       "min   -4.403400e+02  \n",
       "25%    8.380000e+00  \n",
       "50%    1.176000e+01  \n",
       "75%    1.730000e+01  \n",
       "90%    2.964000e+01  \n",
       "95%    4.542000e+01  \n",
       "99%    7.001000e+01  \n",
       "99.9%  1.083600e+02  \n",
       "max    4.002050e+03  "
      ]
     },
     "execution_count": 4,
     "metadata": {},
     "output_type": "execute_result"
    }
   ],
   "source": [
    "%%time\n",
    "df.describe(percentiles=[.25,.50,.75,.90,.95,.99,.999]).compute()"
   ]
  },
  {
   "cell_type": "markdown",
   "metadata": {},
   "source": [
    "We have some irregular data, with trip distance of over 8million miles, which is surely outlier or wrong output. We need to remove these values.\n",
    "\n",
    "As we want just trips within the NY city, we'll remove all the trips that are longer than 25 miles."
   ]
  },
  {
   "cell_type": "code",
   "execution_count": 10,
   "metadata": {
    "ExecuteTime": {
     "end_time": "2020-06-30T06:58:45.780839Z",
     "start_time": "2020-06-30T06:58:45.770866Z"
    }
   },
   "outputs": [
    {
     "name": "stdout",
     "output_type": "stream",
     "text": [
      "Wall time: 2.99 ms\n"
     ]
    }
   ],
   "source": [
    "%%time\n",
    "df = df[(df.trip_distance > 0) & (df.trip_distance <= 25)]"
   ]
  },
  {
   "cell_type": "code",
   "execution_count": 14,
   "metadata": {},
   "outputs": [
    {
     "name": "stdout",
     "output_type": "stream",
     "text": [
      "Wall time: 13.3 s\n"
     ]
    },
    {
     "data": {
      "text/html": [
       "<div>\n",
       "<style scoped>\n",
       "    .dataframe tbody tr th:only-of-type {\n",
       "        vertical-align: middle;\n",
       "    }\n",
       "\n",
       "    .dataframe tbody tr th {\n",
       "        vertical-align: top;\n",
       "    }\n",
       "\n",
       "    .dataframe thead th {\n",
       "        text-align: right;\n",
       "    }\n",
       "</style>\n",
       "<table border=\"1\" class=\"dataframe\">\n",
       "  <thead>\n",
       "    <tr style=\"text-align: right;\">\n",
       "      <th></th>\n",
       "      <th>Unnamed: 0</th>\n",
       "      <th>VendorID</th>\n",
       "      <th>passenger_count</th>\n",
       "      <th>trip_distance</th>\n",
       "      <th>pickup_longitude</th>\n",
       "      <th>pickup_latitude</th>\n",
       "      <th>RatecodeID</th>\n",
       "      <th>dropoff_longitude</th>\n",
       "      <th>dropoff_latitude</th>\n",
       "      <th>payment_type</th>\n",
       "      <th>fare_amount</th>\n",
       "      <th>extra</th>\n",
       "      <th>mta_tax</th>\n",
       "      <th>tip_amount</th>\n",
       "      <th>tolls_amount</th>\n",
       "      <th>improvement_surcharge</th>\n",
       "      <th>total_amount</th>\n",
       "    </tr>\n",
       "  </thead>\n",
       "  <tbody>\n",
       "    <tr>\n",
       "      <th>count</th>\n",
       "      <td>3.574583e+06</td>\n",
       "      <td>3.574583e+06</td>\n",
       "      <td>3.574583e+06</td>\n",
       "      <td>3.574583e+06</td>\n",
       "      <td>3.574583e+06</td>\n",
       "      <td>3.574583e+06</td>\n",
       "      <td>3.574583e+06</td>\n",
       "      <td>3.574583e+06</td>\n",
       "      <td>3.574583e+06</td>\n",
       "      <td>3.574583e+06</td>\n",
       "      <td>3.574583e+06</td>\n",
       "      <td>3.574583e+06</td>\n",
       "      <td>3.574583e+06</td>\n",
       "      <td>3.574583e+06</td>\n",
       "      <td>3.574583e+06</td>\n",
       "      <td>3.574583e+06</td>\n",
       "      <td>3.574583e+06</td>\n",
       "    </tr>\n",
       "    <tr>\n",
       "      <th>mean</th>\n",
       "      <td>2.027614e+05</td>\n",
       "      <td>1.535530e+00</td>\n",
       "      <td>1.673074e+00</td>\n",
       "      <td>2.889897e+00</td>\n",
       "      <td>-7.288947e+01</td>\n",
       "      <td>4.015397e+01</td>\n",
       "      <td>1.030026e+00</td>\n",
       "      <td>-7.301031e+01</td>\n",
       "      <td>4.022132e+01</td>\n",
       "      <td>1.344981e+00</td>\n",
       "      <td>1.235823e+01</td>\n",
       "      <td>3.136398e-01</td>\n",
       "      <td>4.983898e-01</td>\n",
       "      <td>1.734887e+00</td>\n",
       "      <td>2.851259e-01</td>\n",
       "      <td>2.998081e-01</td>\n",
       "      <td>1.549007e+01</td>\n",
       "    </tr>\n",
       "    <tr>\n",
       "      <th>std</th>\n",
       "      <td>1.175949e+05</td>\n",
       "      <td>4.987361e-01</td>\n",
       "      <td>1.327052e+00</td>\n",
       "      <td>3.499385e+00</td>\n",
       "      <td>8.887950e+00</td>\n",
       "      <td>4.896246e+00</td>\n",
       "      <td>3.422575e-01</td>\n",
       "      <td>8.386082e+00</td>\n",
       "      <td>4.619946e+00</td>\n",
       "      <td>4.879618e-01</td>\n",
       "      <td>1.049809e+01</td>\n",
       "      <td>3.662655e-01</td>\n",
       "      <td>3.747544e-02</td>\n",
       "      <td>2.376209e+00</td>\n",
       "      <td>1.648936e+00</td>\n",
       "      <td>1.063068e-02</td>\n",
       "      <td>1.286959e+01</td>\n",
       "    </tr>\n",
       "    <tr>\n",
       "      <th>min</th>\n",
       "      <td>0.000000e+00</td>\n",
       "      <td>1.000000e+00</td>\n",
       "      <td>0.000000e+00</td>\n",
       "      <td>1.000000e-02</td>\n",
       "      <td>-1.008163e+02</td>\n",
       "      <td>0.000000e+00</td>\n",
       "      <td>1.000000e+00</td>\n",
       "      <td>-1.008229e+02</td>\n",
       "      <td>0.000000e+00</td>\n",
       "      <td>1.000000e+00</td>\n",
       "      <td>-1.596600e+02</td>\n",
       "      <td>-3.564000e+01</td>\n",
       "      <td>-5.000000e-01</td>\n",
       "      <td>-2.208000e+02</td>\n",
       "      <td>-5.540000e+00</td>\n",
       "      <td>-3.000000e-01</td>\n",
       "      <td>-2.271000e+02</td>\n",
       "    </tr>\n",
       "    <tr>\n",
       "      <th>25%</th>\n",
       "      <td>9.847600e+04</td>\n",
       "      <td>1.000000e+00</td>\n",
       "      <td>1.000000e+00</td>\n",
       "      <td>1.000000e+00</td>\n",
       "      <td>-7.399126e+01</td>\n",
       "      <td>4.073775e+01</td>\n",
       "      <td>1.000000e+00</td>\n",
       "      <td>-7.399088e+01</td>\n",
       "      <td>4.073679e+01</td>\n",
       "      <td>1.000000e+00</td>\n",
       "      <td>6.500000e+00</td>\n",
       "      <td>0.000000e+00</td>\n",
       "      <td>5.000000e-01</td>\n",
       "      <td>0.000000e+00</td>\n",
       "      <td>0.000000e+00</td>\n",
       "      <td>3.000000e-01</td>\n",
       "      <td>8.500000e+00</td>\n",
       "    </tr>\n",
       "    <tr>\n",
       "      <th>50%</th>\n",
       "      <td>1.964030e+05</td>\n",
       "      <td>2.000000e+00</td>\n",
       "      <td>1.000000e+00</td>\n",
       "      <td>1.700000e+00</td>\n",
       "      <td>-7.398088e+01</td>\n",
       "      <td>4.075504e+01</td>\n",
       "      <td>1.000000e+00</td>\n",
       "      <td>-7.397908e+01</td>\n",
       "      <td>4.075520e+01</td>\n",
       "      <td>1.000000e+00</td>\n",
       "      <td>9.000000e+00</td>\n",
       "      <td>5.000000e-01</td>\n",
       "      <td>5.000000e-01</td>\n",
       "      <td>1.350000e+00</td>\n",
       "      <td>0.000000e+00</td>\n",
       "      <td>3.000000e-01</td>\n",
       "      <td>1.176000e+01</td>\n",
       "    </tr>\n",
       "    <tr>\n",
       "      <th>75%</th>\n",
       "      <td>3.036560e+05</td>\n",
       "      <td>2.000000e+00</td>\n",
       "      <td>2.000000e+00</td>\n",
       "      <td>3.200000e+00</td>\n",
       "      <td>-7.396523e+01</td>\n",
       "      <td>4.076900e+01</td>\n",
       "      <td>1.000000e+00</td>\n",
       "      <td>-7.396111e+01</td>\n",
       "      <td>4.077033e+01</td>\n",
       "      <td>2.000000e+00</td>\n",
       "      <td>1.400000e+01</td>\n",
       "      <td>1.000000e+00</td>\n",
       "      <td>5.000000e-01</td>\n",
       "      <td>2.350000e+00</td>\n",
       "      <td>0.000000e+00</td>\n",
       "      <td>3.000000e-01</td>\n",
       "      <td>1.725000e+01</td>\n",
       "    </tr>\n",
       "    <tr>\n",
       "      <th>90%</th>\n",
       "      <td>3.622390e+05</td>\n",
       "      <td>2.000000e+00</td>\n",
       "      <td>4.000000e+00</td>\n",
       "      <td>6.820000e+00</td>\n",
       "      <td>-7.394866e+01</td>\n",
       "      <td>4.078072e+01</td>\n",
       "      <td>1.000000e+00</td>\n",
       "      <td>-7.394266e+01</td>\n",
       "      <td>4.078476e+01</td>\n",
       "      <td>2.000000e+00</td>\n",
       "      <td>2.400000e+01</td>\n",
       "      <td>1.000000e+00</td>\n",
       "      <td>5.000000e-01</td>\n",
       "      <td>4.000000e+00</td>\n",
       "      <td>0.000000e+00</td>\n",
       "      <td>3.000000e-01</td>\n",
       "      <td>2.915000e+01</td>\n",
       "    </tr>\n",
       "    <tr>\n",
       "      <th>95%</th>\n",
       "      <td>3.847650e+05</td>\n",
       "      <td>2.000000e+00</td>\n",
       "      <td>5.000000e+00</td>\n",
       "      <td>1.077000e+01</td>\n",
       "      <td>-7.386388e+01</td>\n",
       "      <td>4.078823e+01</td>\n",
       "      <td>1.000000e+00</td>\n",
       "      <td>-7.389047e+01</td>\n",
       "      <td>4.079687e+01</td>\n",
       "      <td>2.000000e+00</td>\n",
       "      <td>3.450000e+01</td>\n",
       "      <td>1.000000e+00</td>\n",
       "      <td>5.000000e-01</td>\n",
       "      <td>6.160000e+00</td>\n",
       "      <td>5.540000e+00</td>\n",
       "      <td>3.000000e-01</td>\n",
       "      <td>4.480000e+01</td>\n",
       "    </tr>\n",
       "    <tr>\n",
       "      <th>99%</th>\n",
       "      <td>4.022990e+05</td>\n",
       "      <td>2.000000e+00</td>\n",
       "      <td>6.000000e+00</td>\n",
       "      <td>1.870000e+01</td>\n",
       "      <td>0.000000e+00</td>\n",
       "      <td>4.080537e+01</td>\n",
       "      <td>2.000000e+00</td>\n",
       "      <td>0.000000e+00</td>\n",
       "      <td>4.083685e+01</td>\n",
       "      <td>2.000000e+00</td>\n",
       "      <td>5.200000e+01</td>\n",
       "      <td>1.000000e+00</td>\n",
       "      <td>5.000000e-01</td>\n",
       "      <td>1.167000e+01</td>\n",
       "      <td>5.540000e+00</td>\n",
       "      <td>3.000000e-01</td>\n",
       "      <td>7.000000e+01</td>\n",
       "    </tr>\n",
       "    <tr>\n",
       "      <th>99.9%</th>\n",
       "      <td>4.107647e+05</td>\n",
       "      <td>2.000000e+00</td>\n",
       "      <td>6.000000e+00</td>\n",
       "      <td>2.219000e+01</td>\n",
       "      <td>0.000000e+00</td>\n",
       "      <td>4.084250e+01</td>\n",
       "      <td>5.000000e+00</td>\n",
       "      <td>0.000000e+00</td>\n",
       "      <td>4.088645e+01</td>\n",
       "      <td>4.000000e+00</td>\n",
       "      <td>7.058650e+01</td>\n",
       "      <td>1.000000e+00</td>\n",
       "      <td>5.000000e-01</td>\n",
       "      <td>1.757173e+01</td>\n",
       "      <td>1.527595e+01</td>\n",
       "      <td>3.000000e-01</td>\n",
       "      <td>9.735190e+01</td>\n",
       "    </tr>\n",
       "    <tr>\n",
       "      <th>max</th>\n",
       "      <td>4.111310e+05</td>\n",
       "      <td>2.000000e+00</td>\n",
       "      <td>9.000000e+00</td>\n",
       "      <td>2.500000e+01</td>\n",
       "      <td>0.000000e+00</td>\n",
       "      <td>4.825759e+01</td>\n",
       "      <td>9.900000e+01</td>\n",
       "      <td>0.000000e+00</td>\n",
       "      <td>4.660777e+01</td>\n",
       "      <td>4.000000e+00</td>\n",
       "      <td>4.001150e+03</td>\n",
       "      <td>4.710000e+00</td>\n",
       "      <td>3.644000e+01</td>\n",
       "      <td>5.500000e+02</td>\n",
       "      <td>9.001000e+02</td>\n",
       "      <td>3.000000e-01</td>\n",
       "      <td>4.002050e+03</td>\n",
       "    </tr>\n",
       "  </tbody>\n",
       "</table>\n",
       "</div>"
      ],
      "text/plain": [
       "         Unnamed: 0      VendorID  passenger_count  trip_distance  \\\n",
       "count  3.574583e+06  3.574583e+06     3.574583e+06   3.574583e+06   \n",
       "mean   2.027614e+05  1.535530e+00     1.673074e+00   2.889897e+00   \n",
       "std    1.175949e+05  4.987361e-01     1.327052e+00   3.499385e+00   \n",
       "min    0.000000e+00  1.000000e+00     0.000000e+00   1.000000e-02   \n",
       "25%    9.847600e+04  1.000000e+00     1.000000e+00   1.000000e+00   \n",
       "50%    1.964030e+05  2.000000e+00     1.000000e+00   1.700000e+00   \n",
       "75%    3.036560e+05  2.000000e+00     2.000000e+00   3.200000e+00   \n",
       "90%    3.622390e+05  2.000000e+00     4.000000e+00   6.820000e+00   \n",
       "95%    3.847650e+05  2.000000e+00     5.000000e+00   1.077000e+01   \n",
       "99%    4.022990e+05  2.000000e+00     6.000000e+00   1.870000e+01   \n",
       "99.9%  4.107647e+05  2.000000e+00     6.000000e+00   2.219000e+01   \n",
       "max    4.111310e+05  2.000000e+00     9.000000e+00   2.500000e+01   \n",
       "\n",
       "       pickup_longitude  pickup_latitude    RatecodeID  dropoff_longitude  \\\n",
       "count      3.574583e+06     3.574583e+06  3.574583e+06       3.574583e+06   \n",
       "mean      -7.288947e+01     4.015397e+01  1.030026e+00      -7.301031e+01   \n",
       "std        8.887950e+00     4.896246e+00  3.422575e-01       8.386082e+00   \n",
       "min       -1.008163e+02     0.000000e+00  1.000000e+00      -1.008229e+02   \n",
       "25%       -7.399126e+01     4.073775e+01  1.000000e+00      -7.399088e+01   \n",
       "50%       -7.398088e+01     4.075504e+01  1.000000e+00      -7.397908e+01   \n",
       "75%       -7.396523e+01     4.076900e+01  1.000000e+00      -7.396111e+01   \n",
       "90%       -7.394866e+01     4.078072e+01  1.000000e+00      -7.394266e+01   \n",
       "95%       -7.386388e+01     4.078823e+01  1.000000e+00      -7.389047e+01   \n",
       "99%        0.000000e+00     4.080537e+01  2.000000e+00       0.000000e+00   \n",
       "99.9%      0.000000e+00     4.084250e+01  5.000000e+00       0.000000e+00   \n",
       "max        0.000000e+00     4.825759e+01  9.900000e+01       0.000000e+00   \n",
       "\n",
       "       dropoff_latitude  payment_type   fare_amount         extra  \\\n",
       "count      3.574583e+06  3.574583e+06  3.574583e+06  3.574583e+06   \n",
       "mean       4.022132e+01  1.344981e+00  1.235823e+01  3.136398e-01   \n",
       "std        4.619946e+00  4.879618e-01  1.049809e+01  3.662655e-01   \n",
       "min        0.000000e+00  1.000000e+00 -1.596600e+02 -3.564000e+01   \n",
       "25%        4.073679e+01  1.000000e+00  6.500000e+00  0.000000e+00   \n",
       "50%        4.075520e+01  1.000000e+00  9.000000e+00  5.000000e-01   \n",
       "75%        4.077033e+01  2.000000e+00  1.400000e+01  1.000000e+00   \n",
       "90%        4.078476e+01  2.000000e+00  2.400000e+01  1.000000e+00   \n",
       "95%        4.079687e+01  2.000000e+00  3.450000e+01  1.000000e+00   \n",
       "99%        4.083685e+01  2.000000e+00  5.200000e+01  1.000000e+00   \n",
       "99.9%      4.088645e+01  4.000000e+00  7.058650e+01  1.000000e+00   \n",
       "max        4.660777e+01  4.000000e+00  4.001150e+03  4.710000e+00   \n",
       "\n",
       "            mta_tax    tip_amount  tolls_amount  improvement_surcharge  \\\n",
       "count  3.574583e+06  3.574583e+06  3.574583e+06           3.574583e+06   \n",
       "mean   4.983898e-01  1.734887e+00  2.851259e-01           2.998081e-01   \n",
       "std    3.747544e-02  2.376209e+00  1.648936e+00           1.063068e-02   \n",
       "min   -5.000000e-01 -2.208000e+02 -5.540000e+00          -3.000000e-01   \n",
       "25%    5.000000e-01  0.000000e+00  0.000000e+00           3.000000e-01   \n",
       "50%    5.000000e-01  1.350000e+00  0.000000e+00           3.000000e-01   \n",
       "75%    5.000000e-01  2.350000e+00  0.000000e+00           3.000000e-01   \n",
       "90%    5.000000e-01  4.000000e+00  0.000000e+00           3.000000e-01   \n",
       "95%    5.000000e-01  6.160000e+00  5.540000e+00           3.000000e-01   \n",
       "99%    5.000000e-01  1.167000e+01  5.540000e+00           3.000000e-01   \n",
       "99.9%  5.000000e-01  1.757173e+01  1.527595e+01           3.000000e-01   \n",
       "max    3.644000e+01  5.500000e+02  9.001000e+02           3.000000e-01   \n",
       "\n",
       "       total_amount  \n",
       "count  3.574583e+06  \n",
       "mean   1.549007e+01  \n",
       "std    1.286959e+01  \n",
       "min   -2.271000e+02  \n",
       "25%    8.500000e+00  \n",
       "50%    1.176000e+01  \n",
       "75%    1.725000e+01  \n",
       "90%    2.915000e+01  \n",
       "95%    4.480000e+01  \n",
       "99%    7.000000e+01  \n",
       "99.9%  9.735190e+01  \n",
       "max    4.002050e+03  "
      ]
     },
     "execution_count": 14,
     "metadata": {},
     "output_type": "execute_result"
    }
   ],
   "source": [
    "%%time\n",
    "df.describe(percentiles=[.25,.50,.75,.90,.95,.99,.999]).compute()"
   ]
  },
  {
   "cell_type": "markdown",
   "metadata": {},
   "source": [
    "The average trip distance after cleaning the data was 2.9 miles, on average customers paid 15.5\\\\$."
   ]
  },
  {
   "cell_type": "code",
   "execution_count": 40,
   "metadata": {},
   "outputs": [],
   "source": [
    "sample = df.head(100)"
   ]
  },
  {
   "cell_type": "code",
   "execution_count": 5,
   "metadata": {
    "ExecuteTime": {
     "end_time": "2020-06-30T06:56:35.534149Z",
     "start_time": "2020-06-30T06:56:34.386526Z"
    }
   },
   "outputs": [
    {
     "data": {
      "text/html": [
       "\n",
       "    <div class=\"bk-root\">\n",
       "        <a href=\"https://bokeh.org\" target=\"_blank\" class=\"bk-logo bk-logo-small bk-logo-notebook\"></a>\n",
       "        <span id=\"1001\">Loading BokehJS ...</span>\n",
       "    </div>"
      ]
     },
     "metadata": {},
     "output_type": "display_data"
    },
    {
     "data": {
      "application/javascript": [
       "\n",
       "(function(root) {\n",
       "  function now() {\n",
       "    return new Date();\n",
       "  }\n",
       "\n",
       "  var force = true;\n",
       "\n",
       "  if (typeof root._bokeh_onload_callbacks === \"undefined\" || force === true) {\n",
       "    root._bokeh_onload_callbacks = [];\n",
       "    root._bokeh_is_loading = undefined;\n",
       "  }\n",
       "\n",
       "  var JS_MIME_TYPE = 'application/javascript';\n",
       "  var HTML_MIME_TYPE = 'text/html';\n",
       "  var EXEC_MIME_TYPE = 'application/vnd.bokehjs_exec.v0+json';\n",
       "  var CLASS_NAME = 'output_bokeh rendered_html';\n",
       "\n",
       "  /**\n",
       "   * Render data to the DOM node\n",
       "   */\n",
       "  function render(props, node) {\n",
       "    var script = document.createElement(\"script\");\n",
       "    node.appendChild(script);\n",
       "  }\n",
       "\n",
       "  /**\n",
       "   * Handle when an output is cleared or removed\n",
       "   */\n",
       "  function handleClearOutput(event, handle) {\n",
       "    var cell = handle.cell;\n",
       "\n",
       "    var id = cell.output_area._bokeh_element_id;\n",
       "    var server_id = cell.output_area._bokeh_server_id;\n",
       "    // Clean up Bokeh references\n",
       "    if (id != null && id in Bokeh.index) {\n",
       "      Bokeh.index[id].model.document.clear();\n",
       "      delete Bokeh.index[id];\n",
       "    }\n",
       "\n",
       "    if (server_id !== undefined) {\n",
       "      // Clean up Bokeh references\n",
       "      var cmd = \"from bokeh.io.state import curstate; print(curstate().uuid_to_server['\" + server_id + \"'].get_sessions()[0].document.roots[0]._id)\";\n",
       "      cell.notebook.kernel.execute(cmd, {\n",
       "        iopub: {\n",
       "          output: function(msg) {\n",
       "            var id = msg.content.text.trim();\n",
       "            if (id in Bokeh.index) {\n",
       "              Bokeh.index[id].model.document.clear();\n",
       "              delete Bokeh.index[id];\n",
       "            }\n",
       "          }\n",
       "        }\n",
       "      });\n",
       "      // Destroy server and session\n",
       "      var cmd = \"import bokeh.io.notebook as ion; ion.destroy_server('\" + server_id + \"')\";\n",
       "      cell.notebook.kernel.execute(cmd);\n",
       "    }\n",
       "  }\n",
       "\n",
       "  /**\n",
       "   * Handle when a new output is added\n",
       "   */\n",
       "  function handleAddOutput(event, handle) {\n",
       "    var output_area = handle.output_area;\n",
       "    var output = handle.output;\n",
       "\n",
       "    // limit handleAddOutput to display_data with EXEC_MIME_TYPE content only\n",
       "    if ((output.output_type != \"display_data\") || (!output.data.hasOwnProperty(EXEC_MIME_TYPE))) {\n",
       "      return\n",
       "    }\n",
       "\n",
       "    var toinsert = output_area.element.find(\".\" + CLASS_NAME.split(' ')[0]);\n",
       "\n",
       "    if (output.metadata[EXEC_MIME_TYPE][\"id\"] !== undefined) {\n",
       "      toinsert[toinsert.length - 1].firstChild.textContent = output.data[JS_MIME_TYPE];\n",
       "      // store reference to embed id on output_area\n",
       "      output_area._bokeh_element_id = output.metadata[EXEC_MIME_TYPE][\"id\"];\n",
       "    }\n",
       "    if (output.metadata[EXEC_MIME_TYPE][\"server_id\"] !== undefined) {\n",
       "      var bk_div = document.createElement(\"div\");\n",
       "      bk_div.innerHTML = output.data[HTML_MIME_TYPE];\n",
       "      var script_attrs = bk_div.children[0].attributes;\n",
       "      for (var i = 0; i < script_attrs.length; i++) {\n",
       "        toinsert[toinsert.length - 1].firstChild.setAttribute(script_attrs[i].name, script_attrs[i].value);\n",
       "        toinsert[toinsert.length - 1].firstChild.textContent = bk_div.children[0].textContent\n",
       "      }\n",
       "      // store reference to server id on output_area\n",
       "      output_area._bokeh_server_id = output.metadata[EXEC_MIME_TYPE][\"server_id\"];\n",
       "    }\n",
       "  }\n",
       "\n",
       "  function register_renderer(events, OutputArea) {\n",
       "\n",
       "    function append_mime(data, metadata, element) {\n",
       "      // create a DOM node to render to\n",
       "      var toinsert = this.create_output_subarea(\n",
       "        metadata,\n",
       "        CLASS_NAME,\n",
       "        EXEC_MIME_TYPE\n",
       "      );\n",
       "      this.keyboard_manager.register_events(toinsert);\n",
       "      // Render to node\n",
       "      var props = {data: data, metadata: metadata[EXEC_MIME_TYPE]};\n",
       "      render(props, toinsert[toinsert.length - 1]);\n",
       "      element.append(toinsert);\n",
       "      return toinsert\n",
       "    }\n",
       "\n",
       "    /* Handle when an output is cleared or removed */\n",
       "    events.on('clear_output.CodeCell', handleClearOutput);\n",
       "    events.on('delete.Cell', handleClearOutput);\n",
       "\n",
       "    /* Handle when a new output is added */\n",
       "    events.on('output_added.OutputArea', handleAddOutput);\n",
       "\n",
       "    /**\n",
       "     * Register the mime type and append_mime function with output_area\n",
       "     */\n",
       "    OutputArea.prototype.register_mime_type(EXEC_MIME_TYPE, append_mime, {\n",
       "      /* Is output safe? */\n",
       "      safe: true,\n",
       "      /* Index of renderer in `output_area.display_order` */\n",
       "      index: 0\n",
       "    });\n",
       "  }\n",
       "\n",
       "  // register the mime type if in Jupyter Notebook environment and previously unregistered\n",
       "  if (root.Jupyter !== undefined) {\n",
       "    var events = require('base/js/events');\n",
       "    var OutputArea = require('notebook/js/outputarea').OutputArea;\n",
       "\n",
       "    if (OutputArea.prototype.mime_types().indexOf(EXEC_MIME_TYPE) == -1) {\n",
       "      register_renderer(events, OutputArea);\n",
       "    }\n",
       "  }\n",
       "\n",
       "  \n",
       "  if (typeof (root._bokeh_timeout) === \"undefined\" || force === true) {\n",
       "    root._bokeh_timeout = Date.now() + 5000;\n",
       "    root._bokeh_failed_load = false;\n",
       "  }\n",
       "\n",
       "  var NB_LOAD_WARNING = {'data': {'text/html':\n",
       "     \"<div style='background-color: #fdd'>\\n\"+\n",
       "     \"<p>\\n\"+\n",
       "     \"BokehJS does not appear to have successfully loaded. If loading BokehJS from CDN, this \\n\"+\n",
       "     \"may be due to a slow or bad network connection. Possible fixes:\\n\"+\n",
       "     \"</p>\\n\"+\n",
       "     \"<ul>\\n\"+\n",
       "     \"<li>re-rerun `output_notebook()` to attempt to load from CDN again, or</li>\\n\"+\n",
       "     \"<li>use INLINE resources instead, as so:</li>\\n\"+\n",
       "     \"</ul>\\n\"+\n",
       "     \"<code>\\n\"+\n",
       "     \"from bokeh.resources import INLINE\\n\"+\n",
       "     \"output_notebook(resources=INLINE)\\n\"+\n",
       "     \"</code>\\n\"+\n",
       "     \"</div>\"}};\n",
       "\n",
       "  function display_loaded() {\n",
       "    var el = document.getElementById(\"1001\");\n",
       "    if (el != null) {\n",
       "      el.textContent = \"BokehJS is loading...\";\n",
       "    }\n",
       "    if (root.Bokeh !== undefined) {\n",
       "      if (el != null) {\n",
       "        el.textContent = \"BokehJS \" + root.Bokeh.version + \" successfully loaded.\";\n",
       "      }\n",
       "    } else if (Date.now() < root._bokeh_timeout) {\n",
       "      setTimeout(display_loaded, 100)\n",
       "    }\n",
       "  }\n",
       "\n",
       "\n",
       "  function run_callbacks() {\n",
       "    try {\n",
       "      root._bokeh_onload_callbacks.forEach(function(callback) {\n",
       "        if (callback != null)\n",
       "          callback();\n",
       "      });\n",
       "    } finally {\n",
       "      delete root._bokeh_onload_callbacks\n",
       "    }\n",
       "    console.debug(\"Bokeh: all callbacks have finished\");\n",
       "  }\n",
       "\n",
       "  function load_libs(css_urls, js_urls, callback) {\n",
       "    if (css_urls == null) css_urls = [];\n",
       "    if (js_urls == null) js_urls = [];\n",
       "\n",
       "    root._bokeh_onload_callbacks.push(callback);\n",
       "    if (root._bokeh_is_loading > 0) {\n",
       "      console.debug(\"Bokeh: BokehJS is being loaded, scheduling callback at\", now());\n",
       "      return null;\n",
       "    }\n",
       "    if (js_urls == null || js_urls.length === 0) {\n",
       "      run_callbacks();\n",
       "      return null;\n",
       "    }\n",
       "    console.debug(\"Bokeh: BokehJS not loaded, scheduling load and callback at\", now());\n",
       "    root._bokeh_is_loading = css_urls.length + js_urls.length;\n",
       "\n",
       "    function on_load() {\n",
       "      root._bokeh_is_loading--;\n",
       "      if (root._bokeh_is_loading === 0) {\n",
       "        console.debug(\"Bokeh: all BokehJS libraries/stylesheets loaded\");\n",
       "        run_callbacks()\n",
       "      }\n",
       "    }\n",
       "\n",
       "    function on_error() {\n",
       "      console.error(\"failed to load \" + url);\n",
       "    }\n",
       "\n",
       "    for (var i = 0; i < css_urls.length; i++) {\n",
       "      var url = css_urls[i];\n",
       "      const element = document.createElement(\"link\");\n",
       "      element.onload = on_load;\n",
       "      element.onerror = on_error;\n",
       "      element.rel = \"stylesheet\";\n",
       "      element.type = \"text/css\";\n",
       "      element.href = url;\n",
       "      console.debug(\"Bokeh: injecting link tag for BokehJS stylesheet: \", url);\n",
       "      document.body.appendChild(element);\n",
       "    }\n",
       "\n",
       "    const hashes = {\"https://cdn.bokeh.org/bokeh/release/bokeh-2.1.1.min.js\": \"kLr4fYcqcSpbuI95brIH3vnnYCquzzSxHPU6XGQCIkQRGJwhg0StNbj1eegrHs12\", \"https://cdn.bokeh.org/bokeh/release/bokeh-widgets-2.1.1.min.js\": \"xIGPmVtaOm+z0BqfSOMn4lOR6ciex448GIKG4eE61LsAvmGj48XcMQZtKcE/UXZe\", \"https://cdn.bokeh.org/bokeh/release/bokeh-tables-2.1.1.min.js\": \"Dc9u1wF/0zApGIWoBbH77iWEHtdmkuYWG839Uzmv8y8yBLXebjO9ZnERsde5Ln/P\", \"https://cdn.bokeh.org/bokeh/release/bokeh-gl-2.1.1.min.js\": \"cT9JaBz7GiRXdENrJLZNSC6eMNF3nh3fa5fTF51Svp+ukxPdwcU5kGXGPBgDCa2j\"};\n",
       "\n",
       "    for (var i = 0; i < js_urls.length; i++) {\n",
       "      var url = js_urls[i];\n",
       "      var element = document.createElement('script');\n",
       "      element.onload = on_load;\n",
       "      element.onerror = on_error;\n",
       "      element.async = false;\n",
       "      element.src = url;\n",
       "      if (url in hashes) {\n",
       "        element.crossOrigin = \"anonymous\";\n",
       "        element.integrity = \"sha384-\" + hashes[url];\n",
       "      }\n",
       "      console.debug(\"Bokeh: injecting script tag for BokehJS library: \", url);\n",
       "      document.head.appendChild(element);\n",
       "    }\n",
       "  };\n",
       "\n",
       "  function inject_raw_css(css) {\n",
       "    const element = document.createElement(\"style\");\n",
       "    element.appendChild(document.createTextNode(css));\n",
       "    document.body.appendChild(element);\n",
       "  }\n",
       "\n",
       "  \n",
       "  var js_urls = [\"https://cdn.bokeh.org/bokeh/release/bokeh-2.1.1.min.js\", \"https://cdn.bokeh.org/bokeh/release/bokeh-widgets-2.1.1.min.js\", \"https://cdn.bokeh.org/bokeh/release/bokeh-tables-2.1.1.min.js\", \"https://cdn.bokeh.org/bokeh/release/bokeh-gl-2.1.1.min.js\"];\n",
       "  var css_urls = [];\n",
       "  \n",
       "\n",
       "  var inline_js = [\n",
       "    function(Bokeh) {\n",
       "      Bokeh.set_log_level(\"info\");\n",
       "    },\n",
       "    function(Bokeh) {\n",
       "    \n",
       "    \n",
       "    }\n",
       "  ];\n",
       "\n",
       "  function run_inline_js() {\n",
       "    \n",
       "    if (root.Bokeh !== undefined || force === true) {\n",
       "      \n",
       "    for (var i = 0; i < inline_js.length; i++) {\n",
       "      inline_js[i].call(root, root.Bokeh);\n",
       "    }\n",
       "    if (force === true) {\n",
       "        display_loaded();\n",
       "      }} else if (Date.now() < root._bokeh_timeout) {\n",
       "      setTimeout(run_inline_js, 100);\n",
       "    } else if (!root._bokeh_failed_load) {\n",
       "      console.log(\"Bokeh: BokehJS failed to load within specified timeout.\");\n",
       "      root._bokeh_failed_load = true;\n",
       "    } else if (force !== true) {\n",
       "      var cell = $(document.getElementById(\"1001\")).parents('.cell').data().cell;\n",
       "      cell.output_area.append_execute_result(NB_LOAD_WARNING)\n",
       "    }\n",
       "\n",
       "  }\n",
       "\n",
       "  if (root._bokeh_is_loading === 0) {\n",
       "    console.debug(\"Bokeh: BokehJS loaded, going straight to plotting\");\n",
       "    run_inline_js();\n",
       "  } else {\n",
       "    load_libs(css_urls, js_urls, function() {\n",
       "      console.debug(\"Bokeh: BokehJS plotting callback run at\", now());\n",
       "      run_inline_js();\n",
       "    });\n",
       "  }\n",
       "}(window));"
      ],
      "application/vnd.bokehjs_load.v0+json": "\n(function(root) {\n  function now() {\n    return new Date();\n  }\n\n  var force = true;\n\n  if (typeof root._bokeh_onload_callbacks === \"undefined\" || force === true) {\n    root._bokeh_onload_callbacks = [];\n    root._bokeh_is_loading = undefined;\n  }\n\n  \n\n  \n  if (typeof (root._bokeh_timeout) === \"undefined\" || force === true) {\n    root._bokeh_timeout = Date.now() + 5000;\n    root._bokeh_failed_load = false;\n  }\n\n  var NB_LOAD_WARNING = {'data': {'text/html':\n     \"<div style='background-color: #fdd'>\\n\"+\n     \"<p>\\n\"+\n     \"BokehJS does not appear to have successfully loaded. If loading BokehJS from CDN, this \\n\"+\n     \"may be due to a slow or bad network connection. Possible fixes:\\n\"+\n     \"</p>\\n\"+\n     \"<ul>\\n\"+\n     \"<li>re-rerun `output_notebook()` to attempt to load from CDN again, or</li>\\n\"+\n     \"<li>use INLINE resources instead, as so:</li>\\n\"+\n     \"</ul>\\n\"+\n     \"<code>\\n\"+\n     \"from bokeh.resources import INLINE\\n\"+\n     \"output_notebook(resources=INLINE)\\n\"+\n     \"</code>\\n\"+\n     \"</div>\"}};\n\n  function display_loaded() {\n    var el = document.getElementById(\"1001\");\n    if (el != null) {\n      el.textContent = \"BokehJS is loading...\";\n    }\n    if (root.Bokeh !== undefined) {\n      if (el != null) {\n        el.textContent = \"BokehJS \" + root.Bokeh.version + \" successfully loaded.\";\n      }\n    } else if (Date.now() < root._bokeh_timeout) {\n      setTimeout(display_loaded, 100)\n    }\n  }\n\n\n  function run_callbacks() {\n    try {\n      root._bokeh_onload_callbacks.forEach(function(callback) {\n        if (callback != null)\n          callback();\n      });\n    } finally {\n      delete root._bokeh_onload_callbacks\n    }\n    console.debug(\"Bokeh: all callbacks have finished\");\n  }\n\n  function load_libs(css_urls, js_urls, callback) {\n    if (css_urls == null) css_urls = [];\n    if (js_urls == null) js_urls = [];\n\n    root._bokeh_onload_callbacks.push(callback);\n    if (root._bokeh_is_loading > 0) {\n      console.debug(\"Bokeh: BokehJS is being loaded, scheduling callback at\", now());\n      return null;\n    }\n    if (js_urls == null || js_urls.length === 0) {\n      run_callbacks();\n      return null;\n    }\n    console.debug(\"Bokeh: BokehJS not loaded, scheduling load and callback at\", now());\n    root._bokeh_is_loading = css_urls.length + js_urls.length;\n\n    function on_load() {\n      root._bokeh_is_loading--;\n      if (root._bokeh_is_loading === 0) {\n        console.debug(\"Bokeh: all BokehJS libraries/stylesheets loaded\");\n        run_callbacks()\n      }\n    }\n\n    function on_error() {\n      console.error(\"failed to load \" + url);\n    }\n\n    for (var i = 0; i < css_urls.length; i++) {\n      var url = css_urls[i];\n      const element = document.createElement(\"link\");\n      element.onload = on_load;\n      element.onerror = on_error;\n      element.rel = \"stylesheet\";\n      element.type = \"text/css\";\n      element.href = url;\n      console.debug(\"Bokeh: injecting link tag for BokehJS stylesheet: \", url);\n      document.body.appendChild(element);\n    }\n\n    const hashes = {\"https://cdn.bokeh.org/bokeh/release/bokeh-2.1.1.min.js\": \"kLr4fYcqcSpbuI95brIH3vnnYCquzzSxHPU6XGQCIkQRGJwhg0StNbj1eegrHs12\", \"https://cdn.bokeh.org/bokeh/release/bokeh-widgets-2.1.1.min.js\": \"xIGPmVtaOm+z0BqfSOMn4lOR6ciex448GIKG4eE61LsAvmGj48XcMQZtKcE/UXZe\", \"https://cdn.bokeh.org/bokeh/release/bokeh-tables-2.1.1.min.js\": \"Dc9u1wF/0zApGIWoBbH77iWEHtdmkuYWG839Uzmv8y8yBLXebjO9ZnERsde5Ln/P\", \"https://cdn.bokeh.org/bokeh/release/bokeh-gl-2.1.1.min.js\": \"cT9JaBz7GiRXdENrJLZNSC6eMNF3nh3fa5fTF51Svp+ukxPdwcU5kGXGPBgDCa2j\"};\n\n    for (var i = 0; i < js_urls.length; i++) {\n      var url = js_urls[i];\n      var element = document.createElement('script');\n      element.onload = on_load;\n      element.onerror = on_error;\n      element.async = false;\n      element.src = url;\n      if (url in hashes) {\n        element.crossOrigin = \"anonymous\";\n        element.integrity = \"sha384-\" + hashes[url];\n      }\n      console.debug(\"Bokeh: injecting script tag for BokehJS library: \", url);\n      document.head.appendChild(element);\n    }\n  };\n\n  function inject_raw_css(css) {\n    const element = document.createElement(\"style\");\n    element.appendChild(document.createTextNode(css));\n    document.body.appendChild(element);\n  }\n\n  \n  var js_urls = [\"https://cdn.bokeh.org/bokeh/release/bokeh-2.1.1.min.js\", \"https://cdn.bokeh.org/bokeh/release/bokeh-widgets-2.1.1.min.js\", \"https://cdn.bokeh.org/bokeh/release/bokeh-tables-2.1.1.min.js\", \"https://cdn.bokeh.org/bokeh/release/bokeh-gl-2.1.1.min.js\"];\n  var css_urls = [];\n  \n\n  var inline_js = [\n    function(Bokeh) {\n      Bokeh.set_log_level(\"info\");\n    },\n    function(Bokeh) {\n    \n    \n    }\n  ];\n\n  function run_inline_js() {\n    \n    if (root.Bokeh !== undefined || force === true) {\n      \n    for (var i = 0; i < inline_js.length; i++) {\n      inline_js[i].call(root, root.Bokeh);\n    }\n    if (force === true) {\n        display_loaded();\n      }} else if (Date.now() < root._bokeh_timeout) {\n      setTimeout(run_inline_js, 100);\n    } else if (!root._bokeh_failed_load) {\n      console.log(\"Bokeh: BokehJS failed to load within specified timeout.\");\n      root._bokeh_failed_load = true;\n    } else if (force !== true) {\n      var cell = $(document.getElementById(\"1001\")).parents('.cell').data().cell;\n      cell.output_area.append_execute_result(NB_LOAD_WARNING)\n    }\n\n  }\n\n  if (root._bokeh_is_loading === 0) {\n    console.debug(\"Bokeh: BokehJS loaded, going straight to plotting\");\n    run_inline_js();\n  } else {\n    load_libs(css_urls, js_urls, function() {\n      console.debug(\"Bokeh: BokehJS plotting callback run at\", now());\n      run_inline_js();\n    });\n  }\n}(window));"
     },
     "metadata": {},
     "output_type": "display_data"
    }
   ],
   "source": [
    "import scipy.special\n",
    "\n",
    "from bokeh.layouts import gridplot\n",
    "from bokeh.plotting import figure, output_file, show\n",
    "from bokeh.sampledata.autompg import autompg as df\n",
    "from bokeh.io import output_notebook\n",
    "output_notebook()"
   ]
  },
  {
   "cell_type": "markdown",
   "metadata": {},
   "source": [
    "### Plotting distributions of selected variables"
   ]
  },
  {
   "cell_type": "code",
   "execution_count": 11,
   "metadata": {
    "ExecuteTime": {
     "end_time": "2020-06-30T06:59:05.368047Z",
     "start_time": "2020-06-30T06:58:53.098126Z"
    }
   },
   "outputs": [
    {
     "data": {
      "text/html": [
       "\n",
       "\n",
       "\n",
       "\n",
       "\n",
       "\n",
       "  <div class=\"bk-root\" id=\"2bd4ffba-6ae6-4b65-9071-1dcd0cdd438e\" data-root-id=\"1096\"></div>\n"
      ]
     },
     "metadata": {},
     "output_type": "display_data"
    },
    {
     "data": {
      "application/javascript": [
       "(function(root) {\n",
       "  function embed_document(root) {\n",
       "    \n",
       "  var docs_json = {\"434a7900-bb0d-43f2-9ffc-4f8ac2a1de36\":{\"roots\":{\"references\":[{\"attributes\":{\"background_fill_color\":\"#fafafa\",\"below\":[{\"id\":\"1107\"}],\"center\":[{\"id\":\"1110\"},{\"id\":\"1114\"}],\"left\":[{\"id\":\"1111\"}],\"renderers\":[{\"id\":\"1132\"}],\"title\":{\"id\":\"1097\"},\"toolbar\":{\"id\":\"1122\"},\"x_range\":{\"id\":\"1099\"},\"x_scale\":{\"id\":\"1103\"},\"y_range\":{\"id\":\"1101\"},\"y_scale\":{\"id\":\"1105\"}},\"id\":\"1096\",\"subtype\":\"Figure\",\"type\":\"Plot\"},{\"attributes\":{\"source\":{\"id\":\"1129\"}},\"id\":\"1133\",\"type\":\"CDSView\"},{\"attributes\":{\"align\":\"center\",\"text\":\"Distribution of trip distances\",\"text_color\":{\"value\":\"lightseagreen\"},\"text_font_size\":{\"value\":\"20px\"}},\"id\":\"1097\",\"type\":\"Title\"},{\"attributes\":{},\"id\":\"1105\",\"type\":\"LinearScale\"},{\"attributes\":{},\"id\":\"1103\",\"type\":\"LinearScale\"},{\"attributes\":{},\"id\":\"1119\",\"type\":\"ResetTool\"},{\"attributes\":{},\"id\":\"1101\",\"type\":\"DataRange1d\"},{\"attributes\":{\"data_source\":{\"id\":\"1129\"},\"glyph\":{\"id\":\"1130\"},\"hover_glyph\":null,\"muted_glyph\":null,\"nonselection_glyph\":{\"id\":\"1131\"},\"selection_glyph\":null,\"view\":{\"id\":\"1133\"}},\"id\":\"1132\",\"type\":\"GlyphRenderer\"},{\"attributes\":{},\"id\":\"1120\",\"type\":\"WheelZoomTool\"},{\"attributes\":{},\"id\":\"1145\",\"type\":\"BasicTickFormatter\"},{\"attributes\":{},\"id\":\"1116\",\"type\":\"SaveTool\"},{\"attributes\":{},\"id\":\"1143\",\"type\":\"BasicTickFormatter\"},{\"attributes\":{\"bottom\":{\"value\":0},\"fill_color\":{\"value\":\"lightseagreen\"},\"left\":{\"field\":\"left\"},\"line_color\":{\"value\":\"white\"},\"right\":{\"field\":\"right\"},\"top\":{\"field\":\"top\"}},\"id\":\"1130\",\"type\":\"Quad\"},{\"attributes\":{},\"id\":\"1148\",\"type\":\"Selection\"},{\"attributes\":{\"axis_label\":\"Frequency\",\"formatter\":{\"id\":\"1145\"},\"ticker\":{\"id\":\"1112\"}},\"id\":\"1111\",\"type\":\"LinearAxis\"},{\"attributes\":{},\"id\":\"1117\",\"type\":\"PanTool\"},{\"attributes\":{},\"id\":\"1149\",\"type\":\"UnionRenderers\"},{\"attributes\":{\"data\":{\"left\":{\"__ndarray__\":\"exSuR+F6hD+NBvAWSFDgP2SqYFRSJ/A/glFJnYAm+D9Q/Bhz1xIAQN5PjZduEgRAbaMBvAUSCED89nXgnBEMQEYldQKaCBBADU+vlGUIEkDUeOkmMQgUQJyiI7n8BxZAY8xdS8gHGEAr9pfdkwcaQPIf0m9fBxxAukkMAisHHkDBOSNKewMgQKROQBNhAyFAiGNd3EYDIkBseHqlLAMjQE+Nl24SAyRAM6K0N/gCJUAXt9EA3gImQPvL7snDAidA3uALk6kCKEDC9ShcjwIpQKYKRiV1AipAiR9j7loCK0BtNIC3QAIsQFFJnYAmAi1ANV66SQwCLkAYc9cS8gEvQP5D+u3rADBAcM6I0t6AMEDiWBe30QAxQFTjpZvEgDFAxm00gLcAMkA4+MJkqoAyQKqCUUmdADNAHA3gLZCAM0CNl24SgwA0QP8h/fZ1gDRAcayL22gANUDjNhrAW4A1QFXBqKROADZAx0s3iUGANkA51sVtNAA3QKpgVFIngDdAHOviNhoAOECOdXEbDYA4QA==\",\"dtype\":\"float64\",\"order\":\"little\",\"shape\":[50]},\"right\":{\"__ndarray__\":\"jQbwFkhQ4D9kqmBUUifwP4JRSZ2AJvg/UPwYc9cSAEDeT42XbhIEQG2jAbwFEghA/PZ14JwRDEBGJXUCmggQQA1Pr5RlCBJA1HjpJjEIFECcoiO5/AcWQGPMXUvIBxhAK/aX3ZMHGkDyH9JvXwccQLpJDAIrBx5AwTkjSnsDIECkTkATYQMhQIhjXdxGAyJAbHh6pSwDI0BPjZduEgMkQDOitDf4AiVAF7fRAN4CJkD7y+7JwwInQN7gC5OpAihAwvUoXI8CKUCmCkYldQIqQIkfY+5aAitAbTSAt0ACLEBRSZ2AJgItQDVeukkMAi5AGHPXEvIBL0D+Q/rt6wAwQHDOiNLegDBA4lgXt9EAMUBU46WbxIAxQMZtNIC3ADJAOPjCZKqAMkCqglFJnQAzQBwN4C2QgDNAjZduEoMANED/If32dYA0QHGsi9toADVA4zYawFuANUBVwaikTgA2QMdLN4lBgDZAOdbFbTQAN0CqYFRSJ4A3QBzr4jYaADhAjnVxGw2AOEAAAAAAAAA5QA==\",\"dtype\":\"float64\",\"order\":\"little\",\"shape\":[50]},\"top\":{\"__ndarray__\":\"HcD3UfN0vD9Co7rU6WraPzBX50dIn9g/WnxNBW2M0T9WsYX8+2vHP2XlL7MP078/V0C2jdhztj/8260falOwP7duXUGCS6g/1noiivhJoz/bbwNqkwSfP8FJ2DPCzpg/AYZaTqeVlD9/BoiaqQiRP4ItPGp4fIw/9x1zfjpSiT+5QAUJr7uIP5d31G6oUIo/uAAkCsmAij87zA4cc2yIPyXl9zUzZoY/oIV2yjutgz9bgF3FYlaAP49yfPv1Zno/ocKPvOg9dD/uTdUOcNJvP/sUoFMnP2k/sNpVjZgeZj+NF67tHkJjP2yOXlL+EWM/beGmj/x9Yz/OqZhkXrhmP9mFx715gG0/4P31rKKxcz+PLIKgazd6PxUJ990Q9ns/Y6CpZuvveD92F7UMBAhzP2MeH7OxbW0/ERFd67riZT/Z03tIAh9iP0XHOMwNXV8/DaUkdRe3Vz/sgDMLBLNRP5k1jRpzF0c/wsWovF+7Oz9O4bTNxgkzP5CDBifxOS4/pFNsR8fsKj/utt8n7S4nPw==\",\"dtype\":\"float64\",\"order\":\"little\",\"shape\":[50]}},\"selected\":{\"id\":\"1148\"},\"selection_policy\":{\"id\":\"1149\"}},\"id\":\"1129\",\"type\":\"ColumnDataSource\"},{\"attributes\":{},\"id\":\"1099\",\"type\":\"DataRange1d\"},{\"attributes\":{\"axis\":{\"id\":\"1107\"},\"ticker\":null},\"id\":\"1110\",\"type\":\"Grid\"},{\"attributes\":{\"overlay\":{\"id\":\"1121\"}},\"id\":\"1118\",\"type\":\"BoxZoomTool\"},{\"attributes\":{\"callback\":null},\"id\":\"1115\",\"type\":\"HoverTool\"},{\"attributes\":{\"active_drag\":\"auto\",\"active_inspect\":\"auto\",\"active_multi\":null,\"active_scroll\":\"auto\",\"active_tap\":\"auto\",\"tools\":[{\"id\":\"1115\"},{\"id\":\"1116\"},{\"id\":\"1117\"},{\"id\":\"1118\"},{\"id\":\"1119\"},{\"id\":\"1120\"}]},\"id\":\"1122\",\"type\":\"Toolbar\"},{\"attributes\":{\"axis_label\":\"Trip distances (miles)\",\"formatter\":{\"id\":\"1143\"},\"ticker\":{\"id\":\"1108\"}},\"id\":\"1107\",\"type\":\"LinearAxis\"},{\"attributes\":{\"bottom_units\":\"screen\",\"fill_alpha\":0.5,\"fill_color\":\"lightgrey\",\"left_units\":\"screen\",\"level\":\"overlay\",\"line_alpha\":1.0,\"line_color\":\"black\",\"line_dash\":[4,4],\"line_width\":2,\"right_units\":\"screen\",\"top_units\":\"screen\"},\"id\":\"1121\",\"type\":\"BoxAnnotation\"},{\"attributes\":{},\"id\":\"1108\",\"type\":\"BasicTicker\"},{\"attributes\":{},\"id\":\"1112\",\"type\":\"BasicTicker\"},{\"attributes\":{\"axis\":{\"id\":\"1111\"},\"dimension\":1,\"ticker\":null},\"id\":\"1114\",\"type\":\"Grid\"},{\"attributes\":{\"bottom\":{\"value\":0},\"fill_alpha\":{\"value\":0.1},\"fill_color\":{\"value\":\"lightseagreen\"},\"left\":{\"field\":\"left\"},\"line_alpha\":{\"value\":0.1},\"line_color\":{\"value\":\"white\"},\"right\":{\"field\":\"right\"},\"top\":{\"field\":\"top\"}},\"id\":\"1131\",\"type\":\"Quad\"}],\"root_ids\":[\"1096\"]},\"title\":\"Bokeh Application\",\"version\":\"2.1.1\"}};\n",
       "  var render_items = [{\"docid\":\"434a7900-bb0d-43f2-9ffc-4f8ac2a1de36\",\"root_ids\":[\"1096\"],\"roots\":{\"1096\":\"2bd4ffba-6ae6-4b65-9071-1dcd0cdd438e\"}}];\n",
       "  root.Bokeh.embed.embed_items_notebook(docs_json, render_items);\n",
       "\n",
       "  }\n",
       "  if (root.Bokeh !== undefined) {\n",
       "    embed_document(root);\n",
       "  } else {\n",
       "    var attempts = 0;\n",
       "    var timer = setInterval(function(root) {\n",
       "      if (root.Bokeh !== undefined) {\n",
       "        clearInterval(timer);\n",
       "        embed_document(root);\n",
       "      } else {\n",
       "        attempts++;\n",
       "        if (attempts > 100) {\n",
       "          clearInterval(timer);\n",
       "          console.log(\"Bokeh: ERROR: Unable to run BokehJS code because BokehJS library is missing\");\n",
       "        }\n",
       "      }\n",
       "    }, 10, root)\n",
       "  }\n",
       "})(window);"
      ],
      "application/vnd.bokehjs_exec.v0+json": ""
     },
     "metadata": {
      "application/vnd.bokehjs_exec.v0+json": {
       "id": "1096"
      }
     },
     "output_type": "display_data"
    },
    {
     "name": "stdout",
     "output_type": "stream",
     "text": [
      "Wall time: 12.3 s\n"
     ]
    }
   ],
   "source": [
    "%%time\n",
    "hist, edges = np.histogram(df.trip_distance, density=True, bins=50)\n",
    "\n",
    "TOOLS = \"hover,save,pan,box_zoom,reset,wheel_zoom\"\n",
    "\n",
    "p = figure(title='Distribution of trip distances', tools=TOOLS, background_fill_color=\"#fafafa\")\n",
    "p.quad(top=hist, bottom=0, left=edges[:-1], right=edges[1:], line_color=\"white\", fill_color=\"lightseagreen\")\n",
    "\n",
    "# p.title.text = \"Title With Options\"\n",
    "p.title.align = \"center\"\n",
    "p.title.text_color = \"lightseagreen\"\n",
    "p.title.text_font_size = \"20px\"\n",
    "#p.title.background_fill_color = \"#fafafa\"\n",
    "\n",
    "p.xaxis.axis_label = 'Trip distances (miles)'\n",
    "p.yaxis.axis_label = 'Frequency'\n",
    "\n",
    "show(p)"
   ]
  },
  {
   "cell_type": "markdown",
   "metadata": {},
   "source": [
    "If we take a closer look into desribe() we can see that we still have some odd values in total amount paid (over 111 thousands \\\\$), we need to remove those from our dataset as well."
   ]
  },
  {
   "cell_type": "code",
   "execution_count": 12,
   "metadata": {
    "ExecuteTime": {
     "end_time": "2020-06-30T06:59:10.743054Z",
     "start_time": "2020-06-30T06:59:10.733077Z"
    }
   },
   "outputs": [
    {
     "name": "stdout",
     "output_type": "stream",
     "text": [
      "Wall time: 2.99 ms\n"
     ]
    }
   ],
   "source": [
    "%%time\n",
    "df = df[(df.total_amount > 0) & (df.total_amount < 120)]"
   ]
  },
  {
   "cell_type": "code",
   "execution_count": 17,
   "metadata": {},
   "outputs": [
    {
     "name": "stdout",
     "output_type": "stream",
     "text": [
      "Wall time: 11.8 s\n"
     ]
    },
    {
     "data": {
      "text/html": [
       "<div>\n",
       "<style scoped>\n",
       "    .dataframe tbody tr th:only-of-type {\n",
       "        vertical-align: middle;\n",
       "    }\n",
       "\n",
       "    .dataframe tbody tr th {\n",
       "        vertical-align: top;\n",
       "    }\n",
       "\n",
       "    .dataframe thead th {\n",
       "        text-align: right;\n",
       "    }\n",
       "</style>\n",
       "<table border=\"1\" class=\"dataframe\">\n",
       "  <thead>\n",
       "    <tr style=\"text-align: right;\">\n",
       "      <th></th>\n",
       "      <th>Unnamed: 0</th>\n",
       "      <th>VendorID</th>\n",
       "      <th>passenger_count</th>\n",
       "      <th>trip_distance</th>\n",
       "      <th>pickup_longitude</th>\n",
       "      <th>pickup_latitude</th>\n",
       "      <th>RatecodeID</th>\n",
       "      <th>dropoff_longitude</th>\n",
       "      <th>dropoff_latitude</th>\n",
       "      <th>payment_type</th>\n",
       "      <th>fare_amount</th>\n",
       "      <th>extra</th>\n",
       "      <th>mta_tax</th>\n",
       "      <th>tip_amount</th>\n",
       "      <th>tolls_amount</th>\n",
       "      <th>improvement_surcharge</th>\n",
       "      <th>total_amount</th>\n",
       "    </tr>\n",
       "  </thead>\n",
       "  <tbody>\n",
       "    <tr>\n",
       "      <th>count</th>\n",
       "      <td>3.572692e+06</td>\n",
       "      <td>3.572692e+06</td>\n",
       "      <td>3.572692e+06</td>\n",
       "      <td>3.572692e+06</td>\n",
       "      <td>3.572692e+06</td>\n",
       "      <td>3.572692e+06</td>\n",
       "      <td>3.572692e+06</td>\n",
       "      <td>3.572692e+06</td>\n",
       "      <td>3.572692e+06</td>\n",
       "      <td>3.572692e+06</td>\n",
       "      <td>3.572692e+06</td>\n",
       "      <td>3.572692e+06</td>\n",
       "      <td>3.572692e+06</td>\n",
       "      <td>3.572692e+06</td>\n",
       "      <td>3.572692e+06</td>\n",
       "      <td>3.572692e+06</td>\n",
       "      <td>3.572692e+06</td>\n",
       "    </tr>\n",
       "    <tr>\n",
       "      <th>mean</th>\n",
       "      <td>2.027615e+05</td>\n",
       "      <td>1.535390e+00</td>\n",
       "      <td>1.673055e+00</td>\n",
       "      <td>2.888095e+00</td>\n",
       "      <td>-7.289049e+01</td>\n",
       "      <td>4.015453e+01</td>\n",
       "      <td>1.029247e+00</td>\n",
       "      <td>-7.301125e+01</td>\n",
       "      <td>4.022184e+01</td>\n",
       "      <td>1.344409e+00</td>\n",
       "      <td>1.233975e+01</td>\n",
       "      <td>3.139076e-01</td>\n",
       "      <td>4.987576e-01</td>\n",
       "      <td>1.731374e+00</td>\n",
       "      <td>2.819905e-01</td>\n",
       "      <td>2.999949e-01</td>\n",
       "      <td>1.546578e+01</td>\n",
       "    </tr>\n",
       "    <tr>\n",
       "      <th>std</th>\n",
       "      <td>1.175939e+05</td>\n",
       "      <td>4.987460e-01</td>\n",
       "      <td>1.327064e+00</td>\n",
       "      <td>3.493434e+00</td>\n",
       "      <td>8.883911e+00</td>\n",
       "      <td>4.894021e+00</td>\n",
       "      <td>3.379841e-01</td>\n",
       "      <td>8.382045e+00</td>\n",
       "      <td>4.617722e+00</td>\n",
       "      <td>4.866724e-01</td>\n",
       "      <td>9.973924e+00</td>\n",
       "      <td>3.656087e-01</td>\n",
       "      <td>2.653072e-02</td>\n",
       "      <td>2.307833e+00</td>\n",
       "      <td>1.321928e+00</td>\n",
       "      <td>1.239609e-03</td>\n",
       "      <td>1.233308e+01</td>\n",
       "    </tr>\n",
       "    <tr>\n",
       "      <th>min</th>\n",
       "      <td>0.000000e+00</td>\n",
       "      <td>1.000000e+00</td>\n",
       "      <td>0.000000e+00</td>\n",
       "      <td>1.000000e-02</td>\n",
       "      <td>-1.008163e+02</td>\n",
       "      <td>0.000000e+00</td>\n",
       "      <td>1.000000e+00</td>\n",
       "      <td>-1.008229e+02</td>\n",
       "      <td>0.000000e+00</td>\n",
       "      <td>1.000000e+00</td>\n",
       "      <td>0.000000e+00</td>\n",
       "      <td>-1.665000e+01</td>\n",
       "      <td>0.000000e+00</td>\n",
       "      <td>-2.380000e+01</td>\n",
       "      <td>0.000000e+00</td>\n",
       "      <td>0.000000e+00</td>\n",
       "      <td>3.000000e-01</td>\n",
       "    </tr>\n",
       "    <tr>\n",
       "      <th>25%</th>\n",
       "      <td>9.847600e+04</td>\n",
       "      <td>1.000000e+00</td>\n",
       "      <td>1.000000e+00</td>\n",
       "      <td>1.000000e+00</td>\n",
       "      <td>-7.399126e+01</td>\n",
       "      <td>4.073776e+01</td>\n",
       "      <td>1.000000e+00</td>\n",
       "      <td>-7.399088e+01</td>\n",
       "      <td>4.073680e+01</td>\n",
       "      <td>1.000000e+00</td>\n",
       "      <td>6.500000e+00</td>\n",
       "      <td>0.000000e+00</td>\n",
       "      <td>5.000000e-01</td>\n",
       "      <td>0.000000e+00</td>\n",
       "      <td>0.000000e+00</td>\n",
       "      <td>3.000000e-01</td>\n",
       "      <td>8.500000e+00</td>\n",
       "    </tr>\n",
       "    <tr>\n",
       "      <th>50%</th>\n",
       "      <td>1.964050e+05</td>\n",
       "      <td>2.000000e+00</td>\n",
       "      <td>1.000000e+00</td>\n",
       "      <td>1.700000e+00</td>\n",
       "      <td>-7.398088e+01</td>\n",
       "      <td>4.075504e+01</td>\n",
       "      <td>1.000000e+00</td>\n",
       "      <td>-7.397908e+01</td>\n",
       "      <td>4.075520e+01</td>\n",
       "      <td>1.000000e+00</td>\n",
       "      <td>9.000000e+00</td>\n",
       "      <td>5.000000e-01</td>\n",
       "      <td>5.000000e-01</td>\n",
       "      <td>1.350000e+00</td>\n",
       "      <td>0.000000e+00</td>\n",
       "      <td>3.000000e-01</td>\n",
       "      <td>1.176000e+01</td>\n",
       "    </tr>\n",
       "    <tr>\n",
       "      <th>75%</th>\n",
       "      <td>3.036560e+05</td>\n",
       "      <td>2.000000e+00</td>\n",
       "      <td>2.000000e+00</td>\n",
       "      <td>3.200000e+00</td>\n",
       "      <td>-7.396523e+01</td>\n",
       "      <td>4.076899e+01</td>\n",
       "      <td>1.000000e+00</td>\n",
       "      <td>-7.396111e+01</td>\n",
       "      <td>4.077033e+01</td>\n",
       "      <td>2.000000e+00</td>\n",
       "      <td>1.400000e+01</td>\n",
       "      <td>1.000000e+00</td>\n",
       "      <td>5.000000e-01</td>\n",
       "      <td>2.350000e+00</td>\n",
       "      <td>0.000000e+00</td>\n",
       "      <td>3.000000e-01</td>\n",
       "      <td>1.725000e+01</td>\n",
       "    </tr>\n",
       "    <tr>\n",
       "      <th>90%</th>\n",
       "      <td>3.622388e+05</td>\n",
       "      <td>2.000000e+00</td>\n",
       "      <td>4.000000e+00</td>\n",
       "      <td>6.810000e+00</td>\n",
       "      <td>-7.394868e+01</td>\n",
       "      <td>4.078072e+01</td>\n",
       "      <td>1.000000e+00</td>\n",
       "      <td>-7.394267e+01</td>\n",
       "      <td>4.078475e+01</td>\n",
       "      <td>2.000000e+00</td>\n",
       "      <td>2.400000e+01</td>\n",
       "      <td>1.000000e+00</td>\n",
       "      <td>5.000000e-01</td>\n",
       "      <td>4.000000e+00</td>\n",
       "      <td>0.000000e+00</td>\n",
       "      <td>3.000000e-01</td>\n",
       "      <td>2.915000e+01</td>\n",
       "    </tr>\n",
       "    <tr>\n",
       "      <th>95%</th>\n",
       "      <td>3.847640e+05</td>\n",
       "      <td>2.000000e+00</td>\n",
       "      <td>5.000000e+00</td>\n",
       "      <td>1.074000e+01</td>\n",
       "      <td>-7.386390e+01</td>\n",
       "      <td>4.078823e+01</td>\n",
       "      <td>1.000000e+00</td>\n",
       "      <td>-7.389064e+01</td>\n",
       "      <td>4.079684e+01</td>\n",
       "      <td>2.000000e+00</td>\n",
       "      <td>3.450000e+01</td>\n",
       "      <td>1.000000e+00</td>\n",
       "      <td>5.000000e-01</td>\n",
       "      <td>6.150000e+00</td>\n",
       "      <td>5.540000e+00</td>\n",
       "      <td>3.000000e-01</td>\n",
       "      <td>4.479000e+01</td>\n",
       "    </tr>\n",
       "    <tr>\n",
       "      <th>99%</th>\n",
       "      <td>4.022990e+05</td>\n",
       "      <td>2.000000e+00</td>\n",
       "      <td>6.000000e+00</td>\n",
       "      <td>1.868000e+01</td>\n",
       "      <td>0.000000e+00</td>\n",
       "      <td>4.080537e+01</td>\n",
       "      <td>2.000000e+00</td>\n",
       "      <td>0.000000e+00</td>\n",
       "      <td>4.083674e+01</td>\n",
       "      <td>2.000000e+00</td>\n",
       "      <td>5.200000e+01</td>\n",
       "      <td>1.000000e+00</td>\n",
       "      <td>5.000000e-01</td>\n",
       "      <td>1.167000e+01</td>\n",
       "      <td>5.540000e+00</td>\n",
       "      <td>3.000000e-01</td>\n",
       "      <td>6.999000e+01</td>\n",
       "    </tr>\n",
       "    <tr>\n",
       "      <th>99.9%</th>\n",
       "      <td>4.107649e+05</td>\n",
       "      <td>2.000000e+00</td>\n",
       "      <td>6.000000e+00</td>\n",
       "      <td>2.210000e+01</td>\n",
       "      <td>0.000000e+00</td>\n",
       "      <td>4.084219e+01</td>\n",
       "      <td>5.000000e+00</td>\n",
       "      <td>0.000000e+00</td>\n",
       "      <td>4.088603e+01</td>\n",
       "      <td>4.000000e+00</td>\n",
       "      <td>6.950000e+01</td>\n",
       "      <td>1.000000e+00</td>\n",
       "      <td>5.000000e-01</td>\n",
       "      <td>1.750000e+01</td>\n",
       "      <td>1.491165e+01</td>\n",
       "      <td>3.000000e-01</td>\n",
       "      <td>9.395233e+01</td>\n",
       "    </tr>\n",
       "    <tr>\n",
       "      <th>max</th>\n",
       "      <td>4.111310e+05</td>\n",
       "      <td>2.000000e+00</td>\n",
       "      <td>9.000000e+00</td>\n",
       "      <td>2.500000e+01</td>\n",
       "      <td>0.000000e+00</td>\n",
       "      <td>4.825759e+01</td>\n",
       "      <td>9.900000e+01</td>\n",
       "      <td>0.000000e+00</td>\n",
       "      <td>4.660777e+01</td>\n",
       "      <td>4.000000e+00</td>\n",
       "      <td>1.184500e+02</td>\n",
       "      <td>4.710000e+00</td>\n",
       "      <td>1.745000e+01</td>\n",
       "      <td>1.040000e+02</td>\n",
       "      <td>9.554000e+01</td>\n",
       "      <td>3.000000e-01</td>\n",
       "      <td>1.198100e+02</td>\n",
       "    </tr>\n",
       "  </tbody>\n",
       "</table>\n",
       "</div>"
      ],
      "text/plain": [
       "         Unnamed: 0      VendorID  passenger_count  trip_distance  \\\n",
       "count  3.572692e+06  3.572692e+06     3.572692e+06   3.572692e+06   \n",
       "mean   2.027615e+05  1.535390e+00     1.673055e+00   2.888095e+00   \n",
       "std    1.175939e+05  4.987460e-01     1.327064e+00   3.493434e+00   \n",
       "min    0.000000e+00  1.000000e+00     0.000000e+00   1.000000e-02   \n",
       "25%    9.847600e+04  1.000000e+00     1.000000e+00   1.000000e+00   \n",
       "50%    1.964050e+05  2.000000e+00     1.000000e+00   1.700000e+00   \n",
       "75%    3.036560e+05  2.000000e+00     2.000000e+00   3.200000e+00   \n",
       "90%    3.622388e+05  2.000000e+00     4.000000e+00   6.810000e+00   \n",
       "95%    3.847640e+05  2.000000e+00     5.000000e+00   1.074000e+01   \n",
       "99%    4.022990e+05  2.000000e+00     6.000000e+00   1.868000e+01   \n",
       "99.9%  4.107649e+05  2.000000e+00     6.000000e+00   2.210000e+01   \n",
       "max    4.111310e+05  2.000000e+00     9.000000e+00   2.500000e+01   \n",
       "\n",
       "       pickup_longitude  pickup_latitude    RatecodeID  dropoff_longitude  \\\n",
       "count      3.572692e+06     3.572692e+06  3.572692e+06       3.572692e+06   \n",
       "mean      -7.289049e+01     4.015453e+01  1.029247e+00      -7.301125e+01   \n",
       "std        8.883911e+00     4.894021e+00  3.379841e-01       8.382045e+00   \n",
       "min       -1.008163e+02     0.000000e+00  1.000000e+00      -1.008229e+02   \n",
       "25%       -7.399126e+01     4.073776e+01  1.000000e+00      -7.399088e+01   \n",
       "50%       -7.398088e+01     4.075504e+01  1.000000e+00      -7.397908e+01   \n",
       "75%       -7.396523e+01     4.076899e+01  1.000000e+00      -7.396111e+01   \n",
       "90%       -7.394868e+01     4.078072e+01  1.000000e+00      -7.394267e+01   \n",
       "95%       -7.386390e+01     4.078823e+01  1.000000e+00      -7.389064e+01   \n",
       "99%        0.000000e+00     4.080537e+01  2.000000e+00       0.000000e+00   \n",
       "99.9%      0.000000e+00     4.084219e+01  5.000000e+00       0.000000e+00   \n",
       "max        0.000000e+00     4.825759e+01  9.900000e+01       0.000000e+00   \n",
       "\n",
       "       dropoff_latitude  payment_type   fare_amount         extra  \\\n",
       "count      3.572692e+06  3.572692e+06  3.572692e+06  3.572692e+06   \n",
       "mean       4.022184e+01  1.344409e+00  1.233975e+01  3.139076e-01   \n",
       "std        4.617722e+00  4.866724e-01  9.973924e+00  3.656087e-01   \n",
       "min        0.000000e+00  1.000000e+00  0.000000e+00 -1.665000e+01   \n",
       "25%        4.073680e+01  1.000000e+00  6.500000e+00  0.000000e+00   \n",
       "50%        4.075520e+01  1.000000e+00  9.000000e+00  5.000000e-01   \n",
       "75%        4.077033e+01  2.000000e+00  1.400000e+01  1.000000e+00   \n",
       "90%        4.078475e+01  2.000000e+00  2.400000e+01  1.000000e+00   \n",
       "95%        4.079684e+01  2.000000e+00  3.450000e+01  1.000000e+00   \n",
       "99%        4.083674e+01  2.000000e+00  5.200000e+01  1.000000e+00   \n",
       "99.9%      4.088603e+01  4.000000e+00  6.950000e+01  1.000000e+00   \n",
       "max        4.660777e+01  4.000000e+00  1.184500e+02  4.710000e+00   \n",
       "\n",
       "            mta_tax    tip_amount  tolls_amount  improvement_surcharge  \\\n",
       "count  3.572692e+06  3.572692e+06  3.572692e+06           3.572692e+06   \n",
       "mean   4.987576e-01  1.731374e+00  2.819905e-01           2.999949e-01   \n",
       "std    2.653072e-02  2.307833e+00  1.321928e+00           1.239609e-03   \n",
       "min    0.000000e+00 -2.380000e+01  0.000000e+00           0.000000e+00   \n",
       "25%    5.000000e-01  0.000000e+00  0.000000e+00           3.000000e-01   \n",
       "50%    5.000000e-01  1.350000e+00  0.000000e+00           3.000000e-01   \n",
       "75%    5.000000e-01  2.350000e+00  0.000000e+00           3.000000e-01   \n",
       "90%    5.000000e-01  4.000000e+00  0.000000e+00           3.000000e-01   \n",
       "95%    5.000000e-01  6.150000e+00  5.540000e+00           3.000000e-01   \n",
       "99%    5.000000e-01  1.167000e+01  5.540000e+00           3.000000e-01   \n",
       "99.9%  5.000000e-01  1.750000e+01  1.491165e+01           3.000000e-01   \n",
       "max    1.745000e+01  1.040000e+02  9.554000e+01           3.000000e-01   \n",
       "\n",
       "       total_amount  \n",
       "count  3.572692e+06  \n",
       "mean   1.546578e+01  \n",
       "std    1.233308e+01  \n",
       "min    3.000000e-01  \n",
       "25%    8.500000e+00  \n",
       "50%    1.176000e+01  \n",
       "75%    1.725000e+01  \n",
       "90%    2.915000e+01  \n",
       "95%    4.479000e+01  \n",
       "99%    6.999000e+01  \n",
       "99.9%  9.395233e+01  \n",
       "max    1.198100e+02  "
      ]
     },
     "execution_count": 17,
     "metadata": {},
     "output_type": "execute_result"
    }
   ],
   "source": [
    "%%time\n",
    "df.describe(percentiles=[.25,.50,.75,.90,.95,.99,.999]).compute()"
   ]
  },
  {
   "cell_type": "code",
   "execution_count": 13,
   "metadata": {
    "ExecuteTime": {
     "end_time": "2020-06-30T06:59:26.853668Z",
     "start_time": "2020-06-30T06:59:15.274070Z"
    }
   },
   "outputs": [
    {
     "data": {
      "text/html": [
       "\n",
       "\n",
       "\n",
       "\n",
       "\n",
       "\n",
       "  <div class=\"bk-root\" id=\"71250b35-6420-4ccd-9c64-e5bc5a066807\" data-root-id=\"1198\"></div>\n"
      ]
     },
     "metadata": {},
     "output_type": "display_data"
    },
    {
     "data": {
      "application/javascript": [
       "(function(root) {\n",
       "  function embed_document(root) {\n",
       "    \n",
       "  var docs_json = {\"34a6a852-2acf-45dc-b47d-632a3282ac9b\":{\"roots\":{\"references\":[{\"attributes\":{\"background_fill_color\":\"#fafafa\",\"below\":[{\"id\":\"1209\"}],\"center\":[{\"id\":\"1212\"},{\"id\":\"1216\"}],\"left\":[{\"id\":\"1213\"}],\"renderers\":[{\"id\":\"1234\"}],\"title\":{\"id\":\"1199\"},\"toolbar\":{\"id\":\"1224\"},\"x_range\":{\"id\":\"1201\"},\"x_scale\":{\"id\":\"1205\"},\"y_range\":{\"id\":\"1203\"},\"y_scale\":{\"id\":\"1207\"}},\"id\":\"1198\",\"subtype\":\"Figure\",\"type\":\"Plot\"},{\"attributes\":{\"active_drag\":\"auto\",\"active_inspect\":\"auto\",\"active_multi\":null,\"active_scroll\":\"auto\",\"active_tap\":\"auto\",\"tools\":[{\"id\":\"1217\"},{\"id\":\"1218\"},{\"id\":\"1219\"},{\"id\":\"1220\"},{\"id\":\"1221\"},{\"id\":\"1222\"}]},\"id\":\"1224\",\"type\":\"Toolbar\"},{\"attributes\":{\"data_source\":{\"id\":\"1231\"},\"glyph\":{\"id\":\"1232\"},\"hover_glyph\":null,\"muted_glyph\":null,\"nonselection_glyph\":{\"id\":\"1233\"},\"selection_glyph\":null,\"view\":{\"id\":\"1235\"}},\"id\":\"1234\",\"type\":\"GlyphRenderer\"},{\"attributes\":{\"align\":\"center\",\"text\":\"Distribution of total amount paid\",\"text_color\":{\"value\":\"darkseagreen\"},\"text_font_size\":{\"value\":\"20px\"}},\"id\":\"1199\",\"type\":\"Title\"},{\"attributes\":{},\"id\":\"1259\",\"type\":\"UnionRenderers\"},{\"attributes\":{},\"id\":\"1218\",\"type\":\"SaveTool\"},{\"attributes\":{\"overlay\":{\"id\":\"1223\"}},\"id\":\"1220\",\"type\":\"BoxZoomTool\"},{\"attributes\":{\"bottom\":{\"value\":0},\"fill_color\":{\"value\":\"darkseagreen\"},\"left\":{\"field\":\"left\"},\"line_color\":{\"value\":\"white\"},\"right\":{\"field\":\"right\"},\"top\":{\"field\":\"top\"}},\"id\":\"1232\",\"type\":\"Quad\"},{\"attributes\":{},\"id\":\"1203\",\"type\":\"DataRange1d\"},{\"attributes\":{\"callback\":null},\"id\":\"1217\",\"type\":\"HoverTool\"},{\"attributes\":{},\"id\":\"1201\",\"type\":\"DataRange1d\"},{\"attributes\":{\"axis\":{\"id\":\"1213\"},\"dimension\":1,\"ticker\":null},\"id\":\"1216\",\"type\":\"Grid\"},{\"attributes\":{},\"id\":\"1221\",\"type\":\"ResetTool\"},{\"attributes\":{\"data\":{\"left\":{\"__ndarray__\":\"MzMzMzMz0z/2l92Th4UFQMNkqmBUUhRAi/1l9+ThHUAqyxDHurgjQI6XbhKDgChA8mPMXUtILUArGJXUCQgxQF3+Q/rtazNAj+TyH9LPNUDByqFFtjM4QPOwUGualzpAJZf/kH77PEBXfa62Yl8/QMSxLm6j4UBA3SQGgZUTQkD2l92Th0VDQA8LtaZ5d0RAKH6MuWupRUBB8WPMXdtGQFpkO99PDUhAc9cS8kE/SUCMSuoENHFKQKW9wRcmo0tAvjCZKhjVTEDXo3A9CgdOQPAWSFD8OE9ABcWPMXc1UECRfvs6cM5QQB04Z0RpZ1FAqvHSTWIAUkA3qz5XW5lSQMNkqmBUMlNATx4Wak3LU0Dc14FzRmRUQGmR7Xw//VRA9UpZhjiWVUCBBMWPMS9WQA6+MJkqyFZAm3ecoiNhV0AnMQisHPpXQLPqc7UVk1hAQKTfvg4sWUDNXUvIB8VZQFkXt9EAXlpA5dAi2/n2WkByio7k8o9bQP9D+u3rKFxAi/1l9+TBXEAXt9EA3lpdQA==\",\"dtype\":\"float64\",\"order\":\"little\",\"shape\":[50]},\"right\":{\"__ndarray__\":\"9pfdk4eFBUDDZKpgVFIUQIv9Zffk4R1AKssQx7q4I0COl24Sg4AoQPJjzF1LSC1AKxiV1AkIMUBd/kP67WszQI/k8h/SzzVAwcqhRbYzOEDzsFBrmpc6QCWX/5B++zxAV32utmJfP0DEsS5uo+FAQN0kBoGVE0JA9pfdk4dFQ0APC7WmeXdEQCh+jLlrqUVAQfFjzF3bRkBaZDvfTw1IQHPXEvJBP0lAjErqBDRxSkClvcEXJqNLQL4wmSoY1UxA16NwPQoHTkDwFkhQ/DhPQAXFjzF3NVBAkX77OnDOUEAdOGdEaWdRQKrx0k1iAFJAN6s+V1uZUkDDZKpgVDJTQE8eFmpNy1NA3NeBc0ZkVEBpke18P/1UQPVKWYY4llVAgQTFjzEvVkAOvjCZKshWQJt3nKIjYVdAJzEIrBz6V0Cz6nO1FZNYQECk374OLFlAzV1LyAfFWUBZF7fRAF5aQOXQItv59lpAcoqO5PKPW0D/Q/rt6yhcQIv9ZffkwVxAF7fRAN5aXUCkcD0K1/NdQA==\",\"dtype\":\"float64\",\"order\":\"little\",\"shape\":[50]},\"top\":{\"__ndarray__\":\"N1CqFLGTED9d9SfOZCR/PwT5vJ61xq8/R7mh7/+stj8W/hBhSAixP7GV10MRb6o/HQqW179yoj/H6XaW6YSYP5yL48RjspA/Zvq7VrD+hT9vqd/OoHyBP9TlOY9d4Xk/m/jp74Gocz+lhnzthLFrPyvPFp0UI2s/ZzouEJi+aD8rIIzR3sJnPwDtoyOMoGQ/95xhmEDYYj+apcafVThgPzrFC8QGEFo/QUt4Hr/WXD/nrK3e1VxNP5DZIFrr/0g/LW24tlyfZj+LeqM4FCRGP1UEBEErwFc/GlcTjKLMSj+SHZ9RstRIP9JzI2fClGQ/gY4OjB04Rz9a3rv1eb4uP3WIIaNGLhw/suAJ0t/gGT8qJ9alDNgUP9UJ3kCEnBU/p4w+d0YBDz8JZMDGzLkSPytRJYeUjAw/xi0W91wTCz8iRfcwNhEIPzcWNb2DFQ4/vs7tdnMlBz/Krqlu+YMAP3yQMiWl1v0+lCUFdf5q+T5E2smAj6XzPmFZNgnzNO4+7Nb++NHN6D6uAkgxCe3fPg==\",\"dtype\":\"float64\",\"order\":\"little\",\"shape\":[50]}},\"selected\":{\"id\":\"1258\"},\"selection_policy\":{\"id\":\"1259\"}},\"id\":\"1231\",\"type\":\"ColumnDataSource\"},{\"attributes\":{\"source\":{\"id\":\"1231\"}},\"id\":\"1235\",\"type\":\"CDSView\"},{\"attributes\":{},\"id\":\"1222\",\"type\":\"WheelZoomTool\"},{\"attributes\":{\"axis_label\":\"Total amount ($)\",\"formatter\":{\"id\":\"1253\"},\"ticker\":{\"id\":\"1210\"}},\"id\":\"1209\",\"type\":\"LinearAxis\"},{\"attributes\":{\"bottom_units\":\"screen\",\"fill_alpha\":0.5,\"fill_color\":\"lightgrey\",\"left_units\":\"screen\",\"level\":\"overlay\",\"line_alpha\":1.0,\"line_color\":\"black\",\"line_dash\":[4,4],\"line_width\":2,\"right_units\":\"screen\",\"top_units\":\"screen\"},\"id\":\"1223\",\"type\":\"BoxAnnotation\"},{\"attributes\":{},\"id\":\"1207\",\"type\":\"LinearScale\"},{\"attributes\":{\"axis_label\":\"Frequency\",\"formatter\":{\"id\":\"1255\"},\"ticker\":{\"id\":\"1214\"}},\"id\":\"1213\",\"type\":\"LinearAxis\"},{\"attributes\":{},\"id\":\"1210\",\"type\":\"BasicTicker\"},{\"attributes\":{\"bottom\":{\"value\":0},\"fill_alpha\":{\"value\":0.1},\"fill_color\":{\"value\":\"darkseagreen\"},\"left\":{\"field\":\"left\"},\"line_alpha\":{\"value\":0.1},\"line_color\":{\"value\":\"white\"},\"right\":{\"field\":\"right\"},\"top\":{\"field\":\"top\"}},\"id\":\"1233\",\"type\":\"Quad\"},{\"attributes\":{},\"id\":\"1219\",\"type\":\"PanTool\"},{\"attributes\":{},\"id\":\"1205\",\"type\":\"LinearScale\"},{\"attributes\":{},\"id\":\"1255\",\"type\":\"BasicTickFormatter\"},{\"attributes\":{},\"id\":\"1258\",\"type\":\"Selection\"},{\"attributes\":{},\"id\":\"1253\",\"type\":\"BasicTickFormatter\"},{\"attributes\":{},\"id\":\"1214\",\"type\":\"BasicTicker\"},{\"attributes\":{\"axis\":{\"id\":\"1209\"},\"ticker\":null},\"id\":\"1212\",\"type\":\"Grid\"}],\"root_ids\":[\"1198\"]},\"title\":\"Bokeh Application\",\"version\":\"2.1.1\"}};\n",
       "  var render_items = [{\"docid\":\"34a6a852-2acf-45dc-b47d-632a3282ac9b\",\"root_ids\":[\"1198\"],\"roots\":{\"1198\":\"71250b35-6420-4ccd-9c64-e5bc5a066807\"}}];\n",
       "  root.Bokeh.embed.embed_items_notebook(docs_json, render_items);\n",
       "\n",
       "  }\n",
       "  if (root.Bokeh !== undefined) {\n",
       "    embed_document(root);\n",
       "  } else {\n",
       "    var attempts = 0;\n",
       "    var timer = setInterval(function(root) {\n",
       "      if (root.Bokeh !== undefined) {\n",
       "        clearInterval(timer);\n",
       "        embed_document(root);\n",
       "      } else {\n",
       "        attempts++;\n",
       "        if (attempts > 100) {\n",
       "          clearInterval(timer);\n",
       "          console.log(\"Bokeh: ERROR: Unable to run BokehJS code because BokehJS library is missing\");\n",
       "        }\n",
       "      }\n",
       "    }, 10, root)\n",
       "  }\n",
       "})(window);"
      ],
      "application/vnd.bokehjs_exec.v0+json": ""
     },
     "metadata": {
      "application/vnd.bokehjs_exec.v0+json": {
       "id": "1198"
      }
     },
     "output_type": "display_data"
    },
    {
     "name": "stdout",
     "output_type": "stream",
     "text": [
      "Wall time: 11.6 s\n"
     ]
    }
   ],
   "source": [
    "%%time\n",
    "hist, edges = np.histogram(df.total_amount, density=True, bins=50)\n",
    "\n",
    "TOOLS = \"hover,save,pan,box_zoom,reset,wheel_zoom\"\n",
    "\n",
    "p = figure(title='Distribution of total amount paid', tools=TOOLS, background_fill_color=\"#fafafa\")\n",
    "p.quad(top=hist, bottom=0, left=edges[:-1], right=edges[1:], line_color=\"white\", fill_color=\"darkseagreen\")\n",
    "\n",
    "# configure visual properties on a plot's title attribute\n",
    "# p.title.text = \"Title With Options\"\n",
    "p.title.align = \"center\"\n",
    "p.title.text_color = \"darkseagreen\"\n",
    "p.title.text_font_size = \"20px\"\n",
    "#p.title.background_fill_color = \"#fafafa\"\n",
    "\n",
    "p.xaxis.axis_label = 'Total amount ($)'\n",
    "p.yaxis.axis_label = 'Frequency'\n",
    "\n",
    "show(p)"
   ]
  },
  {
   "cell_type": "markdown",
   "metadata": {},
   "source": [
    "#### Checking dtypes of columns"
   ]
  },
  {
   "cell_type": "code",
   "execution_count": 59,
   "metadata": {},
   "outputs": [
    {
     "data": {
      "text/plain": [
       "Unnamed: 0                 int64\n",
       "VendorID                   int64\n",
       "tpep_pickup_datetime      object\n",
       "tpep_dropoff_datetime     object\n",
       "passenger_count            int64\n",
       "trip_distance            float64\n",
       "pickup_longitude         float64\n",
       "pickup_latitude          float64\n",
       "RatecodeID                 int64\n",
       "store_and_fwd_flag        object\n",
       "dropoff_longitude        float64\n",
       "dropoff_latitude         float64\n",
       "payment_type               int64\n",
       "fare_amount              float64\n",
       "extra                    float64\n",
       "mta_tax                  float64\n",
       "tip_amount               float64\n",
       "tolls_amount             float64\n",
       "improvement_surcharge    float64\n",
       "total_amount             float64\n",
       "dtype: object"
      ]
     },
     "execution_count": 59,
     "metadata": {},
     "output_type": "execute_result"
    }
   ],
   "source": [
    "df.dtypes"
   ]
  },
  {
   "cell_type": "markdown",
   "metadata": {},
   "source": [
    "Our datetime variables are as object dtypes, we need to convert them for further analysis."
   ]
  },
  {
   "cell_type": "markdown",
   "metadata": {},
   "source": [
    "#### Converting datetime columns and dropping columns"
   ]
  },
  {
   "cell_type": "code",
   "execution_count": 14,
   "metadata": {
    "ExecuteTime": {
     "end_time": "2020-06-30T07:00:13.599708Z",
     "start_time": "2020-06-30T07:00:13.563806Z"
    }
   },
   "outputs": [
    {
     "name": "stdout",
     "output_type": "stream",
     "text": [
      "Wall time: 29.9 ms\n"
     ]
    }
   ],
   "source": [
    "%%time\n",
    "df['tpep_pickup_datetime'] = dd.to_datetime(df['tpep_pickup_datetime'])\n",
    "df['tpep_dropoff_datetime'] = dd.to_datetime(df['tpep_dropoff_datetime'])"
   ]
  },
  {
   "cell_type": "code",
   "execution_count": 15,
   "metadata": {
    "ExecuteTime": {
     "end_time": "2020-06-30T07:00:21.202578Z",
     "start_time": "2020-06-30T07:00:18.469310Z"
    }
   },
   "outputs": [
    {
     "name": "stdout",
     "output_type": "stream",
     "text": [
      "Wall time: 2.7 s\n"
     ]
    },
    {
     "data": {
      "text/html": [
       "<div>\n",
       "<style scoped>\n",
       "    .dataframe tbody tr th:only-of-type {\n",
       "        vertical-align: middle;\n",
       "    }\n",
       "\n",
       "    .dataframe tbody tr th {\n",
       "        vertical-align: top;\n",
       "    }\n",
       "\n",
       "    .dataframe thead th {\n",
       "        text-align: right;\n",
       "    }\n",
       "</style>\n",
       "<table border=\"1\" class=\"dataframe\">\n",
       "  <thead>\n",
       "    <tr style=\"text-align: right;\">\n",
       "      <th></th>\n",
       "      <th>VendorID</th>\n",
       "      <th>tpep_pickup_datetime</th>\n",
       "      <th>tpep_dropoff_datetime</th>\n",
       "      <th>passenger_count</th>\n",
       "      <th>trip_distance</th>\n",
       "      <th>pickup_longitude</th>\n",
       "      <th>pickup_latitude</th>\n",
       "      <th>RatecodeID</th>\n",
       "      <th>store_and_fwd_flag</th>\n",
       "      <th>dropoff_longitude</th>\n",
       "      <th>dropoff_latitude</th>\n",
       "      <th>payment_type</th>\n",
       "      <th>fare_amount</th>\n",
       "      <th>extra</th>\n",
       "      <th>mta_tax</th>\n",
       "      <th>tip_amount</th>\n",
       "      <th>tolls_amount</th>\n",
       "      <th>improvement_surcharge</th>\n",
       "      <th>total_amount</th>\n",
       "    </tr>\n",
       "  </thead>\n",
       "  <tbody>\n",
       "    <tr>\n",
       "      <th>0</th>\n",
       "      <td>2</td>\n",
       "      <td>2016-01-22 15:22:58</td>\n",
       "      <td>2016-01-22 15:32:13</td>\n",
       "      <td>1</td>\n",
       "      <td>1.45</td>\n",
       "      <td>-73.954300</td>\n",
       "      <td>40.764046</td>\n",
       "      <td>1</td>\n",
       "      <td>N</td>\n",
       "      <td>-73.967842</td>\n",
       "      <td>40.752926</td>\n",
       "      <td>1</td>\n",
       "      <td>8.0</td>\n",
       "      <td>0.0</td>\n",
       "      <td>0.5</td>\n",
       "      <td>2.64</td>\n",
       "      <td>0.0</td>\n",
       "      <td>0.3</td>\n",
       "      <td>11.44</td>\n",
       "    </tr>\n",
       "    <tr>\n",
       "      <th>1</th>\n",
       "      <td>1</td>\n",
       "      <td>2016-01-05 19:43:57</td>\n",
       "      <td>2016-01-05 19:48:48</td>\n",
       "      <td>2</td>\n",
       "      <td>0.70</td>\n",
       "      <td>-73.962410</td>\n",
       "      <td>40.755157</td>\n",
       "      <td>1</td>\n",
       "      <td>N</td>\n",
       "      <td>-73.958237</td>\n",
       "      <td>40.760284</td>\n",
       "      <td>2</td>\n",
       "      <td>5.0</td>\n",
       "      <td>0.5</td>\n",
       "      <td>0.5</td>\n",
       "      <td>0.00</td>\n",
       "      <td>0.0</td>\n",
       "      <td>0.3</td>\n",
       "      <td>6.30</td>\n",
       "    </tr>\n",
       "    <tr>\n",
       "      <th>2</th>\n",
       "      <td>1</td>\n",
       "      <td>2016-01-12 15:09:39</td>\n",
       "      <td>2016-01-12 15:31:50</td>\n",
       "      <td>1</td>\n",
       "      <td>5.70</td>\n",
       "      <td>-74.010239</td>\n",
       "      <td>40.720898</td>\n",
       "      <td>1</td>\n",
       "      <td>N</td>\n",
       "      <td>-73.977043</td>\n",
       "      <td>40.752041</td>\n",
       "      <td>1</td>\n",
       "      <td>21.0</td>\n",
       "      <td>0.0</td>\n",
       "      <td>0.5</td>\n",
       "      <td>4.35</td>\n",
       "      <td>0.0</td>\n",
       "      <td>0.3</td>\n",
       "      <td>26.15</td>\n",
       "    </tr>\n",
       "    <tr>\n",
       "      <th>3</th>\n",
       "      <td>1</td>\n",
       "      <td>2016-01-13 14:48:16</td>\n",
       "      <td>2016-01-13 14:57:32</td>\n",
       "      <td>1</td>\n",
       "      <td>1.10</td>\n",
       "      <td>-73.974113</td>\n",
       "      <td>40.762257</td>\n",
       "      <td>1</td>\n",
       "      <td>N</td>\n",
       "      <td>-73.984535</td>\n",
       "      <td>40.748352</td>\n",
       "      <td>2</td>\n",
       "      <td>7.5</td>\n",
       "      <td>0.0</td>\n",
       "      <td>0.5</td>\n",
       "      <td>0.00</td>\n",
       "      <td>0.0</td>\n",
       "      <td>0.3</td>\n",
       "      <td>8.30</td>\n",
       "    </tr>\n",
       "    <tr>\n",
       "      <th>4</th>\n",
       "      <td>1</td>\n",
       "      <td>2016-01-20 07:26:13</td>\n",
       "      <td>2016-01-20 07:48:04</td>\n",
       "      <td>1</td>\n",
       "      <td>3.80</td>\n",
       "      <td>-73.996391</td>\n",
       "      <td>40.685993</td>\n",
       "      <td>1</td>\n",
       "      <td>N</td>\n",
       "      <td>-74.009636</td>\n",
       "      <td>40.720921</td>\n",
       "      <td>1</td>\n",
       "      <td>17.0</td>\n",
       "      <td>0.0</td>\n",
       "      <td>0.5</td>\n",
       "      <td>3.56</td>\n",
       "      <td>0.0</td>\n",
       "      <td>0.3</td>\n",
       "      <td>21.36</td>\n",
       "    </tr>\n",
       "  </tbody>\n",
       "</table>\n",
       "</div>"
      ],
      "text/plain": [
       "   VendorID tpep_pickup_datetime tpep_dropoff_datetime  passenger_count  \\\n",
       "0         2  2016-01-22 15:22:58   2016-01-22 15:32:13                1   \n",
       "1         1  2016-01-05 19:43:57   2016-01-05 19:48:48                2   \n",
       "2         1  2016-01-12 15:09:39   2016-01-12 15:31:50                1   \n",
       "3         1  2016-01-13 14:48:16   2016-01-13 14:57:32                1   \n",
       "4         1  2016-01-20 07:26:13   2016-01-20 07:48:04                1   \n",
       "\n",
       "   trip_distance  pickup_longitude  pickup_latitude  RatecodeID  \\\n",
       "0           1.45        -73.954300        40.764046           1   \n",
       "1           0.70        -73.962410        40.755157           1   \n",
       "2           5.70        -74.010239        40.720898           1   \n",
       "3           1.10        -73.974113        40.762257           1   \n",
       "4           3.80        -73.996391        40.685993           1   \n",
       "\n",
       "  store_and_fwd_flag  dropoff_longitude  dropoff_latitude  payment_type  \\\n",
       "0                  N         -73.967842         40.752926             1   \n",
       "1                  N         -73.958237         40.760284             2   \n",
       "2                  N         -73.977043         40.752041             1   \n",
       "3                  N         -73.984535         40.748352             2   \n",
       "4                  N         -74.009636         40.720921             1   \n",
       "\n",
       "   fare_amount  extra  mta_tax  tip_amount  tolls_amount  \\\n",
       "0          8.0    0.0      0.5        2.64           0.0   \n",
       "1          5.0    0.5      0.5        0.00           0.0   \n",
       "2         21.0    0.0      0.5        4.35           0.0   \n",
       "3          7.5    0.0      0.5        0.00           0.0   \n",
       "4         17.0    0.0      0.5        3.56           0.0   \n",
       "\n",
       "   improvement_surcharge  total_amount  \n",
       "0                    0.3         11.44  \n",
       "1                    0.3          6.30  \n",
       "2                    0.3         26.15  \n",
       "3                    0.3          8.30  \n",
       "4                    0.3         21.36  "
      ]
     },
     "execution_count": 15,
     "metadata": {},
     "output_type": "execute_result"
    }
   ],
   "source": [
    "%%time\n",
    "\n",
    "#dropping unnamed 0\n",
    "df = df.drop(columns='Unnamed: 0', axis=1)\n",
    "df.head()"
   ]
  },
  {
   "cell_type": "markdown",
   "metadata": {},
   "source": [
    "#### Creating a duration column"
   ]
  },
  {
   "cell_type": "code",
   "execution_count": 16,
   "metadata": {
    "ExecuteTime": {
     "end_time": "2020-06-30T07:00:35.012926Z",
     "start_time": "2020-06-30T07:00:32.004121Z"
    }
   },
   "outputs": [
    {
     "name": "stdout",
     "output_type": "stream",
     "text": [
      "Wall time: 2.97 s\n"
     ]
    },
    {
     "data": {
      "text/html": [
       "<div>\n",
       "<style scoped>\n",
       "    .dataframe tbody tr th:only-of-type {\n",
       "        vertical-align: middle;\n",
       "    }\n",
       "\n",
       "    .dataframe tbody tr th {\n",
       "        vertical-align: top;\n",
       "    }\n",
       "\n",
       "    .dataframe thead th {\n",
       "        text-align: right;\n",
       "    }\n",
       "</style>\n",
       "<table border=\"1\" class=\"dataframe\">\n",
       "  <thead>\n",
       "    <tr style=\"text-align: right;\">\n",
       "      <th></th>\n",
       "      <th>VendorID</th>\n",
       "      <th>tpep_pickup_datetime</th>\n",
       "      <th>tpep_dropoff_datetime</th>\n",
       "      <th>passenger_count</th>\n",
       "      <th>trip_distance</th>\n",
       "      <th>pickup_longitude</th>\n",
       "      <th>pickup_latitude</th>\n",
       "      <th>RatecodeID</th>\n",
       "      <th>store_and_fwd_flag</th>\n",
       "      <th>dropoff_longitude</th>\n",
       "      <th>dropoff_latitude</th>\n",
       "      <th>payment_type</th>\n",
       "      <th>fare_amount</th>\n",
       "      <th>extra</th>\n",
       "      <th>mta_tax</th>\n",
       "      <th>tip_amount</th>\n",
       "      <th>tolls_amount</th>\n",
       "      <th>improvement_surcharge</th>\n",
       "      <th>total_amount</th>\n",
       "      <th>trip_duration</th>\n",
       "    </tr>\n",
       "  </thead>\n",
       "  <tbody>\n",
       "    <tr>\n",
       "      <th>0</th>\n",
       "      <td>2</td>\n",
       "      <td>2016-01-22 15:22:58</td>\n",
       "      <td>2016-01-22 15:32:13</td>\n",
       "      <td>1</td>\n",
       "      <td>1.45</td>\n",
       "      <td>-73.954300</td>\n",
       "      <td>40.764046</td>\n",
       "      <td>1</td>\n",
       "      <td>N</td>\n",
       "      <td>-73.967842</td>\n",
       "      <td>40.752926</td>\n",
       "      <td>1</td>\n",
       "      <td>8.0</td>\n",
       "      <td>0.0</td>\n",
       "      <td>0.5</td>\n",
       "      <td>2.64</td>\n",
       "      <td>0.0</td>\n",
       "      <td>0.3</td>\n",
       "      <td>11.44</td>\n",
       "      <td>00:09:15</td>\n",
       "    </tr>\n",
       "    <tr>\n",
       "      <th>1</th>\n",
       "      <td>1</td>\n",
       "      <td>2016-01-05 19:43:57</td>\n",
       "      <td>2016-01-05 19:48:48</td>\n",
       "      <td>2</td>\n",
       "      <td>0.70</td>\n",
       "      <td>-73.962410</td>\n",
       "      <td>40.755157</td>\n",
       "      <td>1</td>\n",
       "      <td>N</td>\n",
       "      <td>-73.958237</td>\n",
       "      <td>40.760284</td>\n",
       "      <td>2</td>\n",
       "      <td>5.0</td>\n",
       "      <td>0.5</td>\n",
       "      <td>0.5</td>\n",
       "      <td>0.00</td>\n",
       "      <td>0.0</td>\n",
       "      <td>0.3</td>\n",
       "      <td>6.30</td>\n",
       "      <td>00:04:51</td>\n",
       "    </tr>\n",
       "    <tr>\n",
       "      <th>2</th>\n",
       "      <td>1</td>\n",
       "      <td>2016-01-12 15:09:39</td>\n",
       "      <td>2016-01-12 15:31:50</td>\n",
       "      <td>1</td>\n",
       "      <td>5.70</td>\n",
       "      <td>-74.010239</td>\n",
       "      <td>40.720898</td>\n",
       "      <td>1</td>\n",
       "      <td>N</td>\n",
       "      <td>-73.977043</td>\n",
       "      <td>40.752041</td>\n",
       "      <td>1</td>\n",
       "      <td>21.0</td>\n",
       "      <td>0.0</td>\n",
       "      <td>0.5</td>\n",
       "      <td>4.35</td>\n",
       "      <td>0.0</td>\n",
       "      <td>0.3</td>\n",
       "      <td>26.15</td>\n",
       "      <td>00:22:11</td>\n",
       "    </tr>\n",
       "    <tr>\n",
       "      <th>3</th>\n",
       "      <td>1</td>\n",
       "      <td>2016-01-13 14:48:16</td>\n",
       "      <td>2016-01-13 14:57:32</td>\n",
       "      <td>1</td>\n",
       "      <td>1.10</td>\n",
       "      <td>-73.974113</td>\n",
       "      <td>40.762257</td>\n",
       "      <td>1</td>\n",
       "      <td>N</td>\n",
       "      <td>-73.984535</td>\n",
       "      <td>40.748352</td>\n",
       "      <td>2</td>\n",
       "      <td>7.5</td>\n",
       "      <td>0.0</td>\n",
       "      <td>0.5</td>\n",
       "      <td>0.00</td>\n",
       "      <td>0.0</td>\n",
       "      <td>0.3</td>\n",
       "      <td>8.30</td>\n",
       "      <td>00:09:16</td>\n",
       "    </tr>\n",
       "    <tr>\n",
       "      <th>4</th>\n",
       "      <td>1</td>\n",
       "      <td>2016-01-20 07:26:13</td>\n",
       "      <td>2016-01-20 07:48:04</td>\n",
       "      <td>1</td>\n",
       "      <td>3.80</td>\n",
       "      <td>-73.996391</td>\n",
       "      <td>40.685993</td>\n",
       "      <td>1</td>\n",
       "      <td>N</td>\n",
       "      <td>-74.009636</td>\n",
       "      <td>40.720921</td>\n",
       "      <td>1</td>\n",
       "      <td>17.0</td>\n",
       "      <td>0.0</td>\n",
       "      <td>0.5</td>\n",
       "      <td>3.56</td>\n",
       "      <td>0.0</td>\n",
       "      <td>0.3</td>\n",
       "      <td>21.36</td>\n",
       "      <td>00:21:51</td>\n",
       "    </tr>\n",
       "  </tbody>\n",
       "</table>\n",
       "</div>"
      ],
      "text/plain": [
       "   VendorID tpep_pickup_datetime tpep_dropoff_datetime  passenger_count  \\\n",
       "0         2  2016-01-22 15:22:58   2016-01-22 15:32:13                1   \n",
       "1         1  2016-01-05 19:43:57   2016-01-05 19:48:48                2   \n",
       "2         1  2016-01-12 15:09:39   2016-01-12 15:31:50                1   \n",
       "3         1  2016-01-13 14:48:16   2016-01-13 14:57:32                1   \n",
       "4         1  2016-01-20 07:26:13   2016-01-20 07:48:04                1   \n",
       "\n",
       "   trip_distance  pickup_longitude  pickup_latitude  RatecodeID  \\\n",
       "0           1.45        -73.954300        40.764046           1   \n",
       "1           0.70        -73.962410        40.755157           1   \n",
       "2           5.70        -74.010239        40.720898           1   \n",
       "3           1.10        -73.974113        40.762257           1   \n",
       "4           3.80        -73.996391        40.685993           1   \n",
       "\n",
       "  store_and_fwd_flag  dropoff_longitude  dropoff_latitude  payment_type  \\\n",
       "0                  N         -73.967842         40.752926             1   \n",
       "1                  N         -73.958237         40.760284             2   \n",
       "2                  N         -73.977043         40.752041             1   \n",
       "3                  N         -73.984535         40.748352             2   \n",
       "4                  N         -74.009636         40.720921             1   \n",
       "\n",
       "   fare_amount  extra  mta_tax  tip_amount  tolls_amount  \\\n",
       "0          8.0    0.0      0.5        2.64           0.0   \n",
       "1          5.0    0.5      0.5        0.00           0.0   \n",
       "2         21.0    0.0      0.5        4.35           0.0   \n",
       "3          7.5    0.0      0.5        0.00           0.0   \n",
       "4         17.0    0.0      0.5        3.56           0.0   \n",
       "\n",
       "   improvement_surcharge  total_amount trip_duration  \n",
       "0                    0.3         11.44      00:09:15  \n",
       "1                    0.3          6.30      00:04:51  \n",
       "2                    0.3         26.15      00:22:11  \n",
       "3                    0.3          8.30      00:09:16  \n",
       "4                    0.3         21.36      00:21:51  "
      ]
     },
     "execution_count": 16,
     "metadata": {},
     "output_type": "execute_result"
    }
   ],
   "source": [
    "%%time\n",
    "\n",
    "df['trip_duration'] = (df.tpep_dropoff_datetime - df.tpep_pickup_datetime)\n",
    "df['trip_duration'] = dd.to_timedelta(df['trip_duration'])\n",
    "df.head()"
   ]
  },
  {
   "cell_type": "markdown",
   "metadata": {},
   "source": [
    "#### Creating the speed column"
   ]
  },
  {
   "cell_type": "code",
   "execution_count": 137,
   "metadata": {},
   "outputs": [],
   "source": [
    "sample_wtime = df.head(100)"
   ]
  },
  {
   "cell_type": "code",
   "execution_count": 90,
   "metadata": {},
   "outputs": [
    {
     "data": {
      "text/plain": [
       "VendorID                           int64\n",
       "tpep_pickup_datetime      datetime64[ns]\n",
       "tpep_dropoff_datetime     datetime64[ns]\n",
       "passenger_count                    int64\n",
       "trip_distance                    float64\n",
       "pickup_longitude                 float64\n",
       "pickup_latitude                  float64\n",
       "RatecodeID                         int64\n",
       "store_and_fwd_flag                object\n",
       "dropoff_longitude                float64\n",
       "dropoff_latitude                 float64\n",
       "payment_type                       int64\n",
       "fare_amount                      float64\n",
       "extra                            float64\n",
       "mta_tax                          float64\n",
       "tip_amount                       float64\n",
       "tolls_amount                     float64\n",
       "improvement_surcharge            float64\n",
       "total_amount                     float64\n",
       "trip_duration            timedelta64[ns]\n",
       "trip_duration_s                   object\n",
       "dtype: object"
      ]
     },
     "execution_count": 90,
     "metadata": {},
     "output_type": "execute_result"
    }
   ],
   "source": [
    "sample_wtime.dtypes"
   ]
  },
  {
   "cell_type": "code",
   "execution_count": 17,
   "metadata": {
    "ExecuteTime": {
     "end_time": "2020-06-30T07:00:44.847749Z",
     "start_time": "2020-06-30T07:00:41.939379Z"
    }
   },
   "outputs": [
    {
     "name": "stdout",
     "output_type": "stream",
     "text": [
      "Wall time: 2.87 s\n"
     ]
    },
    {
     "data": {
      "text/html": [
       "<div>\n",
       "<style scoped>\n",
       "    .dataframe tbody tr th:only-of-type {\n",
       "        vertical-align: middle;\n",
       "    }\n",
       "\n",
       "    .dataframe tbody tr th {\n",
       "        vertical-align: top;\n",
       "    }\n",
       "\n",
       "    .dataframe thead th {\n",
       "        text-align: right;\n",
       "    }\n",
       "</style>\n",
       "<table border=\"1\" class=\"dataframe\">\n",
       "  <thead>\n",
       "    <tr style=\"text-align: right;\">\n",
       "      <th></th>\n",
       "      <th>VendorID</th>\n",
       "      <th>tpep_pickup_datetime</th>\n",
       "      <th>tpep_dropoff_datetime</th>\n",
       "      <th>passenger_count</th>\n",
       "      <th>trip_distance</th>\n",
       "      <th>pickup_longitude</th>\n",
       "      <th>pickup_latitude</th>\n",
       "      <th>RatecodeID</th>\n",
       "      <th>store_and_fwd_flag</th>\n",
       "      <th>dropoff_longitude</th>\n",
       "      <th>...</th>\n",
       "      <th>payment_type</th>\n",
       "      <th>fare_amount</th>\n",
       "      <th>extra</th>\n",
       "      <th>mta_tax</th>\n",
       "      <th>tip_amount</th>\n",
       "      <th>tolls_amount</th>\n",
       "      <th>improvement_surcharge</th>\n",
       "      <th>total_amount</th>\n",
       "      <th>trip_duration</th>\n",
       "      <th>trip_minutes</th>\n",
       "    </tr>\n",
       "  </thead>\n",
       "  <tbody>\n",
       "    <tr>\n",
       "      <th>0</th>\n",
       "      <td>2</td>\n",
       "      <td>2016-01-22 15:22:58</td>\n",
       "      <td>2016-01-22 15:32:13</td>\n",
       "      <td>1</td>\n",
       "      <td>1.45</td>\n",
       "      <td>-73.954300</td>\n",
       "      <td>40.764046</td>\n",
       "      <td>1</td>\n",
       "      <td>N</td>\n",
       "      <td>-73.967842</td>\n",
       "      <td>...</td>\n",
       "      <td>1</td>\n",
       "      <td>8.0</td>\n",
       "      <td>0.0</td>\n",
       "      <td>0.5</td>\n",
       "      <td>2.64</td>\n",
       "      <td>0.0</td>\n",
       "      <td>0.3</td>\n",
       "      <td>11.44</td>\n",
       "      <td>00:09:15</td>\n",
       "      <td>9.250000</td>\n",
       "    </tr>\n",
       "    <tr>\n",
       "      <th>1</th>\n",
       "      <td>1</td>\n",
       "      <td>2016-01-05 19:43:57</td>\n",
       "      <td>2016-01-05 19:48:48</td>\n",
       "      <td>2</td>\n",
       "      <td>0.70</td>\n",
       "      <td>-73.962410</td>\n",
       "      <td>40.755157</td>\n",
       "      <td>1</td>\n",
       "      <td>N</td>\n",
       "      <td>-73.958237</td>\n",
       "      <td>...</td>\n",
       "      <td>2</td>\n",
       "      <td>5.0</td>\n",
       "      <td>0.5</td>\n",
       "      <td>0.5</td>\n",
       "      <td>0.00</td>\n",
       "      <td>0.0</td>\n",
       "      <td>0.3</td>\n",
       "      <td>6.30</td>\n",
       "      <td>00:04:51</td>\n",
       "      <td>4.850000</td>\n",
       "    </tr>\n",
       "    <tr>\n",
       "      <th>2</th>\n",
       "      <td>1</td>\n",
       "      <td>2016-01-12 15:09:39</td>\n",
       "      <td>2016-01-12 15:31:50</td>\n",
       "      <td>1</td>\n",
       "      <td>5.70</td>\n",
       "      <td>-74.010239</td>\n",
       "      <td>40.720898</td>\n",
       "      <td>1</td>\n",
       "      <td>N</td>\n",
       "      <td>-73.977043</td>\n",
       "      <td>...</td>\n",
       "      <td>1</td>\n",
       "      <td>21.0</td>\n",
       "      <td>0.0</td>\n",
       "      <td>0.5</td>\n",
       "      <td>4.35</td>\n",
       "      <td>0.0</td>\n",
       "      <td>0.3</td>\n",
       "      <td>26.15</td>\n",
       "      <td>00:22:11</td>\n",
       "      <td>22.183333</td>\n",
       "    </tr>\n",
       "    <tr>\n",
       "      <th>3</th>\n",
       "      <td>1</td>\n",
       "      <td>2016-01-13 14:48:16</td>\n",
       "      <td>2016-01-13 14:57:32</td>\n",
       "      <td>1</td>\n",
       "      <td>1.10</td>\n",
       "      <td>-73.974113</td>\n",
       "      <td>40.762257</td>\n",
       "      <td>1</td>\n",
       "      <td>N</td>\n",
       "      <td>-73.984535</td>\n",
       "      <td>...</td>\n",
       "      <td>2</td>\n",
       "      <td>7.5</td>\n",
       "      <td>0.0</td>\n",
       "      <td>0.5</td>\n",
       "      <td>0.00</td>\n",
       "      <td>0.0</td>\n",
       "      <td>0.3</td>\n",
       "      <td>8.30</td>\n",
       "      <td>00:09:16</td>\n",
       "      <td>9.266667</td>\n",
       "    </tr>\n",
       "    <tr>\n",
       "      <th>4</th>\n",
       "      <td>1</td>\n",
       "      <td>2016-01-20 07:26:13</td>\n",
       "      <td>2016-01-20 07:48:04</td>\n",
       "      <td>1</td>\n",
       "      <td>3.80</td>\n",
       "      <td>-73.996391</td>\n",
       "      <td>40.685993</td>\n",
       "      <td>1</td>\n",
       "      <td>N</td>\n",
       "      <td>-74.009636</td>\n",
       "      <td>...</td>\n",
       "      <td>1</td>\n",
       "      <td>17.0</td>\n",
       "      <td>0.0</td>\n",
       "      <td>0.5</td>\n",
       "      <td>3.56</td>\n",
       "      <td>0.0</td>\n",
       "      <td>0.3</td>\n",
       "      <td>21.36</td>\n",
       "      <td>00:21:51</td>\n",
       "      <td>21.850000</td>\n",
       "    </tr>\n",
       "  </tbody>\n",
       "</table>\n",
       "<p>5 rows × 21 columns</p>\n",
       "</div>"
      ],
      "text/plain": [
       "   VendorID tpep_pickup_datetime tpep_dropoff_datetime  passenger_count  \\\n",
       "0         2  2016-01-22 15:22:58   2016-01-22 15:32:13                1   \n",
       "1         1  2016-01-05 19:43:57   2016-01-05 19:48:48                2   \n",
       "2         1  2016-01-12 15:09:39   2016-01-12 15:31:50                1   \n",
       "3         1  2016-01-13 14:48:16   2016-01-13 14:57:32                1   \n",
       "4         1  2016-01-20 07:26:13   2016-01-20 07:48:04                1   \n",
       "\n",
       "   trip_distance  pickup_longitude  pickup_latitude  RatecodeID  \\\n",
       "0           1.45        -73.954300        40.764046           1   \n",
       "1           0.70        -73.962410        40.755157           1   \n",
       "2           5.70        -74.010239        40.720898           1   \n",
       "3           1.10        -73.974113        40.762257           1   \n",
       "4           3.80        -73.996391        40.685993           1   \n",
       "\n",
       "  store_and_fwd_flag  dropoff_longitude  ...  payment_type  fare_amount  \\\n",
       "0                  N         -73.967842  ...             1          8.0   \n",
       "1                  N         -73.958237  ...             2          5.0   \n",
       "2                  N         -73.977043  ...             1         21.0   \n",
       "3                  N         -73.984535  ...             2          7.5   \n",
       "4                  N         -74.009636  ...             1         17.0   \n",
       "\n",
       "   extra  mta_tax  tip_amount  tolls_amount  improvement_surcharge  \\\n",
       "0    0.0      0.5        2.64           0.0                    0.3   \n",
       "1    0.5      0.5        0.00           0.0                    0.3   \n",
       "2    0.0      0.5        4.35           0.0                    0.3   \n",
       "3    0.0      0.5        0.00           0.0                    0.3   \n",
       "4    0.0      0.5        3.56           0.0                    0.3   \n",
       "\n",
       "   total_amount  trip_duration trip_minutes  \n",
       "0         11.44       00:09:15     9.250000  \n",
       "1          6.30       00:04:51     4.850000  \n",
       "2         26.15       00:22:11    22.183333  \n",
       "3          8.30       00:09:16     9.266667  \n",
       "4         21.36       00:21:51    21.850000  \n",
       "\n",
       "[5 rows x 21 columns]"
      ]
     },
     "execution_count": 17,
     "metadata": {},
     "output_type": "execute_result"
    }
   ],
   "source": [
    "%%time\n",
    "df['trip_minutes'] = df.trip_duration.dt.total_seconds()/60\n",
    "df.head()"
   ]
  },
  {
   "cell_type": "code",
   "execution_count": 18,
   "metadata": {
    "ExecuteTime": {
     "end_time": "2020-06-30T07:00:51.238035Z",
     "start_time": "2020-06-30T07:00:48.356044Z"
    }
   },
   "outputs": [
    {
     "name": "stdout",
     "output_type": "stream",
     "text": [
      "Wall time: 2.84 s\n"
     ]
    },
    {
     "data": {
      "text/html": [
       "<div>\n",
       "<style scoped>\n",
       "    .dataframe tbody tr th:only-of-type {\n",
       "        vertical-align: middle;\n",
       "    }\n",
       "\n",
       "    .dataframe tbody tr th {\n",
       "        vertical-align: top;\n",
       "    }\n",
       "\n",
       "    .dataframe thead th {\n",
       "        text-align: right;\n",
       "    }\n",
       "</style>\n",
       "<table border=\"1\" class=\"dataframe\">\n",
       "  <thead>\n",
       "    <tr style=\"text-align: right;\">\n",
       "      <th></th>\n",
       "      <th>VendorID</th>\n",
       "      <th>tpep_pickup_datetime</th>\n",
       "      <th>tpep_dropoff_datetime</th>\n",
       "      <th>passenger_count</th>\n",
       "      <th>trip_distance</th>\n",
       "      <th>pickup_longitude</th>\n",
       "      <th>pickup_latitude</th>\n",
       "      <th>RatecodeID</th>\n",
       "      <th>store_and_fwd_flag</th>\n",
       "      <th>dropoff_longitude</th>\n",
       "      <th>...</th>\n",
       "      <th>fare_amount</th>\n",
       "      <th>extra</th>\n",
       "      <th>mta_tax</th>\n",
       "      <th>tip_amount</th>\n",
       "      <th>tolls_amount</th>\n",
       "      <th>improvement_surcharge</th>\n",
       "      <th>total_amount</th>\n",
       "      <th>trip_duration</th>\n",
       "      <th>trip_minutes</th>\n",
       "      <th>avg_speed</th>\n",
       "    </tr>\n",
       "  </thead>\n",
       "  <tbody>\n",
       "    <tr>\n",
       "      <th>0</th>\n",
       "      <td>2</td>\n",
       "      <td>2016-01-22 15:22:58</td>\n",
       "      <td>2016-01-22 15:32:13</td>\n",
       "      <td>1</td>\n",
       "      <td>1.45</td>\n",
       "      <td>-73.954300</td>\n",
       "      <td>40.764046</td>\n",
       "      <td>1</td>\n",
       "      <td>N</td>\n",
       "      <td>-73.967842</td>\n",
       "      <td>...</td>\n",
       "      <td>8.0</td>\n",
       "      <td>0.0</td>\n",
       "      <td>0.5</td>\n",
       "      <td>2.64</td>\n",
       "      <td>0.0</td>\n",
       "      <td>0.3</td>\n",
       "      <td>11.44</td>\n",
       "      <td>00:09:15</td>\n",
       "      <td>9.250000</td>\n",
       "      <td>9.405405</td>\n",
       "    </tr>\n",
       "    <tr>\n",
       "      <th>1</th>\n",
       "      <td>1</td>\n",
       "      <td>2016-01-05 19:43:57</td>\n",
       "      <td>2016-01-05 19:48:48</td>\n",
       "      <td>2</td>\n",
       "      <td>0.70</td>\n",
       "      <td>-73.962410</td>\n",
       "      <td>40.755157</td>\n",
       "      <td>1</td>\n",
       "      <td>N</td>\n",
       "      <td>-73.958237</td>\n",
       "      <td>...</td>\n",
       "      <td>5.0</td>\n",
       "      <td>0.5</td>\n",
       "      <td>0.5</td>\n",
       "      <td>0.00</td>\n",
       "      <td>0.0</td>\n",
       "      <td>0.3</td>\n",
       "      <td>6.30</td>\n",
       "      <td>00:04:51</td>\n",
       "      <td>4.850000</td>\n",
       "      <td>8.659794</td>\n",
       "    </tr>\n",
       "    <tr>\n",
       "      <th>2</th>\n",
       "      <td>1</td>\n",
       "      <td>2016-01-12 15:09:39</td>\n",
       "      <td>2016-01-12 15:31:50</td>\n",
       "      <td>1</td>\n",
       "      <td>5.70</td>\n",
       "      <td>-74.010239</td>\n",
       "      <td>40.720898</td>\n",
       "      <td>1</td>\n",
       "      <td>N</td>\n",
       "      <td>-73.977043</td>\n",
       "      <td>...</td>\n",
       "      <td>21.0</td>\n",
       "      <td>0.0</td>\n",
       "      <td>0.5</td>\n",
       "      <td>4.35</td>\n",
       "      <td>0.0</td>\n",
       "      <td>0.3</td>\n",
       "      <td>26.15</td>\n",
       "      <td>00:22:11</td>\n",
       "      <td>22.183333</td>\n",
       "      <td>15.416980</td>\n",
       "    </tr>\n",
       "    <tr>\n",
       "      <th>3</th>\n",
       "      <td>1</td>\n",
       "      <td>2016-01-13 14:48:16</td>\n",
       "      <td>2016-01-13 14:57:32</td>\n",
       "      <td>1</td>\n",
       "      <td>1.10</td>\n",
       "      <td>-73.974113</td>\n",
       "      <td>40.762257</td>\n",
       "      <td>1</td>\n",
       "      <td>N</td>\n",
       "      <td>-73.984535</td>\n",
       "      <td>...</td>\n",
       "      <td>7.5</td>\n",
       "      <td>0.0</td>\n",
       "      <td>0.5</td>\n",
       "      <td>0.00</td>\n",
       "      <td>0.0</td>\n",
       "      <td>0.3</td>\n",
       "      <td>8.30</td>\n",
       "      <td>00:09:16</td>\n",
       "      <td>9.266667</td>\n",
       "      <td>7.122302</td>\n",
       "    </tr>\n",
       "    <tr>\n",
       "      <th>4</th>\n",
       "      <td>1</td>\n",
       "      <td>2016-01-20 07:26:13</td>\n",
       "      <td>2016-01-20 07:48:04</td>\n",
       "      <td>1</td>\n",
       "      <td>3.80</td>\n",
       "      <td>-73.996391</td>\n",
       "      <td>40.685993</td>\n",
       "      <td>1</td>\n",
       "      <td>N</td>\n",
       "      <td>-74.009636</td>\n",
       "      <td>...</td>\n",
       "      <td>17.0</td>\n",
       "      <td>0.0</td>\n",
       "      <td>0.5</td>\n",
       "      <td>3.56</td>\n",
       "      <td>0.0</td>\n",
       "      <td>0.3</td>\n",
       "      <td>21.36</td>\n",
       "      <td>00:21:51</td>\n",
       "      <td>21.850000</td>\n",
       "      <td>10.434783</td>\n",
       "    </tr>\n",
       "  </tbody>\n",
       "</table>\n",
       "<p>5 rows × 22 columns</p>\n",
       "</div>"
      ],
      "text/plain": [
       "   VendorID tpep_pickup_datetime tpep_dropoff_datetime  passenger_count  \\\n",
       "0         2  2016-01-22 15:22:58   2016-01-22 15:32:13                1   \n",
       "1         1  2016-01-05 19:43:57   2016-01-05 19:48:48                2   \n",
       "2         1  2016-01-12 15:09:39   2016-01-12 15:31:50                1   \n",
       "3         1  2016-01-13 14:48:16   2016-01-13 14:57:32                1   \n",
       "4         1  2016-01-20 07:26:13   2016-01-20 07:48:04                1   \n",
       "\n",
       "   trip_distance  pickup_longitude  pickup_latitude  RatecodeID  \\\n",
       "0           1.45        -73.954300        40.764046           1   \n",
       "1           0.70        -73.962410        40.755157           1   \n",
       "2           5.70        -74.010239        40.720898           1   \n",
       "3           1.10        -73.974113        40.762257           1   \n",
       "4           3.80        -73.996391        40.685993           1   \n",
       "\n",
       "  store_and_fwd_flag  dropoff_longitude  ...  fare_amount  extra  mta_tax  \\\n",
       "0                  N         -73.967842  ...          8.0    0.0      0.5   \n",
       "1                  N         -73.958237  ...          5.0    0.5      0.5   \n",
       "2                  N         -73.977043  ...         21.0    0.0      0.5   \n",
       "3                  N         -73.984535  ...          7.5    0.0      0.5   \n",
       "4                  N         -74.009636  ...         17.0    0.0      0.5   \n",
       "\n",
       "   tip_amount  tolls_amount  improvement_surcharge  total_amount  \\\n",
       "0        2.64           0.0                    0.3         11.44   \n",
       "1        0.00           0.0                    0.3          6.30   \n",
       "2        4.35           0.0                    0.3         26.15   \n",
       "3        0.00           0.0                    0.3          8.30   \n",
       "4        3.56           0.0                    0.3         21.36   \n",
       "\n",
       "   trip_duration  trip_minutes  avg_speed  \n",
       "0       00:09:15      9.250000   9.405405  \n",
       "1       00:04:51      4.850000   8.659794  \n",
       "2       00:22:11     22.183333  15.416980  \n",
       "3       00:09:16      9.266667   7.122302  \n",
       "4       00:21:51     21.850000  10.434783  \n",
       "\n",
       "[5 rows x 22 columns]"
      ]
     },
     "execution_count": 18,
     "metadata": {},
     "output_type": "execute_result"
    }
   ],
   "source": [
    "%%time\n",
    "df['avg_speed'] = (df['trip_distance']/df['trip_minutes']*60.0)\n",
    "df.head()"
   ]
  },
  {
   "cell_type": "markdown",
   "metadata": {},
   "source": [
    "##### Checking for outliers based on speed"
   ]
  },
  {
   "cell_type": "code",
   "execution_count": 171,
   "metadata": {},
   "outputs": [
    {
     "name": "stdout",
     "output_type": "stream",
     "text": [
      "Wall time: 48.5 s\n"
     ]
    },
    {
     "data": {
      "text/html": [
       "<div>\n",
       "<style scoped>\n",
       "    .dataframe tbody tr th:only-of-type {\n",
       "        vertical-align: middle;\n",
       "    }\n",
       "\n",
       "    .dataframe tbody tr th {\n",
       "        vertical-align: top;\n",
       "    }\n",
       "\n",
       "    .dataframe thead th {\n",
       "        text-align: right;\n",
       "    }\n",
       "</style>\n",
       "<table border=\"1\" class=\"dataframe\">\n",
       "  <thead>\n",
       "    <tr style=\"text-align: right;\">\n",
       "      <th></th>\n",
       "      <th>VendorID</th>\n",
       "      <th>passenger_count</th>\n",
       "      <th>trip_distance</th>\n",
       "      <th>pickup_longitude</th>\n",
       "      <th>pickup_latitude</th>\n",
       "      <th>RatecodeID</th>\n",
       "      <th>dropoff_longitude</th>\n",
       "      <th>dropoff_latitude</th>\n",
       "      <th>payment_type</th>\n",
       "      <th>fare_amount</th>\n",
       "      <th>extra</th>\n",
       "      <th>mta_tax</th>\n",
       "      <th>tip_amount</th>\n",
       "      <th>tolls_amount</th>\n",
       "      <th>improvement_surcharge</th>\n",
       "      <th>total_amount</th>\n",
       "      <th>trip_duration</th>\n",
       "      <th>trip_minutes</th>\n",
       "      <th>avg_speed</th>\n",
       "    </tr>\n",
       "  </thead>\n",
       "  <tbody>\n",
       "    <tr>\n",
       "      <th>count</th>\n",
       "      <td>3.572576e+06</td>\n",
       "      <td>3.572576e+06</td>\n",
       "      <td>3.572576e+06</td>\n",
       "      <td>3.572576e+06</td>\n",
       "      <td>3.572576e+06</td>\n",
       "      <td>3.572576e+06</td>\n",
       "      <td>3.572576e+06</td>\n",
       "      <td>3.572576e+06</td>\n",
       "      <td>3.572576e+06</td>\n",
       "      <td>3.572576e+06</td>\n",
       "      <td>3.572576e+06</td>\n",
       "      <td>3.572576e+06</td>\n",
       "      <td>3.572576e+06</td>\n",
       "      <td>3.572576e+06</td>\n",
       "      <td>3.572576e+06</td>\n",
       "      <td>3.572576e+06</td>\n",
       "      <td>3572576</td>\n",
       "      <td>3.572576e+06</td>\n",
       "      <td>3.572576e+06</td>\n",
       "    </tr>\n",
       "    <tr>\n",
       "      <th>mean</th>\n",
       "      <td>1.535387e+00</td>\n",
       "      <td>1.673054e+00</td>\n",
       "      <td>2.887962e+00</td>\n",
       "      <td>-7.289109e+01</td>\n",
       "      <td>4.015486e+01</td>\n",
       "      <td>1.029234e+00</td>\n",
       "      <td>-7.301143e+01</td>\n",
       "      <td>4.022193e+01</td>\n",
       "      <td>1.344402e+00</td>\n",
       "      <td>1.233937e+01</td>\n",
       "      <td>3.139089e-01</td>\n",
       "      <td>4.987581e-01</td>\n",
       "      <td>1.731337e+00</td>\n",
       "      <td>2.819465e-01</td>\n",
       "      <td>2.999951e-01</td>\n",
       "      <td>1.546531e+01</td>\n",
       "      <td>0 days 00:15:14.897935</td>\n",
       "      <td>1.524830e+01</td>\n",
       "      <td>1.388627e+01</td>\n",
       "    </tr>\n",
       "    <tr>\n",
       "      <th>std</th>\n",
       "      <td>4.987462e-01</td>\n",
       "      <td>1.327061e+00</td>\n",
       "      <td>3.493198e+00</td>\n",
       "      <td>8.881458e+00</td>\n",
       "      <td>4.892670e+00</td>\n",
       "      <td>3.379427e-01</td>\n",
       "      <td>8.381289e+00</td>\n",
       "      <td>4.617305e+00</td>\n",
       "      <td>4.866663e-01</td>\n",
       "      <td>9.973175e+00</td>\n",
       "      <td>3.656093e-01</td>\n",
       "      <td>2.652590e-02</td>\n",
       "      <td>2.307718e+00</td>\n",
       "      <td>1.321832e+00</td>\n",
       "      <td>1.208763e-03</td>\n",
       "      <td>1.233219e+01</td>\n",
       "      <td>0 days 01:23:37.219228</td>\n",
       "      <td>8.362032e+01</td>\n",
       "      <td>1.571472e+02</td>\n",
       "    </tr>\n",
       "    <tr>\n",
       "      <th>min</th>\n",
       "      <td>1.000000e+00</td>\n",
       "      <td>0.000000e+00</td>\n",
       "      <td>1.000000e-02</td>\n",
       "      <td>-1.008163e+02</td>\n",
       "      <td>0.000000e+00</td>\n",
       "      <td>1.000000e+00</td>\n",
       "      <td>-1.008229e+02</td>\n",
       "      <td>0.000000e+00</td>\n",
       "      <td>1.000000e+00</td>\n",
       "      <td>0.000000e+00</td>\n",
       "      <td>-1.665000e+01</td>\n",
       "      <td>0.000000e+00</td>\n",
       "      <td>-2.380000e+01</td>\n",
       "      <td>0.000000e+00</td>\n",
       "      <td>0.000000e+00</td>\n",
       "      <td>3.000000e-01</td>\n",
       "      <td>0 days 00:00:01</td>\n",
       "      <td>1.666667e-02</td>\n",
       "      <td>4.334477e-04</td>\n",
       "    </tr>\n",
       "    <tr>\n",
       "      <th>25%</th>\n",
       "      <td>1.000000e+00</td>\n",
       "      <td>1.000000e+00</td>\n",
       "      <td>1.000000e+00</td>\n",
       "      <td>-7.399126e+01</td>\n",
       "      <td>4.073776e+01</td>\n",
       "      <td>1.000000e+00</td>\n",
       "      <td>-7.399088e+01</td>\n",
       "      <td>4.073680e+01</td>\n",
       "      <td>1.000000e+00</td>\n",
       "      <td>6.500000e+00</td>\n",
       "      <td>0.000000e+00</td>\n",
       "      <td>5.000000e-01</td>\n",
       "      <td>0.000000e+00</td>\n",
       "      <td>0.000000e+00</td>\n",
       "      <td>3.000000e-01</td>\n",
       "      <td>8.500000e+00</td>\n",
       "      <td>0 days 00:06:32</td>\n",
       "      <td>6.533333e+00</td>\n",
       "      <td>8.242991e+00</td>\n",
       "    </tr>\n",
       "    <tr>\n",
       "      <th>50%</th>\n",
       "      <td>2.000000e+00</td>\n",
       "      <td>1.000000e+00</td>\n",
       "      <td>1.700000e+00</td>\n",
       "      <td>-7.398088e+01</td>\n",
       "      <td>4.075504e+01</td>\n",
       "      <td>1.000000e+00</td>\n",
       "      <td>-7.397908e+01</td>\n",
       "      <td>4.075520e+01</td>\n",
       "      <td>1.000000e+00</td>\n",
       "      <td>9.000000e+00</td>\n",
       "      <td>5.000000e-01</td>\n",
       "      <td>5.000000e-01</td>\n",
       "      <td>1.350000e+00</td>\n",
       "      <td>0.000000e+00</td>\n",
       "      <td>3.000000e-01</td>\n",
       "      <td>1.176000e+01</td>\n",
       "      <td>0 days 00:10:47</td>\n",
       "      <td>1.078333e+01</td>\n",
       "      <td>1.100917e+01</td>\n",
       "    </tr>\n",
       "    <tr>\n",
       "      <th>75%</th>\n",
       "      <td>2.000000e+00</td>\n",
       "      <td>2.000000e+00</td>\n",
       "      <td>3.200000e+00</td>\n",
       "      <td>-7.396524e+01</td>\n",
       "      <td>4.076899e+01</td>\n",
       "      <td>1.000000e+00</td>\n",
       "      <td>-7.396111e+01</td>\n",
       "      <td>4.077033e+01</td>\n",
       "      <td>2.000000e+00</td>\n",
       "      <td>1.400000e+01</td>\n",
       "      <td>1.000000e+00</td>\n",
       "      <td>5.000000e-01</td>\n",
       "      <td>2.350000e+00</td>\n",
       "      <td>0.000000e+00</td>\n",
       "      <td>3.000000e-01</td>\n",
       "      <td>1.725000e+01</td>\n",
       "      <td>0 days 00:17:20</td>\n",
       "      <td>1.733333e+01</td>\n",
       "      <td>1.517241e+01</td>\n",
       "    </tr>\n",
       "    <tr>\n",
       "      <th>90%</th>\n",
       "      <td>2.000000e+00</td>\n",
       "      <td>4.000000e+00</td>\n",
       "      <td>6.810000e+00</td>\n",
       "      <td>-7.394869e+01</td>\n",
       "      <td>4.078072e+01</td>\n",
       "      <td>1.000000e+00</td>\n",
       "      <td>-7.394267e+01</td>\n",
       "      <td>4.078475e+01</td>\n",
       "      <td>2.000000e+00</td>\n",
       "      <td>2.400000e+01</td>\n",
       "      <td>1.000000e+00</td>\n",
       "      <td>5.000000e-01</td>\n",
       "      <td>4.000000e+00</td>\n",
       "      <td>0.000000e+00</td>\n",
       "      <td>3.000000e-01</td>\n",
       "      <td>2.915000e+01</td>\n",
       "      <td>0 days 00:25:59</td>\n",
       "      <td>2.598333e+01</td>\n",
       "      <td>2.096292e+01</td>\n",
       "    </tr>\n",
       "    <tr>\n",
       "      <th>95%</th>\n",
       "      <td>2.000000e+00</td>\n",
       "      <td>5.000000e+00</td>\n",
       "      <td>1.074000e+01</td>\n",
       "      <td>-7.386391e+01</td>\n",
       "      <td>4.078823e+01</td>\n",
       "      <td>1.000000e+00</td>\n",
       "      <td>-7.389064e+01</td>\n",
       "      <td>4.079685e+01</td>\n",
       "      <td>2.000000e+00</td>\n",
       "      <td>3.450000e+01</td>\n",
       "      <td>1.000000e+00</td>\n",
       "      <td>5.000000e-01</td>\n",
       "      <td>6.150000e+00</td>\n",
       "      <td>5.540000e+00</td>\n",
       "      <td>3.000000e-01</td>\n",
       "      <td>4.479000e+01</td>\n",
       "      <td>0 days 00:33:39</td>\n",
       "      <td>3.365000e+01</td>\n",
       "      <td>2.597797e+01</td>\n",
       "    </tr>\n",
       "    <tr>\n",
       "      <th>99%</th>\n",
       "      <td>2.000000e+00</td>\n",
       "      <td>6.000000e+00</td>\n",
       "      <td>1.868000e+01</td>\n",
       "      <td>0.000000e+00</td>\n",
       "      <td>4.080537e+01</td>\n",
       "      <td>2.000000e+00</td>\n",
       "      <td>0.000000e+00</td>\n",
       "      <td>4.083674e+01</td>\n",
       "      <td>2.000000e+00</td>\n",
       "      <td>5.200000e+01</td>\n",
       "      <td>1.000000e+00</td>\n",
       "      <td>5.000000e-01</td>\n",
       "      <td>1.167000e+01</td>\n",
       "      <td>5.540000e+00</td>\n",
       "      <td>3.000000e-01</td>\n",
       "      <td>6.999000e+01</td>\n",
       "      <td>0 days 00:57:15.010000</td>\n",
       "      <td>5.725017e+01</td>\n",
       "      <td>3.678019e+01</td>\n",
       "    </tr>\n",
       "    <tr>\n",
       "      <th>99.9%</th>\n",
       "      <td>2.000000e+00</td>\n",
       "      <td>6.000000e+00</td>\n",
       "      <td>2.210000e+01</td>\n",
       "      <td>0.000000e+00</td>\n",
       "      <td>4.084219e+01</td>\n",
       "      <td>5.000000e+00</td>\n",
       "      <td>0.000000e+00</td>\n",
       "      <td>4.088603e+01</td>\n",
       "      <td>4.000000e+00</td>\n",
       "      <td>6.950000e+01</td>\n",
       "      <td>1.000000e+00</td>\n",
       "      <td>5.000000e-01</td>\n",
       "      <td>1.750000e+01</td>\n",
       "      <td>1.491185e+01</td>\n",
       "      <td>3.000000e-01</td>\n",
       "      <td>9.395237e+01</td>\n",
       "      <td>0 days 23:47:30.716000</td>\n",
       "      <td>1.427512e+03</td>\n",
       "      <td>5.913604e+01</td>\n",
       "    </tr>\n",
       "    <tr>\n",
       "      <th>max</th>\n",
       "      <td>2.000000e+00</td>\n",
       "      <td>9.000000e+00</td>\n",
       "      <td>2.500000e+01</td>\n",
       "      <td>0.000000e+00</td>\n",
       "      <td>4.825759e+01</td>\n",
       "      <td>9.900000e+01</td>\n",
       "      <td>0.000000e+00</td>\n",
       "      <td>4.660777e+01</td>\n",
       "      <td>4.000000e+00</td>\n",
       "      <td>1.184500e+02</td>\n",
       "      <td>4.710000e+00</td>\n",
       "      <td>1.745000e+01</td>\n",
       "      <td>1.040000e+02</td>\n",
       "      <td>9.554000e+01</td>\n",
       "      <td>3.000000e-01</td>\n",
       "      <td>1.198100e+02</td>\n",
       "      <td>83 days 06:32:42</td>\n",
       "      <td>1.199127e+05</td>\n",
       "      <td>8.532000e+04</td>\n",
       "    </tr>\n",
       "  </tbody>\n",
       "</table>\n",
       "</div>"
      ],
      "text/plain": [
       "           VendorID  passenger_count  trip_distance  pickup_longitude  \\\n",
       "count  3.572576e+06     3.572576e+06   3.572576e+06      3.572576e+06   \n",
       "mean   1.535387e+00     1.673054e+00   2.887962e+00     -7.289109e+01   \n",
       "std    4.987462e-01     1.327061e+00   3.493198e+00      8.881458e+00   \n",
       "min    1.000000e+00     0.000000e+00   1.000000e-02     -1.008163e+02   \n",
       "25%    1.000000e+00     1.000000e+00   1.000000e+00     -7.399126e+01   \n",
       "50%    2.000000e+00     1.000000e+00   1.700000e+00     -7.398088e+01   \n",
       "75%    2.000000e+00     2.000000e+00   3.200000e+00     -7.396524e+01   \n",
       "90%    2.000000e+00     4.000000e+00   6.810000e+00     -7.394869e+01   \n",
       "95%    2.000000e+00     5.000000e+00   1.074000e+01     -7.386391e+01   \n",
       "99%    2.000000e+00     6.000000e+00   1.868000e+01      0.000000e+00   \n",
       "99.9%  2.000000e+00     6.000000e+00   2.210000e+01      0.000000e+00   \n",
       "max    2.000000e+00     9.000000e+00   2.500000e+01      0.000000e+00   \n",
       "\n",
       "       pickup_latitude    RatecodeID  dropoff_longitude  dropoff_latitude  \\\n",
       "count     3.572576e+06  3.572576e+06       3.572576e+06      3.572576e+06   \n",
       "mean      4.015486e+01  1.029234e+00      -7.301143e+01      4.022193e+01   \n",
       "std       4.892670e+00  3.379427e-01       8.381289e+00      4.617305e+00   \n",
       "min       0.000000e+00  1.000000e+00      -1.008229e+02      0.000000e+00   \n",
       "25%       4.073776e+01  1.000000e+00      -7.399088e+01      4.073680e+01   \n",
       "50%       4.075504e+01  1.000000e+00      -7.397908e+01      4.075520e+01   \n",
       "75%       4.076899e+01  1.000000e+00      -7.396111e+01      4.077033e+01   \n",
       "90%       4.078072e+01  1.000000e+00      -7.394267e+01      4.078475e+01   \n",
       "95%       4.078823e+01  1.000000e+00      -7.389064e+01      4.079685e+01   \n",
       "99%       4.080537e+01  2.000000e+00       0.000000e+00      4.083674e+01   \n",
       "99.9%     4.084219e+01  5.000000e+00       0.000000e+00      4.088603e+01   \n",
       "max       4.825759e+01  9.900000e+01       0.000000e+00      4.660777e+01   \n",
       "\n",
       "       payment_type   fare_amount         extra       mta_tax    tip_amount  \\\n",
       "count  3.572576e+06  3.572576e+06  3.572576e+06  3.572576e+06  3.572576e+06   \n",
       "mean   1.344402e+00  1.233937e+01  3.139089e-01  4.987581e-01  1.731337e+00   \n",
       "std    4.866663e-01  9.973175e+00  3.656093e-01  2.652590e-02  2.307718e+00   \n",
       "min    1.000000e+00  0.000000e+00 -1.665000e+01  0.000000e+00 -2.380000e+01   \n",
       "25%    1.000000e+00  6.500000e+00  0.000000e+00  5.000000e-01  0.000000e+00   \n",
       "50%    1.000000e+00  9.000000e+00  5.000000e-01  5.000000e-01  1.350000e+00   \n",
       "75%    2.000000e+00  1.400000e+01  1.000000e+00  5.000000e-01  2.350000e+00   \n",
       "90%    2.000000e+00  2.400000e+01  1.000000e+00  5.000000e-01  4.000000e+00   \n",
       "95%    2.000000e+00  3.450000e+01  1.000000e+00  5.000000e-01  6.150000e+00   \n",
       "99%    2.000000e+00  5.200000e+01  1.000000e+00  5.000000e-01  1.167000e+01   \n",
       "99.9%  4.000000e+00  6.950000e+01  1.000000e+00  5.000000e-01  1.750000e+01   \n",
       "max    4.000000e+00  1.184500e+02  4.710000e+00  1.745000e+01  1.040000e+02   \n",
       "\n",
       "       tolls_amount  improvement_surcharge  total_amount  \\\n",
       "count  3.572576e+06           3.572576e+06  3.572576e+06   \n",
       "mean   2.819465e-01           2.999951e-01  1.546531e+01   \n",
       "std    1.321832e+00           1.208763e-03  1.233219e+01   \n",
       "min    0.000000e+00           0.000000e+00  3.000000e-01   \n",
       "25%    0.000000e+00           3.000000e-01  8.500000e+00   \n",
       "50%    0.000000e+00           3.000000e-01  1.176000e+01   \n",
       "75%    0.000000e+00           3.000000e-01  1.725000e+01   \n",
       "90%    0.000000e+00           3.000000e-01  2.915000e+01   \n",
       "95%    5.540000e+00           3.000000e-01  4.479000e+01   \n",
       "99%    5.540000e+00           3.000000e-01  6.999000e+01   \n",
       "99.9%  1.491185e+01           3.000000e-01  9.395237e+01   \n",
       "max    9.554000e+01           3.000000e-01  1.198100e+02   \n",
       "\n",
       "                trip_duration  trip_minutes     avg_speed  \n",
       "count                 3572576  3.572576e+06  3.572576e+06  \n",
       "mean   0 days 00:15:14.897935  1.524830e+01  1.388627e+01  \n",
       "std    0 days 01:23:37.219228  8.362032e+01  1.571472e+02  \n",
       "min           0 days 00:00:01  1.666667e-02  4.334477e-04  \n",
       "25%           0 days 00:06:32  6.533333e+00  8.242991e+00  \n",
       "50%           0 days 00:10:47  1.078333e+01  1.100917e+01  \n",
       "75%           0 days 00:17:20  1.733333e+01  1.517241e+01  \n",
       "90%           0 days 00:25:59  2.598333e+01  2.096292e+01  \n",
       "95%           0 days 00:33:39  3.365000e+01  2.597797e+01  \n",
       "99%    0 days 00:57:15.010000  5.725017e+01  3.678019e+01  \n",
       "99.9%  0 days 23:47:30.716000  1.427512e+03  5.913604e+01  \n",
       "max          83 days 06:32:42  1.199127e+05  8.532000e+04  "
      ]
     },
     "execution_count": 171,
     "metadata": {},
     "output_type": "execute_result"
    }
   ],
   "source": [
    "%%time\n",
    "df.describe(percentiles=[.25,.50,.75,.90,.95,.99,.999]).compute()"
   ]
  },
  {
   "cell_type": "markdown",
   "metadata": {},
   "source": [
    "There's visibly some incorrect inputs, as we can observe one very long trip duration (that was probably also travelling way to fast). We will remove these values."
   ]
  },
  {
   "cell_type": "code",
   "execution_count": 23,
   "metadata": {
    "ExecuteTime": {
     "end_time": "2020-06-30T07:07:41.264297Z",
     "start_time": "2020-06-30T07:07:41.252336Z"
    }
   },
   "outputs": [
    {
     "name": "stdout",
     "output_type": "stream",
     "text": [
      "Wall time: 4.99 ms\n"
     ]
    }
   ],
   "source": [
    "%%time\n",
    "df = df[(df.avg_speed > 0) & (df.avg_speed < 60)]"
   ]
  },
  {
   "cell_type": "code",
   "execution_count": 177,
   "metadata": {},
   "outputs": [],
   "source": [
    "speed_sample = df.head(100)"
   ]
  },
  {
   "cell_type": "code",
   "execution_count": 24,
   "metadata": {
    "ExecuteTime": {
     "end_time": "2020-06-30T07:08:13.116491Z",
     "start_time": "2020-06-30T07:07:45.930021Z"
    }
   },
   "outputs": [
    {
     "data": {
      "text/html": [
       "\n",
       "\n",
       "\n",
       "\n",
       "\n",
       "\n",
       "  <div class=\"bk-root\" id=\"96bfad17-6d68-4a74-81ec-40c032f2b381\" data-root-id=\"1552\"></div>\n"
      ]
     },
     "metadata": {},
     "output_type": "display_data"
    },
    {
     "data": {
      "application/javascript": [
       "(function(root) {\n",
       "  function embed_document(root) {\n",
       "    \n",
       "  var docs_json = {\"e41468ed-f97d-42d0-b52b-c3a238cc0378\":{\"roots\":{\"references\":[{\"attributes\":{\"background_fill_color\":\"#fafafa\",\"below\":[{\"id\":\"1563\"}],\"center\":[{\"id\":\"1566\"},{\"id\":\"1570\"}],\"left\":[{\"id\":\"1567\"}],\"renderers\":[{\"id\":\"1588\"}],\"title\":{\"id\":\"1553\"},\"toolbar\":{\"id\":\"1578\"},\"x_range\":{\"id\":\"1555\"},\"x_scale\":{\"id\":\"1559\"},\"y_range\":{\"id\":\"1557\"},\"y_scale\":{\"id\":\"1561\"}},\"id\":\"1552\",\"subtype\":\"Figure\",\"type\":\"Plot\"},{\"attributes\":{},\"id\":\"1561\",\"type\":\"LinearScale\"},{\"attributes\":{\"source\":{\"id\":\"1585\"}},\"id\":\"1589\",\"type\":\"CDSView\"},{\"attributes\":{\"bottom_units\":\"screen\",\"fill_alpha\":0.5,\"fill_color\":\"lightgrey\",\"left_units\":\"screen\",\"level\":\"overlay\",\"line_alpha\":1.0,\"line_color\":\"black\",\"line_dash\":[4,4],\"line_width\":2,\"right_units\":\"screen\",\"top_units\":\"screen\"},\"id\":\"1577\",\"type\":\"BoxAnnotation\"},{\"attributes\":{},\"id\":\"1555\",\"type\":\"DataRange1d\"},{\"attributes\":{\"align\":\"center\",\"text\":\"Distribution of average speed\",\"text_color\":{\"value\":\"thistle\"},\"text_font_size\":{\"value\":\"20px\"}},\"id\":\"1553\",\"type\":\"Title\"},{\"attributes\":{},\"id\":\"1633\",\"type\":\"BasicTickFormatter\"},{\"attributes\":{\"axis_label\":\"Average speed (MPH)\",\"formatter\":{\"id\":\"1631\"},\"ticker\":{\"id\":\"1564\"}},\"id\":\"1563\",\"type\":\"LinearAxis\"},{\"attributes\":{},\"id\":\"1636\",\"type\":\"Selection\"},{\"attributes\":{},\"id\":\"1557\",\"type\":\"DataRange1d\"},{\"attributes\":{\"bottom\":{\"value\":0},\"fill_color\":{\"value\":\"thistle\"},\"left\":{\"field\":\"left\"},\"line_color\":{\"value\":\"white\"},\"right\":{\"field\":\"right\"},\"top\":{\"field\":\"top\"}},\"id\":\"1586\",\"type\":\"Quad\"},{\"attributes\":{\"axis_label\":\"Frequency\",\"formatter\":{\"id\":\"1633\"},\"ticker\":{\"id\":\"1568\"}},\"id\":\"1567\",\"type\":\"LinearAxis\"},{\"attributes\":{\"active_drag\":\"auto\",\"active_inspect\":\"auto\",\"active_multi\":null,\"active_scroll\":\"auto\",\"active_tap\":\"auto\",\"tools\":[{\"id\":\"1571\"},{\"id\":\"1572\"},{\"id\":\"1573\"},{\"id\":\"1574\"},{\"id\":\"1575\"},{\"id\":\"1576\"}]},\"id\":\"1578\",\"type\":\"Toolbar\"},{\"attributes\":{},\"id\":\"1637\",\"type\":\"UnionRenderers\"},{\"attributes\":{\"data\":{\"left\":{\"__ndarray__\":\"x94UwwtoPD+EY+Gc8DTzP91Kg1wNNANA+OOVaqLNDECJPlS8mzMTQBeLXUNmABhApNdmyjDNHEAZErio/cwgQGC4POxiMyNAp17BL8iZJUDuBEZzLQAoQDSryraSZipAe1FP+vfMLEDC99M9XTMvQARPrEDhzDBAKKJu4hMAMkBL9TCERjMzQG5I8yV5ZjRAkpu1x6uZNUC17ndp3sw2QNlBOgsRADhA/JT8rEMzOUAf6L5OdmY6QEM7gfComTtAZo5DktvMPECJ4QU0DgA+QK00yNVAMz9A6EPFuzkzQEB5baYM08xAQAuXh11sZkFAncBorgUAQkAu6kn/nplCQMATK1A4M0NAUj0ModHMQ0DjZu3xamZEQHWQzkIEAEVAB7qvk52ZRUCY45DkNjNGQCoNcjXQzEZAvDZThmlmR0BOYDTXAgBIQN+JFSicmUhAcbP2eDUzSUAD3dfJzsxJQJQGuRpoZkpAJjCaawEAS0C4WXu8mplLQEmDXA00M0xA26w9Xs3MTEBt1h6vZmZNQA==\",\"dtype\":\"float64\",\"order\":\"little\",\"shape\":[50]},\"right\":{\"__ndarray__\":\"hGPhnPA08z/dSoNcDTQDQPjjlWqizQxAiT5UvJszE0AXi11DZgAYQKTXZsowzRxAGRK4qP3MIEBguDzsYjMjQKdewS/ImSVA7gRGcy0AKEA0q8q2kmYqQHtRT/r3zCxAwvfTPV0zL0AET6xA4cwwQCiibuITADJAS/UwhEYzM0BuSPMleWY0QJKbtcermTVAte53ad7MNkDZQToLEQA4QPyU/KxDMzlAH+i+TnZmOkBDO4HwqJk7QGaOQ5LbzDxAieEFNA4APkCtNMjVQDM/QOhDxbs5M0BAeW2mDNPMQEALl4ddbGZBQJ3AaK4FAEJALupJ/56ZQkDAEytQODNDQFI9DKHRzENA42bt8WpmREB1kM5CBABFQAe6r5OdmUVAmOOQ5DYzRkAqDXI10MxGQLw2U4ZpZkdATmA01wIASEDfiRUonJlIQHGz9ng1M0lAA93Xyc7MSUCUBrkaaGZKQCYwmmsBAEtAuFl7vJqZS0BJg1wNNDNMQNusPV7NzExAbdYer2ZmTUD+//////9NQA==\",\"dtype\":\"float64\",\"order\":\"little\",\"shape\":[50]},\"top\":{\"__ndarray__\":\"OVT+g4euWz9JXnl4tPpgPwTghfWmHYI/9HCaBqefmD94sYQd2f6nP3XpMxMHMLI/22e/thSXtj+UyYA3G2y4P4RbhvzZMrc/89U+DtdPtD/rKsyYqGywPypEH+ASu6o/8ottzfd1pD/Mwi/bWyigP3wGcbxdPZk/xuKnRMxOkz9aIGP/8p2OP+98I2JQWok/FHgcEuzqhD/3qz4ZyAuCP8ZugfgK430/GOdjQbuqeT9UNwGH7gp2P+XDrUO1L3M/zpOX2p5lcD/aSGzTnQhsP2wUugjxYmg/YCNFGGfOZD/n8Nn7PYZhP2+wy0IEWl4/vdJvvvfrVz/DFWy5+cpUP5tJAdEY/k8/rzSGVWlqSj8bDM2YOb9EP1v9Ch73AkA/62UkYNs6OT8tsmKSXrIyP4z7TvmZuSg/+T/hmoa/IT8bgEEgO0wVPwiWPwOcdQk/l4YNYOG0Az8bgEEgO0z1Pqhcq72NUfQ+VrnVZUlw2j7FRi7w/lrePla51WVJcNo+3p4kUd6a0j6se47uMKDBPg==\",\"dtype\":\"float64\",\"order\":\"little\",\"shape\":[50]}},\"selected\":{\"id\":\"1636\"},\"selection_policy\":{\"id\":\"1637\"}},\"id\":\"1585\",\"type\":\"ColumnDataSource\"},{\"attributes\":{\"axis\":{\"id\":\"1563\"},\"ticker\":null},\"id\":\"1566\",\"type\":\"Grid\"},{\"attributes\":{},\"id\":\"1568\",\"type\":\"BasicTicker\"},{\"attributes\":{},\"id\":\"1575\",\"type\":\"ResetTool\"},{\"attributes\":{\"bottom\":{\"value\":0},\"fill_alpha\":{\"value\":0.1},\"fill_color\":{\"value\":\"thistle\"},\"left\":{\"field\":\"left\"},\"line_alpha\":{\"value\":0.1},\"line_color\":{\"value\":\"white\"},\"right\":{\"field\":\"right\"},\"top\":{\"field\":\"top\"}},\"id\":\"1587\",\"type\":\"Quad\"},{\"attributes\":{},\"id\":\"1576\",\"type\":\"WheelZoomTool\"},{\"attributes\":{\"overlay\":{\"id\":\"1577\"}},\"id\":\"1574\",\"type\":\"BoxZoomTool\"},{\"attributes\":{},\"id\":\"1631\",\"type\":\"BasicTickFormatter\"},{\"attributes\":{},\"id\":\"1559\",\"type\":\"LinearScale\"},{\"attributes\":{\"axis\":{\"id\":\"1567\"},\"dimension\":1,\"ticker\":null},\"id\":\"1570\",\"type\":\"Grid\"},{\"attributes\":{},\"id\":\"1564\",\"type\":\"BasicTicker\"},{\"attributes\":{},\"id\":\"1573\",\"type\":\"PanTool\"},{\"attributes\":{},\"id\":\"1572\",\"type\":\"SaveTool\"},{\"attributes\":{\"data_source\":{\"id\":\"1585\"},\"glyph\":{\"id\":\"1586\"},\"hover_glyph\":null,\"muted_glyph\":null,\"nonselection_glyph\":{\"id\":\"1587\"},\"selection_glyph\":null,\"view\":{\"id\":\"1589\"}},\"id\":\"1588\",\"type\":\"GlyphRenderer\"},{\"attributes\":{\"callback\":null},\"id\":\"1571\",\"type\":\"HoverTool\"}],\"root_ids\":[\"1552\"]},\"title\":\"Bokeh Application\",\"version\":\"2.1.1\"}};\n",
       "  var render_items = [{\"docid\":\"e41468ed-f97d-42d0-b52b-c3a238cc0378\",\"root_ids\":[\"1552\"],\"roots\":{\"1552\":\"96bfad17-6d68-4a74-81ec-40c032f2b381\"}}];\n",
       "  root.Bokeh.embed.embed_items_notebook(docs_json, render_items);\n",
       "\n",
       "  }\n",
       "  if (root.Bokeh !== undefined) {\n",
       "    embed_document(root);\n",
       "  } else {\n",
       "    var attempts = 0;\n",
       "    var timer = setInterval(function(root) {\n",
       "      if (root.Bokeh !== undefined) {\n",
       "        clearInterval(timer);\n",
       "        embed_document(root);\n",
       "      } else {\n",
       "        attempts++;\n",
       "        if (attempts > 100) {\n",
       "          clearInterval(timer);\n",
       "          console.log(\"Bokeh: ERROR: Unable to run BokehJS code because BokehJS library is missing\");\n",
       "        }\n",
       "      }\n",
       "    }, 10, root)\n",
       "  }\n",
       "})(window);"
      ],
      "application/vnd.bokehjs_exec.v0+json": ""
     },
     "metadata": {
      "application/vnd.bokehjs_exec.v0+json": {
       "id": "1552"
      }
     },
     "output_type": "display_data"
    },
    {
     "name": "stdout",
     "output_type": "stream",
     "text": [
      "Wall time: 27.2 s\n"
     ]
    }
   ],
   "source": [
    "%%time\n",
    "hist, edges = np.histogram(df.avg_speed, density=True, bins=50)\n",
    "\n",
    "TOOLS = \"hover,save,pan,box_zoom,reset,wheel_zoom\"\n",
    "\n",
    "p = figure(title='Distribution of average speed', tools=TOOLS, background_fill_color=\"#fafafa\")\n",
    "p.quad(top=hist, bottom=0, left=edges[:-1], right=edges[1:], line_color=\"white\", fill_color=\"thistle\")\n",
    "\n",
    "# configure visual properties on a plot's title attribute\n",
    "# p.title.text = \"Title With Options\"\n",
    "p.title.align = \"center\"\n",
    "p.title.text_color = \"thistle\"\n",
    "p.title.text_font_size = \"20px\"\n",
    "#p.title.background_fill_color = \"#fafafa\"\n",
    "\n",
    "p.xaxis.axis_label = 'Average speed (MPH)'\n",
    "p.yaxis.axis_label = 'Frequency'\n",
    "\n",
    "show(p)"
   ]
  },
  {
   "cell_type": "markdown",
   "metadata": {},
   "source": [
    "### Correlations"
   ]
  },
  {
   "cell_type": "code",
   "execution_count": 25,
   "metadata": {
    "ExecuteTime": {
     "end_time": "2020-06-30T07:09:51.701502Z",
     "start_time": "2020-06-30T07:08:31.704321Z"
    }
   },
   "outputs": [
    {
     "name": "stdout",
     "output_type": "stream",
     "text": [
      "Wall time: 1min 19s\n"
     ]
    },
    {
     "data": {
      "text/html": [
       "<style  type=\"text/css\" >\n",
       "    #T_b1121698_baa0_11ea_80b5_3c95094b0a68row0_col0 {\n",
       "            background-color:  #c71585;\n",
       "            color:  #f1f1f1;\n",
       "        }    #T_b1121698_baa0_11ea_80b5_3c95094b0a68row0_col1 {\n",
       "            background-color:  #eca7d3;\n",
       "            color:  #000000;\n",
       "        }    #T_b1121698_baa0_11ea_80b5_3c95094b0a68row0_col2 {\n",
       "            background-color:  #f6cee7;\n",
       "            color:  #000000;\n",
       "        }    #T_b1121698_baa0_11ea_80b5_3c95094b0a68row0_col3 {\n",
       "            background-color:  #e485c1;\n",
       "            color:  #000000;\n",
       "        }    #T_b1121698_baa0_11ea_80b5_3c95094b0a68row0_col4 {\n",
       "            background-color:  #e077b9;\n",
       "            color:  #000000;\n",
       "        }    #T_b1121698_baa0_11ea_80b5_3c95094b0a68row0_col5 {\n",
       "            background-color:  #efb4d9;\n",
       "            color:  #000000;\n",
       "        }    #T_b1121698_baa0_11ea_80b5_3c95094b0a68row0_col6 {\n",
       "            background-color:  #e384c0;\n",
       "            color:  #000000;\n",
       "        }    #T_b1121698_baa0_11ea_80b5_3c95094b0a68row0_col7 {\n",
       "            background-color:  #e079ba;\n",
       "            color:  #000000;\n",
       "        }    #T_b1121698_baa0_11ea_80b5_3c95094b0a68row0_col8 {\n",
       "            background-color:  #eaa0cf;\n",
       "            color:  #000000;\n",
       "        }    #T_b1121698_baa0_11ea_80b5_3c95094b0a68row0_col9 {\n",
       "            background-color:  #f4c4e2;\n",
       "            color:  #000000;\n",
       "        }    #T_b1121698_baa0_11ea_80b5_3c95094b0a68row0_col10 {\n",
       "            background-color:  #faddef;\n",
       "            color:  #000000;\n",
       "        }    #T_b1121698_baa0_11ea_80b5_3c95094b0a68row0_col11 {\n",
       "            background-color:  #efb2d8;\n",
       "            color:  #000000;\n",
       "        }    #T_b1121698_baa0_11ea_80b5_3c95094b0a68row0_col12 {\n",
       "            background-color:  #ea9dcd;\n",
       "            color:  #000000;\n",
       "        }    #T_b1121698_baa0_11ea_80b5_3c95094b0a68row0_col13 {\n",
       "            background-color:  #f0b5da;\n",
       "            color:  #000000;\n",
       "        }    #T_b1121698_baa0_11ea_80b5_3c95094b0a68row0_col14 {\n",
       "            background-color:  #fae0f1;\n",
       "            color:  #000000;\n",
       "        }    #T_b1121698_baa0_11ea_80b5_3c95094b0a68row0_col15 {\n",
       "            background-color:  #f3c2e1;\n",
       "            color:  #000000;\n",
       "        }    #T_b1121698_baa0_11ea_80b5_3c95094b0a68row0_col16 {\n",
       "            background-color:  #fadff0;\n",
       "            color:  #000000;\n",
       "        }    #T_b1121698_baa0_11ea_80b5_3c95094b0a68row0_col17 {\n",
       "            background-color:  #f6d0e8;\n",
       "            color:  #000000;\n",
       "        }    #T_b1121698_baa0_11ea_80b5_3c95094b0a68row1_col0 {\n",
       "            background-color:  #eba2d0;\n",
       "            color:  #000000;\n",
       "        }    #T_b1121698_baa0_11ea_80b5_3c95094b0a68row1_col1 {\n",
       "            background-color:  #c71585;\n",
       "            color:  #f1f1f1;\n",
       "        }    #T_b1121698_baa0_11ea_80b5_3c95094b0a68row1_col2 {\n",
       "            background-color:  #f6cee7;\n",
       "            color:  #000000;\n",
       "        }    #T_b1121698_baa0_11ea_80b5_3c95094b0a68row1_col3 {\n",
       "            background-color:  #e281be;\n",
       "            color:  #000000;\n",
       "        }    #T_b1121698_baa0_11ea_80b5_3c95094b0a68row1_col4 {\n",
       "            background-color:  #e17cbc;\n",
       "            color:  #000000;\n",
       "        }    #T_b1121698_baa0_11ea_80b5_3c95094b0a68row1_col5 {\n",
       "            background-color:  #efb4d9;\n",
       "            color:  #000000;\n",
       "        }    #T_b1121698_baa0_11ea_80b5_3c95094b0a68row1_col6 {\n",
       "            background-color:  #e281be;\n",
       "            color:  #000000;\n",
       "        }    #T_b1121698_baa0_11ea_80b5_3c95094b0a68row1_col7 {\n",
       "            background-color:  #e17cbc;\n",
       "            color:  #000000;\n",
       "        }    #T_b1121698_baa0_11ea_80b5_3c95094b0a68row1_col8 {\n",
       "            background-color:  #e99dcd;\n",
       "            color:  #000000;\n",
       "        }    #T_b1121698_baa0_11ea_80b5_3c95094b0a68row1_col9 {\n",
       "            background-color:  #f4c5e2;\n",
       "            color:  #000000;\n",
       "        }    #T_b1121698_baa0_11ea_80b5_3c95094b0a68row1_col10 {\n",
       "            background-color:  #f9dcee;\n",
       "            color:  #000000;\n",
       "        }    #T_b1121698_baa0_11ea_80b5_3c95094b0a68row1_col11 {\n",
       "            background-color:  #efb3d9;\n",
       "            color:  #000000;\n",
       "        }    #T_b1121698_baa0_11ea_80b5_3c95094b0a68row1_col12 {\n",
       "            background-color:  #ea9fce;\n",
       "            color:  #000000;\n",
       "        }    #T_b1121698_baa0_11ea_80b5_3c95094b0a68row1_col13 {\n",
       "            background-color:  #f0b5da;\n",
       "            color:  #000000;\n",
       "        }    #T_b1121698_baa0_11ea_80b5_3c95094b0a68row1_col14 {\n",
       "            background-color:  #fadff0;\n",
       "            color:  #000000;\n",
       "        }    #T_b1121698_baa0_11ea_80b5_3c95094b0a68row1_col15 {\n",
       "            background-color:  #f3c3e1;\n",
       "            color:  #000000;\n",
       "        }    #T_b1121698_baa0_11ea_80b5_3c95094b0a68row1_col16 {\n",
       "            background-color:  #fbe2f2;\n",
       "            color:  #000000;\n",
       "        }    #T_b1121698_baa0_11ea_80b5_3c95094b0a68row1_col17 {\n",
       "            background-color:  #f8d4ea;\n",
       "            color:  #000000;\n",
       "        }    #T_b1121698_baa0_11ea_80b5_3c95094b0a68row2_col0 {\n",
       "            background-color:  #f9d8ed;\n",
       "            color:  #000000;\n",
       "        }    #T_b1121698_baa0_11ea_80b5_3c95094b0a68row2_col1 {\n",
       "            background-color:  #fbe1f1;\n",
       "            color:  #000000;\n",
       "        }    #T_b1121698_baa0_11ea_80b5_3c95094b0a68row2_col2 {\n",
       "            background-color:  #c71585;\n",
       "            color:  #f1f1f1;\n",
       "        }    #T_b1121698_baa0_11ea_80b5_3c95094b0a68row2_col3 {\n",
       "            background-color:  #e27fbd;\n",
       "            color:  #000000;\n",
       "        }    #T_b1121698_baa0_11ea_80b5_3c95094b0a68row2_col4 {\n",
       "            background-color:  #e27ebd;\n",
       "            color:  #000000;\n",
       "        }    #T_b1121698_baa0_11ea_80b5_3c95094b0a68row2_col5 {\n",
       "            background-color:  #e382bf;\n",
       "            color:  #000000;\n",
       "        }    #T_b1121698_baa0_11ea_80b5_3c95094b0a68row2_col6 {\n",
       "            background-color:  #e27fbd;\n",
       "            color:  #000000;\n",
       "        }    #T_b1121698_baa0_11ea_80b5_3c95094b0a68row2_col7 {\n",
       "            background-color:  #e27ebd;\n",
       "            color:  #000000;\n",
       "        }    #T_b1121698_baa0_11ea_80b5_3c95094b0a68row2_col8 {\n",
       "            background-color:  #eca7d2;\n",
       "            color:  #000000;\n",
       "        }    #T_b1121698_baa0_11ea_80b5_3c95094b0a68row2_col9 {\n",
       "            background-color:  #c91c89;\n",
       "            color:  #f1f1f1;\n",
       "        }    #T_b1121698_baa0_11ea_80b5_3c95094b0a68row2_col10 {\n",
       "            background-color:  #fce5f3;\n",
       "            color:  #000000;\n",
       "        }    #T_b1121698_baa0_11ea_80b5_3c95094b0a68row2_col11 {\n",
       "            background-color:  #f4c8e4;\n",
       "            color:  #000000;\n",
       "        }    #T_b1121698_baa0_11ea_80b5_3c95094b0a68row2_col12 {\n",
       "            background-color:  #d64fa4;\n",
       "            color:  #000000;\n",
       "        }    #T_b1121698_baa0_11ea_80b5_3c95094b0a68row2_col13 {\n",
       "            background-color:  #d752a5;\n",
       "            color:  #000000;\n",
       "        }    #T_b1121698_baa0_11ea_80b5_3c95094b0a68row2_col14 {\n",
       "            background-color:  #fadff0;\n",
       "            color:  #000000;\n",
       "        }    #T_b1121698_baa0_11ea_80b5_3c95094b0a68row2_col15 {\n",
       "            background-color:  #c91e8a;\n",
       "            color:  #f1f1f1;\n",
       "        }    #T_b1121698_baa0_11ea_80b5_3c95094b0a68row2_col16 {\n",
       "            background-color:  #f6d0e8;\n",
       "            color:  #000000;\n",
       "        }    #T_b1121698_baa0_11ea_80b5_3c95094b0a68row2_col17 {\n",
       "            background-color:  #d752a5;\n",
       "            color:  #000000;\n",
       "        }    #T_b1121698_baa0_11ea_80b5_3c95094b0a68row3_col0 {\n",
       "            background-color:  #fde8f5;\n",
       "            color:  #000000;\n",
       "        }    #T_b1121698_baa0_11ea_80b5_3c95094b0a68row3_col1 {\n",
       "            background-color:  #fde8f5;\n",
       "            color:  #000000;\n",
       "        }    #T_b1121698_baa0_11ea_80b5_3c95094b0a68row3_col2 {\n",
       "            background-color:  #f7d2e9;\n",
       "            color:  #000000;\n",
       "        }    #T_b1121698_baa0_11ea_80b5_3c95094b0a68row3_col3 {\n",
       "            background-color:  #c71585;\n",
       "            color:  #f1f1f1;\n",
       "        }    #T_b1121698_baa0_11ea_80b5_3c95094b0a68row3_col4 {\n",
       "            background-color:  #fde8f5;\n",
       "            color:  #000000;\n",
       "        }    #T_b1121698_baa0_11ea_80b5_3c95094b0a68row3_col5 {\n",
       "            background-color:  #efb3d9;\n",
       "            color:  #000000;\n",
       "        }    #T_b1121698_baa0_11ea_80b5_3c95094b0a68row3_col6 {\n",
       "            background-color:  #c91d89;\n",
       "            color:  #f1f1f1;\n",
       "        }    #T_b1121698_baa0_11ea_80b5_3c95094b0a68row3_col7 {\n",
       "            background-color:  #fae0f1;\n",
       "            color:  #000000;\n",
       "        }    #T_b1121698_baa0_11ea_80b5_3c95094b0a68row3_col8 {\n",
       "            background-color:  #ea9ece;\n",
       "            color:  #000000;\n",
       "        }    #T_b1121698_baa0_11ea_80b5_3c95094b0a68row3_col9 {\n",
       "            background-color:  #f4c7e3;\n",
       "            color:  #000000;\n",
       "        }    #T_b1121698_baa0_11ea_80b5_3c95094b0a68row3_col10 {\n",
       "            background-color:  #f9daed;\n",
       "            color:  #000000;\n",
       "        }    #T_b1121698_baa0_11ea_80b5_3c95094b0a68row3_col11 {\n",
       "            background-color:  #efb4d9;\n",
       "            color:  #000000;\n",
       "        }    #T_b1121698_baa0_11ea_80b5_3c95094b0a68row3_col12 {\n",
       "            background-color:  #ea9fce;\n",
       "            color:  #000000;\n",
       "        }    #T_b1121698_baa0_11ea_80b5_3c95094b0a68row3_col13 {\n",
       "            background-color:  #f0b6db;\n",
       "            color:  #000000;\n",
       "        }    #T_b1121698_baa0_11ea_80b5_3c95094b0a68row3_col14 {\n",
       "            background-color:  #fae0f1;\n",
       "            color:  #000000;\n",
       "        }    #T_b1121698_baa0_11ea_80b5_3c95094b0a68row3_col15 {\n",
       "            background-color:  #f4c4e2;\n",
       "            color:  #000000;\n",
       "        }    #T_b1121698_baa0_11ea_80b5_3c95094b0a68row3_col16 {\n",
       "            background-color:  #fce4f3;\n",
       "            color:  #000000;\n",
       "        }    #T_b1121698_baa0_11ea_80b5_3c95094b0a68row3_col17 {\n",
       "            background-color:  #f8d6eb;\n",
       "            color:  #000000;\n",
       "        }    #T_b1121698_baa0_11ea_80b5_3c95094b0a68row4_col0 {\n",
       "            background-color:  #f6cfe8;\n",
       "            color:  #000000;\n",
       "        }    #T_b1121698_baa0_11ea_80b5_3c95094b0a68row4_col1 {\n",
       "            background-color:  #fbe0f1;\n",
       "            color:  #000000;\n",
       "        }    #T_b1121698_baa0_11ea_80b5_3c95094b0a68row4_col2 {\n",
       "            background-color:  #f7d1e9;\n",
       "            color:  #000000;\n",
       "        }    #T_b1121698_baa0_11ea_80b5_3c95094b0a68row4_col3 {\n",
       "            background-color:  #fde8f5;\n",
       "            color:  #000000;\n",
       "        }    #T_b1121698_baa0_11ea_80b5_3c95094b0a68row4_col4 {\n",
       "            background-color:  #c71585;\n",
       "            color:  #f1f1f1;\n",
       "        }    #T_b1121698_baa0_11ea_80b5_3c95094b0a68row4_col5 {\n",
       "            background-color:  #f0b5da;\n",
       "            color:  #000000;\n",
       "        }    #T_b1121698_baa0_11ea_80b5_3c95094b0a68row4_col6 {\n",
       "            background-color:  #fae0f1;\n",
       "            color:  #000000;\n",
       "        }    #T_b1121698_baa0_11ea_80b5_3c95094b0a68row4_col7 {\n",
       "            background-color:  #c91d89;\n",
       "            color:  #f1f1f1;\n",
       "        }    #T_b1121698_baa0_11ea_80b5_3c95094b0a68row4_col8 {\n",
       "            background-color:  #ea9fce;\n",
       "            color:  #000000;\n",
       "        }    #T_b1121698_baa0_11ea_80b5_3c95094b0a68row4_col9 {\n",
       "            background-color:  #f4c7e3;\n",
       "            color:  #000000;\n",
       "        }    #T_b1121698_baa0_11ea_80b5_3c95094b0a68row4_col10 {\n",
       "            background-color:  #f9dbee;\n",
       "            color:  #000000;\n",
       "        }    #T_b1121698_baa0_11ea_80b5_3c95094b0a68row4_col11 {\n",
       "            background-color:  #efb4d9;\n",
       "            color:  #000000;\n",
       "        }    #T_b1121698_baa0_11ea_80b5_3c95094b0a68row4_col12 {\n",
       "            background-color:  #ea9ece;\n",
       "            color:  #000000;\n",
       "        }    #T_b1121698_baa0_11ea_80b5_3c95094b0a68row4_col13 {\n",
       "            background-color:  #f0b5da;\n",
       "            color:  #000000;\n",
       "        }    #T_b1121698_baa0_11ea_80b5_3c95094b0a68row4_col14 {\n",
       "            background-color:  #fadef0;\n",
       "            color:  #000000;\n",
       "        }    #T_b1121698_baa0_11ea_80b5_3c95094b0a68row4_col15 {\n",
       "            background-color:  #f4c4e2;\n",
       "            color:  #000000;\n",
       "        }    #T_b1121698_baa0_11ea_80b5_3c95094b0a68row4_col16 {\n",
       "            background-color:  #fce4f3;\n",
       "            color:  #000000;\n",
       "        }    #T_b1121698_baa0_11ea_80b5_3c95094b0a68row4_col17 {\n",
       "            background-color:  #f8d6eb;\n",
       "            color:  #000000;\n",
       "        }    #T_b1121698_baa0_11ea_80b5_3c95094b0a68row5_col0 {\n",
       "            background-color:  #f9dcee;\n",
       "            color:  #000000;\n",
       "        }    #T_b1121698_baa0_11ea_80b5_3c95094b0a68row5_col1 {\n",
       "            background-color:  #fce5f3;\n",
       "            color:  #000000;\n",
       "        }    #T_b1121698_baa0_11ea_80b5_3c95094b0a68row5_col2 {\n",
       "            background-color:  #e896c9;\n",
       "            color:  #000000;\n",
       "        }    #T_b1121698_baa0_11ea_80b5_3c95094b0a68row5_col3 {\n",
       "            background-color:  #e27ebd;\n",
       "            color:  #000000;\n",
       "        }    #T_b1121698_baa0_11ea_80b5_3c95094b0a68row5_col4 {\n",
       "            background-color:  #e27fbd;\n",
       "            color:  #000000;\n",
       "        }    #T_b1121698_baa0_11ea_80b5_3c95094b0a68row5_col5 {\n",
       "            background-color:  #c71585;\n",
       "            color:  #f1f1f1;\n",
       "        }    #T_b1121698_baa0_11ea_80b5_3c95094b0a68row5_col6 {\n",
       "            background-color:  #e27ebd;\n",
       "            color:  #000000;\n",
       "        }    #T_b1121698_baa0_11ea_80b5_3c95094b0a68row5_col7 {\n",
       "            background-color:  #e27fbd;\n",
       "            color:  #000000;\n",
       "        }    #T_b1121698_baa0_11ea_80b5_3c95094b0a68row5_col8 {\n",
       "            background-color:  #ea9fce;\n",
       "            color:  #000000;\n",
       "        }    #T_b1121698_baa0_11ea_80b5_3c95094b0a68row5_col9 {\n",
       "            background-color:  #e58bc4;\n",
       "            color:  #000000;\n",
       "        }    #T_b1121698_baa0_11ea_80b5_3c95094b0a68row5_col10 {\n",
       "            background-color:  #fce7f4;\n",
       "            color:  #000000;\n",
       "        }    #T_b1121698_baa0_11ea_80b5_3c95094b0a68row5_col11 {\n",
       "            background-color:  #fde8f5;\n",
       "            color:  #000000;\n",
       "        }    #T_b1121698_baa0_11ea_80b5_3c95094b0a68row5_col12 {\n",
       "            background-color:  #e383bf;\n",
       "            color:  #000000;\n",
       "        }    #T_b1121698_baa0_11ea_80b5_3c95094b0a68row5_col13 {\n",
       "            background-color:  #e384c0;\n",
       "            color:  #000000;\n",
       "        }    #T_b1121698_baa0_11ea_80b5_3c95094b0a68row5_col14 {\n",
       "            background-color:  #fbe0f1;\n",
       "            color:  #000000;\n",
       "        }    #T_b1121698_baa0_11ea_80b5_3c95094b0a68row5_col15 {\n",
       "            background-color:  #e489c2;\n",
       "            color:  #000000;\n",
       "        }    #T_b1121698_baa0_11ea_80b5_3c95094b0a68row5_col16 {\n",
       "            background-color:  #fadff0;\n",
       "            color:  #000000;\n",
       "        }    #T_b1121698_baa0_11ea_80b5_3c95094b0a68row5_col17 {\n",
       "            background-color:  #eeb1d8;\n",
       "            color:  #000000;\n",
       "        }    #T_b1121698_baa0_11ea_80b5_3c95094b0a68row6_col0 {\n",
       "            background-color:  #fce5f4;\n",
       "            color:  #000000;\n",
       "        }    #T_b1121698_baa0_11ea_80b5_3c95094b0a68row6_col1 {\n",
       "            background-color:  #fde8f5;\n",
       "            color:  #000000;\n",
       "        }    #T_b1121698_baa0_11ea_80b5_3c95094b0a68row6_col2 {\n",
       "            background-color:  #f7d2e9;\n",
       "            color:  #000000;\n",
       "        }    #T_b1121698_baa0_11ea_80b5_3c95094b0a68row6_col3 {\n",
       "            background-color:  #c91d89;\n",
       "            color:  #f1f1f1;\n",
       "        }    #T_b1121698_baa0_11ea_80b5_3c95094b0a68row6_col4 {\n",
       "            background-color:  #fae0f1;\n",
       "            color:  #000000;\n",
       "        }    #T_b1121698_baa0_11ea_80b5_3c95094b0a68row6_col5 {\n",
       "            background-color:  #efb4d9;\n",
       "            color:  #000000;\n",
       "        }    #T_b1121698_baa0_11ea_80b5_3c95094b0a68row6_col6 {\n",
       "            background-color:  #c71585;\n",
       "            color:  #f1f1f1;\n",
       "        }    #T_b1121698_baa0_11ea_80b5_3c95094b0a68row6_col7 {\n",
       "            background-color:  #fde8f5;\n",
       "            color:  #000000;\n",
       "        }    #T_b1121698_baa0_11ea_80b5_3c95094b0a68row6_col8 {\n",
       "            background-color:  #ea9ece;\n",
       "            color:  #000000;\n",
       "        }    #T_b1121698_baa0_11ea_80b5_3c95094b0a68row6_col9 {\n",
       "            background-color:  #f4c7e3;\n",
       "            color:  #000000;\n",
       "        }    #T_b1121698_baa0_11ea_80b5_3c95094b0a68row6_col10 {\n",
       "            background-color:  #f9daed;\n",
       "            color:  #000000;\n",
       "        }    #T_b1121698_baa0_11ea_80b5_3c95094b0a68row6_col11 {\n",
       "            background-color:  #efb4d9;\n",
       "            color:  #000000;\n",
       "        }    #T_b1121698_baa0_11ea_80b5_3c95094b0a68row6_col12 {\n",
       "            background-color:  #ea9fce;\n",
       "            color:  #000000;\n",
       "        }    #T_b1121698_baa0_11ea_80b5_3c95094b0a68row6_col13 {\n",
       "            background-color:  #f0b6db;\n",
       "            color:  #000000;\n",
       "        }    #T_b1121698_baa0_11ea_80b5_3c95094b0a68row6_col14 {\n",
       "            background-color:  #fae0f1;\n",
       "            color:  #000000;\n",
       "        }    #T_b1121698_baa0_11ea_80b5_3c95094b0a68row6_col15 {\n",
       "            background-color:  #f4c4e2;\n",
       "            color:  #000000;\n",
       "        }    #T_b1121698_baa0_11ea_80b5_3c95094b0a68row6_col16 {\n",
       "            background-color:  #fce4f3;\n",
       "            color:  #000000;\n",
       "        }    #T_b1121698_baa0_11ea_80b5_3c95094b0a68row6_col17 {\n",
       "            background-color:  #f8d6eb;\n",
       "            color:  #000000;\n",
       "        }    #T_b1121698_baa0_11ea_80b5_3c95094b0a68row7_col0 {\n",
       "            background-color:  #f7d2e9;\n",
       "            color:  #000000;\n",
       "        }    #T_b1121698_baa0_11ea_80b5_3c95094b0a68row7_col1 {\n",
       "            background-color:  #fbe1f1;\n",
       "            color:  #000000;\n",
       "        }    #T_b1121698_baa0_11ea_80b5_3c95094b0a68row7_col2 {\n",
       "            background-color:  #f7d1e9;\n",
       "            color:  #000000;\n",
       "        }    #T_b1121698_baa0_11ea_80b5_3c95094b0a68row7_col3 {\n",
       "            background-color:  #fae0f1;\n",
       "            color:  #000000;\n",
       "        }    #T_b1121698_baa0_11ea_80b5_3c95094b0a68row7_col4 {\n",
       "            background-color:  #c91d89;\n",
       "            color:  #f1f1f1;\n",
       "        }    #T_b1121698_baa0_11ea_80b5_3c95094b0a68row7_col5 {\n",
       "            background-color:  #f0b5da;\n",
       "            color:  #000000;\n",
       "        }    #T_b1121698_baa0_11ea_80b5_3c95094b0a68row7_col6 {\n",
       "            background-color:  #fde8f5;\n",
       "            color:  #000000;\n",
       "        }    #T_b1121698_baa0_11ea_80b5_3c95094b0a68row7_col7 {\n",
       "            background-color:  #c71585;\n",
       "            color:  #f1f1f1;\n",
       "        }    #T_b1121698_baa0_11ea_80b5_3c95094b0a68row7_col8 {\n",
       "            background-color:  #ea9fce;\n",
       "            color:  #000000;\n",
       "        }    #T_b1121698_baa0_11ea_80b5_3c95094b0a68row7_col9 {\n",
       "            background-color:  #f4c7e3;\n",
       "            color:  #000000;\n",
       "        }    #T_b1121698_baa0_11ea_80b5_3c95094b0a68row7_col10 {\n",
       "            background-color:  #f9dbee;\n",
       "            color:  #000000;\n",
       "        }    #T_b1121698_baa0_11ea_80b5_3c95094b0a68row7_col11 {\n",
       "            background-color:  #efb4d9;\n",
       "            color:  #000000;\n",
       "        }    #T_b1121698_baa0_11ea_80b5_3c95094b0a68row7_col12 {\n",
       "            background-color:  #ea9ece;\n",
       "            color:  #000000;\n",
       "        }    #T_b1121698_baa0_11ea_80b5_3c95094b0a68row7_col13 {\n",
       "            background-color:  #f0b5da;\n",
       "            color:  #000000;\n",
       "        }    #T_b1121698_baa0_11ea_80b5_3c95094b0a68row7_col14 {\n",
       "            background-color:  #fadff0;\n",
       "            color:  #000000;\n",
       "        }    #T_b1121698_baa0_11ea_80b5_3c95094b0a68row7_col15 {\n",
       "            background-color:  #f4c4e2;\n",
       "            color:  #000000;\n",
       "        }    #T_b1121698_baa0_11ea_80b5_3c95094b0a68row7_col16 {\n",
       "            background-color:  #fce4f3;\n",
       "            color:  #000000;\n",
       "        }    #T_b1121698_baa0_11ea_80b5_3c95094b0a68row7_col17 {\n",
       "            background-color:  #f8d6eb;\n",
       "            color:  #000000;\n",
       "        }    #T_b1121698_baa0_11ea_80b5_3c95094b0a68row8_col0 {\n",
       "            background-color:  #faddef;\n",
       "            color:  #000000;\n",
       "        }    #T_b1121698_baa0_11ea_80b5_3c95094b0a68row8_col1 {\n",
       "            background-color:  #fbe2f2;\n",
       "            color:  #000000;\n",
       "        }    #T_b1121698_baa0_11ea_80b5_3c95094b0a68row8_col2 {\n",
       "            background-color:  #f9dcee;\n",
       "            color:  #000000;\n",
       "        }    #T_b1121698_baa0_11ea_80b5_3c95094b0a68row8_col3 {\n",
       "            background-color:  #e27ebd;\n",
       "            color:  #000000;\n",
       "        }    #T_b1121698_baa0_11ea_80b5_3c95094b0a68row8_col4 {\n",
       "            background-color:  #e27fbd;\n",
       "            color:  #000000;\n",
       "        }    #T_b1121698_baa0_11ea_80b5_3c95094b0a68row8_col5 {\n",
       "            background-color:  #f0b5da;\n",
       "            color:  #000000;\n",
       "        }    #T_b1121698_baa0_11ea_80b5_3c95094b0a68row8_col6 {\n",
       "            background-color:  #e27ebd;\n",
       "            color:  #000000;\n",
       "        }    #T_b1121698_baa0_11ea_80b5_3c95094b0a68row8_col7 {\n",
       "            background-color:  #e27fbd;\n",
       "            color:  #000000;\n",
       "        }    #T_b1121698_baa0_11ea_80b5_3c95094b0a68row8_col8 {\n",
       "            background-color:  #c71585;\n",
       "            color:  #f1f1f1;\n",
       "        }    #T_b1121698_baa0_11ea_80b5_3c95094b0a68row8_col9 {\n",
       "            background-color:  #f7d2ea;\n",
       "            color:  #000000;\n",
       "        }    #T_b1121698_baa0_11ea_80b5_3c95094b0a68row8_col10 {\n",
       "            background-color:  #fae0f1;\n",
       "            color:  #000000;\n",
       "        }    #T_b1121698_baa0_11ea_80b5_3c95094b0a68row8_col11 {\n",
       "            background-color:  #f0b5da;\n",
       "            color:  #000000;\n",
       "        }    #T_b1121698_baa0_11ea_80b5_3c95094b0a68row8_col12 {\n",
       "            background-color:  #fde8f5;\n",
       "            color:  #000000;\n",
       "        }    #T_b1121698_baa0_11ea_80b5_3c95094b0a68row8_col13 {\n",
       "            background-color:  #f2bdde;\n",
       "            color:  #000000;\n",
       "        }    #T_b1121698_baa0_11ea_80b5_3c95094b0a68row8_col14 {\n",
       "            background-color:  #fadff0;\n",
       "            color:  #000000;\n",
       "        }    #T_b1121698_baa0_11ea_80b5_3c95094b0a68row8_col15 {\n",
       "            background-color:  #fae0f1;\n",
       "            color:  #000000;\n",
       "        }    #T_b1121698_baa0_11ea_80b5_3c95094b0a68row8_col16 {\n",
       "            background-color:  #fce5f3;\n",
       "            color:  #000000;\n",
       "        }    #T_b1121698_baa0_11ea_80b5_3c95094b0a68row8_col17 {\n",
       "            background-color:  #fadcef;\n",
       "            color:  #000000;\n",
       "        }    #T_b1121698_baa0_11ea_80b5_3c95094b0a68row9_col0 {\n",
       "            background-color:  #f9d9ed;\n",
       "            color:  #000000;\n",
       "        }    #T_b1121698_baa0_11ea_80b5_3c95094b0a68row9_col1 {\n",
       "            background-color:  #fbe2f2;\n",
       "            color:  #000000;\n",
       "        }    #T_b1121698_baa0_11ea_80b5_3c95094b0a68row9_col2 {\n",
       "            background-color:  #c91c89;\n",
       "            color:  #f1f1f1;\n",
       "        }    #T_b1121698_baa0_11ea_80b5_3c95094b0a68row9_col3 {\n",
       "            background-color:  #e27ebd;\n",
       "            color:  #000000;\n",
       "        }    #T_b1121698_baa0_11ea_80b5_3c95094b0a68row9_col4 {\n",
       "            background-color:  #e27fbd;\n",
       "            color:  #000000;\n",
       "        }    #T_b1121698_baa0_11ea_80b5_3c95094b0a68row9_col5 {\n",
       "            background-color:  #e27ebd;\n",
       "            color:  #000000;\n",
       "        }    #T_b1121698_baa0_11ea_80b5_3c95094b0a68row9_col6 {\n",
       "            background-color:  #e27ebd;\n",
       "            color:  #000000;\n",
       "        }    #T_b1121698_baa0_11ea_80b5_3c95094b0a68row9_col7 {\n",
       "            background-color:  #e27fbd;\n",
       "            color:  #000000;\n",
       "        }    #T_b1121698_baa0_11ea_80b5_3c95094b0a68row9_col8 {\n",
       "            background-color:  #eca7d3;\n",
       "            color:  #000000;\n",
       "        }    #T_b1121698_baa0_11ea_80b5_3c95094b0a68row9_col9 {\n",
       "            background-color:  #c71585;\n",
       "            color:  #f1f1f1;\n",
       "        }    #T_b1121698_baa0_11ea_80b5_3c95094b0a68row9_col10 {\n",
       "            background-color:  #fce7f4;\n",
       "            color:  #000000;\n",
       "        }    #T_b1121698_baa0_11ea_80b5_3c95094b0a68row9_col11 {\n",
       "            background-color:  #f7d2e9;\n",
       "            color:  #000000;\n",
       "        }    #T_b1121698_baa0_11ea_80b5_3c95094b0a68row9_col12 {\n",
       "            background-color:  #d54ca2;\n",
       "            color:  #000000;\n",
       "        }    #T_b1121698_baa0_11ea_80b5_3c95094b0a68row9_col13 {\n",
       "            background-color:  #d754a6;\n",
       "            color:  #000000;\n",
       "        }    #T_b1121698_baa0_11ea_80b5_3c95094b0a68row9_col14 {\n",
       "            background-color:  #fae0f1;\n",
       "            color:  #000000;\n",
       "        }    #T_b1121698_baa0_11ea_80b5_3c95094b0a68row9_col15 {\n",
       "            background-color:  #c81786;\n",
       "            color:  #f1f1f1;\n",
       "        }    #T_b1121698_baa0_11ea_80b5_3c95094b0a68row9_col16 {\n",
       "            background-color:  #f6cde7;\n",
       "            color:  #000000;\n",
       "        }    #T_b1121698_baa0_11ea_80b5_3c95094b0a68row9_col17 {\n",
       "            background-color:  #dd6bb3;\n",
       "            color:  #000000;\n",
       "        }    #T_b1121698_baa0_11ea_80b5_3c95094b0a68row10_col0 {\n",
       "            background-color:  #fadff0;\n",
       "            color:  #000000;\n",
       "        }    #T_b1121698_baa0_11ea_80b5_3c95094b0a68row10_col1 {\n",
       "            background-color:  #fce5f4;\n",
       "            color:  #000000;\n",
       "        }    #T_b1121698_baa0_11ea_80b5_3c95094b0a68row10_col2 {\n",
       "            background-color:  #f9dcee;\n",
       "            color:  #000000;\n",
       "        }    #T_b1121698_baa0_11ea_80b5_3c95094b0a68row10_col3 {\n",
       "            background-color:  #e27ebd;\n",
       "            color:  #000000;\n",
       "        }    #T_b1121698_baa0_11ea_80b5_3c95094b0a68row10_col4 {\n",
       "            background-color:  #e27fbd;\n",
       "            color:  #000000;\n",
       "        }    #T_b1121698_baa0_11ea_80b5_3c95094b0a68row10_col5 {\n",
       "            background-color:  #f2bfdf;\n",
       "            color:  #000000;\n",
       "        }    #T_b1121698_baa0_11ea_80b5_3c95094b0a68row10_col6 {\n",
       "            background-color:  #e27ebd;\n",
       "            color:  #000000;\n",
       "        }    #T_b1121698_baa0_11ea_80b5_3c95094b0a68row10_col7 {\n",
       "            background-color:  #e27fbd;\n",
       "            color:  #000000;\n",
       "        }    #T_b1121698_baa0_11ea_80b5_3c95094b0a68row10_col8 {\n",
       "            background-color:  #eba2d0;\n",
       "            color:  #000000;\n",
       "        }    #T_b1121698_baa0_11ea_80b5_3c95094b0a68row10_col9 {\n",
       "            background-color:  #f7d2ea;\n",
       "            color:  #000000;\n",
       "        }    #T_b1121698_baa0_11ea_80b5_3c95094b0a68row10_col10 {\n",
       "            background-color:  #c71585;\n",
       "            color:  #f1f1f1;\n",
       "        }    #T_b1121698_baa0_11ea_80b5_3c95094b0a68row10_col11 {\n",
       "            background-color:  #efb1d8;\n",
       "            color:  #000000;\n",
       "        }    #T_b1121698_baa0_11ea_80b5_3c95094b0a68row10_col12 {\n",
       "            background-color:  #eaa0cf;\n",
       "            color:  #000000;\n",
       "        }    #T_b1121698_baa0_11ea_80b5_3c95094b0a68row10_col13 {\n",
       "            background-color:  #f3c1e0;\n",
       "            color:  #000000;\n",
       "        }    #T_b1121698_baa0_11ea_80b5_3c95094b0a68row10_col14 {\n",
       "            background-color:  #fadef0;\n",
       "            color:  #000000;\n",
       "        }    #T_b1121698_baa0_11ea_80b5_3c95094b0a68row10_col15 {\n",
       "            background-color:  #f5cae5;\n",
       "            color:  #000000;\n",
       "        }    #T_b1121698_baa0_11ea_80b5_3c95094b0a68row10_col16 {\n",
       "            background-color:  #fce5f4;\n",
       "            color:  #000000;\n",
       "        }    #T_b1121698_baa0_11ea_80b5_3c95094b0a68row10_col17 {\n",
       "            background-color:  #f8d7ec;\n",
       "            color:  #000000;\n",
       "        }    #T_b1121698_baa0_11ea_80b5_3c95094b0a68row11_col0 {\n",
       "            background-color:  #f9daed;\n",
       "            color:  #000000;\n",
       "        }    #T_b1121698_baa0_11ea_80b5_3c95094b0a68row11_col1 {\n",
       "            background-color:  #fce4f3;\n",
       "            color:  #000000;\n",
       "        }    #T_b1121698_baa0_11ea_80b5_3c95094b0a68row11_col2 {\n",
       "            background-color:  #fde8f5;\n",
       "            color:  #000000;\n",
       "        }    #T_b1121698_baa0_11ea_80b5_3c95094b0a68row11_col3 {\n",
       "            background-color:  #e27fbd;\n",
       "            color:  #000000;\n",
       "        }    #T_b1121698_baa0_11ea_80b5_3c95094b0a68row11_col4 {\n",
       "            background-color:  #e27ebd;\n",
       "            color:  #000000;\n",
       "        }    #T_b1121698_baa0_11ea_80b5_3c95094b0a68row11_col5 {\n",
       "            background-color:  #fde8f5;\n",
       "            color:  #000000;\n",
       "        }    #T_b1121698_baa0_11ea_80b5_3c95094b0a68row11_col6 {\n",
       "            background-color:  #e27ebd;\n",
       "            color:  #000000;\n",
       "        }    #T_b1121698_baa0_11ea_80b5_3c95094b0a68row11_col7 {\n",
       "            background-color:  #e27ebd;\n",
       "            color:  #000000;\n",
       "        }    #T_b1121698_baa0_11ea_80b5_3c95094b0a68row11_col8 {\n",
       "            background-color:  #ea9fce;\n",
       "            color:  #000000;\n",
       "        }    #T_b1121698_baa0_11ea_80b5_3c95094b0a68row11_col9 {\n",
       "            background-color:  #fde8f5;\n",
       "            color:  #000000;\n",
       "        }    #T_b1121698_baa0_11ea_80b5_3c95094b0a68row11_col10 {\n",
       "            background-color:  #f8d7ec;\n",
       "            color:  #000000;\n",
       "        }    #T_b1121698_baa0_11ea_80b5_3c95094b0a68row11_col11 {\n",
       "            background-color:  #c71585;\n",
       "            color:  #f1f1f1;\n",
       "        }    #T_b1121698_baa0_11ea_80b5_3c95094b0a68row11_col12 {\n",
       "            background-color:  #eeafd7;\n",
       "            color:  #000000;\n",
       "        }    #T_b1121698_baa0_11ea_80b5_3c95094b0a68row11_col13 {\n",
       "            background-color:  #fde8f5;\n",
       "            color:  #000000;\n",
       "        }    #T_b1121698_baa0_11ea_80b5_3c95094b0a68row11_col14 {\n",
       "            background-color:  #fde8f5;\n",
       "            color:  #000000;\n",
       "        }    #T_b1121698_baa0_11ea_80b5_3c95094b0a68row11_col15 {\n",
       "            background-color:  #fde8f5;\n",
       "            color:  #000000;\n",
       "        }    #T_b1121698_baa0_11ea_80b5_3c95094b0a68row11_col16 {\n",
       "            background-color:  #fce5f4;\n",
       "            color:  #000000;\n",
       "        }    #T_b1121698_baa0_11ea_80b5_3c95094b0a68row11_col17 {\n",
       "            background-color:  #fde8f5;\n",
       "            color:  #000000;\n",
       "        }    #T_b1121698_baa0_11ea_80b5_3c95094b0a68row12_col0 {\n",
       "            background-color:  #f9daed;\n",
       "            color:  #000000;\n",
       "        }    #T_b1121698_baa0_11ea_80b5_3c95094b0a68row12_col1 {\n",
       "            background-color:  #fce5f3;\n",
       "            color:  #000000;\n",
       "        }    #T_b1121698_baa0_11ea_80b5_3c95094b0a68row12_col2 {\n",
       "            background-color:  #db64af;\n",
       "            color:  #000000;\n",
       "        }    #T_b1121698_baa0_11ea_80b5_3c95094b0a68row12_col3 {\n",
       "            background-color:  #e27fbd;\n",
       "            color:  #000000;\n",
       "        }    #T_b1121698_baa0_11ea_80b5_3c95094b0a68row12_col4 {\n",
       "            background-color:  #e27ebd;\n",
       "            color:  #000000;\n",
       "        }    #T_b1121698_baa0_11ea_80b5_3c95094b0a68row12_col5 {\n",
       "            background-color:  #e794c9;\n",
       "            color:  #000000;\n",
       "        }    #T_b1121698_baa0_11ea_80b5_3c95094b0a68row12_col6 {\n",
       "            background-color:  #e27fbd;\n",
       "            color:  #000000;\n",
       "        }    #T_b1121698_baa0_11ea_80b5_3c95094b0a68row12_col7 {\n",
       "            background-color:  #e27ebd;\n",
       "            color:  #000000;\n",
       "        }    #T_b1121698_baa0_11ea_80b5_3c95094b0a68row12_col8 {\n",
       "            background-color:  #fde8f5;\n",
       "            color:  #000000;\n",
       "        }    #T_b1121698_baa0_11ea_80b5_3c95094b0a68row12_col9 {\n",
       "            background-color:  #d95dab;\n",
       "            color:  #000000;\n",
       "        }    #T_b1121698_baa0_11ea_80b5_3c95094b0a68row12_col10 {\n",
       "            background-color:  #fadcef;\n",
       "            color:  #000000;\n",
       "        }    #T_b1121698_baa0_11ea_80b5_3c95094b0a68row12_col11 {\n",
       "            background-color:  #f4c7e3;\n",
       "            color:  #000000;\n",
       "        }    #T_b1121698_baa0_11ea_80b5_3c95094b0a68row12_col12 {\n",
       "            background-color:  #c71585;\n",
       "            color:  #f1f1f1;\n",
       "        }    #T_b1121698_baa0_11ea_80b5_3c95094b0a68row12_col13 {\n",
       "            background-color:  #dd6db4;\n",
       "            color:  #000000;\n",
       "        }    #T_b1121698_baa0_11ea_80b5_3c95094b0a68row12_col14 {\n",
       "            background-color:  #fae0f1;\n",
       "            color:  #000000;\n",
       "        }    #T_b1121698_baa0_11ea_80b5_3c95094b0a68row12_col15 {\n",
       "            background-color:  #d4479f;\n",
       "            color:  #000000;\n",
       "        }    #T_b1121698_baa0_11ea_80b5_3c95094b0a68row12_col16 {\n",
       "            background-color:  #f9d8ed;\n",
       "            color:  #000000;\n",
       "        }    #T_b1121698_baa0_11ea_80b5_3c95094b0a68row12_col17 {\n",
       "            background-color:  #e793c8;\n",
       "            color:  #000000;\n",
       "        }    #T_b1121698_baa0_11ea_80b5_3c95094b0a68row13_col0 {\n",
       "            background-color:  #f9daed;\n",
       "            color:  #000000;\n",
       "        }    #T_b1121698_baa0_11ea_80b5_3c95094b0a68row13_col1 {\n",
       "            background-color:  #fbe2f2;\n",
       "            color:  #000000;\n",
       "        }    #T_b1121698_baa0_11ea_80b5_3c95094b0a68row13_col2 {\n",
       "            background-color:  #d95dab;\n",
       "            color:  #000000;\n",
       "        }    #T_b1121698_baa0_11ea_80b5_3c95094b0a68row13_col3 {\n",
       "            background-color:  #e27fbd;\n",
       "            color:  #000000;\n",
       "        }    #T_b1121698_baa0_11ea_80b5_3c95094b0a68row13_col4 {\n",
       "            background-color:  #e27ebd;\n",
       "            color:  #000000;\n",
       "        }    #T_b1121698_baa0_11ea_80b5_3c95094b0a68row13_col5 {\n",
       "            background-color:  #e382bf;\n",
       "            color:  #000000;\n",
       "        }    #T_b1121698_baa0_11ea_80b5_3c95094b0a68row13_col6 {\n",
       "            background-color:  #e27fbd;\n",
       "            color:  #000000;\n",
       "        }    #T_b1121698_baa0_11ea_80b5_3c95094b0a68row13_col7 {\n",
       "            background-color:  #e27ebd;\n",
       "            color:  #000000;\n",
       "        }    #T_b1121698_baa0_11ea_80b5_3c95094b0a68row13_col8 {\n",
       "            background-color:  #eca5d1;\n",
       "            color:  #000000;\n",
       "        }    #T_b1121698_baa0_11ea_80b5_3c95094b0a68row13_col9 {\n",
       "            background-color:  #d95aaa;\n",
       "            color:  #000000;\n",
       "        }    #T_b1121698_baa0_11ea_80b5_3c95094b0a68row13_col10 {\n",
       "            background-color:  #fde8f5;\n",
       "            color:  #000000;\n",
       "        }    #T_b1121698_baa0_11ea_80b5_3c95094b0a68row13_col11 {\n",
       "            background-color:  #fce6f4;\n",
       "            color:  #000000;\n",
       "        }    #T_b1121698_baa0_11ea_80b5_3c95094b0a68row13_col12 {\n",
       "            background-color:  #da60ad;\n",
       "            color:  #000000;\n",
       "        }    #T_b1121698_baa0_11ea_80b5_3c95094b0a68row13_col13 {\n",
       "            background-color:  #c71585;\n",
       "            color:  #f1f1f1;\n",
       "        }    #T_b1121698_baa0_11ea_80b5_3c95094b0a68row13_col14 {\n",
       "            background-color:  #fadff0;\n",
       "            color:  #000000;\n",
       "        }    #T_b1121698_baa0_11ea_80b5_3c95094b0a68row13_col15 {\n",
       "            background-color:  #d54ca2;\n",
       "            color:  #000000;\n",
       "        }    #T_b1121698_baa0_11ea_80b5_3c95094b0a68row13_col16 {\n",
       "            background-color:  #f9d9ed;\n",
       "            color:  #000000;\n",
       "        }    #T_b1121698_baa0_11ea_80b5_3c95094b0a68row13_col17 {\n",
       "            background-color:  #e383bf;\n",
       "            color:  #000000;\n",
       "        }    #T_b1121698_baa0_11ea_80b5_3c95094b0a68row14_col0 {\n",
       "            background-color:  #fadcef;\n",
       "            color:  #000000;\n",
       "        }    #T_b1121698_baa0_11ea_80b5_3c95094b0a68row14_col1 {\n",
       "            background-color:  #fce5f3;\n",
       "            color:  #000000;\n",
       "        }    #T_b1121698_baa0_11ea_80b5_3c95094b0a68row14_col2 {\n",
       "            background-color:  #f7d2e9;\n",
       "            color:  #000000;\n",
       "        }    #T_b1121698_baa0_11ea_80b5_3c95094b0a68row14_col3 {\n",
       "            background-color:  #e27fbd;\n",
       "            color:  #000000;\n",
       "        }    #T_b1121698_baa0_11ea_80b5_3c95094b0a68row14_col4 {\n",
       "            background-color:  #e27ebd;\n",
       "            color:  #000000;\n",
       "        }    #T_b1121698_baa0_11ea_80b5_3c95094b0a68row14_col5 {\n",
       "            background-color:  #f0b5da;\n",
       "            color:  #000000;\n",
       "        }    #T_b1121698_baa0_11ea_80b5_3c95094b0a68row14_col6 {\n",
       "            background-color:  #e27fbd;\n",
       "            color:  #000000;\n",
       "        }    #T_b1121698_baa0_11ea_80b5_3c95094b0a68row14_col7 {\n",
       "            background-color:  #e27ebd;\n",
       "            color:  #000000;\n",
       "        }    #T_b1121698_baa0_11ea_80b5_3c95094b0a68row14_col8 {\n",
       "            background-color:  #ea9fce;\n",
       "            color:  #000000;\n",
       "        }    #T_b1121698_baa0_11ea_80b5_3c95094b0a68row14_col9 {\n",
       "            background-color:  #f4c8e4;\n",
       "            color:  #000000;\n",
       "        }    #T_b1121698_baa0_11ea_80b5_3c95094b0a68row14_col10 {\n",
       "            background-color:  #f9daed;\n",
       "            color:  #000000;\n",
       "        }    #T_b1121698_baa0_11ea_80b5_3c95094b0a68row14_col11 {\n",
       "            background-color:  #f1bbdd;\n",
       "            color:  #000000;\n",
       "        }    #T_b1121698_baa0_11ea_80b5_3c95094b0a68row14_col12 {\n",
       "            background-color:  #ea9fce;\n",
       "            color:  #000000;\n",
       "        }    #T_b1121698_baa0_11ea_80b5_3c95094b0a68row14_col13 {\n",
       "            background-color:  #f0b6db;\n",
       "            color:  #000000;\n",
       "        }    #T_b1121698_baa0_11ea_80b5_3c95094b0a68row14_col14 {\n",
       "            background-color:  #c71585;\n",
       "            color:  #f1f1f1;\n",
       "        }    #T_b1121698_baa0_11ea_80b5_3c95094b0a68row14_col15 {\n",
       "            background-color:  #f4c5e2;\n",
       "            color:  #000000;\n",
       "        }    #T_b1121698_baa0_11ea_80b5_3c95094b0a68row14_col16 {\n",
       "            background-color:  #fce4f3;\n",
       "            color:  #000000;\n",
       "        }    #T_b1121698_baa0_11ea_80b5_3c95094b0a68row14_col17 {\n",
       "            background-color:  #f8d5eb;\n",
       "            color:  #000000;\n",
       "        }    #T_b1121698_baa0_11ea_80b5_3c95094b0a68row15_col0 {\n",
       "            background-color:  #f9d9ed;\n",
       "            color:  #000000;\n",
       "        }    #T_b1121698_baa0_11ea_80b5_3c95094b0a68row15_col1 {\n",
       "            background-color:  #fbe2f2;\n",
       "            color:  #000000;\n",
       "        }    #T_b1121698_baa0_11ea_80b5_3c95094b0a68row15_col2 {\n",
       "            background-color:  #c91e8a;\n",
       "            color:  #f1f1f1;\n",
       "        }    #T_b1121698_baa0_11ea_80b5_3c95094b0a68row15_col3 {\n",
       "            background-color:  #e27ebd;\n",
       "            color:  #000000;\n",
       "        }    #T_b1121698_baa0_11ea_80b5_3c95094b0a68row15_col4 {\n",
       "            background-color:  #e27fbd;\n",
       "            color:  #000000;\n",
       "        }    #T_b1121698_baa0_11ea_80b5_3c95094b0a68row15_col5 {\n",
       "            background-color:  #e27ebd;\n",
       "            color:  #000000;\n",
       "        }    #T_b1121698_baa0_11ea_80b5_3c95094b0a68row15_col6 {\n",
       "            background-color:  #e27ebd;\n",
       "            color:  #000000;\n",
       "        }    #T_b1121698_baa0_11ea_80b5_3c95094b0a68row15_col7 {\n",
       "            background-color:  #e27fbd;\n",
       "            color:  #000000;\n",
       "        }    #T_b1121698_baa0_11ea_80b5_3c95094b0a68row15_col8 {\n",
       "            background-color:  #efb4d9;\n",
       "            color:  #000000;\n",
       "        }    #T_b1121698_baa0_11ea_80b5_3c95094b0a68row15_col9 {\n",
       "            background-color:  #c81786;\n",
       "            color:  #f1f1f1;\n",
       "        }    #T_b1121698_baa0_11ea_80b5_3c95094b0a68row15_col10 {\n",
       "            background-color:  #fbe0f1;\n",
       "            color:  #000000;\n",
       "        }    #T_b1121698_baa0_11ea_80b5_3c95094b0a68row15_col11 {\n",
       "            background-color:  #f8d4ea;\n",
       "            color:  #000000;\n",
       "        }    #T_b1121698_baa0_11ea_80b5_3c95094b0a68row15_col12 {\n",
       "            background-color:  #d13c9a;\n",
       "            color:  #f1f1f1;\n",
       "        }    #T_b1121698_baa0_11ea_80b5_3c95094b0a68row15_col13 {\n",
       "            background-color:  #d448a0;\n",
       "            color:  #000000;\n",
       "        }    #T_b1121698_baa0_11ea_80b5_3c95094b0a68row15_col14 {\n",
       "            background-color:  #fae0f1;\n",
       "            color:  #000000;\n",
       "        }    #T_b1121698_baa0_11ea_80b5_3c95094b0a68row15_col15 {\n",
       "            background-color:  #c71585;\n",
       "            color:  #f1f1f1;\n",
       "        }    #T_b1121698_baa0_11ea_80b5_3c95094b0a68row15_col16 {\n",
       "            background-color:  #f6cee7;\n",
       "            color:  #000000;\n",
       "        }    #T_b1121698_baa0_11ea_80b5_3c95094b0a68row15_col17 {\n",
       "            background-color:  #dd6ab2;\n",
       "            color:  #000000;\n",
       "        }    #T_b1121698_baa0_11ea_80b5_3c95094b0a68row16_col0 {\n",
       "            background-color:  #f8d7ec;\n",
       "            color:  #000000;\n",
       "        }    #T_b1121698_baa0_11ea_80b5_3c95094b0a68row16_col1 {\n",
       "            background-color:  #fbe2f2;\n",
       "            color:  #000000;\n",
       "        }    #T_b1121698_baa0_11ea_80b5_3c95094b0a68row16_col2 {\n",
       "            background-color:  #f2bfdf;\n",
       "            color:  #000000;\n",
       "        }    #T_b1121698_baa0_11ea_80b5_3c95094b0a68row16_col3 {\n",
       "            background-color:  #e27fbd;\n",
       "            color:  #000000;\n",
       "        }    #T_b1121698_baa0_11ea_80b5_3c95094b0a68row16_col4 {\n",
       "            background-color:  #e27ebd;\n",
       "            color:  #000000;\n",
       "        }    #T_b1121698_baa0_11ea_80b5_3c95094b0a68row16_col5 {\n",
       "            background-color:  #eeb0d7;\n",
       "            color:  #000000;\n",
       "        }    #T_b1121698_baa0_11ea_80b5_3c95094b0a68row16_col6 {\n",
       "            background-color:  #e27ebd;\n",
       "            color:  #000000;\n",
       "        }    #T_b1121698_baa0_11ea_80b5_3c95094b0a68row16_col7 {\n",
       "            background-color:  #e27fbd;\n",
       "            color:  #000000;\n",
       "        }    #T_b1121698_baa0_11ea_80b5_3c95094b0a68row16_col8 {\n",
       "            background-color:  #ea9fce;\n",
       "            color:  #000000;\n",
       "        }    #T_b1121698_baa0_11ea_80b5_3c95094b0a68row16_col9 {\n",
       "            background-color:  #efb4d9;\n",
       "            color:  #000000;\n",
       "        }    #T_b1121698_baa0_11ea_80b5_3c95094b0a68row16_col10 {\n",
       "            background-color:  #f9dcee;\n",
       "            color:  #000000;\n",
       "        }    #T_b1121698_baa0_11ea_80b5_3c95094b0a68row16_col11 {\n",
       "            background-color:  #f0b5da;\n",
       "            color:  #000000;\n",
       "        }    #T_b1121698_baa0_11ea_80b5_3c95094b0a68row16_col12 {\n",
       "            background-color:  #e897ca;\n",
       "            color:  #000000;\n",
       "        }    #T_b1121698_baa0_11ea_80b5_3c95094b0a68row16_col13 {\n",
       "            background-color:  #eeadd6;\n",
       "            color:  #000000;\n",
       "        }    #T_b1121698_baa0_11ea_80b5_3c95094b0a68row16_col14 {\n",
       "            background-color:  #fadff0;\n",
       "            color:  #000000;\n",
       "        }    #T_b1121698_baa0_11ea_80b5_3c95094b0a68row16_col15 {\n",
       "            background-color:  #efb2d8;\n",
       "            color:  #000000;\n",
       "        }    #T_b1121698_baa0_11ea_80b5_3c95094b0a68row16_col16 {\n",
       "            background-color:  #c71585;\n",
       "            color:  #f1f1f1;\n",
       "        }    #T_b1121698_baa0_11ea_80b5_3c95094b0a68row16_col17 {\n",
       "            background-color:  #f9daed;\n",
       "            color:  #000000;\n",
       "        }    #T_b1121698_baa0_11ea_80b5_3c95094b0a68row17_col0 {\n",
       "            background-color:  #f8d7ec;\n",
       "            color:  #000000;\n",
       "        }    #T_b1121698_baa0_11ea_80b5_3c95094b0a68row17_col1 {\n",
       "            background-color:  #fbe2f2;\n",
       "            color:  #000000;\n",
       "        }    #T_b1121698_baa0_11ea_80b5_3c95094b0a68row17_col2 {\n",
       "            background-color:  #d651a5;\n",
       "            color:  #000000;\n",
       "        }    #T_b1121698_baa0_11ea_80b5_3c95094b0a68row17_col3 {\n",
       "            background-color:  #e27ebd;\n",
       "            color:  #000000;\n",
       "        }    #T_b1121698_baa0_11ea_80b5_3c95094b0a68row17_col4 {\n",
       "            background-color:  #e27ebd;\n",
       "            color:  #000000;\n",
       "        }    #T_b1121698_baa0_11ea_80b5_3c95094b0a68row17_col5 {\n",
       "            background-color:  #e895c9;\n",
       "            color:  #000000;\n",
       "        }    #T_b1121698_baa0_11ea_80b5_3c95094b0a68row17_col6 {\n",
       "            background-color:  #e27ebd;\n",
       "            color:  #000000;\n",
       "        }    #T_b1121698_baa0_11ea_80b5_3c95094b0a68row17_col7 {\n",
       "            background-color:  #e27fbd;\n",
       "            color:  #000000;\n",
       "        }    #T_b1121698_baa0_11ea_80b5_3c95094b0a68row17_col8 {\n",
       "            background-color:  #eba3d0;\n",
       "            color:  #000000;\n",
       "        }    #T_b1121698_baa0_11ea_80b5_3c95094b0a68row17_col9 {\n",
       "            background-color:  #db64af;\n",
       "            color:  #000000;\n",
       "        }    #T_b1121698_baa0_11ea_80b5_3c95094b0a68row17_col10 {\n",
       "            background-color:  #f9dcee;\n",
       "            color:  #000000;\n",
       "        }    #T_b1121698_baa0_11ea_80b5_3c95094b0a68row17_col11 {\n",
       "            background-color:  #f3c4e2;\n",
       "            color:  #000000;\n",
       "        }    #T_b1121698_baa0_11ea_80b5_3c95094b0a68row17_col12 {\n",
       "            background-color:  #de6fb5;\n",
       "            color:  #000000;\n",
       "        }    #T_b1121698_baa0_11ea_80b5_3c95094b0a68row17_col13 {\n",
       "            background-color:  #de71b6;\n",
       "            color:  #000000;\n",
       "        }    #T_b1121698_baa0_11ea_80b5_3c95094b0a68row17_col14 {\n",
       "            background-color:  #fadff0;\n",
       "            color:  #000000;\n",
       "        }    #T_b1121698_baa0_11ea_80b5_3c95094b0a68row17_col15 {\n",
       "            background-color:  #db63ae;\n",
       "            color:  #000000;\n",
       "        }    #T_b1121698_baa0_11ea_80b5_3c95094b0a68row17_col16 {\n",
       "            background-color:  #fde8f5;\n",
       "            color:  #000000;\n",
       "        }    #T_b1121698_baa0_11ea_80b5_3c95094b0a68row17_col17 {\n",
       "            background-color:  #c71585;\n",
       "            color:  #f1f1f1;\n",
       "        }</style><table id=\"T_b1121698_baa0_11ea_80b5_3c95094b0a68\" ><thead>    <tr>        <th class=\"blank level0\" ></th>        <th class=\"col_heading level0 col0\" >VendorID</th>        <th class=\"col_heading level0 col1\" >passenger_count</th>        <th class=\"col_heading level0 col2\" >trip_distance</th>        <th class=\"col_heading level0 col3\" >pickup_longitude</th>        <th class=\"col_heading level0 col4\" >pickup_latitude</th>        <th class=\"col_heading level0 col5\" >RatecodeID</th>        <th class=\"col_heading level0 col6\" >dropoff_longitude</th>        <th class=\"col_heading level0 col7\" >dropoff_latitude</th>        <th class=\"col_heading level0 col8\" >payment_type</th>        <th class=\"col_heading level0 col9\" >fare_amount</th>        <th class=\"col_heading level0 col10\" >extra</th>        <th class=\"col_heading level0 col11\" >mta_tax</th>        <th class=\"col_heading level0 col12\" >tip_amount</th>        <th class=\"col_heading level0 col13\" >tolls_amount</th>        <th class=\"col_heading level0 col14\" >improvement_surcharge</th>        <th class=\"col_heading level0 col15\" >total_amount</th>        <th class=\"col_heading level0 col16\" >trip_minutes</th>        <th class=\"col_heading level0 col17\" >avg_speed</th>    </tr></thead><tbody>\n",
       "                <tr>\n",
       "                        <th id=\"T_b1121698_baa0_11ea_80b5_3c95094b0a68level0_row0\" class=\"row_heading level0 row0\" >VendorID</th>\n",
       "                        <td id=\"T_b1121698_baa0_11ea_80b5_3c95094b0a68row0_col0\" class=\"data row0 col0\" >1.000000</td>\n",
       "                        <td id=\"T_b1121698_baa0_11ea_80b5_3c95094b0a68row0_col1\" class=\"data row0 col1\" >0.293954</td>\n",
       "                        <td id=\"T_b1121698_baa0_11ea_80b5_3c95094b0a68row0_col2\" class=\"data row0 col2\" >0.017680</td>\n",
       "                        <td id=\"T_b1121698_baa0_11ea_80b5_3c95094b0a68row0_col3\" class=\"data row0 col3\" >-0.063011</td>\n",
       "                        <td id=\"T_b1121698_baa0_11ea_80b5_3c95094b0a68row0_col4\" class=\"data row0 col4\" >0.063083</td>\n",
       "                        <td id=\"T_b1121698_baa0_11ea_80b5_3c95094b0a68row0_col5\" class=\"data row0 col5\" >0.000780</td>\n",
       "                        <td id=\"T_b1121698_baa0_11ea_80b5_3c95094b0a68row0_col6\" class=\"data row0 col6\" >-0.050082</td>\n",
       "                        <td id=\"T_b1121698_baa0_11ea_80b5_3c95094b0a68row0_col7\" class=\"data row0 col7\" >0.050122</td>\n",
       "                        <td id=\"T_b1121698_baa0_11ea_80b5_3c95094b0a68row0_col8\" class=\"data row0 col8\" >-0.008301</td>\n",
       "                        <td id=\"T_b1121698_baa0_11ea_80b5_3c95094b0a68row0_col9\" class=\"data row0 col9\" >0.013158</td>\n",
       "                        <td id=\"T_b1121698_baa0_11ea_80b5_3c95094b0a68row0_col10\" class=\"data row0 col10\" >-0.014650</td>\n",
       "                        <td id=\"T_b1121698_baa0_11ea_80b5_3c95094b0a68row0_col11\" class=\"data row0 col11\" >0.010242</td>\n",
       "                        <td id=\"T_b1121698_baa0_11ea_80b5_3c95094b0a68row0_col12\" class=\"data row0 col12\" >0.008841</td>\n",
       "                        <td id=\"T_b1121698_baa0_11ea_80b5_3c95094b0a68row0_col13\" class=\"data row0 col13\" >0.009410</td>\n",
       "                        <td id=\"T_b1121698_baa0_11ea_80b5_3c95094b0a68row0_col14\" class=\"data row0 col14\" >-0.003195</td>\n",
       "                        <td id=\"T_b1121698_baa0_11ea_80b5_3c95094b0a68row0_col15\" class=\"data row0 col15\" >0.012885</td>\n",
       "                        <td id=\"T_b1121698_baa0_11ea_80b5_3c95094b0a68row0_col16\" class=\"data row0 col16\" >0.023096</td>\n",
       "                        <td id=\"T_b1121698_baa0_11ea_80b5_3c95094b0a68row0_col17\" class=\"data row0 col17\" >0.027053</td>\n",
       "            </tr>\n",
       "            <tr>\n",
       "                        <th id=\"T_b1121698_baa0_11ea_80b5_3c95094b0a68level0_row1\" class=\"row_heading level0 row1\" >passenger_count</th>\n",
       "                        <td id=\"T_b1121698_baa0_11ea_80b5_3c95094b0a68row1_col0\" class=\"data row1 col0\" >0.293954</td>\n",
       "                        <td id=\"T_b1121698_baa0_11ea_80b5_3c95094b0a68row1_col1\" class=\"data row1 col1\" >1.000000</td>\n",
       "                        <td id=\"T_b1121698_baa0_11ea_80b5_3c95094b0a68row1_col2\" class=\"data row1 col2\" >0.014040</td>\n",
       "                        <td id=\"T_b1121698_baa0_11ea_80b5_3c95094b0a68row1_col3\" class=\"data row1 col3\" >-0.018981</td>\n",
       "                        <td id=\"T_b1121698_baa0_11ea_80b5_3c95094b0a68row1_col4\" class=\"data row1 col4\" >0.018971</td>\n",
       "                        <td id=\"T_b1121698_baa0_11ea_80b5_3c95094b0a68row1_col5\" class=\"data row1 col5\" >-0.000046</td>\n",
       "                        <td id=\"T_b1121698_baa0_11ea_80b5_3c95094b0a68row1_col6\" class=\"data row1 col6\" >-0.015777</td>\n",
       "                        <td id=\"T_b1121698_baa0_11ea_80b5_3c95094b0a68row1_col7\" class=\"data row1 col7\" >0.015772</td>\n",
       "                        <td id=\"T_b1121698_baa0_11ea_80b5_3c95094b0a68row1_col8\" class=\"data row1 col8\" >0.012402</td>\n",
       "                        <td id=\"T_b1121698_baa0_11ea_80b5_3c95094b0a68row1_col9\" class=\"data row1 col9\" >0.012409</td>\n",
       "                        <td id=\"T_b1121698_baa0_11ea_80b5_3c95094b0a68row1_col10\" class=\"data row1 col10\" >-0.005542</td>\n",
       "                        <td id=\"T_b1121698_baa0_11ea_80b5_3c95094b0a68row1_col11\" class=\"data row1 col11\" >0.003979</td>\n",
       "                        <td id=\"T_b1121698_baa0_11ea_80b5_3c95094b0a68row1_col12\" class=\"data row1 col12\" >-0.002770</td>\n",
       "                        <td id=\"T_b1121698_baa0_11ea_80b5_3c95094b0a68row1_col13\" class=\"data row1 col13\" >0.010082</td>\n",
       "                        <td id=\"T_b1121698_baa0_11ea_80b5_3c95094b0a68row1_col14\" class=\"data row1 col14\" >0.000474</td>\n",
       "                        <td id=\"T_b1121698_baa0_11ea_80b5_3c95094b0a68row1_col15\" class=\"data row1 col15\" >0.010440</td>\n",
       "                        <td id=\"T_b1121698_baa0_11ea_80b5_3c95094b0a68row1_col16\" class=\"data row1 col16\" >0.009009</td>\n",
       "                        <td id=\"T_b1121698_baa0_11ea_80b5_3c95094b0a68row1_col17\" class=\"data row1 col17\" >0.009450</td>\n",
       "            </tr>\n",
       "            <tr>\n",
       "                        <th id=\"T_b1121698_baa0_11ea_80b5_3c95094b0a68level0_row2\" class=\"row_heading level0 row2\" >trip_distance</th>\n",
       "                        <td id=\"T_b1121698_baa0_11ea_80b5_3c95094b0a68row2_col0\" class=\"data row2 col0\" >0.017680</td>\n",
       "                        <td id=\"T_b1121698_baa0_11ea_80b5_3c95094b0a68row2_col1\" class=\"data row2 col1\" >0.014040</td>\n",
       "                        <td id=\"T_b1121698_baa0_11ea_80b5_3c95094b0a68row2_col2\" class=\"data row2 col2\" >1.000000</td>\n",
       "                        <td id=\"T_b1121698_baa0_11ea_80b5_3c95094b0a68row2_col3\" class=\"data row2 col3\" >-0.001220</td>\n",
       "                        <td id=\"T_b1121698_baa0_11ea_80b5_3c95094b0a68row2_col4\" class=\"data row2 col4\" >0.001694</td>\n",
       "                        <td id=\"T_b1121698_baa0_11ea_80b5_3c95094b0a68row2_col5\" class=\"data row2 col5\" >0.312947</td>\n",
       "                        <td id=\"T_b1121698_baa0_11ea_80b5_3c95094b0a68row2_col6\" class=\"data row2 col6\" >-0.001046</td>\n",
       "                        <td id=\"T_b1121698_baa0_11ea_80b5_3c95094b0a68row2_col7\" class=\"data row2 col7\" >0.001244</td>\n",
       "                        <td id=\"T_b1121698_baa0_11ea_80b5_3c95094b0a68row2_col8\" class=\"data row2 col8\" >-0.055897</td>\n",
       "                        <td id=\"T_b1121698_baa0_11ea_80b5_3c95094b0a68row2_col9\" class=\"data row2 col9\" >0.959114</td>\n",
       "                        <td id=\"T_b1121698_baa0_11ea_80b5_3c95094b0a68row2_col10\" class=\"data row2 col10\" >-0.052402</td>\n",
       "                        <td id=\"T_b1121698_baa0_11ea_80b5_3c95094b0a68row2_col11\" class=\"data row2 col11\" >-0.122108</td>\n",
       "                        <td id=\"T_b1121698_baa0_11ea_80b5_3c95094b0a68row2_col12\" class=\"data row2 col12\" >0.579259</td>\n",
       "                        <td id=\"T_b1121698_baa0_11ea_80b5_3c95094b0a68row2_col13\" class=\"data row2 col13\" >0.617992</td>\n",
       "                        <td id=\"T_b1121698_baa0_11ea_80b5_3c95094b0a68row2_col14\" class=\"data row2 col14\" >0.000032</td>\n",
       "                        <td id=\"T_b1121698_baa0_11ea_80b5_3c95094b0a68row2_col15\" class=\"data row2 col15\" >0.948094</td>\n",
       "                        <td id=\"T_b1121698_baa0_11ea_80b5_3c95094b0a68row2_col16\" class=\"data row2 col16\" >0.097606</td>\n",
       "                        <td id=\"T_b1121698_baa0_11ea_80b5_3c95094b0a68row2_col17\" class=\"data row2 col17\" >0.679255</td>\n",
       "            </tr>\n",
       "            <tr>\n",
       "                        <th id=\"T_b1121698_baa0_11ea_80b5_3c95094b0a68level0_row3\" class=\"row_heading level0 row3\" >pickup_longitude</th>\n",
       "                        <td id=\"T_b1121698_baa0_11ea_80b5_3c95094b0a68row3_col0\" class=\"data row3 col0\" >-0.063011</td>\n",
       "                        <td id=\"T_b1121698_baa0_11ea_80b5_3c95094b0a68row3_col1\" class=\"data row3 col1\" >-0.018981</td>\n",
       "                        <td id=\"T_b1121698_baa0_11ea_80b5_3c95094b0a68row3_col2\" class=\"data row3 col2\" >-0.001220</td>\n",
       "                        <td id=\"T_b1121698_baa0_11ea_80b5_3c95094b0a68row3_col3\" class=\"data row3 col3\" >1.000000</td>\n",
       "                        <td id=\"T_b1121698_baa0_11ea_80b5_3c95094b0a68row3_col4\" class=\"data row3 col4\" >-0.999936</td>\n",
       "                        <td id=\"T_b1121698_baa0_11ea_80b5_3c95094b0a68row3_col5\" class=\"data row3 col5\" >0.004007</td>\n",
       "                        <td id=\"T_b1121698_baa0_11ea_80b5_3c95094b0a68row3_col6\" class=\"data row3 col6\" >0.917240</td>\n",
       "                        <td id=\"T_b1121698_baa0_11ea_80b5_3c95094b0a68row3_col7\" class=\"data row3 col7\" >-0.917200</td>\n",
       "                        <td id=\"T_b1121698_baa0_11ea_80b5_3c95094b0a68row3_col8\" class=\"data row3 col8\" >0.002016</td>\n",
       "                        <td id=\"T_b1121698_baa0_11ea_80b5_3c95094b0a68row3_col9\" class=\"data row3 col9\" >0.000857</td>\n",
       "                        <td id=\"T_b1121698_baa0_11ea_80b5_3c95094b0a68row3_col10\" class=\"data row3 col10\" >0.001110</td>\n",
       "                        <td id=\"T_b1121698_baa0_11ea_80b5_3c95094b0a68row3_col11\" class=\"data row3 col11\" >-0.000218</td>\n",
       "                        <td id=\"T_b1121698_baa0_11ea_80b5_3c95094b0a68row3_col12\" class=\"data row3 col12\" >-0.000190</td>\n",
       "                        <td id=\"T_b1121698_baa0_11ea_80b5_3c95094b0a68row3_col13\" class=\"data row3 col13\" >-0.001145</td>\n",
       "                        <td id=\"T_b1121698_baa0_11ea_80b5_3c95094b0a68row3_col14\" class=\"data row3 col14\" >-0.003573</td>\n",
       "                        <td id=\"T_b1121698_baa0_11ea_80b5_3c95094b0a68row3_col15\" class=\"data row3 col15\" >0.000567</td>\n",
       "                        <td id=\"T_b1121698_baa0_11ea_80b5_3c95094b0a68row3_col16\" class=\"data row3 col16\" >-0.000174</td>\n",
       "                        <td id=\"T_b1121698_baa0_11ea_80b5_3c95094b0a68row3_col17\" class=\"data row3 col17\" >0.000074</td>\n",
       "            </tr>\n",
       "            <tr>\n",
       "                        <th id=\"T_b1121698_baa0_11ea_80b5_3c95094b0a68level0_row4\" class=\"row_heading level0 row4\" >pickup_latitude</th>\n",
       "                        <td id=\"T_b1121698_baa0_11ea_80b5_3c95094b0a68row4_col0\" class=\"data row4 col0\" >0.063083</td>\n",
       "                        <td id=\"T_b1121698_baa0_11ea_80b5_3c95094b0a68row4_col1\" class=\"data row4 col1\" >0.018971</td>\n",
       "                        <td id=\"T_b1121698_baa0_11ea_80b5_3c95094b0a68row4_col2\" class=\"data row4 col2\" >0.001694</td>\n",
       "                        <td id=\"T_b1121698_baa0_11ea_80b5_3c95094b0a68row4_col3\" class=\"data row4 col3\" >-0.999936</td>\n",
       "                        <td id=\"T_b1121698_baa0_11ea_80b5_3c95094b0a68row4_col4\" class=\"data row4 col4\" >1.000000</td>\n",
       "                        <td id=\"T_b1121698_baa0_11ea_80b5_3c95094b0a68row4_col5\" class=\"data row4 col5\" >-0.004026</td>\n",
       "                        <td id=\"T_b1121698_baa0_11ea_80b5_3c95094b0a68row4_col6\" class=\"data row4 col6\" >-0.917209</td>\n",
       "                        <td id=\"T_b1121698_baa0_11ea_80b5_3c95094b0a68row4_col7\" class=\"data row4 col7\" >0.917239</td>\n",
       "                        <td id=\"T_b1121698_baa0_11ea_80b5_3c95094b0a68row4_col8\" class=\"data row4 col8\" >-0.001739</td>\n",
       "                        <td id=\"T_b1121698_baa0_11ea_80b5_3c95094b0a68row4_col9\" class=\"data row4 col9\" >-0.000445</td>\n",
       "                        <td id=\"T_b1121698_baa0_11ea_80b5_3c95094b0a68row4_col10\" class=\"data row4 col10\" >-0.001433</td>\n",
       "                        <td id=\"T_b1121698_baa0_11ea_80b5_3c95094b0a68row4_col11\" class=\"data row4 col11\" >0.000278</td>\n",
       "                        <td id=\"T_b1121698_baa0_11ea_80b5_3c95094b0a68row4_col12\" class=\"data row4 col12\" >0.000457</td>\n",
       "                        <td id=\"T_b1121698_baa0_11ea_80b5_3c95094b0a68row4_col13\" class=\"data row4 col13\" >0.002167</td>\n",
       "                        <td id=\"T_b1121698_baa0_11ea_80b5_3c95094b0a68row4_col14\" class=\"data row4 col14\" >0.003566</td>\n",
       "                        <td id=\"T_b1121698_baa0_11ea_80b5_3c95094b0a68row4_col15\" class=\"data row4 col15\" >-0.000084</td>\n",
       "                        <td id=\"T_b1121698_baa0_11ea_80b5_3c95094b0a68row4_col16\" class=\"data row4 col16\" >0.000193</td>\n",
       "                        <td id=\"T_b1121698_baa0_11ea_80b5_3c95094b0a68row4_col17\" class=\"data row4 col17\" >0.000546</td>\n",
       "            </tr>\n",
       "            <tr>\n",
       "                        <th id=\"T_b1121698_baa0_11ea_80b5_3c95094b0a68level0_row5\" class=\"row_heading level0 row5\" >RatecodeID</th>\n",
       "                        <td id=\"T_b1121698_baa0_11ea_80b5_3c95094b0a68row5_col0\" class=\"data row5 col0\" >0.000780</td>\n",
       "                        <td id=\"T_b1121698_baa0_11ea_80b5_3c95094b0a68row5_col1\" class=\"data row5 col1\" >-0.000046</td>\n",
       "                        <td id=\"T_b1121698_baa0_11ea_80b5_3c95094b0a68row5_col2\" class=\"data row5 col2\" >0.312947</td>\n",
       "                        <td id=\"T_b1121698_baa0_11ea_80b5_3c95094b0a68row5_col3\" class=\"data row5 col3\" >0.004007</td>\n",
       "                        <td id=\"T_b1121698_baa0_11ea_80b5_3c95094b0a68row5_col4\" class=\"data row5 col4\" >-0.004026</td>\n",
       "                        <td id=\"T_b1121698_baa0_11ea_80b5_3c95094b0a68row5_col5\" class=\"data row5 col5\" >1.000000</td>\n",
       "                        <td id=\"T_b1121698_baa0_11ea_80b5_3c95094b0a68row5_col6\" class=\"data row5 col6\" >0.003544</td>\n",
       "                        <td id=\"T_b1121698_baa0_11ea_80b5_3c95094b0a68row5_col7\" class=\"data row5 col7\" >-0.003766</td>\n",
       "                        <td id=\"T_b1121698_baa0_11ea_80b5_3c95094b0a68row5_col8\" class=\"data row5 col8\" >-0.004035</td>\n",
       "                        <td id=\"T_b1121698_baa0_11ea_80b5_3c95094b0a68row5_col9\" class=\"data row5 col9\" >0.336661</td>\n",
       "                        <td id=\"T_b1121698_baa0_11ea_80b5_3c95094b0a68row5_col10\" class=\"data row5 col10\" >-0.064504</td>\n",
       "                        <td id=\"T_b1121698_baa0_11ea_80b5_3c95094b0a68row5_col11\" class=\"data row5 col11\" >-0.328448</td>\n",
       "                        <td id=\"T_b1121698_baa0_11ea_80b5_3c95094b0a68row5_col12\" class=\"data row5 col12\" >0.200458</td>\n",
       "                        <td id=\"T_b1121698_baa0_11ea_80b5_3c95094b0a68row5_col13\" class=\"data row5 col13\" >0.312244</td>\n",
       "                        <td id=\"T_b1121698_baa0_11ea_80b5_3c95094b0a68row5_col14\" class=\"data row5 col14\" >-0.006540</td>\n",
       "                        <td id=\"T_b1121698_baa0_11ea_80b5_3c95094b0a68row5_col15\" class=\"data row5 col15\" >0.340517</td>\n",
       "                        <td id=\"T_b1121698_baa0_11ea_80b5_3c95094b0a68row5_col16\" class=\"data row5 col16\" >0.026125</td>\n",
       "                        <td id=\"T_b1121698_baa0_11ea_80b5_3c95094b0a68row5_col17\" class=\"data row5 col17\" >0.191241</td>\n",
       "            </tr>\n",
       "            <tr>\n",
       "                        <th id=\"T_b1121698_baa0_11ea_80b5_3c95094b0a68level0_row6\" class=\"row_heading level0 row6\" >dropoff_longitude</th>\n",
       "                        <td id=\"T_b1121698_baa0_11ea_80b5_3c95094b0a68row6_col0\" class=\"data row6 col0\" >-0.050082</td>\n",
       "                        <td id=\"T_b1121698_baa0_11ea_80b5_3c95094b0a68row6_col1\" class=\"data row6 col1\" >-0.015777</td>\n",
       "                        <td id=\"T_b1121698_baa0_11ea_80b5_3c95094b0a68row6_col2\" class=\"data row6 col2\" >-0.001046</td>\n",
       "                        <td id=\"T_b1121698_baa0_11ea_80b5_3c95094b0a68row6_col3\" class=\"data row6 col3\" >0.917240</td>\n",
       "                        <td id=\"T_b1121698_baa0_11ea_80b5_3c95094b0a68row6_col4\" class=\"data row6 col4\" >-0.917209</td>\n",
       "                        <td id=\"T_b1121698_baa0_11ea_80b5_3c95094b0a68row6_col5\" class=\"data row6 col5\" >0.003544</td>\n",
       "                        <td id=\"T_b1121698_baa0_11ea_80b5_3c95094b0a68row6_col6\" class=\"data row6 col6\" >1.000000</td>\n",
       "                        <td id=\"T_b1121698_baa0_11ea_80b5_3c95094b0a68row6_col7\" class=\"data row6 col7\" >-0.999913</td>\n",
       "                        <td id=\"T_b1121698_baa0_11ea_80b5_3c95094b0a68row6_col8\" class=\"data row6 col8\" >0.002922</td>\n",
       "                        <td id=\"T_b1121698_baa0_11ea_80b5_3c95094b0a68row6_col9\" class=\"data row6 col9\" >0.000886</td>\n",
       "                        <td id=\"T_b1121698_baa0_11ea_80b5_3c95094b0a68row6_col10\" class=\"data row6 col10\" >0.001521</td>\n",
       "                        <td id=\"T_b1121698_baa0_11ea_80b5_3c95094b0a68row6_col11\" class=\"data row6 col11\" >0.000681</td>\n",
       "                        <td id=\"T_b1121698_baa0_11ea_80b5_3c95094b0a68row6_col12\" class=\"data row6 col12\" >-0.000681</td>\n",
       "                        <td id=\"T_b1121698_baa0_11ea_80b5_3c95094b0a68row6_col13\" class=\"data row6 col13\" >-0.001168</td>\n",
       "                        <td id=\"T_b1121698_baa0_11ea_80b5_3c95094b0a68row6_col14\" class=\"data row6 col14\" >-0.001378</td>\n",
       "                        <td id=\"T_b1121698_baa0_11ea_80b5_3c95094b0a68row6_col15\" class=\"data row6 col15\" >0.000510</td>\n",
       "                        <td id=\"T_b1121698_baa0_11ea_80b5_3c95094b0a68row6_col16\" class=\"data row6 col16\" >0.000164</td>\n",
       "                        <td id=\"T_b1121698_baa0_11ea_80b5_3c95094b0a68row6_col17\" class=\"data row6 col17\" >0.001109</td>\n",
       "            </tr>\n",
       "            <tr>\n",
       "                        <th id=\"T_b1121698_baa0_11ea_80b5_3c95094b0a68level0_row7\" class=\"row_heading level0 row7\" >dropoff_latitude</th>\n",
       "                        <td id=\"T_b1121698_baa0_11ea_80b5_3c95094b0a68row7_col0\" class=\"data row7 col0\" >0.050122</td>\n",
       "                        <td id=\"T_b1121698_baa0_11ea_80b5_3c95094b0a68row7_col1\" class=\"data row7 col1\" >0.015772</td>\n",
       "                        <td id=\"T_b1121698_baa0_11ea_80b5_3c95094b0a68row7_col2\" class=\"data row7 col2\" >0.001244</td>\n",
       "                        <td id=\"T_b1121698_baa0_11ea_80b5_3c95094b0a68row7_col3\" class=\"data row7 col3\" >-0.917200</td>\n",
       "                        <td id=\"T_b1121698_baa0_11ea_80b5_3c95094b0a68row7_col4\" class=\"data row7 col4\" >0.917239</td>\n",
       "                        <td id=\"T_b1121698_baa0_11ea_80b5_3c95094b0a68row7_col5\" class=\"data row7 col5\" >-0.003766</td>\n",
       "                        <td id=\"T_b1121698_baa0_11ea_80b5_3c95094b0a68row7_col6\" class=\"data row7 col6\" >-0.999913</td>\n",
       "                        <td id=\"T_b1121698_baa0_11ea_80b5_3c95094b0a68row7_col7\" class=\"data row7 col7\" >1.000000</td>\n",
       "                        <td id=\"T_b1121698_baa0_11ea_80b5_3c95094b0a68row7_col8\" class=\"data row7 col8\" >-0.002471</td>\n",
       "                        <td id=\"T_b1121698_baa0_11ea_80b5_3c95094b0a68row7_col9\" class=\"data row7 col9\" >-0.000902</td>\n",
       "                        <td id=\"T_b1121698_baa0_11ea_80b5_3c95094b0a68row7_col10\" class=\"data row7 col10\" >-0.001589</td>\n",
       "                        <td id=\"T_b1121698_baa0_11ea_80b5_3c95094b0a68row7_col11\" class=\"data row7 col11\" >0.000285</td>\n",
       "                        <td id=\"T_b1121698_baa0_11ea_80b5_3c95094b0a68row7_col12\" class=\"data row7 col12\" >0.000412</td>\n",
       "                        <td id=\"T_b1121698_baa0_11ea_80b5_3c95094b0a68row7_col13\" class=\"data row7 col13\" >0.001357</td>\n",
       "                        <td id=\"T_b1121698_baa0_11ea_80b5_3c95094b0a68row7_col14\" class=\"data row7 col14\" >0.001381</td>\n",
       "                        <td id=\"T_b1121698_baa0_11ea_80b5_3c95094b0a68row7_col15\" class=\"data row7 col15\" >-0.000554</td>\n",
       "                        <td id=\"T_b1121698_baa0_11ea_80b5_3c95094b0a68row7_col16\" class=\"data row7 col16\" >-0.000196</td>\n",
       "                        <td id=\"T_b1121698_baa0_11ea_80b5_3c95094b0a68row7_col17\" class=\"data row7 col17\" >-0.000219</td>\n",
       "            </tr>\n",
       "            <tr>\n",
       "                        <th id=\"T_b1121698_baa0_11ea_80b5_3c95094b0a68level0_row8\" class=\"row_heading level0 row8\" >payment_type</th>\n",
       "                        <td id=\"T_b1121698_baa0_11ea_80b5_3c95094b0a68row8_col0\" class=\"data row8 col0\" >-0.008301</td>\n",
       "                        <td id=\"T_b1121698_baa0_11ea_80b5_3c95094b0a68row8_col1\" class=\"data row8 col1\" >0.012402</td>\n",
       "                        <td id=\"T_b1121698_baa0_11ea_80b5_3c95094b0a68row8_col2\" class=\"data row8 col2\" >-0.055897</td>\n",
       "                        <td id=\"T_b1121698_baa0_11ea_80b5_3c95094b0a68row8_col3\" class=\"data row8 col3\" >0.002016</td>\n",
       "                        <td id=\"T_b1121698_baa0_11ea_80b5_3c95094b0a68row8_col4\" class=\"data row8 col4\" >-0.001739</td>\n",
       "                        <td id=\"T_b1121698_baa0_11ea_80b5_3c95094b0a68row8_col5\" class=\"data row8 col5\" >-0.004035</td>\n",
       "                        <td id=\"T_b1121698_baa0_11ea_80b5_3c95094b0a68row8_col6\" class=\"data row8 col6\" >0.002922</td>\n",
       "                        <td id=\"T_b1121698_baa0_11ea_80b5_3c95094b0a68row8_col7\" class=\"data row8 col7\" >-0.002471</td>\n",
       "                        <td id=\"T_b1121698_baa0_11ea_80b5_3c95094b0a68row8_col8\" class=\"data row8 col8\" >1.000000</td>\n",
       "                        <td id=\"T_b1121698_baa0_11ea_80b5_3c95094b0a68row8_col9\" class=\"data row8 col9\" >-0.062318</td>\n",
       "                        <td id=\"T_b1121698_baa0_11ea_80b5_3c95094b0a68row8_col10\" class=\"data row8 col10\" >-0.024341</td>\n",
       "                        <td id=\"T_b1121698_baa0_11ea_80b5_3c95094b0a68row8_col11\" class=\"data row8 col11\" >-0.002313</td>\n",
       "                        <td id=\"T_b1121698_baa0_11ea_80b5_3c95094b0a68row8_col12\" class=\"data row8 col12\" >-0.532619</td>\n",
       "                        <td id=\"T_b1121698_baa0_11ea_80b5_3c95094b0a68row8_col13\" class=\"data row8 col13\" >-0.044492</td>\n",
       "                        <td id=\"T_b1121698_baa0_11ea_80b5_3c95094b0a68row8_col14\" class=\"data row8 col14\" >-0.000008</td>\n",
       "                        <td id=\"T_b1121698_baa0_11ea_80b5_3c95094b0a68row8_col15\" class=\"data row8 col15\" >-0.155385</td>\n",
       "                        <td id=\"T_b1121698_baa0_11ea_80b5_3c95094b0a68row8_col16\" class=\"data row8 col16\" >-0.003324</td>\n",
       "                        <td id=\"T_b1121698_baa0_11ea_80b5_3c95094b0a68row8_col17\" class=\"data row8 col17\" >-0.033291</td>\n",
       "            </tr>\n",
       "            <tr>\n",
       "                        <th id=\"T_b1121698_baa0_11ea_80b5_3c95094b0a68level0_row9\" class=\"row_heading level0 row9\" >fare_amount</th>\n",
       "                        <td id=\"T_b1121698_baa0_11ea_80b5_3c95094b0a68row9_col0\" class=\"data row9 col0\" >0.013158</td>\n",
       "                        <td id=\"T_b1121698_baa0_11ea_80b5_3c95094b0a68row9_col1\" class=\"data row9 col1\" >0.012409</td>\n",
       "                        <td id=\"T_b1121698_baa0_11ea_80b5_3c95094b0a68row9_col2\" class=\"data row9 col2\" >0.959114</td>\n",
       "                        <td id=\"T_b1121698_baa0_11ea_80b5_3c95094b0a68row9_col3\" class=\"data row9 col3\" >0.000857</td>\n",
       "                        <td id=\"T_b1121698_baa0_11ea_80b5_3c95094b0a68row9_col4\" class=\"data row9 col4\" >-0.000445</td>\n",
       "                        <td id=\"T_b1121698_baa0_11ea_80b5_3c95094b0a68row9_col5\" class=\"data row9 col5\" >0.336661</td>\n",
       "                        <td id=\"T_b1121698_baa0_11ea_80b5_3c95094b0a68row9_col6\" class=\"data row9 col6\" >0.000886</td>\n",
       "                        <td id=\"T_b1121698_baa0_11ea_80b5_3c95094b0a68row9_col7\" class=\"data row9 col7\" >-0.000902</td>\n",
       "                        <td id=\"T_b1121698_baa0_11ea_80b5_3c95094b0a68row9_col8\" class=\"data row9 col8\" >-0.062318</td>\n",
       "                        <td id=\"T_b1121698_baa0_11ea_80b5_3c95094b0a68row9_col9\" class=\"data row9 col9\" >1.000000</td>\n",
       "                        <td id=\"T_b1121698_baa0_11ea_80b5_3c95094b0a68row9_col10\" class=\"data row9 col10\" >-0.062231</td>\n",
       "                        <td id=\"T_b1121698_baa0_11ea_80b5_3c95094b0a68row9_col11\" class=\"data row9 col11\" >-0.186297</td>\n",
       "                        <td id=\"T_b1121698_baa0_11ea_80b5_3c95094b0a68row9_col12\" class=\"data row9 col12\" >0.594733</td>\n",
       "                        <td id=\"T_b1121698_baa0_11ea_80b5_3c95094b0a68row9_col13\" class=\"data row9 col13\" >0.609824</td>\n",
       "                        <td id=\"T_b1121698_baa0_11ea_80b5_3c95094b0a68row9_col14\" class=\"data row9 col14\" >-0.002613</td>\n",
       "                        <td id=\"T_b1121698_baa0_11ea_80b5_3c95094b0a68row9_col15\" class=\"data row9 col15\" >0.982737</td>\n",
       "                        <td id=\"T_b1121698_baa0_11ea_80b5_3c95094b0a68row9_col16\" class=\"data row9 col16\" >0.108034</td>\n",
       "                        <td id=\"T_b1121698_baa0_11ea_80b5_3c95094b0a68row9_col17\" class=\"data row9 col17\" >0.553384</td>\n",
       "            </tr>\n",
       "            <tr>\n",
       "                        <th id=\"T_b1121698_baa0_11ea_80b5_3c95094b0a68level0_row10\" class=\"row_heading level0 row10\" >extra</th>\n",
       "                        <td id=\"T_b1121698_baa0_11ea_80b5_3c95094b0a68row10_col0\" class=\"data row10 col0\" >-0.014650</td>\n",
       "                        <td id=\"T_b1121698_baa0_11ea_80b5_3c95094b0a68row10_col1\" class=\"data row10 col1\" >-0.005542</td>\n",
       "                        <td id=\"T_b1121698_baa0_11ea_80b5_3c95094b0a68row10_col2\" class=\"data row10 col2\" >-0.052402</td>\n",
       "                        <td id=\"T_b1121698_baa0_11ea_80b5_3c95094b0a68row10_col3\" class=\"data row10 col3\" >0.001110</td>\n",
       "                        <td id=\"T_b1121698_baa0_11ea_80b5_3c95094b0a68row10_col4\" class=\"data row10 col4\" >-0.001433</td>\n",
       "                        <td id=\"T_b1121698_baa0_11ea_80b5_3c95094b0a68row10_col5\" class=\"data row10 col5\" >-0.064504</td>\n",
       "                        <td id=\"T_b1121698_baa0_11ea_80b5_3c95094b0a68row10_col6\" class=\"data row10 col6\" >0.001521</td>\n",
       "                        <td id=\"T_b1121698_baa0_11ea_80b5_3c95094b0a68row10_col7\" class=\"data row10 col7\" >-0.001589</td>\n",
       "                        <td id=\"T_b1121698_baa0_11ea_80b5_3c95094b0a68row10_col8\" class=\"data row10 col8\" >-0.024341</td>\n",
       "                        <td id=\"T_b1121698_baa0_11ea_80b5_3c95094b0a68row10_col9\" class=\"data row10 col9\" >-0.062231</td>\n",
       "                        <td id=\"T_b1121698_baa0_11ea_80b5_3c95094b0a68row10_col10\" class=\"data row10 col10\" >1.000000</td>\n",
       "                        <td id=\"T_b1121698_baa0_11ea_80b5_3c95094b0a68row10_col11\" class=\"data row10 col11\" >0.014048</td>\n",
       "                        <td id=\"T_b1121698_baa0_11ea_80b5_3c95094b0a68row10_col12\" class=\"data row10 col12\" >-0.010965</td>\n",
       "                        <td id=\"T_b1121698_baa0_11ea_80b5_3c95094b0a68row10_col13\" class=\"data row10 col13\" >-0.070045</td>\n",
       "                        <td id=\"T_b1121698_baa0_11ea_80b5_3c95094b0a68row10_col14\" class=\"data row10 col14\" >0.004469</td>\n",
       "                        <td id=\"T_b1121698_baa0_11ea_80b5_3c95094b0a68row10_col15\" class=\"data row10 col15\" >-0.030135</td>\n",
       "                        <td id=\"T_b1121698_baa0_11ea_80b5_3c95094b0a68row10_col16\" class=\"data row10 col16\" >-0.005855</td>\n",
       "                        <td id=\"T_b1121698_baa0_11ea_80b5_3c95094b0a68row10_col17\" class=\"data row10 col17\" >-0.003984</td>\n",
       "            </tr>\n",
       "            <tr>\n",
       "                        <th id=\"T_b1121698_baa0_11ea_80b5_3c95094b0a68level0_row11\" class=\"row_heading level0 row11\" >mta_tax</th>\n",
       "                        <td id=\"T_b1121698_baa0_11ea_80b5_3c95094b0a68row11_col0\" class=\"data row11 col0\" >0.010242</td>\n",
       "                        <td id=\"T_b1121698_baa0_11ea_80b5_3c95094b0a68row11_col1\" class=\"data row11 col1\" >0.003979</td>\n",
       "                        <td id=\"T_b1121698_baa0_11ea_80b5_3c95094b0a68row11_col2\" class=\"data row11 col2\" >-0.122108</td>\n",
       "                        <td id=\"T_b1121698_baa0_11ea_80b5_3c95094b0a68row11_col3\" class=\"data row11 col3\" >-0.000218</td>\n",
       "                        <td id=\"T_b1121698_baa0_11ea_80b5_3c95094b0a68row11_col4\" class=\"data row11 col4\" >0.000278</td>\n",
       "                        <td id=\"T_b1121698_baa0_11ea_80b5_3c95094b0a68row11_col5\" class=\"data row11 col5\" >-0.328448</td>\n",
       "                        <td id=\"T_b1121698_baa0_11ea_80b5_3c95094b0a68row11_col6\" class=\"data row11 col6\" >0.000681</td>\n",
       "                        <td id=\"T_b1121698_baa0_11ea_80b5_3c95094b0a68row11_col7\" class=\"data row11 col7\" >0.000285</td>\n",
       "                        <td id=\"T_b1121698_baa0_11ea_80b5_3c95094b0a68row11_col8\" class=\"data row11 col8\" >-0.002313</td>\n",
       "                        <td id=\"T_b1121698_baa0_11ea_80b5_3c95094b0a68row11_col9\" class=\"data row11 col9\" >-0.186297</td>\n",
       "                        <td id=\"T_b1121698_baa0_11ea_80b5_3c95094b0a68row11_col10\" class=\"data row11 col10\" >0.014048</td>\n",
       "                        <td id=\"T_b1121698_baa0_11ea_80b5_3c95094b0a68row11_col11\" class=\"data row11 col11\" >1.000000</td>\n",
       "                        <td id=\"T_b1121698_baa0_11ea_80b5_3c95094b0a68row11_col12\" class=\"data row11 col12\" >-0.116615</td>\n",
       "                        <td id=\"T_b1121698_baa0_11ea_80b5_3c95094b0a68row11_col13\" class=\"data row11 col13\" >-0.312913</td>\n",
       "                        <td id=\"T_b1121698_baa0_11ea_80b5_3c95094b0a68row11_col14\" class=\"data row11 col14\" >-0.045787</td>\n",
       "                        <td id=\"T_b1121698_baa0_11ea_80b5_3c95094b0a68row11_col15\" class=\"data row11 col15\" >-0.203471</td>\n",
       "                        <td id=\"T_b1121698_baa0_11ea_80b5_3c95094b0a68row11_col16\" class=\"data row11 col16\" >-0.007918</td>\n",
       "                        <td id=\"T_b1121698_baa0_11ea_80b5_3c95094b0a68row11_col17\" class=\"data row11 col17\" >-0.097285</td>\n",
       "            </tr>\n",
       "            <tr>\n",
       "                        <th id=\"T_b1121698_baa0_11ea_80b5_3c95094b0a68level0_row12\" class=\"row_heading level0 row12\" >tip_amount</th>\n",
       "                        <td id=\"T_b1121698_baa0_11ea_80b5_3c95094b0a68row12_col0\" class=\"data row12 col0\" >0.008841</td>\n",
       "                        <td id=\"T_b1121698_baa0_11ea_80b5_3c95094b0a68row12_col1\" class=\"data row12 col1\" >-0.002770</td>\n",
       "                        <td id=\"T_b1121698_baa0_11ea_80b5_3c95094b0a68row12_col2\" class=\"data row12 col2\" >0.579259</td>\n",
       "                        <td id=\"T_b1121698_baa0_11ea_80b5_3c95094b0a68row12_col3\" class=\"data row12 col3\" >-0.000190</td>\n",
       "                        <td id=\"T_b1121698_baa0_11ea_80b5_3c95094b0a68row12_col4\" class=\"data row12 col4\" >0.000457</td>\n",
       "                        <td id=\"T_b1121698_baa0_11ea_80b5_3c95094b0a68row12_col5\" class=\"data row12 col5\" >0.200458</td>\n",
       "                        <td id=\"T_b1121698_baa0_11ea_80b5_3c95094b0a68row12_col6\" class=\"data row12 col6\" >-0.000681</td>\n",
       "                        <td id=\"T_b1121698_baa0_11ea_80b5_3c95094b0a68row12_col7\" class=\"data row12 col7\" >0.000412</td>\n",
       "                        <td id=\"T_b1121698_baa0_11ea_80b5_3c95094b0a68row12_col8\" class=\"data row12 col8\" >-0.532619</td>\n",
       "                        <td id=\"T_b1121698_baa0_11ea_80b5_3c95094b0a68row12_col9\" class=\"data row12 col9\" >0.594733</td>\n",
       "                        <td id=\"T_b1121698_baa0_11ea_80b5_3c95094b0a68row12_col10\" class=\"data row12 col10\" >-0.010965</td>\n",
       "                        <td id=\"T_b1121698_baa0_11ea_80b5_3c95094b0a68row12_col11\" class=\"data row12 col11\" >-0.116615</td>\n",
       "                        <td id=\"T_b1121698_baa0_11ea_80b5_3c95094b0a68row12_col12\" class=\"data row12 col12\" >1.000000</td>\n",
       "                        <td id=\"T_b1121698_baa0_11ea_80b5_3c95094b0a68row12_col13\" class=\"data row12 col13\" >0.451736</td>\n",
       "                        <td id=\"T_b1121698_baa0_11ea_80b5_3c95094b0a68row12_col14\" class=\"data row12 col14\" >-0.001984</td>\n",
       "                        <td id=\"T_b1121698_baa0_11ea_80b5_3c95094b0a68row12_col15\" class=\"data row12 col15\" >0.715520</td>\n",
       "                        <td id=\"T_b1121698_baa0_11ea_80b5_3c95094b0a68row12_col16\" class=\"data row12 col16\" >0.055838</td>\n",
       "                        <td id=\"T_b1121698_baa0_11ea_80b5_3c95094b0a68row12_col17\" class=\"data row12 col17\" >0.345599</td>\n",
       "            </tr>\n",
       "            <tr>\n",
       "                        <th id=\"T_b1121698_baa0_11ea_80b5_3c95094b0a68level0_row13\" class=\"row_heading level0 row13\" >tolls_amount</th>\n",
       "                        <td id=\"T_b1121698_baa0_11ea_80b5_3c95094b0a68row13_col0\" class=\"data row13 col0\" >0.009410</td>\n",
       "                        <td id=\"T_b1121698_baa0_11ea_80b5_3c95094b0a68row13_col1\" class=\"data row13 col1\" >0.010082</td>\n",
       "                        <td id=\"T_b1121698_baa0_11ea_80b5_3c95094b0a68row13_col2\" class=\"data row13 col2\" >0.617992</td>\n",
       "                        <td id=\"T_b1121698_baa0_11ea_80b5_3c95094b0a68row13_col3\" class=\"data row13 col3\" >-0.001145</td>\n",
       "                        <td id=\"T_b1121698_baa0_11ea_80b5_3c95094b0a68row13_col4\" class=\"data row13 col4\" >0.002167</td>\n",
       "                        <td id=\"T_b1121698_baa0_11ea_80b5_3c95094b0a68row13_col5\" class=\"data row13 col5\" >0.312244</td>\n",
       "                        <td id=\"T_b1121698_baa0_11ea_80b5_3c95094b0a68row13_col6\" class=\"data row13 col6\" >-0.001168</td>\n",
       "                        <td id=\"T_b1121698_baa0_11ea_80b5_3c95094b0a68row13_col7\" class=\"data row13 col7\" >0.001357</td>\n",
       "                        <td id=\"T_b1121698_baa0_11ea_80b5_3c95094b0a68row13_col8\" class=\"data row13 col8\" >-0.044492</td>\n",
       "                        <td id=\"T_b1121698_baa0_11ea_80b5_3c95094b0a68row13_col9\" class=\"data row13 col9\" >0.609824</td>\n",
       "                        <td id=\"T_b1121698_baa0_11ea_80b5_3c95094b0a68row13_col10\" class=\"data row13 col10\" >-0.070045</td>\n",
       "                        <td id=\"T_b1121698_baa0_11ea_80b5_3c95094b0a68row13_col11\" class=\"data row13 col11\" >-0.312913</td>\n",
       "                        <td id=\"T_b1121698_baa0_11ea_80b5_3c95094b0a68row13_col12\" class=\"data row13 col12\" >0.451736</td>\n",
       "                        <td id=\"T_b1121698_baa0_11ea_80b5_3c95094b0a68row13_col13\" class=\"data row13 col13\" >1.000000</td>\n",
       "                        <td id=\"T_b1121698_baa0_11ea_80b5_3c95094b0a68row13_col14\" class=\"data row13 col14\" >-0.000307</td>\n",
       "                        <td id=\"T_b1121698_baa0_11ea_80b5_3c95094b0a68row13_col15\" class=\"data row13 col15\" >0.681941</td>\n",
       "                        <td id=\"T_b1121698_baa0_11ea_80b5_3c95094b0a68row13_col16\" class=\"data row13 col16\" >0.053062</td>\n",
       "                        <td id=\"T_b1121698_baa0_11ea_80b5_3c95094b0a68row13_col17\" class=\"data row13 col17\" >0.428973</td>\n",
       "            </tr>\n",
       "            <tr>\n",
       "                        <th id=\"T_b1121698_baa0_11ea_80b5_3c95094b0a68level0_row14\" class=\"row_heading level0 row14\" >improvement_surcharge</th>\n",
       "                        <td id=\"T_b1121698_baa0_11ea_80b5_3c95094b0a68row14_col0\" class=\"data row14 col0\" >-0.003195</td>\n",
       "                        <td id=\"T_b1121698_baa0_11ea_80b5_3c95094b0a68row14_col1\" class=\"data row14 col1\" >0.000474</td>\n",
       "                        <td id=\"T_b1121698_baa0_11ea_80b5_3c95094b0a68row14_col2\" class=\"data row14 col2\" >0.000032</td>\n",
       "                        <td id=\"T_b1121698_baa0_11ea_80b5_3c95094b0a68row14_col3\" class=\"data row14 col3\" >-0.003573</td>\n",
       "                        <td id=\"T_b1121698_baa0_11ea_80b5_3c95094b0a68row14_col4\" class=\"data row14 col4\" >0.003566</td>\n",
       "                        <td id=\"T_b1121698_baa0_11ea_80b5_3c95094b0a68row14_col5\" class=\"data row14 col5\" >-0.006540</td>\n",
       "                        <td id=\"T_b1121698_baa0_11ea_80b5_3c95094b0a68row14_col6\" class=\"data row14 col6\" >-0.001378</td>\n",
       "                        <td id=\"T_b1121698_baa0_11ea_80b5_3c95094b0a68row14_col7\" class=\"data row14 col7\" >0.001381</td>\n",
       "                        <td id=\"T_b1121698_baa0_11ea_80b5_3c95094b0a68row14_col8\" class=\"data row14 col8\" >-0.000008</td>\n",
       "                        <td id=\"T_b1121698_baa0_11ea_80b5_3c95094b0a68row14_col9\" class=\"data row14 col9\" >-0.002613</td>\n",
       "                        <td id=\"T_b1121698_baa0_11ea_80b5_3c95094b0a68row14_col10\" class=\"data row14 col10\" >0.004469</td>\n",
       "                        <td id=\"T_b1121698_baa0_11ea_80b5_3c95094b0a68row14_col11\" class=\"data row14 col11\" >-0.045787</td>\n",
       "                        <td id=\"T_b1121698_baa0_11ea_80b5_3c95094b0a68row14_col12\" class=\"data row14 col12\" >-0.001984</td>\n",
       "                        <td id=\"T_b1121698_baa0_11ea_80b5_3c95094b0a68row14_col13\" class=\"data row14 col13\" >-0.000307</td>\n",
       "                        <td id=\"T_b1121698_baa0_11ea_80b5_3c95094b0a68row14_col14\" class=\"data row14 col14\" >1.000000</td>\n",
       "                        <td id=\"T_b1121698_baa0_11ea_80b5_3c95094b0a68row14_col15\" class=\"data row14 col15\" >-0.002380</td>\n",
       "                        <td id=\"T_b1121698_baa0_11ea_80b5_3c95094b0a68row14_col16\" class=\"data row14 col16\" >-0.000760</td>\n",
       "                        <td id=\"T_b1121698_baa0_11ea_80b5_3c95094b0a68row14_col17\" class=\"data row14 col17\" >0.002516</td>\n",
       "            </tr>\n",
       "            <tr>\n",
       "                        <th id=\"T_b1121698_baa0_11ea_80b5_3c95094b0a68level0_row15\" class=\"row_heading level0 row15\" >total_amount</th>\n",
       "                        <td id=\"T_b1121698_baa0_11ea_80b5_3c95094b0a68row15_col0\" class=\"data row15 col0\" >0.012885</td>\n",
       "                        <td id=\"T_b1121698_baa0_11ea_80b5_3c95094b0a68row15_col1\" class=\"data row15 col1\" >0.010440</td>\n",
       "                        <td id=\"T_b1121698_baa0_11ea_80b5_3c95094b0a68row15_col2\" class=\"data row15 col2\" >0.948094</td>\n",
       "                        <td id=\"T_b1121698_baa0_11ea_80b5_3c95094b0a68row15_col3\" class=\"data row15 col3\" >0.000567</td>\n",
       "                        <td id=\"T_b1121698_baa0_11ea_80b5_3c95094b0a68row15_col4\" class=\"data row15 col4\" >-0.000084</td>\n",
       "                        <td id=\"T_b1121698_baa0_11ea_80b5_3c95094b0a68row15_col5\" class=\"data row15 col5\" >0.340517</td>\n",
       "                        <td id=\"T_b1121698_baa0_11ea_80b5_3c95094b0a68row15_col6\" class=\"data row15 col6\" >0.000510</td>\n",
       "                        <td id=\"T_b1121698_baa0_11ea_80b5_3c95094b0a68row15_col7\" class=\"data row15 col7\" >-0.000554</td>\n",
       "                        <td id=\"T_b1121698_baa0_11ea_80b5_3c95094b0a68row15_col8\" class=\"data row15 col8\" >-0.155385</td>\n",
       "                        <td id=\"T_b1121698_baa0_11ea_80b5_3c95094b0a68row15_col9\" class=\"data row15 col9\" >0.982737</td>\n",
       "                        <td id=\"T_b1121698_baa0_11ea_80b5_3c95094b0a68row15_col10\" class=\"data row15 col10\" >-0.030135</td>\n",
       "                        <td id=\"T_b1121698_baa0_11ea_80b5_3c95094b0a68row15_col11\" class=\"data row15 col11\" >-0.203471</td>\n",
       "                        <td id=\"T_b1121698_baa0_11ea_80b5_3c95094b0a68row15_col12\" class=\"data row15 col12\" >0.715520</td>\n",
       "                        <td id=\"T_b1121698_baa0_11ea_80b5_3c95094b0a68row15_col13\" class=\"data row15 col13\" >0.681941</td>\n",
       "                        <td id=\"T_b1121698_baa0_11ea_80b5_3c95094b0a68row15_col14\" class=\"data row15 col14\" >-0.002380</td>\n",
       "                        <td id=\"T_b1121698_baa0_11ea_80b5_3c95094b0a68row15_col15\" class=\"data row15 col15\" >1.000000</td>\n",
       "                        <td id=\"T_b1121698_baa0_11ea_80b5_3c95094b0a68row15_col16\" class=\"data row15 col16\" >0.103273</td>\n",
       "                        <td id=\"T_b1121698_baa0_11ea_80b5_3c95094b0a68row15_col17\" class=\"data row15 col17\" >0.557643</td>\n",
       "            </tr>\n",
       "            <tr>\n",
       "                        <th id=\"T_b1121698_baa0_11ea_80b5_3c95094b0a68level0_row16\" class=\"row_heading level0 row16\" >trip_minutes</th>\n",
       "                        <td id=\"T_b1121698_baa0_11ea_80b5_3c95094b0a68row16_col0\" class=\"data row16 col0\" >0.023096</td>\n",
       "                        <td id=\"T_b1121698_baa0_11ea_80b5_3c95094b0a68row16_col1\" class=\"data row16 col1\" >0.009009</td>\n",
       "                        <td id=\"T_b1121698_baa0_11ea_80b5_3c95094b0a68row16_col2\" class=\"data row16 col2\" >0.097606</td>\n",
       "                        <td id=\"T_b1121698_baa0_11ea_80b5_3c95094b0a68row16_col3\" class=\"data row16 col3\" >-0.000174</td>\n",
       "                        <td id=\"T_b1121698_baa0_11ea_80b5_3c95094b0a68row16_col4\" class=\"data row16 col4\" >0.000193</td>\n",
       "                        <td id=\"T_b1121698_baa0_11ea_80b5_3c95094b0a68row16_col5\" class=\"data row16 col5\" >0.026125</td>\n",
       "                        <td id=\"T_b1121698_baa0_11ea_80b5_3c95094b0a68row16_col6\" class=\"data row16 col6\" >0.000164</td>\n",
       "                        <td id=\"T_b1121698_baa0_11ea_80b5_3c95094b0a68row16_col7\" class=\"data row16 col7\" >-0.000196</td>\n",
       "                        <td id=\"T_b1121698_baa0_11ea_80b5_3c95094b0a68row16_col8\" class=\"data row16 col8\" >-0.003324</td>\n",
       "                        <td id=\"T_b1121698_baa0_11ea_80b5_3c95094b0a68row16_col9\" class=\"data row16 col9\" >0.108034</td>\n",
       "                        <td id=\"T_b1121698_baa0_11ea_80b5_3c95094b0a68row16_col10\" class=\"data row16 col10\" >-0.005855</td>\n",
       "                        <td id=\"T_b1121698_baa0_11ea_80b5_3c95094b0a68row16_col11\" class=\"data row16 col11\" >-0.007918</td>\n",
       "                        <td id=\"T_b1121698_baa0_11ea_80b5_3c95094b0a68row16_col12\" class=\"data row16 col12\" >0.055838</td>\n",
       "                        <td id=\"T_b1121698_baa0_11ea_80b5_3c95094b0a68row16_col13\" class=\"data row16 col13\" >0.053062</td>\n",
       "                        <td id=\"T_b1121698_baa0_11ea_80b5_3c95094b0a68row16_col14\" class=\"data row16 col14\" >-0.000760</td>\n",
       "                        <td id=\"T_b1121698_baa0_11ea_80b5_3c95094b0a68row16_col15\" class=\"data row16 col15\" >0.103273</td>\n",
       "                        <td id=\"T_b1121698_baa0_11ea_80b5_3c95094b0a68row16_col16\" class=\"data row16 col16\" >1.000000</td>\n",
       "                        <td id=\"T_b1121698_baa0_11ea_80b5_3c95094b0a68row16_col17\" class=\"data row16 col17\" >-0.021469</td>\n",
       "            </tr>\n",
       "            <tr>\n",
       "                        <th id=\"T_b1121698_baa0_11ea_80b5_3c95094b0a68level0_row17\" class=\"row_heading level0 row17\" >avg_speed</th>\n",
       "                        <td id=\"T_b1121698_baa0_11ea_80b5_3c95094b0a68row17_col0\" class=\"data row17 col0\" >0.027053</td>\n",
       "                        <td id=\"T_b1121698_baa0_11ea_80b5_3c95094b0a68row17_col1\" class=\"data row17 col1\" >0.009450</td>\n",
       "                        <td id=\"T_b1121698_baa0_11ea_80b5_3c95094b0a68row17_col2\" class=\"data row17 col2\" >0.679255</td>\n",
       "                        <td id=\"T_b1121698_baa0_11ea_80b5_3c95094b0a68row17_col3\" class=\"data row17 col3\" >0.000074</td>\n",
       "                        <td id=\"T_b1121698_baa0_11ea_80b5_3c95094b0a68row17_col4\" class=\"data row17 col4\" >0.000546</td>\n",
       "                        <td id=\"T_b1121698_baa0_11ea_80b5_3c95094b0a68row17_col5\" class=\"data row17 col5\" >0.191241</td>\n",
       "                        <td id=\"T_b1121698_baa0_11ea_80b5_3c95094b0a68row17_col6\" class=\"data row17 col6\" >0.001109</td>\n",
       "                        <td id=\"T_b1121698_baa0_11ea_80b5_3c95094b0a68row17_col7\" class=\"data row17 col7\" >-0.000219</td>\n",
       "                        <td id=\"T_b1121698_baa0_11ea_80b5_3c95094b0a68row17_col8\" class=\"data row17 col8\" >-0.033291</td>\n",
       "                        <td id=\"T_b1121698_baa0_11ea_80b5_3c95094b0a68row17_col9\" class=\"data row17 col9\" >0.553384</td>\n",
       "                        <td id=\"T_b1121698_baa0_11ea_80b5_3c95094b0a68row17_col10\" class=\"data row17 col10\" >-0.003984</td>\n",
       "                        <td id=\"T_b1121698_baa0_11ea_80b5_3c95094b0a68row17_col11\" class=\"data row17 col11\" >-0.097285</td>\n",
       "                        <td id=\"T_b1121698_baa0_11ea_80b5_3c95094b0a68row17_col12\" class=\"data row17 col12\" >0.345599</td>\n",
       "                        <td id=\"T_b1121698_baa0_11ea_80b5_3c95094b0a68row17_col13\" class=\"data row17 col13\" >0.428973</td>\n",
       "                        <td id=\"T_b1121698_baa0_11ea_80b5_3c95094b0a68row17_col14\" class=\"data row17 col14\" >0.002516</td>\n",
       "                        <td id=\"T_b1121698_baa0_11ea_80b5_3c95094b0a68row17_col15\" class=\"data row17 col15\" >0.557643</td>\n",
       "                        <td id=\"T_b1121698_baa0_11ea_80b5_3c95094b0a68row17_col16\" class=\"data row17 col16\" >-0.021469</td>\n",
       "                        <td id=\"T_b1121698_baa0_11ea_80b5_3c95094b0a68row17_col17\" class=\"data row17 col17\" >1.000000</td>\n",
       "            </tr>\n",
       "    </tbody></table>"
      ],
      "text/plain": [
       "<pandas.io.formats.style.Styler at 0x21e80d86048>"
      ]
     },
     "execution_count": 25,
     "metadata": {},
     "output_type": "execute_result"
    }
   ],
   "source": [
    "%%time\n",
    "import seaborn as sns\n",
    "corr_mat = df.corr().compute()\n",
    "corr_mat\n",
    "cm = sns.light_palette(\"mediumvioletred\", as_cmap=True)\n",
    "\n",
    "s = corr_mat.style.background_gradient(cmap=cm)\n",
    "s"
   ]
  },
  {
   "cell_type": "code",
   "execution_count": 27,
   "metadata": {
    "ExecuteTime": {
     "end_time": "2020-06-30T07:10:40.220905Z",
     "start_time": "2020-06-30T07:10:30.982086Z"
    },
    "scrolled": true
   },
   "outputs": [
    {
     "name": "stdout",
     "output_type": "stream",
     "text": [
      "Wall time: 3.81 s\n"
     ]
    },
    {
     "data": {
      "text/plain": [
       "<matplotlib.axes._subplots.AxesSubplot at 0x21e93b20470>"
      ]
     },
     "execution_count": 27,
     "metadata": {},
     "output_type": "execute_result"
    },
    {
     "data": {
      "image/png": "[encoded data removed]",
      "text/plain": [
       "<Figure size 864x648 with 2 Axes>"
      ]
     },
     "metadata": {
      "needs_background": "light"
     },
     "output_type": "display_data"
    }
   ],
   "source": [
    "%%time\n",
    "import seaborn as sns\n",
    "#corr_mat = df.corr().compute()\n",
    "#corr_mat = np.tril(corr_mat, k=1)\n",
    "#ax = sns.heatmap(df, annot=True).compute()\n",
    "matrix = np.triu(corr_mat)\n",
    "f, ax = plt.subplots(figsize=(12, 9))\n",
    "sns.heatmap(corr_mat, cmap='BuPu', annot=True, fmt =\".2g\", mask=matrix)"
   ]
  },
  {
   "cell_type": "code",
   "execution_count": 40,
   "metadata": {
    "ExecuteTime": {
     "end_time": "2020-06-30T07:27:05.373349Z",
     "start_time": "2020-06-30T07:27:05.302538Z"
    }
   },
   "outputs": [
    {
     "data": {
      "application/vnd.plotly.v1+json": {
       "config": {
        "plotlyServerURL": "https://plot.ly"
       },
       "data": [
        {
         "coloraxis": "coloraxis",
         "hovertemplate": "Columns: %{x}<br>Columns: %{y}<br>Correlation: %{z}<extra></extra>",
         "type": "heatmap",
         "x": [
          "VendorID",
          "passenger_count",
          "trip_distance",
          "pickup_longitude",
          "pickup_latitude",
          "RatecodeID",
          "dropoff_longitude",
          "dropoff_latitude",
          "payment_type",
          "fare_amount",
          "extra",
          "mta_tax",
          "tip_amount",
          "tolls_amount",
          "improvement_surcharge",
          "total_amount",
          "trip_minutes",
          "avg_speed"
         ],
         "y": [
          "VendorID",
          "passenger_count",
          "trip_distance",
          "pickup_longitude",
          "pickup_latitude",
          "RatecodeID",
          "dropoff_longitude",
          "dropoff_latitude",
          "payment_type",
          "fare_amount",
          "extra",
          "mta_tax",
          "tip_amount",
          "tolls_amount",
          "improvement_surcharge",
          "total_amount",
          "trip_minutes",
          "avg_speed"
         ],
         "z": [
          [
           0.9999999999987109,
           0.29395432341643757,
           0.017680216731266324,
           -0.06301086129563441,
           0.06308275340014191,
           0.0007801276344835262,
           -0.05008178298290187,
           0.05012170763551247,
           -0.008300773220348584,
           0.013158342764781039,
           -0.01464969205883327,
           0.010242424835570713,
           0.008841263661489884,
           0.009409946737446905,
           -0.003194934101657551,
           0.012884752084857275,
           0.023096174137516138,
           0.02705300090236282
          ],
          [
           0.29395432341643757,
           1.000000000000969,
           0.014039511442389668,
           -0.018980685061089075,
           0.0189708677631851,
           -4.6464095956962334e-05,
           -0.0157773220931745,
           0.01577159949552311,
           0.012401901547622957,
           0.012408831187608237,
           -0.005542124326277047,
           0.003978558898131167,
           -0.00276988851761062,
           0.010082156109525566,
           0.0004743633982792818,
           0.010439628520596355,
           0.009008605959149986,
           0.009449671601239005
          ],
          [
           0.017680216731266324,
           0.014039511442389668,
           1.0000000000001428,
           -0.0012201381393519345,
           0.0016941341255946325,
           0.3129471057856781,
           -0.0010457507494148516,
           0.0012435776853077305,
           -0.0558965807086155,
           0.9591143307865719,
           -0.052401712905800285,
           -0.12210799712590105,
           0.5792592588300557,
           0.6179918391339572,
           3.213355227085713e-05,
           0.9480941735277829,
           0.09760563010617031,
           0.6792548710626755
          ],
          [
           -0.06301086129563441,
           -0.018980685061089075,
           -0.0012201381393519345,
           0.9999999999999675,
           -0.9999355730730435,
           0.004007386126669349,
           0.9172397206821749,
           -0.9171996435458385,
           0.0020159419601988274,
           0.0008567919260238858,
           0.001110009905246394,
           -0.0002180765399093962,
           -0.00018963967657681515,
           -0.0011445154292184434,
           -0.0035727728704304292,
           0.0005666531802228278,
           -0.0001742178980554177,
           7.360316785411287e-05
          ],
          [
           0.06308275340014191,
           0.0189708677631851,
           0.0016941341255946325,
           -0.9999355730730435,
           0.9999999999999694,
           -0.004025732018784942,
           -0.9172085142380982,
           0.9172390692191409,
           -0.0017389635677632052,
           -0.0004451827607475803,
           -0.001433409877792414,
           0.0002776800961768801,
           0.0004572343442719102,
           0.002166777228250078,
           0.0035662408376413986,
           -8.372599678510963e-05,
           0.00019253027289369405,
           0.0005464195818954397
          ],
          [
           0.0007801276344835262,
           -4.6464095956962334e-05,
           0.3129471057856781,
           0.004007386126669349,
           -0.004025732018784942,
           1.0000000000034313,
           0.00354379013652084,
           -0.0037660990638108275,
           -0.004035155615549761,
           0.3366605150321847,
           -0.06450357413505872,
           -0.32844836361421675,
           0.20045767999527767,
           0.31224438722261544,
           -0.006539673224669315,
           0.3405167839701037,
           0.026125257669494074,
           0.19124139015730585
          ],
          [
           -0.05008178298290187,
           -0.0157773220931745,
           -0.0010457507494148516,
           0.9172397206821749,
           -0.9172085142380982,
           0.00354379013652084,
           0.9999999999999738,
           -0.99991296685396,
           0.0029216352237738524,
           0.0008860248660968085,
           0.0015208753140621616,
           0.0006810022016156333,
           -0.0006807418435600715,
           -0.001168442688721121,
           -0.001378033894470579,
           0.0005102634801354744,
           0.00016430036904505258,
           0.0011090199342665666
          ],
          [
           0.05012170763551247,
           0.01577159949552311,
           0.0012435776853077305,
           -0.9171996435458385,
           0.9172390692191409,
           -0.0037660990638108275,
           -0.99991296685396,
           0.9999999999999732,
           -0.0024713517600320365,
           -0.0009024451091012405,
           -0.0015888789606471401,
           0.00028514583120013356,
           0.0004115768581355545,
           0.0013567706604651606,
           0.00138056917915104,
           -0.0005536340732154317,
           -0.00019592419882224728,
           -0.0002190077316102414
          ],
          [
           -0.008300773220348584,
           0.012401901547622957,
           -0.0558965807086155,
           0.0020159419601988274,
           -0.0017389635677632052,
           -0.004035155615549761,
           0.0029216352237738524,
           -0.0024713517600320365,
           0.9999999999999823,
           -0.0623183450143171,
           -0.024341244313752633,
           -0.0023132755123150294,
           -0.5326185945801173,
           -0.04449171564905321,
           -7.941234103364056e-06,
           -0.15538516661401122,
           -0.0033239665995099406,
           -0.033291092560607964
          ],
          [
           0.013158342764781039,
           0.012408831187608237,
           0.9591143307865719,
           0.0008567919260238858,
           -0.0004451827607475803,
           0.3366605150321847,
           0.0008860248660968085,
           -0.0009024451091012405,
           -0.0623183450143171,
           0.9999999999997035,
           -0.06223069912348376,
           -0.18629702229991296,
           0.5947332002480037,
           0.6098239525523416,
           -0.0026132668477163975,
           0.9827373298481137,
           0.10803418200361951,
           0.5533838404437895
          ],
          [
           -0.01464969205883327,
           -0.005542124326277047,
           -0.052401712905800285,
           0.001110009905246394,
           -0.001433409877792414,
           -0.06450357413505872,
           0.0015208753140621616,
           -0.0015888789606471401,
           -0.024341244313752633,
           -0.06223069912348376,
           0.9999999999992931,
           0.014047669075751952,
           -0.010964736229318255,
           -0.07004515888330903,
           0.004469026901114264,
           -0.030135087654896957,
           -0.0058552239768493485,
           -0.003983905557324962
          ],
          [
           0.010242424835570713,
           0.003978558898131167,
           -0.12210799712590105,
           -0.0002180765399093962,
           0.0002776800961768801,
           -0.32844836361421675,
           0.0006810022016156333,
           0.00028514583120013356,
           -0.0023132755123150294,
           -0.18629702229991296,
           0.014047669075751952,
           1.0000000000021168,
           -0.11661486486463084,
           -0.31291294702206746,
           -0.0457865160622094,
           -0.20347110354084416,
           -0.007917814990591973,
           -0.0972851399755551
          ],
          [
           0.008841263661489884,
           -0.00276988851761062,
           0.5792592588300557,
           -0.00018963967657681515,
           0.0004572343442719102,
           0.20045767999527767,
           -0.0006807418435600715,
           0.0004115768581355545,
           -0.5326185945801173,
           0.5947332002480037,
           -0.010964736229318255,
           -0.11661486486463084,
           1.0000000000000349,
           0.4517364136618039,
           -0.0019841885685414565,
           0.7155203002936324,
           0.05583813475507285,
           0.34559892462059455
          ],
          [
           0.009409946737446905,
           0.010082156109525566,
           0.6179918391339572,
           -0.0011445154292184434,
           0.002166777228250078,
           0.31224438722261544,
           -0.001168442688721121,
           0.0013567706604651606,
           -0.04449171564905321,
           0.6098239525523416,
           -0.07004515888330903,
           -0.31291294702206746,
           0.4517364136618039,
           1.0000000000021014,
           -0.00030660656539747527,
           0.6819406472371795,
           0.05306192207016064,
           0.42897294720626883
          ],
          [
           -0.003194934101657551,
           0.0004743633982792818,
           3.213355227085713e-05,
           -0.0035727728704304292,
           0.0035662408376413986,
           -0.006539673224669315,
           -0.001378033894470579,
           0.00138056917915104,
           -7.941234103364056e-06,
           -0.0026132668477163975,
           0.004469026901114264,
           -0.0457865160622094,
           -0.0019841885685414565,
           -0.00030660656539747527,
           0.999999999999334,
           -0.002380443902682114,
           -0.0007604623698314926,
           0.0025161516066342393
          ],
          [
           0.012884752084857275,
           0.010439628520596355,
           0.9480941735277829,
           0.0005666531802228278,
           -8.372599678510963e-05,
           0.3405167839701037,
           0.0005102634801354744,
           -0.0005536340732154317,
           -0.15538516661401122,
           0.9827373298481137,
           -0.030135087654896957,
           -0.20347110354084416,
           0.7155203002936324,
           0.6819406472371795,
           -0.002380443902682114,
           1.0000000000001226,
           0.10327343291920589,
           0.557642901870367
          ],
          [
           0.023096174137516138,
           0.009008605959149986,
           0.09760563010617031,
           -0.0001742178980554177,
           0.00019253027289369405,
           0.026125257669494074,
           0.00016430036904505258,
           -0.00019592419882224728,
           -0.0033239665995099406,
           0.10803418200361951,
           -0.0058552239768493485,
           -0.007917814990591973,
           0.05583813475507285,
           0.05306192207016064,
           -0.0007604623698314926,
           0.10327343291920589,
           1.0000000000000795,
           -0.02146919868813379
          ],
          [
           0.02705300090236282,
           0.009449671601239005,
           0.6792548710626755,
           7.360316785411287e-05,
           0.0005464195818954397,
           0.19124139015730585,
           0.0011090199342665666,
           -0.0002190077316102414,
           -0.033291092560607964,
           0.5533838404437895,
           -0.003983905557324962,
           -0.0972851399755551,
           0.34559892462059455,
           0.42897294720626883,
           0.0025161516066342393,
           0.557642901870367,
           -0.02146919868813379,
           1.0000000000000087
          ]
         ]
        }
       ],
       "layout": {
        "autosize": false,
        "coloraxis": {
         "colorbar": {
          "title": {
           "text": "Correlation"
          }
         },
         "colorscale": [
          [
           0,
           "#440154"
          ],
          [
           0.1111111111111111,
           "#482878"
          ],
          [
           0.2222222222222222,
           "#3e4989"
          ],
          [
           0.3333333333333333,
           "#31688e"
          ],
          [
           0.4444444444444444,
           "#26828e"
          ],
          [
           0.5555555555555556,
           "#1f9e89"
          ],
          [
           0.6666666666666666,
           "#35b779"
          ],
          [
           0.7777777777777778,
           "#6ece58"
          ],
          [
           0.8888888888888888,
           "#b5de2b"
          ],
          [
           1,
           "#fde725"
          ]
         ]
        },
        "height": 850,
        "margin": {
         "t": 60
        },
        "template": {
         "data": {
          "bar": [
           {
            "error_x": {
             "color": "#2a3f5f"
            },
            "error_y": {
             "color": "#2a3f5f"
            },
            "marker": {
             "line": {
              "color": "#E5ECF6",
              "width": 0.5
             }
            },
            "type": "bar"
           }
          ],
          "barpolar": [
           {
            "marker": {
             "line": {
              "color": "#E5ECF6",
              "width": 0.5
             }
            },
            "type": "barpolar"
           }
          ],
          "carpet": [
           {
            "aaxis": {
             "endlinecolor": "#2a3f5f",
             "gridcolor": "white",
             "linecolor": "white",
             "minorgridcolor": "white",
             "startlinecolor": "#2a3f5f"
            },
            "baxis": {
             "endlinecolor": "#2a3f5f",
             "gridcolor": "white",
             "linecolor": "white",
             "minorgridcolor": "white",
             "startlinecolor": "#2a3f5f"
            },
            "type": "carpet"
           }
          ],
          "choropleth": [
           {
            "colorbar": {
             "outlinewidth": 0,
             "ticks": ""
            },
            "type": "choropleth"
           }
          ],
          "contour": [
           {
            "colorbar": {
             "outlinewidth": 0,
             "ticks": ""
            },
            "colorscale": [
             [
              0,
              "#0d0887"
             ],
             [
              0.1111111111111111,
              "#46039f"
             ],
             [
              0.2222222222222222,
              "#7201a8"
             ],
             [
              0.3333333333333333,
              "#9c179e"
             ],
             [
              0.4444444444444444,
              "#bd3786"
             ],
             [
              0.5555555555555556,
              "#d8576b"
             ],
             [
              0.6666666666666666,
              "#ed7953"
             ],
             [
              0.7777777777777778,
              "#fb9f3a"
             ],
             [
              0.8888888888888888,
              "#fdca26"
             ],
             [
              1,
              "#f0f921"
             ]
            ],
            "type": "contour"
           }
          ],
          "contourcarpet": [
           {
            "colorbar": {
             "outlinewidth": 0,
             "ticks": ""
            },
            "type": "contourcarpet"
           }
          ],
          "heatmap": [
           {
            "colorbar": {
             "outlinewidth": 0,
             "ticks": ""
            },
            "colorscale": [
             [
              0,
              "#0d0887"
             ],
             [
              0.1111111111111111,
              "#46039f"
             ],
             [
              0.2222222222222222,
              "#7201a8"
             ],
             [
              0.3333333333333333,
              "#9c179e"
             ],
             [
              0.4444444444444444,
              "#bd3786"
             ],
             [
              0.5555555555555556,
              "#d8576b"
             ],
             [
              0.6666666666666666,
              "#ed7953"
             ],
             [
              0.7777777777777778,
              "#fb9f3a"
             ],
             [
              0.8888888888888888,
              "#fdca26"
             ],
             [
              1,
              "#f0f921"
             ]
            ],
            "type": "heatmap"
           }
          ],
          "heatmapgl": [
           {
            "colorbar": {
             "outlinewidth": 0,
             "ticks": ""
            },
            "colorscale": [
             [
              0,
              "#0d0887"
             ],
             [
              0.1111111111111111,
              "#46039f"
             ],
             [
              0.2222222222222222,
              "#7201a8"
             ],
             [
              0.3333333333333333,
              "#9c179e"
             ],
             [
              0.4444444444444444,
              "#bd3786"
             ],
             [
              0.5555555555555556,
              "#d8576b"
             ],
             [
              0.6666666666666666,
              "#ed7953"
             ],
             [
              0.7777777777777778,
              "#fb9f3a"
             ],
             [
              0.8888888888888888,
              "#fdca26"
             ],
             [
              1,
              "#f0f921"
             ]
            ],
            "type": "heatmapgl"
           }
          ],
          "histogram": [
           {
            "marker": {
             "colorbar": {
              "outlinewidth": 0,
              "ticks": ""
             }
            },
            "type": "histogram"
           }
          ],
          "histogram2d": [
           {
            "colorbar": {
             "outlinewidth": 0,
             "ticks": ""
            },
            "colorscale": [
             [
              0,
              "#0d0887"
             ],
             [
              0.1111111111111111,
              "#46039f"
             ],
             [
              0.2222222222222222,
              "#7201a8"
             ],
             [
              0.3333333333333333,
              "#9c179e"
             ],
             [
              0.4444444444444444,
              "#bd3786"
             ],
             [
              0.5555555555555556,
              "#d8576b"
             ],
             [
              0.6666666666666666,
              "#ed7953"
             ],
             [
              0.7777777777777778,
              "#fb9f3a"
             ],
             [
              0.8888888888888888,
              "#fdca26"
             ],
             [
              1,
              "#f0f921"
             ]
            ],
            "type": "histogram2d"
           }
          ],
          "histogram2dcontour": [
           {
            "colorbar": {
             "outlinewidth": 0,
             "ticks": ""
            },
            "colorscale": [
             [
              0,
              "#0d0887"
             ],
             [
              0.1111111111111111,
              "#46039f"
             ],
             [
              0.2222222222222222,
              "#7201a8"
             ],
             [
              0.3333333333333333,
              "#9c179e"
             ],
             [
              0.4444444444444444,
              "#bd3786"
             ],
             [
              0.5555555555555556,
              "#d8576b"
             ],
             [
              0.6666666666666666,
              "#ed7953"
             ],
             [
              0.7777777777777778,
              "#fb9f3a"
             ],
             [
              0.8888888888888888,
              "#fdca26"
             ],
             [
              1,
              "#f0f921"
             ]
            ],
            "type": "histogram2dcontour"
           }
          ],
          "mesh3d": [
           {
            "colorbar": {
             "outlinewidth": 0,
             "ticks": ""
            },
            "type": "mesh3d"
           }
          ],
          "parcoords": [
           {
            "line": {
             "colorbar": {
              "outlinewidth": 0,
              "ticks": ""
             }
            },
            "type": "parcoords"
           }
          ],
          "pie": [
           {
            "automargin": true,
            "type": "pie"
           }
          ],
          "scatter": [
           {
            "marker": {
             "colorbar": {
              "outlinewidth": 0,
              "ticks": ""
             }
            },
            "type": "scatter"
           }
          ],
          "scatter3d": [
           {
            "line": {
             "colorbar": {
              "outlinewidth": 0,
              "ticks": ""
             }
            },
            "marker": {
             "colorbar": {
              "outlinewidth": 0,
              "ticks": ""
             }
            },
            "type": "scatter3d"
           }
          ],
          "scattercarpet": [
           {
            "marker": {
             "colorbar": {
              "outlinewidth": 0,
              "ticks": ""
             }
            },
            "type": "scattercarpet"
           }
          ],
          "scattergeo": [
           {
            "marker": {
             "colorbar": {
              "outlinewidth": 0,
              "ticks": ""
             }
            },
            "type": "scattergeo"
           }
          ],
          "scattergl": [
           {
            "marker": {
             "colorbar": {
              "outlinewidth": 0,
              "ticks": ""
             }
            },
            "type": "scattergl"
           }
          ],
          "scattermapbox": [
           {
            "marker": {
             "colorbar": {
              "outlinewidth": 0,
              "ticks": ""
             }
            },
            "type": "scattermapbox"
           }
          ],
          "scatterpolar": [
           {
            "marker": {
             "colorbar": {
              "outlinewidth": 0,
              "ticks": ""
             }
            },
            "type": "scatterpolar"
           }
          ],
          "scatterpolargl": [
           {
            "marker": {
             "colorbar": {
              "outlinewidth": 0,
              "ticks": ""
             }
            },
            "type": "scatterpolargl"
           }
          ],
          "scatterternary": [
           {
            "marker": {
             "colorbar": {
              "outlinewidth": 0,
              "ticks": ""
             }
            },
            "type": "scatterternary"
           }
          ],
          "surface": [
           {
            "colorbar": {
             "outlinewidth": 0,
             "ticks": ""
            },
            "colorscale": [
             [
              0,
              "#0d0887"
             ],
             [
              0.1111111111111111,
              "#46039f"
             ],
             [
              0.2222222222222222,
              "#7201a8"
             ],
             [
              0.3333333333333333,
              "#9c179e"
             ],
             [
              0.4444444444444444,
              "#bd3786"
             ],
             [
              0.5555555555555556,
              "#d8576b"
             ],
             [
              0.6666666666666666,
              "#ed7953"
             ],
             [
              0.7777777777777778,
              "#fb9f3a"
             ],
             [
              0.8888888888888888,
              "#fdca26"
             ],
             [
              1,
              "#f0f921"
             ]
            ],
            "type": "surface"
           }
          ],
          "table": [
           {
            "cells": {
             "fill": {
              "color": "#EBF0F8"
             },
             "line": {
              "color": "white"
             }
            },
            "header": {
             "fill": {
              "color": "#C8D4E3"
             },
             "line": {
              "color": "white"
             }
            },
            "type": "table"
           }
          ]
         },
         "layout": {
          "annotationdefaults": {
           "arrowcolor": "#2a3f5f",
           "arrowhead": 0,
           "arrowwidth": 1
          },
          "coloraxis": {
           "colorbar": {
            "outlinewidth": 0,
            "ticks": ""
           }
          },
          "colorscale": {
           "diverging": [
            [
             0,
             "#8e0152"
            ],
            [
             0.1,
             "#c51b7d"
            ],
            [
             0.2,
             "#de77ae"
            ],
            [
             0.3,
             "#f1b6da"
            ],
            [
             0.4,
             "#fde0ef"
            ],
            [
             0.5,
             "#f7f7f7"
            ],
            [
             0.6,
             "#e6f5d0"
            ],
            [
             0.7,
             "#b8e186"
            ],
            [
             0.8,
             "#7fbc41"
            ],
            [
             0.9,
             "#4d9221"
            ],
            [
             1,
             "#276419"
            ]
           ],
           "sequential": [
            [
             0,
             "#0d0887"
            ],
            [
             0.1111111111111111,
             "#46039f"
            ],
            [
             0.2222222222222222,
             "#7201a8"
            ],
            [
             0.3333333333333333,
             "#9c179e"
            ],
            [
             0.4444444444444444,
             "#bd3786"
            ],
            [
             0.5555555555555556,
             "#d8576b"
            ],
            [
             0.6666666666666666,
             "#ed7953"
            ],
            [
             0.7777777777777778,
             "#fb9f3a"
            ],
            [
             0.8888888888888888,
             "#fdca26"
            ],
            [
             1,
             "#f0f921"
            ]
           ],
           "sequentialminus": [
            [
             0,
             "#0d0887"
            ],
            [
             0.1111111111111111,
             "#46039f"
            ],
            [
             0.2222222222222222,
             "#7201a8"
            ],
            [
             0.3333333333333333,
             "#9c179e"
            ],
            [
             0.4444444444444444,
             "#bd3786"
            ],
            [
             0.5555555555555556,
             "#d8576b"
            ],
            [
             0.6666666666666666,
             "#ed7953"
            ],
            [
             0.7777777777777778,
             "#fb9f3a"
            ],
            [
             0.8888888888888888,
             "#fdca26"
            ],
            [
             1,
             "#f0f921"
            ]
           ]
          },
          "colorway": [
           "#636efa",
           "#EF553B",
           "#00cc96",
           "#ab63fa",
           "#FFA15A",
           "#19d3f3",
           "#FF6692",
           "#B6E880",
           "#FF97FF",
           "#FECB52"
          ],
          "font": {
           "color": "#2a3f5f"
          },
          "geo": {
           "bgcolor": "white",
           "lakecolor": "white",
           "landcolor": "#E5ECF6",
           "showlakes": true,
           "showland": true,
           "subunitcolor": "white"
          },
          "hoverlabel": {
           "align": "left"
          },
          "hovermode": "closest",
          "mapbox": {
           "style": "light"
          },
          "paper_bgcolor": "white",
          "plot_bgcolor": "#E5ECF6",
          "polar": {
           "angularaxis": {
            "gridcolor": "white",
            "linecolor": "white",
            "ticks": ""
           },
           "bgcolor": "#E5ECF6",
           "radialaxis": {
            "gridcolor": "white",
            "linecolor": "white",
            "ticks": ""
           }
          },
          "scene": {
           "xaxis": {
            "backgroundcolor": "#E5ECF6",
            "gridcolor": "white",
            "gridwidth": 2,
            "linecolor": "white",
            "showbackground": true,
            "ticks": "",
            "zerolinecolor": "white"
           },
           "yaxis": {
            "backgroundcolor": "#E5ECF6",
            "gridcolor": "white",
            "gridwidth": 2,
            "linecolor": "white",
            "showbackground": true,
            "ticks": "",
            "zerolinecolor": "white"
           },
           "zaxis": {
            "backgroundcolor": "#E5ECF6",
            "gridcolor": "white",
            "gridwidth": 2,
            "linecolor": "white",
            "showbackground": true,
            "ticks": "",
            "zerolinecolor": "white"
           }
          },
          "shapedefaults": {
           "line": {
            "color": "#2a3f5f"
           }
          },
          "ternary": {
           "aaxis": {
            "gridcolor": "white",
            "linecolor": "white",
            "ticks": ""
           },
           "baxis": {
            "gridcolor": "white",
            "linecolor": "white",
            "ticks": ""
           },
           "bgcolor": "#E5ECF6",
           "caxis": {
            "gridcolor": "white",
            "linecolor": "white",
            "ticks": ""
           }
          },
          "title": {
           "x": 0.05
          },
          "xaxis": {
           "automargin": true,
           "gridcolor": "white",
           "linecolor": "white",
           "ticks": "",
           "title": {
            "standoff": 15
           },
           "zerolinecolor": "white",
           "zerolinewidth": 2
          },
          "yaxis": {
           "automargin": true,
           "gridcolor": "white",
           "linecolor": "white",
           "ticks": "",
           "title": {
            "standoff": 15
           },
           "zerolinecolor": "white",
           "zerolinewidth": 2
          }
         }
        },
        "width": 850,
        "xaxis": {
         "constrain": "domain",
         "scaleanchor": "y",
         "title": {
          "text": "Columns"
         }
        },
        "yaxis": {
         "autorange": "reversed",
         "constrain": "domain",
         "title": {
          "text": "Columns"
         }
        }
       }
      },
      "text/html": [
       "<div>\n",
       "        \n",
       "        \n",
       "            <div id=\"62bbb796-0b9e-4255-a006-b9494fa3231e\" class=\"plotly-graph-div\" style=\"height:850px; width:850px;\"></div>\n",
       "            <script type=\"text/javascript\">\n",
       "                require([\"plotly\"], function(Plotly) {\n",
       "                    window.PLOTLYENV=window.PLOTLYENV || {};\n",
       "                    \n",
       "                if (document.getElementById(\"62bbb796-0b9e-4255-a006-b9494fa3231e\")) {\n",
       "                    Plotly.newPlot(\n",
       "                        '62bbb796-0b9e-4255-a006-b9494fa3231e',\n",
       "                        [{\"coloraxis\": \"coloraxis\", \"hovertemplate\": \"Columns: %{x}<br>Columns: %{y}<br>Correlation: %{z}<extra></extra>\", \"type\": \"heatmap\", \"x\": [\"VendorID\", \"passenger_count\", \"trip_distance\", \"pickup_longitude\", \"pickup_latitude\", \"RatecodeID\", \"dropoff_longitude\", \"dropoff_latitude\", \"payment_type\", \"fare_amount\", \"extra\", \"mta_tax\", \"tip_amount\", \"tolls_amount\", \"improvement_surcharge\", \"total_amount\", \"trip_minutes\", \"avg_speed\"], \"y\": [\"VendorID\", \"passenger_count\", \"trip_distance\", \"pickup_longitude\", \"pickup_latitude\", \"RatecodeID\", \"dropoff_longitude\", \"dropoff_latitude\", \"payment_type\", \"fare_amount\", \"extra\", \"mta_tax\", \"tip_amount\", \"tolls_amount\", \"improvement_surcharge\", \"total_amount\", \"trip_minutes\", \"avg_speed\"], \"z\": [[0.9999999999987109, 0.29395432341643757, 0.017680216731266324, -0.06301086129563441, 0.06308275340014191, 0.0007801276344835262, -0.05008178298290187, 0.05012170763551247, -0.008300773220348584, 0.013158342764781039, -0.01464969205883327, 0.010242424835570713, 0.008841263661489884, 0.009409946737446905, -0.003194934101657551, 0.012884752084857275, 0.023096174137516138, 0.02705300090236282], [0.29395432341643757, 1.000000000000969, 0.014039511442389668, -0.018980685061089075, 0.0189708677631851, -4.6464095956962334e-05, -0.0157773220931745, 0.01577159949552311, 0.012401901547622957, 0.012408831187608237, -0.005542124326277047, 0.003978558898131167, -0.00276988851761062, 0.010082156109525566, 0.0004743633982792818, 0.010439628520596355, 0.009008605959149986, 0.009449671601239005], [0.017680216731266324, 0.014039511442389668, 1.0000000000001428, -0.0012201381393519345, 0.0016941341255946325, 0.3129471057856781, -0.0010457507494148516, 0.0012435776853077305, -0.0558965807086155, 0.9591143307865719, -0.052401712905800285, -0.12210799712590105, 0.5792592588300557, 0.6179918391339572, 3.213355227085713e-05, 0.9480941735277829, 0.09760563010617031, 0.6792548710626755], [-0.06301086129563441, -0.018980685061089075, -0.0012201381393519345, 0.9999999999999675, -0.9999355730730435, 0.004007386126669349, 0.9172397206821749, -0.9171996435458385, 0.0020159419601988274, 0.0008567919260238858, 0.001110009905246394, -0.0002180765399093962, -0.00018963967657681515, -0.0011445154292184434, -0.0035727728704304292, 0.0005666531802228278, -0.0001742178980554177, 7.360316785411287e-05], [0.06308275340014191, 0.0189708677631851, 0.0016941341255946325, -0.9999355730730435, 0.9999999999999694, -0.004025732018784942, -0.9172085142380982, 0.9172390692191409, -0.0017389635677632052, -0.0004451827607475803, -0.001433409877792414, 0.0002776800961768801, 0.0004572343442719102, 0.002166777228250078, 0.0035662408376413986, -8.372599678510963e-05, 0.00019253027289369405, 0.0005464195818954397], [0.0007801276344835262, -4.6464095956962334e-05, 0.3129471057856781, 0.004007386126669349, -0.004025732018784942, 1.0000000000034313, 0.00354379013652084, -0.0037660990638108275, -0.004035155615549761, 0.3366605150321847, -0.06450357413505872, -0.32844836361421675, 0.20045767999527767, 0.31224438722261544, -0.006539673224669315, 0.3405167839701037, 0.026125257669494074, 0.19124139015730585], [-0.05008178298290187, -0.0157773220931745, -0.0010457507494148516, 0.9172397206821749, -0.9172085142380982, 0.00354379013652084, 0.9999999999999738, -0.99991296685396, 0.0029216352237738524, 0.0008860248660968085, 0.0015208753140621616, 0.0006810022016156333, -0.0006807418435600715, -0.001168442688721121, -0.001378033894470579, 0.0005102634801354744, 0.00016430036904505258, 0.0011090199342665666], [0.05012170763551247, 0.01577159949552311, 0.0012435776853077305, -0.9171996435458385, 0.9172390692191409, -0.0037660990638108275, -0.99991296685396, 0.9999999999999732, -0.0024713517600320365, -0.0009024451091012405, -0.0015888789606471401, 0.00028514583120013356, 0.0004115768581355545, 0.0013567706604651606, 0.00138056917915104, -0.0005536340732154317, -0.00019592419882224728, -0.0002190077316102414], [-0.008300773220348584, 0.012401901547622957, -0.0558965807086155, 0.0020159419601988274, -0.0017389635677632052, -0.004035155615549761, 0.0029216352237738524, -0.0024713517600320365, 0.9999999999999823, -0.0623183450143171, -0.024341244313752633, -0.0023132755123150294, -0.5326185945801173, -0.04449171564905321, -7.941234103364056e-06, -0.15538516661401122, -0.0033239665995099406, -0.033291092560607964], [0.013158342764781039, 0.012408831187608237, 0.9591143307865719, 0.0008567919260238858, -0.0004451827607475803, 0.3366605150321847, 0.0008860248660968085, -0.0009024451091012405, -0.0623183450143171, 0.9999999999997035, -0.06223069912348376, -0.18629702229991296, 0.5947332002480037, 0.6098239525523416, -0.0026132668477163975, 0.9827373298481137, 0.10803418200361951, 0.5533838404437895], [-0.01464969205883327, -0.005542124326277047, -0.052401712905800285, 0.001110009905246394, -0.001433409877792414, -0.06450357413505872, 0.0015208753140621616, -0.0015888789606471401, -0.024341244313752633, -0.06223069912348376, 0.9999999999992931, 0.014047669075751952, -0.010964736229318255, -0.07004515888330903, 0.004469026901114264, -0.030135087654896957, -0.0058552239768493485, -0.003983905557324962], [0.010242424835570713, 0.003978558898131167, -0.12210799712590105, -0.0002180765399093962, 0.0002776800961768801, -0.32844836361421675, 0.0006810022016156333, 0.00028514583120013356, -0.0023132755123150294, -0.18629702229991296, 0.014047669075751952, 1.0000000000021168, -0.11661486486463084, -0.31291294702206746, -0.0457865160622094, -0.20347110354084416, -0.007917814990591973, -0.0972851399755551], [0.008841263661489884, -0.00276988851761062, 0.5792592588300557, -0.00018963967657681515, 0.0004572343442719102, 0.20045767999527767, -0.0006807418435600715, 0.0004115768581355545, -0.5326185945801173, 0.5947332002480037, -0.010964736229318255, -0.11661486486463084, 1.0000000000000349, 0.4517364136618039, -0.0019841885685414565, 0.7155203002936324, 0.05583813475507285, 0.34559892462059455], [0.009409946737446905, 0.010082156109525566, 0.6179918391339572, -0.0011445154292184434, 0.002166777228250078, 0.31224438722261544, -0.001168442688721121, 0.0013567706604651606, -0.04449171564905321, 0.6098239525523416, -0.07004515888330903, -0.31291294702206746, 0.4517364136618039, 1.0000000000021014, -0.00030660656539747527, 0.6819406472371795, 0.05306192207016064, 0.42897294720626883], [-0.003194934101657551, 0.0004743633982792818, 3.213355227085713e-05, -0.0035727728704304292, 0.0035662408376413986, -0.006539673224669315, -0.001378033894470579, 0.00138056917915104, -7.941234103364056e-06, -0.0026132668477163975, 0.004469026901114264, -0.0457865160622094, -0.0019841885685414565, -0.00030660656539747527, 0.999999999999334, -0.002380443902682114, -0.0007604623698314926, 0.0025161516066342393], [0.012884752084857275, 0.010439628520596355, 0.9480941735277829, 0.0005666531802228278, -8.372599678510963e-05, 0.3405167839701037, 0.0005102634801354744, -0.0005536340732154317, -0.15538516661401122, 0.9827373298481137, -0.030135087654896957, -0.20347110354084416, 0.7155203002936324, 0.6819406472371795, -0.002380443902682114, 1.0000000000001226, 0.10327343291920589, 0.557642901870367], [0.023096174137516138, 0.009008605959149986, 0.09760563010617031, -0.0001742178980554177, 0.00019253027289369405, 0.026125257669494074, 0.00016430036904505258, -0.00019592419882224728, -0.0033239665995099406, 0.10803418200361951, -0.0058552239768493485, -0.007917814990591973, 0.05583813475507285, 0.05306192207016064, -0.0007604623698314926, 0.10327343291920589, 1.0000000000000795, -0.02146919868813379], [0.02705300090236282, 0.009449671601239005, 0.6792548710626755, 7.360316785411287e-05, 0.0005464195818954397, 0.19124139015730585, 0.0011090199342665666, -0.0002190077316102414, -0.033291092560607964, 0.5533838404437895, -0.003983905557324962, -0.0972851399755551, 0.34559892462059455, 0.42897294720626883, 0.0025161516066342393, 0.557642901870367, -0.02146919868813379, 1.0000000000000087]]}],\n",
       "                        {\"autosize\": false, \"coloraxis\": {\"colorbar\": {\"title\": {\"text\": \"Correlation\"}}, \"colorscale\": [[0.0, \"#440154\"], [0.1111111111111111, \"#482878\"], [0.2222222222222222, \"#3e4989\"], [0.3333333333333333, \"#31688e\"], [0.4444444444444444, \"#26828e\"], [0.5555555555555556, \"#1f9e89\"], [0.6666666666666666, \"#35b779\"], [0.7777777777777778, \"#6ece58\"], [0.8888888888888888, \"#b5de2b\"], [1.0, \"#fde725\"]]}, \"height\": 850, \"margin\": {\"t\": 60}, \"template\": {\"data\": {\"bar\": [{\"error_x\": {\"color\": \"#2a3f5f\"}, \"error_y\": {\"color\": \"#2a3f5f\"}, \"marker\": {\"line\": {\"color\": \"#E5ECF6\", \"width\": 0.5}}, \"type\": \"bar\"}], \"barpolar\": [{\"marker\": {\"line\": {\"color\": \"#E5ECF6\", \"width\": 0.5}}, \"type\": \"barpolar\"}], \"carpet\": [{\"aaxis\": {\"endlinecolor\": \"#2a3f5f\", \"gridcolor\": \"white\", \"linecolor\": \"white\", \"minorgridcolor\": \"white\", \"startlinecolor\": \"#2a3f5f\"}, \"baxis\": {\"endlinecolor\": \"#2a3f5f\", \"gridcolor\": \"white\", \"linecolor\": \"white\", \"minorgridcolor\": \"white\", \"startlinecolor\": \"#2a3f5f\"}, \"type\": \"carpet\"}], \"choropleth\": [{\"colorbar\": {\"outlinewidth\": 0, \"ticks\": \"\"}, \"type\": \"choropleth\"}], \"contour\": [{\"colorbar\": {\"outlinewidth\": 0, \"ticks\": \"\"}, \"colorscale\": [[0.0, \"#0d0887\"], [0.1111111111111111, \"#46039f\"], [0.2222222222222222, \"#7201a8\"], [0.3333333333333333, \"#9c179e\"], [0.4444444444444444, \"#bd3786\"], [0.5555555555555556, \"#d8576b\"], [0.6666666666666666, \"#ed7953\"], [0.7777777777777778, \"#fb9f3a\"], [0.8888888888888888, \"#fdca26\"], [1.0, \"#f0f921\"]], \"type\": \"contour\"}], \"contourcarpet\": [{\"colorbar\": {\"outlinewidth\": 0, \"ticks\": \"\"}, \"type\": \"contourcarpet\"}], \"heatmap\": [{\"colorbar\": {\"outlinewidth\": 0, \"ticks\": \"\"}, \"colorscale\": [[0.0, \"#0d0887\"], [0.1111111111111111, \"#46039f\"], [0.2222222222222222, \"#7201a8\"], [0.3333333333333333, \"#9c179e\"], [0.4444444444444444, \"#bd3786\"], [0.5555555555555556, \"#d8576b\"], [0.6666666666666666, \"#ed7953\"], [0.7777777777777778, \"#fb9f3a\"], [0.8888888888888888, \"#fdca26\"], [1.0, \"#f0f921\"]], \"type\": \"heatmap\"}], \"heatmapgl\": [{\"colorbar\": {\"outlinewidth\": 0, \"ticks\": \"\"}, \"colorscale\": [[0.0, \"#0d0887\"], [0.1111111111111111, \"#46039f\"], [0.2222222222222222, \"#7201a8\"], [0.3333333333333333, \"#9c179e\"], [0.4444444444444444, \"#bd3786\"], [0.5555555555555556, \"#d8576b\"], [0.6666666666666666, \"#ed7953\"], [0.7777777777777778, \"#fb9f3a\"], [0.8888888888888888, \"#fdca26\"], [1.0, \"#f0f921\"]], \"type\": \"heatmapgl\"}], \"histogram\": [{\"marker\": {\"colorbar\": {\"outlinewidth\": 0, \"ticks\": \"\"}}, \"type\": \"histogram\"}], \"histogram2d\": [{\"colorbar\": {\"outlinewidth\": 0, \"ticks\": \"\"}, \"colorscale\": [[0.0, \"#0d0887\"], [0.1111111111111111, \"#46039f\"], [0.2222222222222222, \"#7201a8\"], [0.3333333333333333, \"#9c179e\"], [0.4444444444444444, \"#bd3786\"], [0.5555555555555556, \"#d8576b\"], [0.6666666666666666, \"#ed7953\"], [0.7777777777777778, \"#fb9f3a\"], [0.8888888888888888, \"#fdca26\"], [1.0, \"#f0f921\"]], \"type\": \"histogram2d\"}], \"histogram2dcontour\": [{\"colorbar\": {\"outlinewidth\": 0, \"ticks\": \"\"}, \"colorscale\": [[0.0, \"#0d0887\"], [0.1111111111111111, \"#46039f\"], [0.2222222222222222, \"#7201a8\"], [0.3333333333333333, \"#9c179e\"], [0.4444444444444444, \"#bd3786\"], [0.5555555555555556, \"#d8576b\"], [0.6666666666666666, \"#ed7953\"], [0.7777777777777778, \"#fb9f3a\"], [0.8888888888888888, \"#fdca26\"], [1.0, \"#f0f921\"]], \"type\": \"histogram2dcontour\"}], \"mesh3d\": [{\"colorbar\": {\"outlinewidth\": 0, \"ticks\": \"\"}, \"type\": \"mesh3d\"}], \"parcoords\": [{\"line\": {\"colorbar\": {\"outlinewidth\": 0, \"ticks\": \"\"}}, \"type\": \"parcoords\"}], \"pie\": [{\"automargin\": true, \"type\": \"pie\"}], \"scatter\": [{\"marker\": {\"colorbar\": {\"outlinewidth\": 0, \"ticks\": \"\"}}, \"type\": \"scatter\"}], \"scatter3d\": [{\"line\": {\"colorbar\": {\"outlinewidth\": 0, \"ticks\": \"\"}}, \"marker\": {\"colorbar\": {\"outlinewidth\": 0, \"ticks\": \"\"}}, \"type\": \"scatter3d\"}], \"scattercarpet\": [{\"marker\": {\"colorbar\": {\"outlinewidth\": 0, \"ticks\": \"\"}}, \"type\": \"scattercarpet\"}], \"scattergeo\": [{\"marker\": {\"colorbar\": {\"outlinewidth\": 0, \"ticks\": \"\"}}, \"type\": \"scattergeo\"}], \"scattergl\": [{\"marker\": {\"colorbar\": {\"outlinewidth\": 0, \"ticks\": \"\"}}, \"type\": \"scattergl\"}], \"scattermapbox\": [{\"marker\": {\"colorbar\": {\"outlinewidth\": 0, \"ticks\": \"\"}}, \"type\": \"scattermapbox\"}], \"scatterpolar\": [{\"marker\": {\"colorbar\": {\"outlinewidth\": 0, \"ticks\": \"\"}}, \"type\": \"scatterpolar\"}], \"scatterpolargl\": [{\"marker\": {\"colorbar\": {\"outlinewidth\": 0, \"ticks\": \"\"}}, \"type\": \"scatterpolargl\"}], \"scatterternary\": [{\"marker\": {\"colorbar\": {\"outlinewidth\": 0, \"ticks\": \"\"}}, \"type\": \"scatterternary\"}], \"surface\": [{\"colorbar\": {\"outlinewidth\": 0, \"ticks\": \"\"}, \"colorscale\": [[0.0, \"#0d0887\"], [0.1111111111111111, \"#46039f\"], [0.2222222222222222, \"#7201a8\"], [0.3333333333333333, \"#9c179e\"], [0.4444444444444444, \"#bd3786\"], [0.5555555555555556, \"#d8576b\"], [0.6666666666666666, \"#ed7953\"], [0.7777777777777778, \"#fb9f3a\"], [0.8888888888888888, \"#fdca26\"], [1.0, \"#f0f921\"]], \"type\": \"surface\"}], \"table\": [{\"cells\": {\"fill\": {\"color\": \"#EBF0F8\"}, \"line\": {\"color\": \"white\"}}, \"header\": {\"fill\": {\"color\": \"#C8D4E3\"}, \"line\": {\"color\": \"white\"}}, \"type\": \"table\"}]}, \"layout\": {\"annotationdefaults\": {\"arrowcolor\": \"#2a3f5f\", \"arrowhead\": 0, \"arrowwidth\": 1}, \"coloraxis\": {\"colorbar\": {\"outlinewidth\": 0, \"ticks\": \"\"}}, \"colorscale\": {\"diverging\": [[0, \"#8e0152\"], [0.1, \"#c51b7d\"], [0.2, \"#de77ae\"], [0.3, \"#f1b6da\"], [0.4, \"#fde0ef\"], [0.5, \"#f7f7f7\"], [0.6, \"#e6f5d0\"], [0.7, \"#b8e186\"], [0.8, \"#7fbc41\"], [0.9, \"#4d9221\"], [1, \"#276419\"]], \"sequential\": [[0.0, \"#0d0887\"], [0.1111111111111111, \"#46039f\"], [0.2222222222222222, \"#7201a8\"], [0.3333333333333333, \"#9c179e\"], [0.4444444444444444, \"#bd3786\"], [0.5555555555555556, \"#d8576b\"], [0.6666666666666666, \"#ed7953\"], [0.7777777777777778, \"#fb9f3a\"], [0.8888888888888888, \"#fdca26\"], [1.0, \"#f0f921\"]], \"sequentialminus\": [[0.0, \"#0d0887\"], [0.1111111111111111, \"#46039f\"], [0.2222222222222222, \"#7201a8\"], [0.3333333333333333, \"#9c179e\"], [0.4444444444444444, \"#bd3786\"], [0.5555555555555556, \"#d8576b\"], [0.6666666666666666, \"#ed7953\"], [0.7777777777777778, \"#fb9f3a\"], [0.8888888888888888, \"#fdca26\"], [1.0, \"#f0f921\"]]}, \"colorway\": [\"#636efa\", \"#EF553B\", \"#00cc96\", \"#ab63fa\", \"#FFA15A\", \"#19d3f3\", \"#FF6692\", \"#B6E880\", \"#FF97FF\", \"#FECB52\"], \"font\": {\"color\": \"#2a3f5f\"}, \"geo\": {\"bgcolor\": \"white\", \"lakecolor\": \"white\", \"landcolor\": \"#E5ECF6\", \"showlakes\": true, \"showland\": true, \"subunitcolor\": \"white\"}, \"hoverlabel\": {\"align\": \"left\"}, \"hovermode\": \"closest\", \"mapbox\": {\"style\": \"light\"}, \"paper_bgcolor\": \"white\", \"plot_bgcolor\": \"#E5ECF6\", \"polar\": {\"angularaxis\": {\"gridcolor\": \"white\", \"linecolor\": \"white\", \"ticks\": \"\"}, \"bgcolor\": \"#E5ECF6\", \"radialaxis\": {\"gridcolor\": \"white\", \"linecolor\": \"white\", \"ticks\": \"\"}}, \"scene\": {\"xaxis\": {\"backgroundcolor\": \"#E5ECF6\", \"gridcolor\": \"white\", \"gridwidth\": 2, \"linecolor\": \"white\", \"showbackground\": true, \"ticks\": \"\", \"zerolinecolor\": \"white\"}, \"yaxis\": {\"backgroundcolor\": \"#E5ECF6\", \"gridcolor\": \"white\", \"gridwidth\": 2, \"linecolor\": \"white\", \"showbackground\": true, \"ticks\": \"\", \"zerolinecolor\": \"white\"}, \"zaxis\": {\"backgroundcolor\": \"#E5ECF6\", \"gridcolor\": \"white\", \"gridwidth\": 2, \"linecolor\": \"white\", \"showbackground\": true, \"ticks\": \"\", \"zerolinecolor\": \"white\"}}, \"shapedefaults\": {\"line\": {\"color\": \"#2a3f5f\"}}, \"ternary\": {\"aaxis\": {\"gridcolor\": \"white\", \"linecolor\": \"white\", \"ticks\": \"\"}, \"baxis\": {\"gridcolor\": \"white\", \"linecolor\": \"white\", \"ticks\": \"\"}, \"bgcolor\": \"#E5ECF6\", \"caxis\": {\"gridcolor\": \"white\", \"linecolor\": \"white\", \"ticks\": \"\"}}, \"title\": {\"x\": 0.05}, \"xaxis\": {\"automargin\": true, \"gridcolor\": \"white\", \"linecolor\": \"white\", \"ticks\": \"\", \"title\": {\"standoff\": 15}, \"zerolinecolor\": \"white\", \"zerolinewidth\": 2}, \"yaxis\": {\"automargin\": true, \"gridcolor\": \"white\", \"linecolor\": \"white\", \"ticks\": \"\", \"title\": {\"standoff\": 15}, \"zerolinecolor\": \"white\", \"zerolinewidth\": 2}}}, \"width\": 850, \"xaxis\": {\"constrain\": \"domain\", \"scaleanchor\": \"y\", \"title\": {\"text\": \"Columns\"}}, \"yaxis\": {\"autorange\": \"reversed\", \"constrain\": \"domain\", \"title\": {\"text\": \"Columns\"}}},\n",
       "                        {\"responsive\": true}\n",
       "                    ).then(function(){\n",
       "                            \n",
       "var gd = document.getElementById('62bbb796-0b9e-4255-a006-b9494fa3231e');\n",
       "var x = new MutationObserver(function (mutations, observer) {{\n",
       "        var display = window.getComputedStyle(gd).display;\n",
       "        if (!display || display === 'none') {{\n",
       "            console.log([gd, 'removed!']);\n",
       "            Plotly.purge(gd);\n",
       "            observer.disconnect();\n",
       "        }}\n",
       "}});\n",
       "\n",
       "// Listen for the removal of the full notebook cells\n",
       "var notebookContainer = gd.closest('#notebook-container');\n",
       "if (notebookContainer) {{\n",
       "    x.observe(notebookContainer, {childList: true});\n",
       "}}\n",
       "\n",
       "// Listen for the clearing of the current output cell\n",
       "var outputEl = gd.closest('.output');\n",
       "if (outputEl) {{\n",
       "    x.observe(outputEl, {childList: true});\n",
       "}}\n",
       "\n",
       "                        })\n",
       "                };\n",
       "                });\n",
       "            </script>\n",
       "        </div>"
      ]
     },
     "metadata": {},
     "output_type": "display_data"
    },
    {
     "name": "stdout",
     "output_type": "stream",
     "text": [
      "Wall time: 62.9 ms\n"
     ]
    }
   ],
   "source": [
    "%%time\n",
    "fig = px.imshow(corr_mat, color_continuous_scale='Viridis',\n",
    "               labels=dict(x='Columns',y='Columns', color='Correlation'),\n",
    "               x=corr_mat.columns, y=corr_mat.columns)\n",
    "\n",
    "fig.update_layout(\n",
    "    autosize=False,\n",
    "    width=850,\n",
    "    height=850)\n",
    "\n",
    "fig.show()\n"
   ]
  },
  {
   "cell_type": "code",
   "execution_count": 23,
   "metadata": {},
   "outputs": [
    {
     "data": {
      "text/plain": [
       "Unnamed: 0                        int64\n",
       "VendorID                          int64\n",
       "tpep_pickup_datetime     datetime64[ns]\n",
       "tpep_dropoff_datetime    datetime64[ns]\n",
       "passenger_count                   int64\n",
       "trip_distance                   float64\n",
       "pickup_longitude                float64\n",
       "pickup_latitude                 float64\n",
       "RatecodeID                        int64\n",
       "store_and_fwd_flag               object\n",
       "dropoff_longitude               float64\n",
       "dropoff_latitude                float64\n",
       "payment_type                      int64\n",
       "fare_amount                     float64\n",
       "extra                           float64\n",
       "mta_tax                         float64\n",
       "tip_amount                      float64\n",
       "tolls_amount                    float64\n",
       "improvement_surcharge           float64\n",
       "total_amount                    float64\n",
       "dtype: object"
      ]
     },
     "execution_count": 23,
     "metadata": {},
     "output_type": "execute_result"
    }
   ],
   "source": [
    "df.dtypes"
   ]
  },
  {
   "cell_type": "code",
   "execution_count": 42,
   "metadata": {
    "ExecuteTime": {
     "end_time": "2020-06-30T07:34:09.829801Z",
     "start_time": "2020-06-30T07:33:37.135237Z"
    }
   },
   "outputs": [
    {
     "name": "stdout",
     "output_type": "stream",
     "text": [
      "Wall time: 0 ns\n"
     ]
    }
   ],
   "source": [
    "%time\n",
    "df = df.set_index(df['tpep_pickup_datetime'])"
   ]
  },
  {
   "cell_type": "code",
   "execution_count": 8,
   "metadata": {},
   "outputs": [
    {
     "data": {
      "text/html": [
       "<div>\n",
       "<style scoped>\n",
       "    .dataframe tbody tr th:only-of-type {\n",
       "        vertical-align: middle;\n",
       "    }\n",
       "\n",
       "    .dataframe tbody tr th {\n",
       "        vertical-align: top;\n",
       "    }\n",
       "\n",
       "    .dataframe thead th {\n",
       "        text-align: right;\n",
       "    }\n",
       "</style>\n",
       "<table border=\"1\" class=\"dataframe\">\n",
       "  <thead>\n",
       "    <tr style=\"text-align: right;\">\n",
       "      <th></th>\n",
       "      <th>Unnamed: 0</th>\n",
       "      <th>VendorID</th>\n",
       "      <th>tpep_pickup_datetime</th>\n",
       "      <th>tpep_dropoff_datetime</th>\n",
       "      <th>passenger_count</th>\n",
       "      <th>trip_distance</th>\n",
       "      <th>pickup_longitude</th>\n",
       "      <th>pickup_latitude</th>\n",
       "      <th>RatecodeID</th>\n",
       "      <th>store_and_fwd_flag</th>\n",
       "      <th>dropoff_longitude</th>\n",
       "      <th>dropoff_latitude</th>\n",
       "      <th>payment_type</th>\n",
       "      <th>fare_amount</th>\n",
       "      <th>extra</th>\n",
       "      <th>mta_tax</th>\n",
       "      <th>tip_amount</th>\n",
       "      <th>tolls_amount</th>\n",
       "      <th>improvement_surcharge</th>\n",
       "      <th>total_amount</th>\n",
       "    </tr>\n",
       "    <tr>\n",
       "      <th>tpep_pickup_datetime</th>\n",
       "      <th></th>\n",
       "      <th></th>\n",
       "      <th></th>\n",
       "      <th></th>\n",
       "      <th></th>\n",
       "      <th></th>\n",
       "      <th></th>\n",
       "      <th></th>\n",
       "      <th></th>\n",
       "      <th></th>\n",
       "      <th></th>\n",
       "      <th></th>\n",
       "      <th></th>\n",
       "      <th></th>\n",
       "      <th></th>\n",
       "      <th></th>\n",
       "      <th></th>\n",
       "      <th></th>\n",
       "      <th></th>\n",
       "      <th></th>\n",
       "    </tr>\n",
       "  </thead>\n",
       "  <tbody>\n",
       "    <tr>\n",
       "      <th>2016-01-01 00:00:00</th>\n",
       "      <td>5</td>\n",
       "      <td>2</td>\n",
       "      <td>2016-01-01 00:00:00</td>\n",
       "      <td>2016-01-01 00:18:30</td>\n",
       "      <td>2</td>\n",
       "      <td>5.52</td>\n",
       "      <td>-73.980118</td>\n",
       "      <td>40.743050</td>\n",
       "      <td>1</td>\n",
       "      <td>N</td>\n",
       "      <td>-73.913490</td>\n",
       "      <td>40.763142</td>\n",
       "      <td>2</td>\n",
       "      <td>19.0</td>\n",
       "      <td>0.5</td>\n",
       "      <td>0.5</td>\n",
       "      <td>0.00</td>\n",
       "      <td>0.0</td>\n",
       "      <td>0.3</td>\n",
       "      <td>20.30</td>\n",
       "    </tr>\n",
       "    <tr>\n",
       "      <th>2016-01-01 00:00:01</th>\n",
       "      <td>7</td>\n",
       "      <td>1</td>\n",
       "      <td>2016-01-01 00:00:01</td>\n",
       "      <td>2016-01-01 00:11:55</td>\n",
       "      <td>1</td>\n",
       "      <td>1.20</td>\n",
       "      <td>-73.979424</td>\n",
       "      <td>40.744614</td>\n",
       "      <td>1</td>\n",
       "      <td>N</td>\n",
       "      <td>-73.992035</td>\n",
       "      <td>40.753944</td>\n",
       "      <td>2</td>\n",
       "      <td>9.0</td>\n",
       "      <td>0.5</td>\n",
       "      <td>0.5</td>\n",
       "      <td>0.00</td>\n",
       "      <td>0.0</td>\n",
       "      <td>0.3</td>\n",
       "      <td>10.30</td>\n",
       "    </tr>\n",
       "    <tr>\n",
       "      <th>2016-01-01 00:00:02</th>\n",
       "      <td>9</td>\n",
       "      <td>2</td>\n",
       "      <td>2016-01-01 00:00:02</td>\n",
       "      <td>2016-01-01 00:11:08</td>\n",
       "      <td>1</td>\n",
       "      <td>3.21</td>\n",
       "      <td>-73.998344</td>\n",
       "      <td>40.723896</td>\n",
       "      <td>1</td>\n",
       "      <td>N</td>\n",
       "      <td>-73.995850</td>\n",
       "      <td>40.688400</td>\n",
       "      <td>2</td>\n",
       "      <td>11.5</td>\n",
       "      <td>0.5</td>\n",
       "      <td>0.5</td>\n",
       "      <td>0.00</td>\n",
       "      <td>0.0</td>\n",
       "      <td>0.3</td>\n",
       "      <td>12.80</td>\n",
       "    </tr>\n",
       "    <tr>\n",
       "      <th>2016-01-01 00:00:05</th>\n",
       "      <td>15</td>\n",
       "      <td>2</td>\n",
       "      <td>2016-01-01 00:00:05</td>\n",
       "      <td>2016-01-01 00:07:17</td>\n",
       "      <td>1</td>\n",
       "      <td>0.54</td>\n",
       "      <td>-73.985161</td>\n",
       "      <td>40.768951</td>\n",
       "      <td>1</td>\n",
       "      <td>N</td>\n",
       "      <td>-73.990227</td>\n",
       "      <td>40.761730</td>\n",
       "      <td>2</td>\n",
       "      <td>6.0</td>\n",
       "      <td>0.5</td>\n",
       "      <td>0.5</td>\n",
       "      <td>0.00</td>\n",
       "      <td>0.0</td>\n",
       "      <td>0.3</td>\n",
       "      <td>7.30</td>\n",
       "    </tr>\n",
       "    <tr>\n",
       "      <th>2016-01-01 00:00:06</th>\n",
       "      <td>17</td>\n",
       "      <td>1</td>\n",
       "      <td>2016-01-01 00:00:06</td>\n",
       "      <td>2016-01-01 00:04:44</td>\n",
       "      <td>1</td>\n",
       "      <td>1.70</td>\n",
       "      <td>-73.982101</td>\n",
       "      <td>40.774696</td>\n",
       "      <td>1</td>\n",
       "      <td>Y</td>\n",
       "      <td>-73.970940</td>\n",
       "      <td>40.796707</td>\n",
       "      <td>1</td>\n",
       "      <td>7.0</td>\n",
       "      <td>0.5</td>\n",
       "      <td>0.5</td>\n",
       "      <td>1.65</td>\n",
       "      <td>0.0</td>\n",
       "      <td>0.3</td>\n",
       "      <td>9.95</td>\n",
       "    </tr>\n",
       "  </tbody>\n",
       "</table>\n",
       "</div>"
      ],
      "text/plain": [
       "                      Unnamed: 0  VendorID tpep_pickup_datetime  \\\n",
       "tpep_pickup_datetime                                              \n",
       "2016-01-01 00:00:00            5         2  2016-01-01 00:00:00   \n",
       "2016-01-01 00:00:01            7         1  2016-01-01 00:00:01   \n",
       "2016-01-01 00:00:02            9         2  2016-01-01 00:00:02   \n",
       "2016-01-01 00:00:05           15         2  2016-01-01 00:00:05   \n",
       "2016-01-01 00:00:06           17         1  2016-01-01 00:00:06   \n",
       "\n",
       "                     tpep_dropoff_datetime  passenger_count  trip_distance  \\\n",
       "tpep_pickup_datetime                                                         \n",
       "2016-01-01 00:00:00    2016-01-01 00:18:30                2           5.52   \n",
       "2016-01-01 00:00:01    2016-01-01 00:11:55                1           1.20   \n",
       "2016-01-01 00:00:02    2016-01-01 00:11:08                1           3.21   \n",
       "2016-01-01 00:00:05    2016-01-01 00:07:17                1           0.54   \n",
       "2016-01-01 00:00:06    2016-01-01 00:04:44                1           1.70   \n",
       "\n",
       "                      pickup_longitude  pickup_latitude  RatecodeID  \\\n",
       "tpep_pickup_datetime                                                  \n",
       "2016-01-01 00:00:00         -73.980118        40.743050           1   \n",
       "2016-01-01 00:00:01         -73.979424        40.744614           1   \n",
       "2016-01-01 00:00:02         -73.998344        40.723896           1   \n",
       "2016-01-01 00:00:05         -73.985161        40.768951           1   \n",
       "2016-01-01 00:00:06         -73.982101        40.774696           1   \n",
       "\n",
       "                     store_and_fwd_flag  dropoff_longitude  dropoff_latitude  \\\n",
       "tpep_pickup_datetime                                                           \n",
       "2016-01-01 00:00:00                   N         -73.913490         40.763142   \n",
       "2016-01-01 00:00:01                   N         -73.992035         40.753944   \n",
       "2016-01-01 00:00:02                   N         -73.995850         40.688400   \n",
       "2016-01-01 00:00:05                   N         -73.990227         40.761730   \n",
       "2016-01-01 00:00:06                   Y         -73.970940         40.796707   \n",
       "\n",
       "                      payment_type  fare_amount  extra  mta_tax  tip_amount  \\\n",
       "tpep_pickup_datetime                                                          \n",
       "2016-01-01 00:00:00              2         19.0    0.5      0.5        0.00   \n",
       "2016-01-01 00:00:01              2          9.0    0.5      0.5        0.00   \n",
       "2016-01-01 00:00:02              2         11.5    0.5      0.5        0.00   \n",
       "2016-01-01 00:00:05              2          6.0    0.5      0.5        0.00   \n",
       "2016-01-01 00:00:06              1          7.0    0.5      0.5        1.65   \n",
       "\n",
       "                      tolls_amount  improvement_surcharge  total_amount  \n",
       "tpep_pickup_datetime                                                     \n",
       "2016-01-01 00:00:00            0.0                    0.3         20.30  \n",
       "2016-01-01 00:00:01            0.0                    0.3         10.30  \n",
       "2016-01-01 00:00:02            0.0                    0.3         12.80  \n",
       "2016-01-01 00:00:05            0.0                    0.3          7.30  \n",
       "2016-01-01 00:00:06            0.0                    0.3          9.95  "
      ]
     },
     "execution_count": 8,
     "metadata": {},
     "output_type": "execute_result"
    }
   ],
   "source": [
    "df.head()"
   ]
  },
  {
   "cell_type": "markdown",
   "metadata": {},
   "source": [
    "### Plotting selected pickup locations"
   ]
  },
  {
   "cell_type": "markdown",
   "metadata": {},
   "source": [
    "New york bounding box:\n",
    "min_lat <- 40.5774\n",
    "max_lat <- 40.9176\n",
    "min_long <- -74.15\n",
    "max_long <- -73.7004"
   ]
  },
  {
   "cell_type": "code",
   "execution_count": 95,
   "metadata": {
    "ExecuteTime": {
     "end_time": "2020-06-30T09:43:46.445780Z",
     "start_time": "2020-06-30T09:43:10.713996Z"
    }
   },
   "outputs": [
    {
     "name": "stdout",
     "output_type": "stream",
     "text": [
      "Wall time: 35.5 s\n"
     ]
    },
    {
     "data": {
      "text/html": [
       "<div style=\"width:100%;\"><div style=\"position:relative;width:100%;height:0;padding-bottom:60%;\"><span style=\"color:#565656\">Make this Notebook Trusted to load map: File -> Trust Notebook</span><iframe src=\"about:blank\" style=\"position:absolute;width:100%;height:100%;left:0;top:0;border:none !important;\" data-html=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 onload=\"this.contentDocument.open();this.contentDocument.write(atob(this.getAttribute('data-html')));this.contentDocument.close();\" allowfullscreen webkitallowfullscreen mozallowfullscreen></iframe></div></div>"
      ],
      "text/plain": [
       "<folium.folium.Map at 0x21e8e93bc50>"
      ]
     },
     "execution_count": 95,
     "metadata": {},
     "output_type": "execute_result"
    }
   ],
   "source": [
    "%%time\n",
    "import folium\n",
    "#open street map\n",
    "#outlier_locations = df[((df.pickup_longitude != 0 | df.pickup_latitude != 0) & (df.pickup_longitude <= -74.15 | df.pickup_latitude <= 40.5774) \\\n",
    "                   #(df.pickup_longitude >= -73.7004 | df.pickup_latitude >= 40.9176))]\n",
    "map_osm = folium.Map(location=[40.734695, -73.990372], tiles='Stamen Toner')\n",
    "#sample_locations = outlier_locations.head(100)\n",
    "sample_locations = df.head(100)\n",
    "for i,j in sample_locations.iterrows():\n",
    "    folium.Marker(list((j['pickup_latitude'],j['pickup_longitude']))).add_to(map_osm)\n",
    "map_osm"
   ]
  },
  {
   "cell_type": "markdown",
   "metadata": {},
   "source": [
    "### Resampling the data"
   ]
  },
  {
   "cell_type": "code",
   "execution_count": 58,
   "metadata": {
    "ExecuteTime": {
     "end_time": "2020-06-30T08:27:56.570608Z",
     "start_time": "2020-06-30T08:27:26.647980Z"
    }
   },
   "outputs": [
    {
     "data": {
      "text/html": [
       "<div>\n",
       "<style scoped>\n",
       "    .dataframe tbody tr th:only-of-type {\n",
       "        vertical-align: middle;\n",
       "    }\n",
       "\n",
       "    .dataframe tbody tr th {\n",
       "        vertical-align: top;\n",
       "    }\n",
       "\n",
       "    .dataframe thead th {\n",
       "        text-align: right;\n",
       "    }\n",
       "</style>\n",
       "<table border=\"1\" class=\"dataframe\">\n",
       "  <thead>\n",
       "    <tr style=\"text-align: right;\">\n",
       "      <th></th>\n",
       "      <th>VendorID</th>\n",
       "      <th>tpep_pickup_datetime</th>\n",
       "      <th>tpep_dropoff_datetime</th>\n",
       "      <th>passenger_count</th>\n",
       "      <th>trip_distance</th>\n",
       "      <th>pickup_longitude</th>\n",
       "      <th>pickup_latitude</th>\n",
       "      <th>RatecodeID</th>\n",
       "      <th>store_and_fwd_flag</th>\n",
       "      <th>dropoff_longitude</th>\n",
       "      <th>...</th>\n",
       "      <th>fare_amount</th>\n",
       "      <th>extra</th>\n",
       "      <th>mta_tax</th>\n",
       "      <th>tip_amount</th>\n",
       "      <th>tolls_amount</th>\n",
       "      <th>improvement_surcharge</th>\n",
       "      <th>total_amount</th>\n",
       "      <th>trip_duration</th>\n",
       "      <th>trip_minutes</th>\n",
       "      <th>avg_speed</th>\n",
       "    </tr>\n",
       "    <tr>\n",
       "      <th>tpep_pickup_datetime</th>\n",
       "      <th></th>\n",
       "      <th></th>\n",
       "      <th></th>\n",
       "      <th></th>\n",
       "      <th></th>\n",
       "      <th></th>\n",
       "      <th></th>\n",
       "      <th></th>\n",
       "      <th></th>\n",
       "      <th></th>\n",
       "      <th></th>\n",
       "      <th></th>\n",
       "      <th></th>\n",
       "      <th></th>\n",
       "      <th></th>\n",
       "      <th></th>\n",
       "      <th></th>\n",
       "      <th></th>\n",
       "      <th></th>\n",
       "      <th></th>\n",
       "      <th></th>\n",
       "    </tr>\n",
       "  </thead>\n",
       "  <tbody>\n",
       "    <tr>\n",
       "      <th>2016-01-01 00:00:00</th>\n",
       "      <td>2</td>\n",
       "      <td>2016-01-01 00:00:00</td>\n",
       "      <td>2016-01-01 00:18:30</td>\n",
       "      <td>2</td>\n",
       "      <td>5.52</td>\n",
       "      <td>-73.980118</td>\n",
       "      <td>40.743050</td>\n",
       "      <td>1</td>\n",
       "      <td>N</td>\n",
       "      <td>-73.913490</td>\n",
       "      <td>...</td>\n",
       "      <td>19.0</td>\n",
       "      <td>0.5</td>\n",
       "      <td>0.5</td>\n",
       "      <td>0.00</td>\n",
       "      <td>0.0</td>\n",
       "      <td>0.3</td>\n",
       "      <td>20.30</td>\n",
       "      <td>00:18:30</td>\n",
       "      <td>18.500000</td>\n",
       "      <td>17.902703</td>\n",
       "    </tr>\n",
       "    <tr>\n",
       "      <th>2016-01-01 00:00:01</th>\n",
       "      <td>1</td>\n",
       "      <td>2016-01-01 00:00:01</td>\n",
       "      <td>2016-01-01 00:11:55</td>\n",
       "      <td>1</td>\n",
       "      <td>1.20</td>\n",
       "      <td>-73.979424</td>\n",
       "      <td>40.744614</td>\n",
       "      <td>1</td>\n",
       "      <td>N</td>\n",
       "      <td>-73.992035</td>\n",
       "      <td>...</td>\n",
       "      <td>9.0</td>\n",
       "      <td>0.5</td>\n",
       "      <td>0.5</td>\n",
       "      <td>0.00</td>\n",
       "      <td>0.0</td>\n",
       "      <td>0.3</td>\n",
       "      <td>10.30</td>\n",
       "      <td>00:11:54</td>\n",
       "      <td>11.900000</td>\n",
       "      <td>6.050420</td>\n",
       "    </tr>\n",
       "    <tr>\n",
       "      <th>2016-01-01 00:00:02</th>\n",
       "      <td>2</td>\n",
       "      <td>2016-01-01 00:00:02</td>\n",
       "      <td>2016-01-01 00:11:08</td>\n",
       "      <td>1</td>\n",
       "      <td>3.21</td>\n",
       "      <td>-73.998344</td>\n",
       "      <td>40.723896</td>\n",
       "      <td>1</td>\n",
       "      <td>N</td>\n",
       "      <td>-73.995850</td>\n",
       "      <td>...</td>\n",
       "      <td>11.5</td>\n",
       "      <td>0.5</td>\n",
       "      <td>0.5</td>\n",
       "      <td>0.00</td>\n",
       "      <td>0.0</td>\n",
       "      <td>0.3</td>\n",
       "      <td>12.80</td>\n",
       "      <td>00:11:06</td>\n",
       "      <td>11.100000</td>\n",
       "      <td>17.351351</td>\n",
       "    </tr>\n",
       "    <tr>\n",
       "      <th>2016-01-01 00:00:05</th>\n",
       "      <td>2</td>\n",
       "      <td>2016-01-01 00:00:05</td>\n",
       "      <td>2016-01-01 00:07:17</td>\n",
       "      <td>1</td>\n",
       "      <td>0.54</td>\n",
       "      <td>-73.985161</td>\n",
       "      <td>40.768951</td>\n",
       "      <td>1</td>\n",
       "      <td>N</td>\n",
       "      <td>-73.990227</td>\n",
       "      <td>...</td>\n",
       "      <td>6.0</td>\n",
       "      <td>0.5</td>\n",
       "      <td>0.5</td>\n",
       "      <td>0.00</td>\n",
       "      <td>0.0</td>\n",
       "      <td>0.3</td>\n",
       "      <td>7.30</td>\n",
       "      <td>00:07:12</td>\n",
       "      <td>7.200000</td>\n",
       "      <td>4.500000</td>\n",
       "    </tr>\n",
       "    <tr>\n",
       "      <th>2016-01-01 00:00:06</th>\n",
       "      <td>1</td>\n",
       "      <td>2016-01-01 00:00:06</td>\n",
       "      <td>2016-01-01 00:04:44</td>\n",
       "      <td>1</td>\n",
       "      <td>1.70</td>\n",
       "      <td>-73.982101</td>\n",
       "      <td>40.774696</td>\n",
       "      <td>1</td>\n",
       "      <td>Y</td>\n",
       "      <td>-73.970940</td>\n",
       "      <td>...</td>\n",
       "      <td>7.0</td>\n",
       "      <td>0.5</td>\n",
       "      <td>0.5</td>\n",
       "      <td>1.65</td>\n",
       "      <td>0.0</td>\n",
       "      <td>0.3</td>\n",
       "      <td>9.95</td>\n",
       "      <td>00:04:38</td>\n",
       "      <td>4.633333</td>\n",
       "      <td>22.014388</td>\n",
       "    </tr>\n",
       "  </tbody>\n",
       "</table>\n",
       "<p>5 rows × 22 columns</p>\n",
       "</div>"
      ],
      "text/plain": [
       "                      VendorID tpep_pickup_datetime tpep_dropoff_datetime  \\\n",
       "tpep_pickup_datetime                                                        \n",
       "2016-01-01 00:00:00          2  2016-01-01 00:00:00   2016-01-01 00:18:30   \n",
       "2016-01-01 00:00:01          1  2016-01-01 00:00:01   2016-01-01 00:11:55   \n",
       "2016-01-01 00:00:02          2  2016-01-01 00:00:02   2016-01-01 00:11:08   \n",
       "2016-01-01 00:00:05          2  2016-01-01 00:00:05   2016-01-01 00:07:17   \n",
       "2016-01-01 00:00:06          1  2016-01-01 00:00:06   2016-01-01 00:04:44   \n",
       "\n",
       "                      passenger_count  trip_distance  pickup_longitude  \\\n",
       "tpep_pickup_datetime                                                     \n",
       "2016-01-01 00:00:00                 2           5.52        -73.980118   \n",
       "2016-01-01 00:00:01                 1           1.20        -73.979424   \n",
       "2016-01-01 00:00:02                 1           3.21        -73.998344   \n",
       "2016-01-01 00:00:05                 1           0.54        -73.985161   \n",
       "2016-01-01 00:00:06                 1           1.70        -73.982101   \n",
       "\n",
       "                      pickup_latitude  RatecodeID store_and_fwd_flag  \\\n",
       "tpep_pickup_datetime                                                   \n",
       "2016-01-01 00:00:00         40.743050           1                  N   \n",
       "2016-01-01 00:00:01         40.744614           1                  N   \n",
       "2016-01-01 00:00:02         40.723896           1                  N   \n",
       "2016-01-01 00:00:05         40.768951           1                  N   \n",
       "2016-01-01 00:00:06         40.774696           1                  Y   \n",
       "\n",
       "                      dropoff_longitude  ...  fare_amount  extra  mta_tax  \\\n",
       "tpep_pickup_datetime                     ...                                \n",
       "2016-01-01 00:00:00          -73.913490  ...         19.0    0.5      0.5   \n",
       "2016-01-01 00:00:01          -73.992035  ...          9.0    0.5      0.5   \n",
       "2016-01-01 00:00:02          -73.995850  ...         11.5    0.5      0.5   \n",
       "2016-01-01 00:00:05          -73.990227  ...          6.0    0.5      0.5   \n",
       "2016-01-01 00:00:06          -73.970940  ...          7.0    0.5      0.5   \n",
       "\n",
       "                      tip_amount  tolls_amount  improvement_surcharge  \\\n",
       "tpep_pickup_datetime                                                    \n",
       "2016-01-01 00:00:00         0.00           0.0                    0.3   \n",
       "2016-01-01 00:00:01         0.00           0.0                    0.3   \n",
       "2016-01-01 00:00:02         0.00           0.0                    0.3   \n",
       "2016-01-01 00:00:05         0.00           0.0                    0.3   \n",
       "2016-01-01 00:00:06         1.65           0.0                    0.3   \n",
       "\n",
       "                      total_amount  trip_duration  trip_minutes  avg_speed  \n",
       "tpep_pickup_datetime                                                        \n",
       "2016-01-01 00:00:00          20.30       00:18:30     18.500000  17.902703  \n",
       "2016-01-01 00:00:01          10.30       00:11:54     11.900000   6.050420  \n",
       "2016-01-01 00:00:02          12.80       00:11:06     11.100000  17.351351  \n",
       "2016-01-01 00:00:05           7.30       00:07:12      7.200000   4.500000  \n",
       "2016-01-01 00:00:06           9.95       00:04:38      4.633333  22.014388  \n",
       "\n",
       "[5 rows x 22 columns]"
      ]
     },
     "execution_count": 58,
     "metadata": {},
     "output_type": "execute_result"
    }
   ],
   "source": [
    "df.head()"
   ]
  },
  {
   "cell_type": "markdown",
   "metadata": {},
   "source": [
    "#### Resampling day wise"
   ]
  },
  {
   "cell_type": "code",
   "execution_count": 61,
   "metadata": {
    "ExecuteTime": {
     "end_time": "2020-06-30T08:46:44.603068Z",
     "start_time": "2020-06-30T08:45:50.971609Z"
    }
   },
   "outputs": [
    {
     "data": {
      "application/vnd.plotly.v1+json": {
       "config": {
        "linkText": "Export to plot.ly",
        "plotlyServerURL": "https://plot.ly",
        "showLink": true
       },
       "data": [
        {
         "marker": {
          "color": "rgba(255, 153, 51, 0.6)",
          "line": {
           "color": "rgba(255, 153, 51, 1.0)",
           "width": 1
          }
         },
         "name": "total_amount",
         "orientation": "v",
         "text": "",
         "type": "bar",
         "x": [
          "2016-01-01",
          "2016-01-02",
          "2016-01-03",
          "2016-01-04",
          "2016-01-05",
          "2016-01-06",
          "2016-01-07",
          "2016-01-08",
          "2016-01-09",
          "2016-01-10",
          "2016-01-11",
          "2016-01-12",
          "2016-01-13",
          "2016-01-14",
          "2016-01-15",
          "2016-01-16",
          "2016-01-17",
          "2016-01-18",
          "2016-01-19",
          "2016-01-20",
          "2016-01-21",
          "2016-01-22",
          "2016-01-23",
          "2016-01-24",
          "2016-01-25",
          "2016-01-26",
          "2016-01-27",
          "2016-01-28",
          "2016-01-29",
          "2016-01-30",
          "2016-01-31"
         ],
         "y": [
          112719,
          102475,
          98795,
          103658,
          112560,
          113987,
          119576,
          128613,
          132822,
          114862,
          112000,
          120212,
          129675,
          129602,
          131583,
          135083,
          124380,
          111738,
          126162,
          125348,
          131011,
          137179,
          25588,
          52084,
          91792,
          106853,
          117703,
          125200,
          135879,
          142323,
          118033
         ]
        }
       ],
       "layout": {
        "legend": {
         "bgcolor": "#F5F6F9",
         "font": {
          "color": "#4D5663"
         }
        },
        "paper_bgcolor": "#F5F6F9",
        "plot_bgcolor": "#F5F6F9",
        "template": {
         "data": {
          "bar": [
           {
            "error_x": {
             "color": "#2a3f5f"
            },
            "error_y": {
             "color": "#2a3f5f"
            },
            "marker": {
             "line": {
              "color": "#E5ECF6",
              "width": 0.5
             }
            },
            "type": "bar"
           }
          ],
          "barpolar": [
           {
            "marker": {
             "line": {
              "color": "#E5ECF6",
              "width": 0.5
             }
            },
            "type": "barpolar"
           }
          ],
          "carpet": [
           {
            "aaxis": {
             "endlinecolor": "#2a3f5f",
             "gridcolor": "white",
             "linecolor": "white",
             "minorgridcolor": "white",
             "startlinecolor": "#2a3f5f"
            },
            "baxis": {
             "endlinecolor": "#2a3f5f",
             "gridcolor": "white",
             "linecolor": "white",
             "minorgridcolor": "white",
             "startlinecolor": "#2a3f5f"
            },
            "type": "carpet"
           }
          ],
          "choropleth": [
           {
            "colorbar": {
             "outlinewidth": 0,
             "ticks": ""
            },
            "type": "choropleth"
           }
          ],
          "contour": [
           {
            "colorbar": {
             "outlinewidth": 0,
             "ticks": ""
            },
            "colorscale": [
             [
              0,
              "#0d0887"
             ],
             [
              0.1111111111111111,
              "#46039f"
             ],
             [
              0.2222222222222222,
              "#7201a8"
             ],
             [
              0.3333333333333333,
              "#9c179e"
             ],
             [
              0.4444444444444444,
              "#bd3786"
             ],
             [
              0.5555555555555556,
              "#d8576b"
             ],
             [
              0.6666666666666666,
              "#ed7953"
             ],
             [
              0.7777777777777778,
              "#fb9f3a"
             ],
             [
              0.8888888888888888,
              "#fdca26"
             ],
             [
              1,
              "#f0f921"
             ]
            ],
            "type": "contour"
           }
          ],
          "contourcarpet": [
           {
            "colorbar": {
             "outlinewidth": 0,
             "ticks": ""
            },
            "type": "contourcarpet"
           }
          ],
          "heatmap": [
           {
            "colorbar": {
             "outlinewidth": 0,
             "ticks": ""
            },
            "colorscale": [
             [
              0,
              "#0d0887"
             ],
             [
              0.1111111111111111,
              "#46039f"
             ],
             [
              0.2222222222222222,
              "#7201a8"
             ],
             [
              0.3333333333333333,
              "#9c179e"
             ],
             [
              0.4444444444444444,
              "#bd3786"
             ],
             [
              0.5555555555555556,
              "#d8576b"
             ],
             [
              0.6666666666666666,
              "#ed7953"
             ],
             [
              0.7777777777777778,
              "#fb9f3a"
             ],
             [
              0.8888888888888888,
              "#fdca26"
             ],
             [
              1,
              "#f0f921"
             ]
            ],
            "type": "heatmap"
           }
          ],
          "heatmapgl": [
           {
            "colorbar": {
             "outlinewidth": 0,
             "ticks": ""
            },
            "colorscale": [
             [
              0,
              "#0d0887"
             ],
             [
              0.1111111111111111,
              "#46039f"
             ],
             [
              0.2222222222222222,
              "#7201a8"
             ],
             [
              0.3333333333333333,
              "#9c179e"
             ],
             [
              0.4444444444444444,
              "#bd3786"
             ],
             [
              0.5555555555555556,
              "#d8576b"
             ],
             [
              0.6666666666666666,
              "#ed7953"
             ],
             [
              0.7777777777777778,
              "#fb9f3a"
             ],
             [
              0.8888888888888888,
              "#fdca26"
             ],
             [
              1,
              "#f0f921"
             ]
            ],
            "type": "heatmapgl"
           }
          ],
          "histogram": [
           {
            "marker": {
             "colorbar": {
              "outlinewidth": 0,
              "ticks": ""
             }
            },
            "type": "histogram"
           }
          ],
          "histogram2d": [
           {
            "colorbar": {
             "outlinewidth": 0,
             "ticks": ""
            },
            "colorscale": [
             [
              0,
              "#0d0887"
             ],
             [
              0.1111111111111111,
              "#46039f"
             ],
             [
              0.2222222222222222,
              "#7201a8"
             ],
             [
              0.3333333333333333,
              "#9c179e"
             ],
             [
              0.4444444444444444,
              "#bd3786"
             ],
             [
              0.5555555555555556,
              "#d8576b"
             ],
             [
              0.6666666666666666,
              "#ed7953"
             ],
             [
              0.7777777777777778,
              "#fb9f3a"
             ],
             [
              0.8888888888888888,
              "#fdca26"
             ],
             [
              1,
              "#f0f921"
             ]
            ],
            "type": "histogram2d"
           }
          ],
          "histogram2dcontour": [
           {
            "colorbar": {
             "outlinewidth": 0,
             "ticks": ""
            },
            "colorscale": [
             [
              0,
              "#0d0887"
             ],
             [
              0.1111111111111111,
              "#46039f"
             ],
             [
              0.2222222222222222,
              "#7201a8"
             ],
             [
              0.3333333333333333,
              "#9c179e"
             ],
             [
              0.4444444444444444,
              "#bd3786"
             ],
             [
              0.5555555555555556,
              "#d8576b"
             ],
             [
              0.6666666666666666,
              "#ed7953"
             ],
             [
              0.7777777777777778,
              "#fb9f3a"
             ],
             [
              0.8888888888888888,
              "#fdca26"
             ],
             [
              1,
              "#f0f921"
             ]
            ],
            "type": "histogram2dcontour"
           }
          ],
          "mesh3d": [
           {
            "colorbar": {
             "outlinewidth": 0,
             "ticks": ""
            },
            "type": "mesh3d"
           }
          ],
          "parcoords": [
           {
            "line": {
             "colorbar": {
              "outlinewidth": 0,
              "ticks": ""
             }
            },
            "type": "parcoords"
           }
          ],
          "pie": [
           {
            "automargin": true,
            "type": "pie"
           }
          ],
          "scatter": [
           {
            "marker": {
             "colorbar": {
              "outlinewidth": 0,
              "ticks": ""
             }
            },
            "type": "scatter"
           }
          ],
          "scatter3d": [
           {
            "line": {
             "colorbar": {
              "outlinewidth": 0,
              "ticks": ""
             }
            },
            "marker": {
             "colorbar": {
              "outlinewidth": 0,
              "ticks": ""
             }
            },
            "type": "scatter3d"
           }
          ],
          "scattercarpet": [
           {
            "marker": {
             "colorbar": {
              "outlinewidth": 0,
              "ticks": ""
             }
            },
            "type": "scattercarpet"
           }
          ],
          "scattergeo": [
           {
            "marker": {
             "colorbar": {
              "outlinewidth": 0,
              "ticks": ""
             }
            },
            "type": "scattergeo"
           }
          ],
          "scattergl": [
           {
            "marker": {
             "colorbar": {
              "outlinewidth": 0,
              "ticks": ""
             }
            },
            "type": "scattergl"
           }
          ],
          "scattermapbox": [
           {
            "marker": {
             "colorbar": {
              "outlinewidth": 0,
              "ticks": ""
             }
            },
            "type": "scattermapbox"
           }
          ],
          "scatterpolar": [
           {
            "marker": {
             "colorbar": {
              "outlinewidth": 0,
              "ticks": ""
             }
            },
            "type": "scatterpolar"
           }
          ],
          "scatterpolargl": [
           {
            "marker": {
             "colorbar": {
              "outlinewidth": 0,
              "ticks": ""
             }
            },
            "type": "scatterpolargl"
           }
          ],
          "scatterternary": [
           {
            "marker": {
             "colorbar": {
              "outlinewidth": 0,
              "ticks": ""
             }
            },
            "type": "scatterternary"
           }
          ],
          "surface": [
           {
            "colorbar": {
             "outlinewidth": 0,
             "ticks": ""
            },
            "colorscale": [
             [
              0,
              "#0d0887"
             ],
             [
              0.1111111111111111,
              "#46039f"
             ],
             [
              0.2222222222222222,
              "#7201a8"
             ],
             [
              0.3333333333333333,
              "#9c179e"
             ],
             [
              0.4444444444444444,
              "#bd3786"
             ],
             [
              0.5555555555555556,
              "#d8576b"
             ],
             [
              0.6666666666666666,
              "#ed7953"
             ],
             [
              0.7777777777777778,
              "#fb9f3a"
             ],
             [
              0.8888888888888888,
              "#fdca26"
             ],
             [
              1,
              "#f0f921"
             ]
            ],
            "type": "surface"
           }
          ],
          "table": [
           {
            "cells": {
             "fill": {
              "color": "#EBF0F8"
             },
             "line": {
              "color": "white"
             }
            },
            "header": {
             "fill": {
              "color": "#C8D4E3"
             },
             "line": {
              "color": "white"
             }
            },
            "type": "table"
           }
          ]
         },
         "layout": {
          "annotationdefaults": {
           "arrowcolor": "#2a3f5f",
           "arrowhead": 0,
           "arrowwidth": 1
          },
          "coloraxis": {
           "colorbar": {
            "outlinewidth": 0,
            "ticks": ""
           }
          },
          "colorscale": {
           "diverging": [
            [
             0,
             "#8e0152"
            ],
            [
             0.1,
             "#c51b7d"
            ],
            [
             0.2,
             "#de77ae"
            ],
            [
             0.3,
             "#f1b6da"
            ],
            [
             0.4,
             "#fde0ef"
            ],
            [
             0.5,
             "#f7f7f7"
            ],
            [
             0.6,
             "#e6f5d0"
            ],
            [
             0.7,
             "#b8e186"
            ],
            [
             0.8,
             "#7fbc41"
            ],
            [
             0.9,
             "#4d9221"
            ],
            [
             1,
             "#276419"
            ]
           ],
           "sequential": [
            [
             0,
             "#0d0887"
            ],
            [
             0.1111111111111111,
             "#46039f"
            ],
            [
             0.2222222222222222,
             "#7201a8"
            ],
            [
             0.3333333333333333,
             "#9c179e"
            ],
            [
             0.4444444444444444,
             "#bd3786"
            ],
            [
             0.5555555555555556,
             "#d8576b"
            ],
            [
             0.6666666666666666,
             "#ed7953"
            ],
            [
             0.7777777777777778,
             "#fb9f3a"
            ],
            [
             0.8888888888888888,
             "#fdca26"
            ],
            [
             1,
             "#f0f921"
            ]
           ],
           "sequentialminus": [
            [
             0,
             "#0d0887"
            ],
            [
             0.1111111111111111,
             "#46039f"
            ],
            [
             0.2222222222222222,
             "#7201a8"
            ],
            [
             0.3333333333333333,
             "#9c179e"
            ],
            [
             0.4444444444444444,
             "#bd3786"
            ],
            [
             0.5555555555555556,
             "#d8576b"
            ],
            [
             0.6666666666666666,
             "#ed7953"
            ],
            [
             0.7777777777777778,
             "#fb9f3a"
            ],
            [
             0.8888888888888888,
             "#fdca26"
            ],
            [
             1,
             "#f0f921"
            ]
           ]
          },
          "colorway": [
           "#636efa",
           "#EF553B",
           "#00cc96",
           "#ab63fa",
           "#FFA15A",
           "#19d3f3",
           "#FF6692",
           "#B6E880",
           "#FF97FF",
           "#FECB52"
          ],
          "font": {
           "color": "#2a3f5f"
          },
          "geo": {
           "bgcolor": "white",
           "lakecolor": "white",
           "landcolor": "#E5ECF6",
           "showlakes": true,
           "showland": true,
           "subunitcolor": "white"
          },
          "hoverlabel": {
           "align": "left"
          },
          "hovermode": "closest",
          "mapbox": {
           "style": "light"
          },
          "paper_bgcolor": "white",
          "plot_bgcolor": "#E5ECF6",
          "polar": {
           "angularaxis": {
            "gridcolor": "white",
            "linecolor": "white",
            "ticks": ""
           },
           "bgcolor": "#E5ECF6",
           "radialaxis": {
            "gridcolor": "white",
            "linecolor": "white",
            "ticks": ""
           }
          },
          "scene": {
           "xaxis": {
            "backgroundcolor": "#E5ECF6",
            "gridcolor": "white",
            "gridwidth": 2,
            "linecolor": "white",
            "showbackground": true,
            "ticks": "",
            "zerolinecolor": "white"
           },
           "yaxis": {
            "backgroundcolor": "#E5ECF6",
            "gridcolor": "white",
            "gridwidth": 2,
            "linecolor": "white",
            "showbackground": true,
            "ticks": "",
            "zerolinecolor": "white"
           },
           "zaxis": {
            "backgroundcolor": "#E5ECF6",
            "gridcolor": "white",
            "gridwidth": 2,
            "linecolor": "white",
            "showbackground": true,
            "ticks": "",
            "zerolinecolor": "white"
           }
          },
          "shapedefaults": {
           "line": {
            "color": "#2a3f5f"
           }
          },
          "ternary": {
           "aaxis": {
            "gridcolor": "white",
            "linecolor": "white",
            "ticks": ""
           },
           "baxis": {
            "gridcolor": "white",
            "linecolor": "white",
            "ticks": ""
           },
           "bgcolor": "#E5ECF6",
           "caxis": {
            "gridcolor": "white",
            "linecolor": "white",
            "ticks": ""
           }
          },
          "title": {
           "x": 0.05
          },
          "xaxis": {
           "automargin": true,
           "gridcolor": "white",
           "linecolor": "white",
           "ticks": "",
           "title": {
            "standoff": 15
           },
           "zerolinecolor": "white",
           "zerolinewidth": 2
          },
          "yaxis": {
           "automargin": true,
           "gridcolor": "white",
           "linecolor": "white",
           "ticks": "",
           "title": {
            "standoff": 15
           },
           "zerolinecolor": "white",
           "zerolinewidth": 2
          }
         }
        },
        "title": {
         "font": {
          "color": "#4D5663"
         },
         "text": "Daily total rides"
        },
        "xaxis": {
         "gridcolor": "#E1E5ED",
         "showgrid": true,
         "tickfont": {
          "color": "#4D5663"
         },
         "title": {
          "font": {
           "color": "#4D5663"
          },
          "text": "Date"
         },
         "zerolinecolor": "#E1E5ED"
        },
        "yaxis": {
         "gridcolor": "#E1E5ED",
         "showgrid": true,
         "tickfont": {
          "color": "#4D5663"
         },
         "title": {
          "font": {
           "color": "#4D5663"
          },
          "text": "Rides"
         },
         "zerolinecolor": "#E1E5ED"
        }
       }
      },
      "text/html": [
       "<div>\n",
       "        \n",
       "        \n",
       "            <div id=\"4e5fd4c4-0790-4b5e-885b-c68520940e5f\" class=\"plotly-graph-div\" style=\"height:525px; width:100%;\"></div>\n",
       "            <script type=\"text/javascript\">\n",
       "                require([\"plotly\"], function(Plotly) {\n",
       "                    window.PLOTLYENV=window.PLOTLYENV || {};\n",
       "                    window.PLOTLYENV.BASE_URL='https://plot.ly';\n",
       "                    \n",
       "                if (document.getElementById(\"4e5fd4c4-0790-4b5e-885b-c68520940e5f\")) {\n",
       "                    Plotly.newPlot(\n",
       "                        '4e5fd4c4-0790-4b5e-885b-c68520940e5f',\n",
       "                        [{\"marker\": {\"color\": \"rgba(255, 153, 51, 0.6)\", \"line\": {\"color\": \"rgba(255, 153, 51, 1.0)\", \"width\": 1}}, \"name\": \"total_amount\", \"orientation\": \"v\", \"text\": \"\", \"type\": \"bar\", \"x\": [\"2016-01-01\", \"2016-01-02\", \"2016-01-03\", \"2016-01-04\", \"2016-01-05\", \"2016-01-06\", \"2016-01-07\", \"2016-01-08\", \"2016-01-09\", \"2016-01-10\", \"2016-01-11\", \"2016-01-12\", \"2016-01-13\", \"2016-01-14\", \"2016-01-15\", \"2016-01-16\", \"2016-01-17\", \"2016-01-18\", \"2016-01-19\", \"2016-01-20\", \"2016-01-21\", \"2016-01-22\", \"2016-01-23\", \"2016-01-24\", \"2016-01-25\", \"2016-01-26\", \"2016-01-27\", \"2016-01-28\", \"2016-01-29\", \"2016-01-30\", \"2016-01-31\"], \"y\": [112719, 102475, 98795, 103658, 112560, 113987, 119576, 128613, 132822, 114862, 112000, 120212, 129675, 129602, 131583, 135083, 124380, 111738, 126162, 125348, 131011, 137179, 25588, 52084, 91792, 106853, 117703, 125200, 135879, 142323, 118033]}],\n",
       "                        {\"legend\": {\"bgcolor\": \"#F5F6F9\", \"font\": {\"color\": \"#4D5663\"}}, \"paper_bgcolor\": \"#F5F6F9\", \"plot_bgcolor\": \"#F5F6F9\", \"template\": {\"data\": {\"bar\": [{\"error_x\": {\"color\": \"#2a3f5f\"}, \"error_y\": {\"color\": \"#2a3f5f\"}, \"marker\": {\"line\": {\"color\": \"#E5ECF6\", \"width\": 0.5}}, \"type\": \"bar\"}], \"barpolar\": [{\"marker\": {\"line\": {\"color\": \"#E5ECF6\", \"width\": 0.5}}, \"type\": \"barpolar\"}], \"carpet\": [{\"aaxis\": {\"endlinecolor\": \"#2a3f5f\", \"gridcolor\": \"white\", \"linecolor\": \"white\", \"minorgridcolor\": \"white\", \"startlinecolor\": \"#2a3f5f\"}, \"baxis\": {\"endlinecolor\": \"#2a3f5f\", \"gridcolor\": \"white\", \"linecolor\": \"white\", \"minorgridcolor\": \"white\", \"startlinecolor\": \"#2a3f5f\"}, \"type\": \"carpet\"}], \"choropleth\": [{\"colorbar\": {\"outlinewidth\": 0, \"ticks\": \"\"}, \"type\": \"choropleth\"}], \"contour\": [{\"colorbar\": {\"outlinewidth\": 0, \"ticks\": \"\"}, \"colorscale\": [[0.0, \"#0d0887\"], [0.1111111111111111, \"#46039f\"], [0.2222222222222222, \"#7201a8\"], [0.3333333333333333, \"#9c179e\"], [0.4444444444444444, \"#bd3786\"], [0.5555555555555556, \"#d8576b\"], [0.6666666666666666, \"#ed7953\"], [0.7777777777777778, \"#fb9f3a\"], [0.8888888888888888, \"#fdca26\"], [1.0, \"#f0f921\"]], \"type\": \"contour\"}], \"contourcarpet\": [{\"colorbar\": {\"outlinewidth\": 0, \"ticks\": \"\"}, \"type\": \"contourcarpet\"}], \"heatmap\": [{\"colorbar\": {\"outlinewidth\": 0, \"ticks\": \"\"}, \"colorscale\": [[0.0, \"#0d0887\"], [0.1111111111111111, \"#46039f\"], [0.2222222222222222, \"#7201a8\"], [0.3333333333333333, \"#9c179e\"], [0.4444444444444444, \"#bd3786\"], [0.5555555555555556, \"#d8576b\"], [0.6666666666666666, \"#ed7953\"], [0.7777777777777778, \"#fb9f3a\"], [0.8888888888888888, \"#fdca26\"], [1.0, \"#f0f921\"]], \"type\": \"heatmap\"}], \"heatmapgl\": [{\"colorbar\": {\"outlinewidth\": 0, \"ticks\": \"\"}, \"colorscale\": [[0.0, \"#0d0887\"], [0.1111111111111111, \"#46039f\"], [0.2222222222222222, \"#7201a8\"], [0.3333333333333333, \"#9c179e\"], [0.4444444444444444, \"#bd3786\"], [0.5555555555555556, \"#d8576b\"], [0.6666666666666666, \"#ed7953\"], [0.7777777777777778, \"#fb9f3a\"], [0.8888888888888888, \"#fdca26\"], [1.0, \"#f0f921\"]], \"type\": \"heatmapgl\"}], \"histogram\": [{\"marker\": {\"colorbar\": {\"outlinewidth\": 0, \"ticks\": \"\"}}, \"type\": \"histogram\"}], \"histogram2d\": [{\"colorbar\": {\"outlinewidth\": 0, \"ticks\": \"\"}, \"colorscale\": [[0.0, \"#0d0887\"], [0.1111111111111111, \"#46039f\"], [0.2222222222222222, \"#7201a8\"], [0.3333333333333333, \"#9c179e\"], [0.4444444444444444, \"#bd3786\"], [0.5555555555555556, \"#d8576b\"], [0.6666666666666666, \"#ed7953\"], [0.7777777777777778, \"#fb9f3a\"], [0.8888888888888888, \"#fdca26\"], [1.0, \"#f0f921\"]], \"type\": \"histogram2d\"}], \"histogram2dcontour\": [{\"colorbar\": {\"outlinewidth\": 0, \"ticks\": \"\"}, \"colorscale\": [[0.0, \"#0d0887\"], [0.1111111111111111, \"#46039f\"], [0.2222222222222222, \"#7201a8\"], [0.3333333333333333, \"#9c179e\"], [0.4444444444444444, \"#bd3786\"], [0.5555555555555556, \"#d8576b\"], [0.6666666666666666, \"#ed7953\"], [0.7777777777777778, \"#fb9f3a\"], [0.8888888888888888, \"#fdca26\"], [1.0, \"#f0f921\"]], \"type\": \"histogram2dcontour\"}], \"mesh3d\": [{\"colorbar\": {\"outlinewidth\": 0, \"ticks\": \"\"}, \"type\": \"mesh3d\"}], \"parcoords\": [{\"line\": {\"colorbar\": {\"outlinewidth\": 0, \"ticks\": \"\"}}, \"type\": \"parcoords\"}], \"pie\": [{\"automargin\": true, \"type\": \"pie\"}], \"scatter\": [{\"marker\": {\"colorbar\": {\"outlinewidth\": 0, \"ticks\": \"\"}}, \"type\": \"scatter\"}], \"scatter3d\": [{\"line\": {\"colorbar\": {\"outlinewidth\": 0, \"ticks\": \"\"}}, \"marker\": {\"colorbar\": {\"outlinewidth\": 0, \"ticks\": \"\"}}, \"type\": \"scatter3d\"}], \"scattercarpet\": [{\"marker\": {\"colorbar\": {\"outlinewidth\": 0, \"ticks\": \"\"}}, \"type\": \"scattercarpet\"}], \"scattergeo\": [{\"marker\": {\"colorbar\": {\"outlinewidth\": 0, \"ticks\": \"\"}}, \"type\": \"scattergeo\"}], \"scattergl\": [{\"marker\": {\"colorbar\": {\"outlinewidth\": 0, \"ticks\": \"\"}}, \"type\": \"scattergl\"}], \"scattermapbox\": [{\"marker\": {\"colorbar\": {\"outlinewidth\": 0, \"ticks\": \"\"}}, \"type\": \"scattermapbox\"}], \"scatterpolar\": [{\"marker\": {\"colorbar\": {\"outlinewidth\": 0, \"ticks\": \"\"}}, \"type\": \"scatterpolar\"}], \"scatterpolargl\": [{\"marker\": {\"colorbar\": {\"outlinewidth\": 0, \"ticks\": \"\"}}, \"type\": \"scatterpolargl\"}], \"scatterternary\": [{\"marker\": {\"colorbar\": {\"outlinewidth\": 0, \"ticks\": \"\"}}, \"type\": \"scatterternary\"}], \"surface\": [{\"colorbar\": {\"outlinewidth\": 0, \"ticks\": \"\"}, \"colorscale\": [[0.0, \"#0d0887\"], [0.1111111111111111, \"#46039f\"], [0.2222222222222222, \"#7201a8\"], [0.3333333333333333, \"#9c179e\"], [0.4444444444444444, \"#bd3786\"], [0.5555555555555556, \"#d8576b\"], [0.6666666666666666, \"#ed7953\"], [0.7777777777777778, \"#fb9f3a\"], [0.8888888888888888, \"#fdca26\"], [1.0, \"#f0f921\"]], \"type\": \"surface\"}], \"table\": [{\"cells\": {\"fill\": {\"color\": \"#EBF0F8\"}, \"line\": {\"color\": \"white\"}}, \"header\": {\"fill\": {\"color\": \"#C8D4E3\"}, \"line\": {\"color\": \"white\"}}, \"type\": \"table\"}]}, \"layout\": {\"annotationdefaults\": {\"arrowcolor\": \"#2a3f5f\", \"arrowhead\": 0, \"arrowwidth\": 1}, \"coloraxis\": {\"colorbar\": {\"outlinewidth\": 0, \"ticks\": \"\"}}, \"colorscale\": {\"diverging\": [[0, \"#8e0152\"], [0.1, \"#c51b7d\"], [0.2, \"#de77ae\"], [0.3, \"#f1b6da\"], [0.4, \"#fde0ef\"], [0.5, \"#f7f7f7\"], [0.6, \"#e6f5d0\"], [0.7, \"#b8e186\"], [0.8, \"#7fbc41\"], [0.9, \"#4d9221\"], [1, \"#276419\"]], \"sequential\": [[0.0, \"#0d0887\"], [0.1111111111111111, \"#46039f\"], [0.2222222222222222, \"#7201a8\"], [0.3333333333333333, \"#9c179e\"], [0.4444444444444444, \"#bd3786\"], [0.5555555555555556, \"#d8576b\"], [0.6666666666666666, \"#ed7953\"], [0.7777777777777778, \"#fb9f3a\"], [0.8888888888888888, \"#fdca26\"], [1.0, \"#f0f921\"]], \"sequentialminus\": [[0.0, \"#0d0887\"], [0.1111111111111111, \"#46039f\"], [0.2222222222222222, \"#7201a8\"], [0.3333333333333333, \"#9c179e\"], [0.4444444444444444, \"#bd3786\"], [0.5555555555555556, \"#d8576b\"], [0.6666666666666666, \"#ed7953\"], [0.7777777777777778, \"#fb9f3a\"], [0.8888888888888888, \"#fdca26\"], [1.0, \"#f0f921\"]]}, \"colorway\": [\"#636efa\", \"#EF553B\", \"#00cc96\", \"#ab63fa\", \"#FFA15A\", \"#19d3f3\", \"#FF6692\", \"#B6E880\", \"#FF97FF\", \"#FECB52\"], \"font\": {\"color\": \"#2a3f5f\"}, \"geo\": {\"bgcolor\": \"white\", \"lakecolor\": \"white\", \"landcolor\": \"#E5ECF6\", \"showlakes\": true, \"showland\": true, \"subunitcolor\": \"white\"}, \"hoverlabel\": {\"align\": \"left\"}, \"hovermode\": \"closest\", \"mapbox\": {\"style\": \"light\"}, \"paper_bgcolor\": \"white\", \"plot_bgcolor\": \"#E5ECF6\", \"polar\": {\"angularaxis\": {\"gridcolor\": \"white\", \"linecolor\": \"white\", \"ticks\": \"\"}, \"bgcolor\": \"#E5ECF6\", \"radialaxis\": {\"gridcolor\": \"white\", \"linecolor\": \"white\", \"ticks\": \"\"}}, \"scene\": {\"xaxis\": {\"backgroundcolor\": \"#E5ECF6\", \"gridcolor\": \"white\", \"gridwidth\": 2, \"linecolor\": \"white\", \"showbackground\": true, \"ticks\": \"\", \"zerolinecolor\": \"white\"}, \"yaxis\": {\"backgroundcolor\": \"#E5ECF6\", \"gridcolor\": \"white\", \"gridwidth\": 2, \"linecolor\": \"white\", \"showbackground\": true, \"ticks\": \"\", \"zerolinecolor\": \"white\"}, \"zaxis\": {\"backgroundcolor\": \"#E5ECF6\", \"gridcolor\": \"white\", \"gridwidth\": 2, \"linecolor\": \"white\", \"showbackground\": true, \"ticks\": \"\", \"zerolinecolor\": \"white\"}}, \"shapedefaults\": {\"line\": {\"color\": \"#2a3f5f\"}}, \"ternary\": {\"aaxis\": {\"gridcolor\": \"white\", \"linecolor\": \"white\", \"ticks\": \"\"}, \"baxis\": {\"gridcolor\": \"white\", \"linecolor\": \"white\", \"ticks\": \"\"}, \"bgcolor\": \"#E5ECF6\", \"caxis\": {\"gridcolor\": \"white\", \"linecolor\": \"white\", \"ticks\": \"\"}}, \"title\": {\"x\": 0.05}, \"xaxis\": {\"automargin\": true, \"gridcolor\": \"white\", \"linecolor\": \"white\", \"ticks\": \"\", \"title\": {\"standoff\": 15}, \"zerolinecolor\": \"white\", \"zerolinewidth\": 2}, \"yaxis\": {\"automargin\": true, \"gridcolor\": \"white\", \"linecolor\": \"white\", \"ticks\": \"\", \"title\": {\"standoff\": 15}, \"zerolinecolor\": \"white\", \"zerolinewidth\": 2}}}, \"title\": {\"font\": {\"color\": \"#4D5663\"}, \"text\": \"Daily total rides\"}, \"xaxis\": {\"gridcolor\": \"#E1E5ED\", \"showgrid\": true, \"tickfont\": {\"color\": \"#4D5663\"}, \"title\": {\"font\": {\"color\": \"#4D5663\"}, \"text\": \"Date\"}, \"zerolinecolor\": \"#E1E5ED\"}, \"yaxis\": {\"gridcolor\": \"#E1E5ED\", \"showgrid\": true, \"tickfont\": {\"color\": \"#4D5663\"}, \"title\": {\"font\": {\"color\": \"#4D5663\"}, \"text\": \"Rides\"}, \"zerolinecolor\": \"#E1E5ED\"}},\n",
       "                        {\"showLink\": true, \"linkText\": \"Export to plot.ly\", \"plotlyServerURL\": \"https://plot.ly\", \"responsive\": true}\n",
       "                    ).then(function(){\n",
       "                            \n",
       "var gd = document.getElementById('4e5fd4c4-0790-4b5e-885b-c68520940e5f');\n",
       "var x = new MutationObserver(function (mutations, observer) {{\n",
       "        var display = window.getComputedStyle(gd).display;\n",
       "        if (!display || display === 'none') {{\n",
       "            console.log([gd, 'removed!']);\n",
       "            Plotly.purge(gd);\n",
       "            observer.disconnect();\n",
       "        }}\n",
       "}});\n",
       "\n",
       "// Listen for the removal of the full notebook cells\n",
       "var notebookContainer = gd.closest('#notebook-container');\n",
       "if (notebookContainer) {{\n",
       "    x.observe(notebookContainer, {childList: true});\n",
       "}}\n",
       "\n",
       "// Listen for the clearing of the current output cell\n",
       "var outputEl = gd.closest('.output');\n",
       "if (outputEl) {{\n",
       "    x.observe(outputEl, {childList: true});\n",
       "}}\n",
       "\n",
       "                        })\n",
       "                };\n",
       "                });\n",
       "            </script>\n",
       "        </div>"
      ]
     },
     "metadata": {},
     "output_type": "display_data"
    }
   ],
   "source": [
    "%%time\n",
    "#day-wise\n",
    "df_date_cal = df['total_amount']\n",
    "df_date = df_date_cal.resample('D').count().compute().iplot(kind = 'bar',title=\"Daily total rides\",\n",
    "    xaxis_title=\"Date\",\n",
    "    yaxis_title=\"Rides\",)"
   ]
  },
  {
   "cell_type": "markdown",
   "metadata": {},
   "source": [
    "There was a huge blizzard on January 23rd. A travel ban was instituted for New York City and Newark, New Jersey for January 23–24. \n",
    "\n",
    "[The biggest snowstorm in New York City on record](https://www.nbcnewyork.com/news/local/nyc-new-york-city-blizzard-biggest-ever-january-23-2016/831660/)\n",
    "![](https://api.time.com/wp-content/uploads/2018/03/new-york-winter-storm.jpg?w=600&quality=85)"
   ]
  },
  {
   "cell_type": "markdown",
   "metadata": {},
   "source": [
    "#### According to a weekday"
   ]
  },
  {
   "cell_type": "code",
   "execution_count": 78,
   "metadata": {
    "ExecuteTime": {
     "end_time": "2020-06-30T09:01:13.626767Z",
     "start_time": "2020-06-30T08:59:59.854964Z"
    }
   },
   "outputs": [
    {
     "data": {
      "application/vnd.plotly.v1+json": {
       "config": {
        "linkText": "Export to plot.ly",
        "plotlyServerURL": "https://plot.ly",
        "showLink": true
       },
       "data": [
        {
         "marker": {
          "color": "rgba(255, 153, 51, 0.6)",
          "line": {
           "color": "rgba(255, 153, 51, 1.0)",
           "width": 1
          }
         },
         "name": "total_amount",
         "orientation": "v",
         "text": "",
         "type": "bar",
         "x": [
          4,
          5,
          6,
          0,
          1,
          2,
          3
         ],
         "y": [
          645973,
          538291,
          508154,
          419188,
          465787,
          486713,
          505389
         ]
        }
       ],
       "layout": {
        "legend": {
         "bgcolor": "#F5F6F9",
         "font": {
          "color": "#4D5663"
         }
        },
        "paper_bgcolor": "#F5F6F9",
        "plot_bgcolor": "#F5F6F9",
        "template": {
         "data": {
          "bar": [
           {
            "error_x": {
             "color": "#2a3f5f"
            },
            "error_y": {
             "color": "#2a3f5f"
            },
            "marker": {
             "line": {
              "color": "#E5ECF6",
              "width": 0.5
             }
            },
            "type": "bar"
           }
          ],
          "barpolar": [
           {
            "marker": {
             "line": {
              "color": "#E5ECF6",
              "width": 0.5
             }
            },
            "type": "barpolar"
           }
          ],
          "carpet": [
           {
            "aaxis": {
             "endlinecolor": "#2a3f5f",
             "gridcolor": "white",
             "linecolor": "white",
             "minorgridcolor": "white",
             "startlinecolor": "#2a3f5f"
            },
            "baxis": {
             "endlinecolor": "#2a3f5f",
             "gridcolor": "white",
             "linecolor": "white",
             "minorgridcolor": "white",
             "startlinecolor": "#2a3f5f"
            },
            "type": "carpet"
           }
          ],
          "choropleth": [
           {
            "colorbar": {
             "outlinewidth": 0,
             "ticks": ""
            },
            "type": "choropleth"
           }
          ],
          "contour": [
           {
            "colorbar": {
             "outlinewidth": 0,
             "ticks": ""
            },
            "colorscale": [
             [
              0,
              "#0d0887"
             ],
             [
              0.1111111111111111,
              "#46039f"
             ],
             [
              0.2222222222222222,
              "#7201a8"
             ],
             [
              0.3333333333333333,
              "#9c179e"
             ],
             [
              0.4444444444444444,
              "#bd3786"
             ],
             [
              0.5555555555555556,
              "#d8576b"
             ],
             [
              0.6666666666666666,
              "#ed7953"
             ],
             [
              0.7777777777777778,
              "#fb9f3a"
             ],
             [
              0.8888888888888888,
              "#fdca26"
             ],
             [
              1,
              "#f0f921"
             ]
            ],
            "type": "contour"
           }
          ],
          "contourcarpet": [
           {
            "colorbar": {
             "outlinewidth": 0,
             "ticks": ""
            },
            "type": "contourcarpet"
           }
          ],
          "heatmap": [
           {
            "colorbar": {
             "outlinewidth": 0,
             "ticks": ""
            },
            "colorscale": [
             [
              0,
              "#0d0887"
             ],
             [
              0.1111111111111111,
              "#46039f"
             ],
             [
              0.2222222222222222,
              "#7201a8"
             ],
             [
              0.3333333333333333,
              "#9c179e"
             ],
             [
              0.4444444444444444,
              "#bd3786"
             ],
             [
              0.5555555555555556,
              "#d8576b"
             ],
             [
              0.6666666666666666,
              "#ed7953"
             ],
             [
              0.7777777777777778,
              "#fb9f3a"
             ],
             [
              0.8888888888888888,
              "#fdca26"
             ],
             [
              1,
              "#f0f921"
             ]
            ],
            "type": "heatmap"
           }
          ],
          "heatmapgl": [
           {
            "colorbar": {
             "outlinewidth": 0,
             "ticks": ""
            },
            "colorscale": [
             [
              0,
              "#0d0887"
             ],
             [
              0.1111111111111111,
              "#46039f"
             ],
             [
              0.2222222222222222,
              "#7201a8"
             ],
             [
              0.3333333333333333,
              "#9c179e"
             ],
             [
              0.4444444444444444,
              "#bd3786"
             ],
             [
              0.5555555555555556,
              "#d8576b"
             ],
             [
              0.6666666666666666,
              "#ed7953"
             ],
             [
              0.7777777777777778,
              "#fb9f3a"
             ],
             [
              0.8888888888888888,
              "#fdca26"
             ],
             [
              1,
              "#f0f921"
             ]
            ],
            "type": "heatmapgl"
           }
          ],
          "histogram": [
           {
            "marker": {
             "colorbar": {
              "outlinewidth": 0,
              "ticks": ""
             }
            },
            "type": "histogram"
           }
          ],
          "histogram2d": [
           {
            "colorbar": {
             "outlinewidth": 0,
             "ticks": ""
            },
            "colorscale": [
             [
              0,
              "#0d0887"
             ],
             [
              0.1111111111111111,
              "#46039f"
             ],
             [
              0.2222222222222222,
              "#7201a8"
             ],
             [
              0.3333333333333333,
              "#9c179e"
             ],
             [
              0.4444444444444444,
              "#bd3786"
             ],
             [
              0.5555555555555556,
              "#d8576b"
             ],
             [
              0.6666666666666666,
              "#ed7953"
             ],
             [
              0.7777777777777778,
              "#fb9f3a"
             ],
             [
              0.8888888888888888,
              "#fdca26"
             ],
             [
              1,
              "#f0f921"
             ]
            ],
            "type": "histogram2d"
           }
          ],
          "histogram2dcontour": [
           {
            "colorbar": {
             "outlinewidth": 0,
             "ticks": ""
            },
            "colorscale": [
             [
              0,
              "#0d0887"
             ],
             [
              0.1111111111111111,
              "#46039f"
             ],
             [
              0.2222222222222222,
              "#7201a8"
             ],
             [
              0.3333333333333333,
              "#9c179e"
             ],
             [
              0.4444444444444444,
              "#bd3786"
             ],
             [
              0.5555555555555556,
              "#d8576b"
             ],
             [
              0.6666666666666666,
              "#ed7953"
             ],
             [
              0.7777777777777778,
              "#fb9f3a"
             ],
             [
              0.8888888888888888,
              "#fdca26"
             ],
             [
              1,
              "#f0f921"
             ]
            ],
            "type": "histogram2dcontour"
           }
          ],
          "mesh3d": [
           {
            "colorbar": {
             "outlinewidth": 0,
             "ticks": ""
            },
            "type": "mesh3d"
           }
          ],
          "parcoords": [
           {
            "line": {
             "colorbar": {
              "outlinewidth": 0,
              "ticks": ""
             }
            },
            "type": "parcoords"
           }
          ],
          "pie": [
           {
            "automargin": true,
            "type": "pie"
           }
          ],
          "scatter": [
           {
            "marker": {
             "colorbar": {
              "outlinewidth": 0,
              "ticks": ""
             }
            },
            "type": "scatter"
           }
          ],
          "scatter3d": [
           {
            "line": {
             "colorbar": {
              "outlinewidth": 0,
              "ticks": ""
             }
            },
            "marker": {
             "colorbar": {
              "outlinewidth": 0,
              "ticks": ""
             }
            },
            "type": "scatter3d"
           }
          ],
          "scattercarpet": [
           {
            "marker": {
             "colorbar": {
              "outlinewidth": 0,
              "ticks": ""
             }
            },
            "type": "scattercarpet"
           }
          ],
          "scattergeo": [
           {
            "marker": {
             "colorbar": {
              "outlinewidth": 0,
              "ticks": ""
             }
            },
            "type": "scattergeo"
           }
          ],
          "scattergl": [
           {
            "marker": {
             "colorbar": {
              "outlinewidth": 0,
              "ticks": ""
             }
            },
            "type": "scattergl"
           }
          ],
          "scattermapbox": [
           {
            "marker": {
             "colorbar": {
              "outlinewidth": 0,
              "ticks": ""
             }
            },
            "type": "scattermapbox"
           }
          ],
          "scatterpolar": [
           {
            "marker": {
             "colorbar": {
              "outlinewidth": 0,
              "ticks": ""
             }
            },
            "type": "scatterpolar"
           }
          ],
          "scatterpolargl": [
           {
            "marker": {
             "colorbar": {
              "outlinewidth": 0,
              "ticks": ""
             }
            },
            "type": "scatterpolargl"
           }
          ],
          "scatterternary": [
           {
            "marker": {
             "colorbar": {
              "outlinewidth": 0,
              "ticks": ""
             }
            },
            "type": "scatterternary"
           }
          ],
          "surface": [
           {
            "colorbar": {
             "outlinewidth": 0,
             "ticks": ""
            },
            "colorscale": [
             [
              0,
              "#0d0887"
             ],
             [
              0.1111111111111111,
              "#46039f"
             ],
             [
              0.2222222222222222,
              "#7201a8"
             ],
             [
              0.3333333333333333,
              "#9c179e"
             ],
             [
              0.4444444444444444,
              "#bd3786"
             ],
             [
              0.5555555555555556,
              "#d8576b"
             ],
             [
              0.6666666666666666,
              "#ed7953"
             ],
             [
              0.7777777777777778,
              "#fb9f3a"
             ],
             [
              0.8888888888888888,
              "#fdca26"
             ],
             [
              1,
              "#f0f921"
             ]
            ],
            "type": "surface"
           }
          ],
          "table": [
           {
            "cells": {
             "fill": {
              "color": "#EBF0F8"
             },
             "line": {
              "color": "white"
             }
            },
            "header": {
             "fill": {
              "color": "#C8D4E3"
             },
             "line": {
              "color": "white"
             }
            },
            "type": "table"
           }
          ]
         },
         "layout": {
          "annotationdefaults": {
           "arrowcolor": "#2a3f5f",
           "arrowhead": 0,
           "arrowwidth": 1
          },
          "coloraxis": {
           "colorbar": {
            "outlinewidth": 0,
            "ticks": ""
           }
          },
          "colorscale": {
           "diverging": [
            [
             0,
             "#8e0152"
            ],
            [
             0.1,
             "#c51b7d"
            ],
            [
             0.2,
             "#de77ae"
            ],
            [
             0.3,
             "#f1b6da"
            ],
            [
             0.4,
             "#fde0ef"
            ],
            [
             0.5,
             "#f7f7f7"
            ],
            [
             0.6,
             "#e6f5d0"
            ],
            [
             0.7,
             "#b8e186"
            ],
            [
             0.8,
             "#7fbc41"
            ],
            [
             0.9,
             "#4d9221"
            ],
            [
             1,
             "#276419"
            ]
           ],
           "sequential": [
            [
             0,
             "#0d0887"
            ],
            [
             0.1111111111111111,
             "#46039f"
            ],
            [
             0.2222222222222222,
             "#7201a8"
            ],
            [
             0.3333333333333333,
             "#9c179e"
            ],
            [
             0.4444444444444444,
             "#bd3786"
            ],
            [
             0.5555555555555556,
             "#d8576b"
            ],
            [
             0.6666666666666666,
             "#ed7953"
            ],
            [
             0.7777777777777778,
             "#fb9f3a"
            ],
            [
             0.8888888888888888,
             "#fdca26"
            ],
            [
             1,
             "#f0f921"
            ]
           ],
           "sequentialminus": [
            [
             0,
             "#0d0887"
            ],
            [
             0.1111111111111111,
             "#46039f"
            ],
            [
             0.2222222222222222,
             "#7201a8"
            ],
            [
             0.3333333333333333,
             "#9c179e"
            ],
            [
             0.4444444444444444,
             "#bd3786"
            ],
            [
             0.5555555555555556,
             "#d8576b"
            ],
            [
             0.6666666666666666,
             "#ed7953"
            ],
            [
             0.7777777777777778,
             "#fb9f3a"
            ],
            [
             0.8888888888888888,
             "#fdca26"
            ],
            [
             1,
             "#f0f921"
            ]
           ]
          },
          "colorway": [
           "#636efa",
           "#EF553B",
           "#00cc96",
           "#ab63fa",
           "#FFA15A",
           "#19d3f3",
           "#FF6692",
           "#B6E880",
           "#FF97FF",
           "#FECB52"
          ],
          "font": {
           "color": "#2a3f5f"
          },
          "geo": {
           "bgcolor": "white",
           "lakecolor": "white",
           "landcolor": "#E5ECF6",
           "showlakes": true,
           "showland": true,
           "subunitcolor": "white"
          },
          "hoverlabel": {
           "align": "left"
          },
          "hovermode": "closest",
          "mapbox": {
           "style": "light"
          },
          "paper_bgcolor": "white",
          "plot_bgcolor": "#E5ECF6",
          "polar": {
           "angularaxis": {
            "gridcolor": "white",
            "linecolor": "white",
            "ticks": ""
           },
           "bgcolor": "#E5ECF6",
           "radialaxis": {
            "gridcolor": "white",
            "linecolor": "white",
            "ticks": ""
           }
          },
          "scene": {
           "xaxis": {
            "backgroundcolor": "#E5ECF6",
            "gridcolor": "white",
            "gridwidth": 2,
            "linecolor": "white",
            "showbackground": true,
            "ticks": "",
            "zerolinecolor": "white"
           },
           "yaxis": {
            "backgroundcolor": "#E5ECF6",
            "gridcolor": "white",
            "gridwidth": 2,
            "linecolor": "white",
            "showbackground": true,
            "ticks": "",
            "zerolinecolor": "white"
           },
           "zaxis": {
            "backgroundcolor": "#E5ECF6",
            "gridcolor": "white",
            "gridwidth": 2,
            "linecolor": "white",
            "showbackground": true,
            "ticks": "",
            "zerolinecolor": "white"
           }
          },
          "shapedefaults": {
           "line": {
            "color": "#2a3f5f"
           }
          },
          "ternary": {
           "aaxis": {
            "gridcolor": "white",
            "linecolor": "white",
            "ticks": ""
           },
           "baxis": {
            "gridcolor": "white",
            "linecolor": "white",
            "ticks": ""
           },
           "bgcolor": "#E5ECF6",
           "caxis": {
            "gridcolor": "white",
            "linecolor": "white",
            "ticks": ""
           }
          },
          "title": {
           "x": 0.05
          },
          "xaxis": {
           "automargin": true,
           "gridcolor": "white",
           "linecolor": "white",
           "ticks": "",
           "title": {
            "standoff": 15
           },
           "zerolinecolor": "white",
           "zerolinewidth": 2
          },
          "yaxis": {
           "automargin": true,
           "gridcolor": "white",
           "linecolor": "white",
           "ticks": "",
           "title": {
            "standoff": 15
           },
           "zerolinecolor": "white",
           "zerolinewidth": 2
          }
         }
        },
        "title": {
         "font": {
          "color": "#4D5663"
         },
         "text": "Weekly total rides"
        },
        "xaxis": {
         "gridcolor": "#E1E5ED",
         "showgrid": true,
         "tickfont": {
          "color": "#4D5663"
         },
         "title": {
          "font": {
           "color": "#4D5663"
          },
          "text": "Weekday"
         },
         "zerolinecolor": "#E1E5ED"
        },
        "yaxis": {
         "gridcolor": "#E1E5ED",
         "showgrid": true,
         "tickfont": {
          "color": "#4D5663"
         },
         "title": {
          "font": {
           "color": "#4D5663"
          },
          "text": "Rides"
         },
         "zerolinecolor": "#E1E5ED"
        }
       }
      },
      "text/html": [
       "<div>\n",
       "        \n",
       "        \n",
       "            <div id=\"e8704d0c-0bf5-48b0-ba40-b18e6d761854\" class=\"plotly-graph-div\" style=\"height:525px; width:100%;\"></div>\n",
       "            <script type=\"text/javascript\">\n",
       "                require([\"plotly\"], function(Plotly) {\n",
       "                    window.PLOTLYENV=window.PLOTLYENV || {};\n",
       "                    window.PLOTLYENV.BASE_URL='https://plot.ly';\n",
       "                    \n",
       "                if (document.getElementById(\"e8704d0c-0bf5-48b0-ba40-b18e6d761854\")) {\n",
       "                    Plotly.newPlot(\n",
       "                        'e8704d0c-0bf5-48b0-ba40-b18e6d761854',\n",
       "                        [{\"marker\": {\"color\": \"rgba(255, 153, 51, 0.6)\", \"line\": {\"color\": \"rgba(255, 153, 51, 1.0)\", \"width\": 1}}, \"name\": \"total_amount\", \"orientation\": \"v\", \"text\": \"\", \"type\": \"bar\", \"x\": [4, 5, 6, 0, 1, 2, 3], \"y\": [645973, 538291, 508154, 419188, 465787, 486713, 505389]}],\n",
       "                        {\"legend\": {\"bgcolor\": \"#F5F6F9\", \"font\": {\"color\": \"#4D5663\"}}, \"paper_bgcolor\": \"#F5F6F9\", \"plot_bgcolor\": \"#F5F6F9\", \"template\": {\"data\": {\"bar\": [{\"error_x\": {\"color\": \"#2a3f5f\"}, \"error_y\": {\"color\": \"#2a3f5f\"}, \"marker\": {\"line\": {\"color\": \"#E5ECF6\", \"width\": 0.5}}, \"type\": \"bar\"}], \"barpolar\": [{\"marker\": {\"line\": {\"color\": \"#E5ECF6\", \"width\": 0.5}}, \"type\": \"barpolar\"}], \"carpet\": [{\"aaxis\": {\"endlinecolor\": \"#2a3f5f\", \"gridcolor\": \"white\", \"linecolor\": \"white\", \"minorgridcolor\": \"white\", \"startlinecolor\": \"#2a3f5f\"}, \"baxis\": {\"endlinecolor\": \"#2a3f5f\", \"gridcolor\": \"white\", \"linecolor\": \"white\", \"minorgridcolor\": \"white\", \"startlinecolor\": \"#2a3f5f\"}, \"type\": \"carpet\"}], \"choropleth\": [{\"colorbar\": {\"outlinewidth\": 0, \"ticks\": \"\"}, \"type\": \"choropleth\"}], \"contour\": [{\"colorbar\": {\"outlinewidth\": 0, \"ticks\": \"\"}, \"colorscale\": [[0.0, \"#0d0887\"], [0.1111111111111111, \"#46039f\"], [0.2222222222222222, \"#7201a8\"], [0.3333333333333333, \"#9c179e\"], [0.4444444444444444, \"#bd3786\"], [0.5555555555555556, \"#d8576b\"], [0.6666666666666666, \"#ed7953\"], [0.7777777777777778, \"#fb9f3a\"], [0.8888888888888888, \"#fdca26\"], [1.0, \"#f0f921\"]], \"type\": \"contour\"}], \"contourcarpet\": [{\"colorbar\": {\"outlinewidth\": 0, \"ticks\": \"\"}, \"type\": \"contourcarpet\"}], \"heatmap\": [{\"colorbar\": {\"outlinewidth\": 0, \"ticks\": \"\"}, \"colorscale\": [[0.0, \"#0d0887\"], [0.1111111111111111, \"#46039f\"], [0.2222222222222222, \"#7201a8\"], [0.3333333333333333, \"#9c179e\"], [0.4444444444444444, \"#bd3786\"], [0.5555555555555556, \"#d8576b\"], [0.6666666666666666, \"#ed7953\"], [0.7777777777777778, \"#fb9f3a\"], [0.8888888888888888, \"#fdca26\"], [1.0, \"#f0f921\"]], \"type\": \"heatmap\"}], \"heatmapgl\": [{\"colorbar\": {\"outlinewidth\": 0, \"ticks\": \"\"}, \"colorscale\": [[0.0, \"#0d0887\"], [0.1111111111111111, \"#46039f\"], [0.2222222222222222, \"#7201a8\"], [0.3333333333333333, \"#9c179e\"], [0.4444444444444444, \"#bd3786\"], [0.5555555555555556, \"#d8576b\"], [0.6666666666666666, \"#ed7953\"], [0.7777777777777778, \"#fb9f3a\"], [0.8888888888888888, \"#fdca26\"], [1.0, \"#f0f921\"]], \"type\": \"heatmapgl\"}], \"histogram\": [{\"marker\": {\"colorbar\": {\"outlinewidth\": 0, \"ticks\": \"\"}}, \"type\": \"histogram\"}], \"histogram2d\": [{\"colorbar\": {\"outlinewidth\": 0, \"ticks\": \"\"}, \"colorscale\": [[0.0, \"#0d0887\"], [0.1111111111111111, \"#46039f\"], [0.2222222222222222, \"#7201a8\"], [0.3333333333333333, \"#9c179e\"], [0.4444444444444444, \"#bd3786\"], [0.5555555555555556, \"#d8576b\"], [0.6666666666666666, \"#ed7953\"], [0.7777777777777778, \"#fb9f3a\"], [0.8888888888888888, \"#fdca26\"], [1.0, \"#f0f921\"]], \"type\": \"histogram2d\"}], \"histogram2dcontour\": [{\"colorbar\": {\"outlinewidth\": 0, \"ticks\": \"\"}, \"colorscale\": [[0.0, \"#0d0887\"], [0.1111111111111111, \"#46039f\"], [0.2222222222222222, \"#7201a8\"], [0.3333333333333333, \"#9c179e\"], [0.4444444444444444, \"#bd3786\"], [0.5555555555555556, \"#d8576b\"], [0.6666666666666666, \"#ed7953\"], [0.7777777777777778, \"#fb9f3a\"], [0.8888888888888888, \"#fdca26\"], [1.0, \"#f0f921\"]], \"type\": \"histogram2dcontour\"}], \"mesh3d\": [{\"colorbar\": {\"outlinewidth\": 0, \"ticks\": \"\"}, \"type\": \"mesh3d\"}], \"parcoords\": [{\"line\": {\"colorbar\": {\"outlinewidth\": 0, \"ticks\": \"\"}}, \"type\": \"parcoords\"}], \"pie\": [{\"automargin\": true, \"type\": \"pie\"}], \"scatter\": [{\"marker\": {\"colorbar\": {\"outlinewidth\": 0, \"ticks\": \"\"}}, \"type\": \"scatter\"}], \"scatter3d\": [{\"line\": {\"colorbar\": {\"outlinewidth\": 0, \"ticks\": \"\"}}, \"marker\": {\"colorbar\": {\"outlinewidth\": 0, \"ticks\": \"\"}}, \"type\": \"scatter3d\"}], \"scattercarpet\": [{\"marker\": {\"colorbar\": {\"outlinewidth\": 0, \"ticks\": \"\"}}, \"type\": \"scattercarpet\"}], \"scattergeo\": [{\"marker\": {\"colorbar\": {\"outlinewidth\": 0, \"ticks\": \"\"}}, \"type\": \"scattergeo\"}], \"scattergl\": [{\"marker\": {\"colorbar\": {\"outlinewidth\": 0, \"ticks\": \"\"}}, \"type\": \"scattergl\"}], \"scattermapbox\": [{\"marker\": {\"colorbar\": {\"outlinewidth\": 0, \"ticks\": \"\"}}, \"type\": \"scattermapbox\"}], \"scatterpolar\": [{\"marker\": {\"colorbar\": {\"outlinewidth\": 0, \"ticks\": \"\"}}, \"type\": \"scatterpolar\"}], \"scatterpolargl\": [{\"marker\": {\"colorbar\": {\"outlinewidth\": 0, \"ticks\": \"\"}}, \"type\": \"scatterpolargl\"}], \"scatterternary\": [{\"marker\": {\"colorbar\": {\"outlinewidth\": 0, \"ticks\": \"\"}}, \"type\": \"scatterternary\"}], \"surface\": [{\"colorbar\": {\"outlinewidth\": 0, \"ticks\": \"\"}, \"colorscale\": [[0.0, \"#0d0887\"], [0.1111111111111111, \"#46039f\"], [0.2222222222222222, \"#7201a8\"], [0.3333333333333333, \"#9c179e\"], [0.4444444444444444, \"#bd3786\"], [0.5555555555555556, \"#d8576b\"], [0.6666666666666666, \"#ed7953\"], [0.7777777777777778, \"#fb9f3a\"], [0.8888888888888888, \"#fdca26\"], [1.0, \"#f0f921\"]], \"type\": \"surface\"}], \"table\": [{\"cells\": {\"fill\": {\"color\": \"#EBF0F8\"}, \"line\": {\"color\": \"white\"}}, \"header\": {\"fill\": {\"color\": \"#C8D4E3\"}, \"line\": {\"color\": \"white\"}}, \"type\": \"table\"}]}, \"layout\": {\"annotationdefaults\": {\"arrowcolor\": \"#2a3f5f\", \"arrowhead\": 0, \"arrowwidth\": 1}, \"coloraxis\": {\"colorbar\": {\"outlinewidth\": 0, \"ticks\": \"\"}}, \"colorscale\": {\"diverging\": [[0, \"#8e0152\"], [0.1, \"#c51b7d\"], [0.2, \"#de77ae\"], [0.3, \"#f1b6da\"], [0.4, \"#fde0ef\"], [0.5, \"#f7f7f7\"], [0.6, \"#e6f5d0\"], [0.7, \"#b8e186\"], [0.8, \"#7fbc41\"], [0.9, \"#4d9221\"], [1, \"#276419\"]], \"sequential\": [[0.0, \"#0d0887\"], [0.1111111111111111, \"#46039f\"], [0.2222222222222222, \"#7201a8\"], [0.3333333333333333, \"#9c179e\"], [0.4444444444444444, \"#bd3786\"], [0.5555555555555556, \"#d8576b\"], [0.6666666666666666, \"#ed7953\"], [0.7777777777777778, \"#fb9f3a\"], [0.8888888888888888, \"#fdca26\"], [1.0, \"#f0f921\"]], \"sequentialminus\": [[0.0, \"#0d0887\"], [0.1111111111111111, \"#46039f\"], [0.2222222222222222, \"#7201a8\"], [0.3333333333333333, \"#9c179e\"], [0.4444444444444444, \"#bd3786\"], [0.5555555555555556, \"#d8576b\"], [0.6666666666666666, \"#ed7953\"], [0.7777777777777778, \"#fb9f3a\"], [0.8888888888888888, \"#fdca26\"], [1.0, \"#f0f921\"]]}, \"colorway\": [\"#636efa\", \"#EF553B\", \"#00cc96\", \"#ab63fa\", \"#FFA15A\", \"#19d3f3\", \"#FF6692\", \"#B6E880\", \"#FF97FF\", \"#FECB52\"], \"font\": {\"color\": \"#2a3f5f\"}, \"geo\": {\"bgcolor\": \"white\", \"lakecolor\": \"white\", \"landcolor\": \"#E5ECF6\", \"showlakes\": true, \"showland\": true, \"subunitcolor\": \"white\"}, \"hoverlabel\": {\"align\": \"left\"}, \"hovermode\": \"closest\", \"mapbox\": {\"style\": \"light\"}, \"paper_bgcolor\": \"white\", \"plot_bgcolor\": \"#E5ECF6\", \"polar\": {\"angularaxis\": {\"gridcolor\": \"white\", \"linecolor\": \"white\", \"ticks\": \"\"}, \"bgcolor\": \"#E5ECF6\", \"radialaxis\": {\"gridcolor\": \"white\", \"linecolor\": \"white\", \"ticks\": \"\"}}, \"scene\": {\"xaxis\": {\"backgroundcolor\": \"#E5ECF6\", \"gridcolor\": \"white\", \"gridwidth\": 2, \"linecolor\": \"white\", \"showbackground\": true, \"ticks\": \"\", \"zerolinecolor\": \"white\"}, \"yaxis\": {\"backgroundcolor\": \"#E5ECF6\", \"gridcolor\": \"white\", \"gridwidth\": 2, \"linecolor\": \"white\", \"showbackground\": true, \"ticks\": \"\", \"zerolinecolor\": \"white\"}, \"zaxis\": {\"backgroundcolor\": \"#E5ECF6\", \"gridcolor\": \"white\", \"gridwidth\": 2, \"linecolor\": \"white\", \"showbackground\": true, \"ticks\": \"\", \"zerolinecolor\": \"white\"}}, \"shapedefaults\": {\"line\": {\"color\": \"#2a3f5f\"}}, \"ternary\": {\"aaxis\": {\"gridcolor\": \"white\", \"linecolor\": \"white\", \"ticks\": \"\"}, \"baxis\": {\"gridcolor\": \"white\", \"linecolor\": \"white\", \"ticks\": \"\"}, \"bgcolor\": \"#E5ECF6\", \"caxis\": {\"gridcolor\": \"white\", \"linecolor\": \"white\", \"ticks\": \"\"}}, \"title\": {\"x\": 0.05}, \"xaxis\": {\"automargin\": true, \"gridcolor\": \"white\", \"linecolor\": \"white\", \"ticks\": \"\", \"title\": {\"standoff\": 15}, \"zerolinecolor\": \"white\", \"zerolinewidth\": 2}, \"yaxis\": {\"automargin\": true, \"gridcolor\": \"white\", \"linecolor\": \"white\", \"ticks\": \"\", \"title\": {\"standoff\": 15}, \"zerolinecolor\": \"white\", \"zerolinewidth\": 2}}}, \"title\": {\"font\": {\"color\": \"#4D5663\"}, \"text\": \"Weekly total rides\"}, \"xaxis\": {\"gridcolor\": \"#E1E5ED\", \"showgrid\": true, \"tickfont\": {\"color\": \"#4D5663\"}, \"title\": {\"font\": {\"color\": \"#4D5663\"}, \"text\": \"Weekday\"}, \"zerolinecolor\": \"#E1E5ED\"}, \"yaxis\": {\"gridcolor\": \"#E1E5ED\", \"showgrid\": true, \"tickfont\": {\"color\": \"#4D5663\"}, \"title\": {\"font\": {\"color\": \"#4D5663\"}, \"text\": \"Rides\"}, \"zerolinecolor\": \"#E1E5ED\"}},\n",
       "                        {\"showLink\": true, \"linkText\": \"Export to plot.ly\", \"plotlyServerURL\": \"https://plot.ly\", \"responsive\": true}\n",
       "                    ).then(function(){\n",
       "                            \n",
       "var gd = document.getElementById('e8704d0c-0bf5-48b0-ba40-b18e6d761854');\n",
       "var x = new MutationObserver(function (mutations, observer) {{\n",
       "        var display = window.getComputedStyle(gd).display;\n",
       "        if (!display || display === 'none') {{\n",
       "            console.log([gd, 'removed!']);\n",
       "            Plotly.purge(gd);\n",
       "            observer.disconnect();\n",
       "        }}\n",
       "}});\n",
       "\n",
       "// Listen for the removal of the full notebook cells\n",
       "var notebookContainer = gd.closest('#notebook-container');\n",
       "if (notebookContainer) {{\n",
       "    x.observe(notebookContainer, {childList: true});\n",
       "}}\n",
       "\n",
       "// Listen for the clearing of the current output cell\n",
       "var outputEl = gd.closest('.output');\n",
       "if (outputEl) {{\n",
       "    x.observe(outputEl, {childList: true});\n",
       "}}\n",
       "\n",
       "                        })\n",
       "                };\n",
       "                });\n",
       "            </script>\n",
       "        </div>"
      ]
     },
     "metadata": {},
     "output_type": "display_data"
    }
   ],
   "source": [
    "%%time\n",
    "#weekday\n",
    "df_week_cal = df['total_amount']\n",
    "df_week = df_week_cal.groupby(df['tpep_pickup_datetime'].dt.weekday).count().compute().iplot(kind = 'bar',title=\"Weekly total rides\",\n",
    "    xaxis_title=\"Weekday\",\n",
    "    yaxis_title=\"Rides\",)"
   ]
  },
  {
   "cell_type": "markdown",
   "metadata": {},
   "source": [
    "#### Resampling hour wise"
   ]
  },
  {
   "cell_type": "code",
   "execution_count": 79,
   "metadata": {
    "ExecuteTime": {
     "end_time": "2020-06-30T09:03:24.920867Z",
     "start_time": "2020-06-30T09:02:34.172261Z"
    }
   },
   "outputs": [
    {
     "name": "stdout",
     "output_type": "stream",
     "text": [
      "Wall time: 50.7 s\n"
     ]
    },
    {
     "data": {
      "text/html": [
       "<div>\n",
       "<style scoped>\n",
       "    .dataframe tbody tr th:only-of-type {\n",
       "        vertical-align: middle;\n",
       "    }\n",
       "\n",
       "    .dataframe tbody tr th {\n",
       "        vertical-align: top;\n",
       "    }\n",
       "\n",
       "    .dataframe thead th {\n",
       "        text-align: right;\n",
       "    }\n",
       "</style>\n",
       "<table border=\"1\" class=\"dataframe\">\n",
       "  <thead>\n",
       "    <tr style=\"text-align: right;\">\n",
       "      <th></th>\n",
       "      <th>VendorID</th>\n",
       "      <th>tpep_pickup_datetime</th>\n",
       "      <th>tpep_dropoff_datetime</th>\n",
       "      <th>passenger_count</th>\n",
       "      <th>trip_distance</th>\n",
       "      <th>pickup_longitude</th>\n",
       "      <th>pickup_latitude</th>\n",
       "      <th>RatecodeID</th>\n",
       "      <th>store_and_fwd_flag</th>\n",
       "      <th>dropoff_longitude</th>\n",
       "      <th>...</th>\n",
       "      <th>fare_amount</th>\n",
       "      <th>extra</th>\n",
       "      <th>mta_tax</th>\n",
       "      <th>tip_amount</th>\n",
       "      <th>tolls_amount</th>\n",
       "      <th>improvement_surcharge</th>\n",
       "      <th>total_amount</th>\n",
       "      <th>trip_duration</th>\n",
       "      <th>trip_minutes</th>\n",
       "      <th>avg_speed</th>\n",
       "    </tr>\n",
       "    <tr>\n",
       "      <th>tpep_pickup_datetime</th>\n",
       "      <th></th>\n",
       "      <th></th>\n",
       "      <th></th>\n",
       "      <th></th>\n",
       "      <th></th>\n",
       "      <th></th>\n",
       "      <th></th>\n",
       "      <th></th>\n",
       "      <th></th>\n",
       "      <th></th>\n",
       "      <th></th>\n",
       "      <th></th>\n",
       "      <th></th>\n",
       "      <th></th>\n",
       "      <th></th>\n",
       "      <th></th>\n",
       "      <th></th>\n",
       "      <th></th>\n",
       "      <th></th>\n",
       "      <th></th>\n",
       "      <th></th>\n",
       "    </tr>\n",
       "  </thead>\n",
       "  <tbody>\n",
       "    <tr>\n",
       "      <th>2016-01-01 00:00:00</th>\n",
       "      <td>8228</td>\n",
       "      <td>8228</td>\n",
       "      <td>8228</td>\n",
       "      <td>8228</td>\n",
       "      <td>8228</td>\n",
       "      <td>8228</td>\n",
       "      <td>8228</td>\n",
       "      <td>8228</td>\n",
       "      <td>8228</td>\n",
       "      <td>8228</td>\n",
       "      <td>...</td>\n",
       "      <td>8228</td>\n",
       "      <td>8228</td>\n",
       "      <td>8228</td>\n",
       "      <td>8228</td>\n",
       "      <td>8228</td>\n",
       "      <td>8228</td>\n",
       "      <td>8228</td>\n",
       "      <td>8228</td>\n",
       "      <td>8228</td>\n",
       "      <td>8228</td>\n",
       "    </tr>\n",
       "    <tr>\n",
       "      <th>2016-01-01 01:00:00</th>\n",
       "      <td>9238</td>\n",
       "      <td>9238</td>\n",
       "      <td>9238</td>\n",
       "      <td>9238</td>\n",
       "      <td>9238</td>\n",
       "      <td>9238</td>\n",
       "      <td>9238</td>\n",
       "      <td>9238</td>\n",
       "      <td>9238</td>\n",
       "      <td>9238</td>\n",
       "      <td>...</td>\n",
       "      <td>9238</td>\n",
       "      <td>9238</td>\n",
       "      <td>9238</td>\n",
       "      <td>9238</td>\n",
       "      <td>9238</td>\n",
       "      <td>9238</td>\n",
       "      <td>9238</td>\n",
       "      <td>9238</td>\n",
       "      <td>9238</td>\n",
       "      <td>9238</td>\n",
       "    </tr>\n",
       "    <tr>\n",
       "      <th>2016-01-01 02:00:00</th>\n",
       "      <td>8203</td>\n",
       "      <td>8203</td>\n",
       "      <td>8203</td>\n",
       "      <td>8203</td>\n",
       "      <td>8203</td>\n",
       "      <td>8203</td>\n",
       "      <td>8203</td>\n",
       "      <td>8203</td>\n",
       "      <td>8203</td>\n",
       "      <td>8203</td>\n",
       "      <td>...</td>\n",
       "      <td>8203</td>\n",
       "      <td>8203</td>\n",
       "      <td>8203</td>\n",
       "      <td>8203</td>\n",
       "      <td>8203</td>\n",
       "      <td>8203</td>\n",
       "      <td>8203</td>\n",
       "      <td>8203</td>\n",
       "      <td>8203</td>\n",
       "      <td>8203</td>\n",
       "    </tr>\n",
       "    <tr>\n",
       "      <th>2016-01-01 03:00:00</th>\n",
       "      <td>6878</td>\n",
       "      <td>6878</td>\n",
       "      <td>6878</td>\n",
       "      <td>6878</td>\n",
       "      <td>6878</td>\n",
       "      <td>6878</td>\n",
       "      <td>6878</td>\n",
       "      <td>6878</td>\n",
       "      <td>6878</td>\n",
       "      <td>6878</td>\n",
       "      <td>...</td>\n",
       "      <td>6878</td>\n",
       "      <td>6878</td>\n",
       "      <td>6878</td>\n",
       "      <td>6878</td>\n",
       "      <td>6878</td>\n",
       "      <td>6878</td>\n",
       "      <td>6878</td>\n",
       "      <td>6878</td>\n",
       "      <td>6878</td>\n",
       "      <td>6878</td>\n",
       "    </tr>\n",
       "    <tr>\n",
       "      <th>2016-01-01 04:00:00</th>\n",
       "      <td>5012</td>\n",
       "      <td>5012</td>\n",
       "      <td>5012</td>\n",
       "      <td>5012</td>\n",
       "      <td>5012</td>\n",
       "      <td>5012</td>\n",
       "      <td>5012</td>\n",
       "      <td>5012</td>\n",
       "      <td>5012</td>\n",
       "      <td>5012</td>\n",
       "      <td>...</td>\n",
       "      <td>5012</td>\n",
       "      <td>5012</td>\n",
       "      <td>5012</td>\n",
       "      <td>5012</td>\n",
       "      <td>5012</td>\n",
       "      <td>5012</td>\n",
       "      <td>5012</td>\n",
       "      <td>5012</td>\n",
       "      <td>5012</td>\n",
       "      <td>5012</td>\n",
       "    </tr>\n",
       "  </tbody>\n",
       "</table>\n",
       "<p>5 rows × 22 columns</p>\n",
       "</div>"
      ],
      "text/plain": [
       "                      VendorID  tpep_pickup_datetime  tpep_dropoff_datetime  \\\n",
       "tpep_pickup_datetime                                                          \n",
       "2016-01-01 00:00:00       8228                  8228                   8228   \n",
       "2016-01-01 01:00:00       9238                  9238                   9238   \n",
       "2016-01-01 02:00:00       8203                  8203                   8203   \n",
       "2016-01-01 03:00:00       6878                  6878                   6878   \n",
       "2016-01-01 04:00:00       5012                  5012                   5012   \n",
       "\n",
       "                      passenger_count  trip_distance  pickup_longitude  \\\n",
       "tpep_pickup_datetime                                                     \n",
       "2016-01-01 00:00:00              8228           8228              8228   \n",
       "2016-01-01 01:00:00              9238           9238              9238   \n",
       "2016-01-01 02:00:00              8203           8203              8203   \n",
       "2016-01-01 03:00:00              6878           6878              6878   \n",
       "2016-01-01 04:00:00              5012           5012              5012   \n",
       "\n",
       "                      pickup_latitude  RatecodeID  store_and_fwd_flag  \\\n",
       "tpep_pickup_datetime                                                    \n",
       "2016-01-01 00:00:00              8228        8228                8228   \n",
       "2016-01-01 01:00:00              9238        9238                9238   \n",
       "2016-01-01 02:00:00              8203        8203                8203   \n",
       "2016-01-01 03:00:00              6878        6878                6878   \n",
       "2016-01-01 04:00:00              5012        5012                5012   \n",
       "\n",
       "                      dropoff_longitude  ...  fare_amount  extra  mta_tax  \\\n",
       "tpep_pickup_datetime                     ...                                \n",
       "2016-01-01 00:00:00                8228  ...         8228   8228     8228   \n",
       "2016-01-01 01:00:00                9238  ...         9238   9238     9238   \n",
       "2016-01-01 02:00:00                8203  ...         8203   8203     8203   \n",
       "2016-01-01 03:00:00                6878  ...         6878   6878     6878   \n",
       "2016-01-01 04:00:00                5012  ...         5012   5012     5012   \n",
       "\n",
       "                      tip_amount  tolls_amount  improvement_surcharge  \\\n",
       "tpep_pickup_datetime                                                    \n",
       "2016-01-01 00:00:00         8228          8228                   8228   \n",
       "2016-01-01 01:00:00         9238          9238                   9238   \n",
       "2016-01-01 02:00:00         8203          8203                   8203   \n",
       "2016-01-01 03:00:00         6878          6878                   6878   \n",
       "2016-01-01 04:00:00         5012          5012                   5012   \n",
       "\n",
       "                      total_amount  trip_duration  trip_minutes  avg_speed  \n",
       "tpep_pickup_datetime                                                        \n",
       "2016-01-01 00:00:00           8228           8228          8228       8228  \n",
       "2016-01-01 01:00:00           9238           9238          9238       9238  \n",
       "2016-01-01 02:00:00           8203           8203          8203       8203  \n",
       "2016-01-01 03:00:00           6878           6878          6878       6878  \n",
       "2016-01-01 04:00:00           5012           5012          5012       5012  \n",
       "\n",
       "[5 rows x 22 columns]"
      ]
     },
     "execution_count": 79,
     "metadata": {},
     "output_type": "execute_result"
    }
   ],
   "source": [
    "%%time\n",
    "#day-wise\n",
    "# = df['total_amount']\n",
    "df_hourly = df.resample('1H').count().compute()\n",
    "df_hourly.head()"
   ]
  },
  {
   "cell_type": "code",
   "execution_count": 84,
   "metadata": {
    "ExecuteTime": {
     "end_time": "2020-06-30T09:15:51.073295Z",
     "start_time": "2020-06-30T09:15:05.546148Z"
    }
   },
   "outputs": [
    {
     "data": {
      "application/vnd.plotly.v1+json": {
       "config": {
        "linkText": "Export to plot.ly",
        "plotlyServerURL": "https://plot.ly",
        "showLink": true
       },
       "data": [
        {
         "marker": {
          "color": "rgba(255, 153, 51, 0.6)",
          "line": {
           "color": "rgba(255, 153, 51, 1.0)",
           "width": 1
          }
         },
         "name": "total_amount",
         "orientation": "v",
         "text": "",
         "type": "bar",
         "x": [
          0,
          1,
          2,
          3,
          4,
          5,
          6,
          7,
          8,
          9,
          10,
          11,
          12,
          13,
          14,
          15,
          16,
          17,
          18,
          19,
          20,
          21,
          22,
          23
         ],
         "y": [
          129321,
          97943,
          75033,
          55201,
          40723,
          35998,
          77379,
          131941,
          161468,
          161220,
          157935,
          164524,
          175481,
          174207,
          184149,
          184608,
          167161,
          193303,
          226110,
          223918,
          204526,
          199519,
          190390,
          157437
         ]
        }
       ],
       "layout": {
        "legend": {
         "bgcolor": "#F5F6F9",
         "font": {
          "color": "#4D5663"
         }
        },
        "paper_bgcolor": "#F5F6F9",
        "plot_bgcolor": "#F5F6F9",
        "template": {
         "data": {
          "bar": [
           {
            "error_x": {
             "color": "#2a3f5f"
            },
            "error_y": {
             "color": "#2a3f5f"
            },
            "marker": {
             "line": {
              "color": "#E5ECF6",
              "width": 0.5
             }
            },
            "type": "bar"
           }
          ],
          "barpolar": [
           {
            "marker": {
             "line": {
              "color": "#E5ECF6",
              "width": 0.5
             }
            },
            "type": "barpolar"
           }
          ],
          "carpet": [
           {
            "aaxis": {
             "endlinecolor": "#2a3f5f",
             "gridcolor": "white",
             "linecolor": "white",
             "minorgridcolor": "white",
             "startlinecolor": "#2a3f5f"
            },
            "baxis": {
             "endlinecolor": "#2a3f5f",
             "gridcolor": "white",
             "linecolor": "white",
             "minorgridcolor": "white",
             "startlinecolor": "#2a3f5f"
            },
            "type": "carpet"
           }
          ],
          "choropleth": [
           {
            "colorbar": {
             "outlinewidth": 0,
             "ticks": ""
            },
            "type": "choropleth"
           }
          ],
          "contour": [
           {
            "colorbar": {
             "outlinewidth": 0,
             "ticks": ""
            },
            "colorscale": [
             [
              0,
              "#0d0887"
             ],
             [
              0.1111111111111111,
              "#46039f"
             ],
             [
              0.2222222222222222,
              "#7201a8"
             ],
             [
              0.3333333333333333,
              "#9c179e"
             ],
             [
              0.4444444444444444,
              "#bd3786"
             ],
             [
              0.5555555555555556,
              "#d8576b"
             ],
             [
              0.6666666666666666,
              "#ed7953"
             ],
             [
              0.7777777777777778,
              "#fb9f3a"
             ],
             [
              0.8888888888888888,
              "#fdca26"
             ],
             [
              1,
              "#f0f921"
             ]
            ],
            "type": "contour"
           }
          ],
          "contourcarpet": [
           {
            "colorbar": {
             "outlinewidth": 0,
             "ticks": ""
            },
            "type": "contourcarpet"
           }
          ],
          "heatmap": [
           {
            "colorbar": {
             "outlinewidth": 0,
             "ticks": ""
            },
            "colorscale": [
             [
              0,
              "#0d0887"
             ],
             [
              0.1111111111111111,
              "#46039f"
             ],
             [
              0.2222222222222222,
              "#7201a8"
             ],
             [
              0.3333333333333333,
              "#9c179e"
             ],
             [
              0.4444444444444444,
              "#bd3786"
             ],
             [
              0.5555555555555556,
              "#d8576b"
             ],
             [
              0.6666666666666666,
              "#ed7953"
             ],
             [
              0.7777777777777778,
              "#fb9f3a"
             ],
             [
              0.8888888888888888,
              "#fdca26"
             ],
             [
              1,
              "#f0f921"
             ]
            ],
            "type": "heatmap"
           }
          ],
          "heatmapgl": [
           {
            "colorbar": {
             "outlinewidth": 0,
             "ticks": ""
            },
            "colorscale": [
             [
              0,
              "#0d0887"
             ],
             [
              0.1111111111111111,
              "#46039f"
             ],
             [
              0.2222222222222222,
              "#7201a8"
             ],
             [
              0.3333333333333333,
              "#9c179e"
             ],
             [
              0.4444444444444444,
              "#bd3786"
             ],
             [
              0.5555555555555556,
              "#d8576b"
             ],
             [
              0.6666666666666666,
              "#ed7953"
             ],
             [
              0.7777777777777778,
              "#fb9f3a"
             ],
             [
              0.8888888888888888,
              "#fdca26"
             ],
             [
              1,
              "#f0f921"
             ]
            ],
            "type": "heatmapgl"
           }
          ],
          "histogram": [
           {
            "marker": {
             "colorbar": {
              "outlinewidth": 0,
              "ticks": ""
             }
            },
            "type": "histogram"
           }
          ],
          "histogram2d": [
           {
            "colorbar": {
             "outlinewidth": 0,
             "ticks": ""
            },
            "colorscale": [
             [
              0,
              "#0d0887"
             ],
             [
              0.1111111111111111,
              "#46039f"
             ],
             [
              0.2222222222222222,
              "#7201a8"
             ],
             [
              0.3333333333333333,
              "#9c179e"
             ],
             [
              0.4444444444444444,
              "#bd3786"
             ],
             [
              0.5555555555555556,
              "#d8576b"
             ],
             [
              0.6666666666666666,
              "#ed7953"
             ],
             [
              0.7777777777777778,
              "#fb9f3a"
             ],
             [
              0.8888888888888888,
              "#fdca26"
             ],
             [
              1,
              "#f0f921"
             ]
            ],
            "type": "histogram2d"
           }
          ],
          "histogram2dcontour": [
           {
            "colorbar": {
             "outlinewidth": 0,
             "ticks": ""
            },
            "colorscale": [
             [
              0,
              "#0d0887"
             ],
             [
              0.1111111111111111,
              "#46039f"
             ],
             [
              0.2222222222222222,
              "#7201a8"
             ],
             [
              0.3333333333333333,
              "#9c179e"
             ],
             [
              0.4444444444444444,
              "#bd3786"
             ],
             [
              0.5555555555555556,
              "#d8576b"
             ],
             [
              0.6666666666666666,
              "#ed7953"
             ],
             [
              0.7777777777777778,
              "#fb9f3a"
             ],
             [
              0.8888888888888888,
              "#fdca26"
             ],
             [
              1,
              "#f0f921"
             ]
            ],
            "type": "histogram2dcontour"
           }
          ],
          "mesh3d": [
           {
            "colorbar": {
             "outlinewidth": 0,
             "ticks": ""
            },
            "type": "mesh3d"
           }
          ],
          "parcoords": [
           {
            "line": {
             "colorbar": {
              "outlinewidth": 0,
              "ticks": ""
             }
            },
            "type": "parcoords"
           }
          ],
          "pie": [
           {
            "automargin": true,
            "type": "pie"
           }
          ],
          "scatter": [
           {
            "marker": {
             "colorbar": {
              "outlinewidth": 0,
              "ticks": ""
             }
            },
            "type": "scatter"
           }
          ],
          "scatter3d": [
           {
            "line": {
             "colorbar": {
              "outlinewidth": 0,
              "ticks": ""
             }
            },
            "marker": {
             "colorbar": {
              "outlinewidth": 0,
              "ticks": ""
             }
            },
            "type": "scatter3d"
           }
          ],
          "scattercarpet": [
           {
            "marker": {
             "colorbar": {
              "outlinewidth": 0,
              "ticks": ""
             }
            },
            "type": "scattercarpet"
           }
          ],
          "scattergeo": [
           {
            "marker": {
             "colorbar": {
              "outlinewidth": 0,
              "ticks": ""
             }
            },
            "type": "scattergeo"
           }
          ],
          "scattergl": [
           {
            "marker": {
             "colorbar": {
              "outlinewidth": 0,
              "ticks": ""
             }
            },
            "type": "scattergl"
           }
          ],
          "scattermapbox": [
           {
            "marker": {
             "colorbar": {
              "outlinewidth": 0,
              "ticks": ""
             }
            },
            "type": "scattermapbox"
           }
          ],
          "scatterpolar": [
           {
            "marker": {
             "colorbar": {
              "outlinewidth": 0,
              "ticks": ""
             }
            },
            "type": "scatterpolar"
           }
          ],
          "scatterpolargl": [
           {
            "marker": {
             "colorbar": {
              "outlinewidth": 0,
              "ticks": ""
             }
            },
            "type": "scatterpolargl"
           }
          ],
          "scatterternary": [
           {
            "marker": {
             "colorbar": {
              "outlinewidth": 0,
              "ticks": ""
             }
            },
            "type": "scatterternary"
           }
          ],
          "surface": [
           {
            "colorbar": {
             "outlinewidth": 0,
             "ticks": ""
            },
            "colorscale": [
             [
              0,
              "#0d0887"
             ],
             [
              0.1111111111111111,
              "#46039f"
             ],
             [
              0.2222222222222222,
              "#7201a8"
             ],
             [
              0.3333333333333333,
              "#9c179e"
             ],
             [
              0.4444444444444444,
              "#bd3786"
             ],
             [
              0.5555555555555556,
              "#d8576b"
             ],
             [
              0.6666666666666666,
              "#ed7953"
             ],
             [
              0.7777777777777778,
              "#fb9f3a"
             ],
             [
              0.8888888888888888,
              "#fdca26"
             ],
             [
              1,
              "#f0f921"
             ]
            ],
            "type": "surface"
           }
          ],
          "table": [
           {
            "cells": {
             "fill": {
              "color": "#EBF0F8"
             },
             "line": {
              "color": "white"
             }
            },
            "header": {
             "fill": {
              "color": "#C8D4E3"
             },
             "line": {
              "color": "white"
             }
            },
            "type": "table"
           }
          ]
         },
         "layout": {
          "annotationdefaults": {
           "arrowcolor": "#2a3f5f",
           "arrowhead": 0,
           "arrowwidth": 1
          },
          "coloraxis": {
           "colorbar": {
            "outlinewidth": 0,
            "ticks": ""
           }
          },
          "colorscale": {
           "diverging": [
            [
             0,
             "#8e0152"
            ],
            [
             0.1,
             "#c51b7d"
            ],
            [
             0.2,
             "#de77ae"
            ],
            [
             0.3,
             "#f1b6da"
            ],
            [
             0.4,
             "#fde0ef"
            ],
            [
             0.5,
             "#f7f7f7"
            ],
            [
             0.6,
             "#e6f5d0"
            ],
            [
             0.7,
             "#b8e186"
            ],
            [
             0.8,
             "#7fbc41"
            ],
            [
             0.9,
             "#4d9221"
            ],
            [
             1,
             "#276419"
            ]
           ],
           "sequential": [
            [
             0,
             "#0d0887"
            ],
            [
             0.1111111111111111,
             "#46039f"
            ],
            [
             0.2222222222222222,
             "#7201a8"
            ],
            [
             0.3333333333333333,
             "#9c179e"
            ],
            [
             0.4444444444444444,
             "#bd3786"
            ],
            [
             0.5555555555555556,
             "#d8576b"
            ],
            [
             0.6666666666666666,
             "#ed7953"
            ],
            [
             0.7777777777777778,
             "#fb9f3a"
            ],
            [
             0.8888888888888888,
             "#fdca26"
            ],
            [
             1,
             "#f0f921"
            ]
           ],
           "sequentialminus": [
            [
             0,
             "#0d0887"
            ],
            [
             0.1111111111111111,
             "#46039f"
            ],
            [
             0.2222222222222222,
             "#7201a8"
            ],
            [
             0.3333333333333333,
             "#9c179e"
            ],
            [
             0.4444444444444444,
             "#bd3786"
            ],
            [
             0.5555555555555556,
             "#d8576b"
            ],
            [
             0.6666666666666666,
             "#ed7953"
            ],
            [
             0.7777777777777778,
             "#fb9f3a"
            ],
            [
             0.8888888888888888,
             "#fdca26"
            ],
            [
             1,
             "#f0f921"
            ]
           ]
          },
          "colorway": [
           "#636efa",
           "#EF553B",
           "#00cc96",
           "#ab63fa",
           "#FFA15A",
           "#19d3f3",
           "#FF6692",
           "#B6E880",
           "#FF97FF",
           "#FECB52"
          ],
          "font": {
           "color": "#2a3f5f"
          },
          "geo": {
           "bgcolor": "white",
           "lakecolor": "white",
           "landcolor": "#E5ECF6",
           "showlakes": true,
           "showland": true,
           "subunitcolor": "white"
          },
          "hoverlabel": {
           "align": "left"
          },
          "hovermode": "closest",
          "mapbox": {
           "style": "light"
          },
          "paper_bgcolor": "white",
          "plot_bgcolor": "#E5ECF6",
          "polar": {
           "angularaxis": {
            "gridcolor": "white",
            "linecolor": "white",
            "ticks": ""
           },
           "bgcolor": "#E5ECF6",
           "radialaxis": {
            "gridcolor": "white",
            "linecolor": "white",
            "ticks": ""
           }
          },
          "scene": {
           "xaxis": {
            "backgroundcolor": "#E5ECF6",
            "gridcolor": "white",
            "gridwidth": 2,
            "linecolor": "white",
            "showbackground": true,
            "ticks": "",
            "zerolinecolor": "white"
           },
           "yaxis": {
            "backgroundcolor": "#E5ECF6",
            "gridcolor": "white",
            "gridwidth": 2,
            "linecolor": "white",
            "showbackground": true,
            "ticks": "",
            "zerolinecolor": "white"
           },
           "zaxis": {
            "backgroundcolor": "#E5ECF6",
            "gridcolor": "white",
            "gridwidth": 2,
            "linecolor": "white",
            "showbackground": true,
            "ticks": "",
            "zerolinecolor": "white"
           }
          },
          "shapedefaults": {
           "line": {
            "color": "#2a3f5f"
           }
          },
          "ternary": {
           "aaxis": {
            "gridcolor": "white",
            "linecolor": "white",
            "ticks": ""
           },
           "baxis": {
            "gridcolor": "white",
            "linecolor": "white",
            "ticks": ""
           },
           "bgcolor": "#E5ECF6",
           "caxis": {
            "gridcolor": "white",
            "linecolor": "white",
            "ticks": ""
           }
          },
          "title": {
           "x": 0.05
          },
          "xaxis": {
           "automargin": true,
           "gridcolor": "white",
           "linecolor": "white",
           "ticks": "",
           "title": {
            "standoff": 15
           },
           "zerolinecolor": "white",
           "zerolinewidth": 2
          },
          "yaxis": {
           "automargin": true,
           "gridcolor": "white",
           "linecolor": "white",
           "ticks": "",
           "title": {
            "standoff": 15
           },
           "zerolinecolor": "white",
           "zerolinewidth": 2
          }
         }
        },
        "title": {
         "font": {
          "color": "#4D5663"
         },
         "text": "Hourly total rides"
        },
        "xaxis": {
         "gridcolor": "#E1E5ED",
         "showgrid": true,
         "tickfont": {
          "color": "#4D5663"
         },
         "title": {
          "font": {
           "color": "#4D5663"
          },
          "text": "Time"
         },
         "zerolinecolor": "#E1E5ED"
        },
        "yaxis": {
         "gridcolor": "#E1E5ED",
         "showgrid": true,
         "tickfont": {
          "color": "#4D5663"
         },
         "title": {
          "font": {
           "color": "#4D5663"
          },
          "text": "Rides"
         },
         "zerolinecolor": "#E1E5ED"
        }
       }
      },
      "text/html": [
       "<div>\n",
       "        \n",
       "        \n",
       "            <div id=\"72b6ef3e-b1ec-428f-86dc-3f1ec175b9ed\" class=\"plotly-graph-div\" style=\"height:525px; width:100%;\"></div>\n",
       "            <script type=\"text/javascript\">\n",
       "                require([\"plotly\"], function(Plotly) {\n",
       "                    window.PLOTLYENV=window.PLOTLYENV || {};\n",
       "                    window.PLOTLYENV.BASE_URL='https://plot.ly';\n",
       "                    \n",
       "                if (document.getElementById(\"72b6ef3e-b1ec-428f-86dc-3f1ec175b9ed\")) {\n",
       "                    Plotly.newPlot(\n",
       "                        '72b6ef3e-b1ec-428f-86dc-3f1ec175b9ed',\n",
       "                        [{\"marker\": {\"color\": \"rgba(255, 153, 51, 0.6)\", \"line\": {\"color\": \"rgba(255, 153, 51, 1.0)\", \"width\": 1}}, \"name\": \"total_amount\", \"orientation\": \"v\", \"text\": \"\", \"type\": \"bar\", \"x\": [0, 1, 2, 3, 4, 5, 6, 7, 8, 9, 10, 11, 12, 13, 14, 15, 16, 17, 18, 19, 20, 21, 22, 23], \"y\": [129321, 97943, 75033, 55201, 40723, 35998, 77379, 131941, 161468, 161220, 157935, 164524, 175481, 174207, 184149, 184608, 167161, 193303, 226110, 223918, 204526, 199519, 190390, 157437]}],\n",
       "                        {\"legend\": {\"bgcolor\": \"#F5F6F9\", \"font\": {\"color\": \"#4D5663\"}}, \"paper_bgcolor\": \"#F5F6F9\", \"plot_bgcolor\": \"#F5F6F9\", \"template\": {\"data\": {\"bar\": [{\"error_x\": {\"color\": \"#2a3f5f\"}, \"error_y\": {\"color\": \"#2a3f5f\"}, \"marker\": {\"line\": {\"color\": \"#E5ECF6\", \"width\": 0.5}}, \"type\": \"bar\"}], \"barpolar\": [{\"marker\": {\"line\": {\"color\": \"#E5ECF6\", \"width\": 0.5}}, \"type\": \"barpolar\"}], \"carpet\": [{\"aaxis\": {\"endlinecolor\": \"#2a3f5f\", \"gridcolor\": \"white\", \"linecolor\": \"white\", \"minorgridcolor\": \"white\", \"startlinecolor\": \"#2a3f5f\"}, \"baxis\": {\"endlinecolor\": \"#2a3f5f\", \"gridcolor\": \"white\", \"linecolor\": \"white\", \"minorgridcolor\": \"white\", \"startlinecolor\": \"#2a3f5f\"}, \"type\": \"carpet\"}], \"choropleth\": [{\"colorbar\": {\"outlinewidth\": 0, \"ticks\": \"\"}, \"type\": \"choropleth\"}], \"contour\": [{\"colorbar\": {\"outlinewidth\": 0, \"ticks\": \"\"}, \"colorscale\": [[0.0, \"#0d0887\"], [0.1111111111111111, \"#46039f\"], [0.2222222222222222, \"#7201a8\"], [0.3333333333333333, \"#9c179e\"], [0.4444444444444444, \"#bd3786\"], [0.5555555555555556, \"#d8576b\"], [0.6666666666666666, \"#ed7953\"], [0.7777777777777778, \"#fb9f3a\"], [0.8888888888888888, \"#fdca26\"], [1.0, \"#f0f921\"]], \"type\": \"contour\"}], \"contourcarpet\": [{\"colorbar\": {\"outlinewidth\": 0, \"ticks\": \"\"}, \"type\": \"contourcarpet\"}], \"heatmap\": [{\"colorbar\": {\"outlinewidth\": 0, \"ticks\": \"\"}, \"colorscale\": [[0.0, \"#0d0887\"], [0.1111111111111111, \"#46039f\"], [0.2222222222222222, \"#7201a8\"], [0.3333333333333333, \"#9c179e\"], [0.4444444444444444, \"#bd3786\"], [0.5555555555555556, \"#d8576b\"], [0.6666666666666666, \"#ed7953\"], [0.7777777777777778, \"#fb9f3a\"], [0.8888888888888888, \"#fdca26\"], [1.0, \"#f0f921\"]], \"type\": \"heatmap\"}], \"heatmapgl\": [{\"colorbar\": {\"outlinewidth\": 0, \"ticks\": \"\"}, \"colorscale\": [[0.0, \"#0d0887\"], [0.1111111111111111, \"#46039f\"], [0.2222222222222222, \"#7201a8\"], [0.3333333333333333, \"#9c179e\"], [0.4444444444444444, \"#bd3786\"], [0.5555555555555556, \"#d8576b\"], [0.6666666666666666, \"#ed7953\"], [0.7777777777777778, \"#fb9f3a\"], [0.8888888888888888, \"#fdca26\"], [1.0, \"#f0f921\"]], \"type\": \"heatmapgl\"}], \"histogram\": [{\"marker\": {\"colorbar\": {\"outlinewidth\": 0, \"ticks\": \"\"}}, \"type\": \"histogram\"}], \"histogram2d\": [{\"colorbar\": {\"outlinewidth\": 0, \"ticks\": \"\"}, \"colorscale\": [[0.0, \"#0d0887\"], [0.1111111111111111, \"#46039f\"], [0.2222222222222222, \"#7201a8\"], [0.3333333333333333, \"#9c179e\"], [0.4444444444444444, \"#bd3786\"], [0.5555555555555556, \"#d8576b\"], [0.6666666666666666, \"#ed7953\"], [0.7777777777777778, \"#fb9f3a\"], [0.8888888888888888, \"#fdca26\"], [1.0, \"#f0f921\"]], \"type\": \"histogram2d\"}], \"histogram2dcontour\": [{\"colorbar\": {\"outlinewidth\": 0, \"ticks\": \"\"}, \"colorscale\": [[0.0, \"#0d0887\"], [0.1111111111111111, \"#46039f\"], [0.2222222222222222, \"#7201a8\"], [0.3333333333333333, \"#9c179e\"], [0.4444444444444444, \"#bd3786\"], [0.5555555555555556, \"#d8576b\"], [0.6666666666666666, \"#ed7953\"], [0.7777777777777778, \"#fb9f3a\"], [0.8888888888888888, \"#fdca26\"], [1.0, \"#f0f921\"]], \"type\": \"histogram2dcontour\"}], \"mesh3d\": [{\"colorbar\": {\"outlinewidth\": 0, \"ticks\": \"\"}, \"type\": \"mesh3d\"}], \"parcoords\": [{\"line\": {\"colorbar\": {\"outlinewidth\": 0, \"ticks\": \"\"}}, \"type\": \"parcoords\"}], \"pie\": [{\"automargin\": true, \"type\": \"pie\"}], \"scatter\": [{\"marker\": {\"colorbar\": {\"outlinewidth\": 0, \"ticks\": \"\"}}, \"type\": \"scatter\"}], \"scatter3d\": [{\"line\": {\"colorbar\": {\"outlinewidth\": 0, \"ticks\": \"\"}}, \"marker\": {\"colorbar\": {\"outlinewidth\": 0, \"ticks\": \"\"}}, \"type\": \"scatter3d\"}], \"scattercarpet\": [{\"marker\": {\"colorbar\": {\"outlinewidth\": 0, \"ticks\": \"\"}}, \"type\": \"scattercarpet\"}], \"scattergeo\": [{\"marker\": {\"colorbar\": {\"outlinewidth\": 0, \"ticks\": \"\"}}, \"type\": \"scattergeo\"}], \"scattergl\": [{\"marker\": {\"colorbar\": {\"outlinewidth\": 0, \"ticks\": \"\"}}, \"type\": \"scattergl\"}], \"scattermapbox\": [{\"marker\": {\"colorbar\": {\"outlinewidth\": 0, \"ticks\": \"\"}}, \"type\": \"scattermapbox\"}], \"scatterpolar\": [{\"marker\": {\"colorbar\": {\"outlinewidth\": 0, \"ticks\": \"\"}}, \"type\": \"scatterpolar\"}], \"scatterpolargl\": [{\"marker\": {\"colorbar\": {\"outlinewidth\": 0, \"ticks\": \"\"}}, \"type\": \"scatterpolargl\"}], \"scatterternary\": [{\"marker\": {\"colorbar\": {\"outlinewidth\": 0, \"ticks\": \"\"}}, \"type\": \"scatterternary\"}], \"surface\": [{\"colorbar\": {\"outlinewidth\": 0, \"ticks\": \"\"}, \"colorscale\": [[0.0, \"#0d0887\"], [0.1111111111111111, \"#46039f\"], [0.2222222222222222, \"#7201a8\"], [0.3333333333333333, \"#9c179e\"], [0.4444444444444444, \"#bd3786\"], [0.5555555555555556, \"#d8576b\"], [0.6666666666666666, \"#ed7953\"], [0.7777777777777778, \"#fb9f3a\"], [0.8888888888888888, \"#fdca26\"], [1.0, \"#f0f921\"]], \"type\": \"surface\"}], \"table\": [{\"cells\": {\"fill\": {\"color\": \"#EBF0F8\"}, \"line\": {\"color\": \"white\"}}, \"header\": {\"fill\": {\"color\": \"#C8D4E3\"}, \"line\": {\"color\": \"white\"}}, \"type\": \"table\"}]}, \"layout\": {\"annotationdefaults\": {\"arrowcolor\": \"#2a3f5f\", \"arrowhead\": 0, \"arrowwidth\": 1}, \"coloraxis\": {\"colorbar\": {\"outlinewidth\": 0, \"ticks\": \"\"}}, \"colorscale\": {\"diverging\": [[0, \"#8e0152\"], [0.1, \"#c51b7d\"], [0.2, \"#de77ae\"], [0.3, \"#f1b6da\"], [0.4, \"#fde0ef\"], [0.5, \"#f7f7f7\"], [0.6, \"#e6f5d0\"], [0.7, \"#b8e186\"], [0.8, \"#7fbc41\"], [0.9, \"#4d9221\"], [1, \"#276419\"]], \"sequential\": [[0.0, \"#0d0887\"], [0.1111111111111111, \"#46039f\"], [0.2222222222222222, \"#7201a8\"], [0.3333333333333333, \"#9c179e\"], [0.4444444444444444, \"#bd3786\"], [0.5555555555555556, \"#d8576b\"], [0.6666666666666666, \"#ed7953\"], [0.7777777777777778, \"#fb9f3a\"], [0.8888888888888888, \"#fdca26\"], [1.0, \"#f0f921\"]], \"sequentialminus\": [[0.0, \"#0d0887\"], [0.1111111111111111, \"#46039f\"], [0.2222222222222222, \"#7201a8\"], [0.3333333333333333, \"#9c179e\"], [0.4444444444444444, \"#bd3786\"], [0.5555555555555556, \"#d8576b\"], [0.6666666666666666, \"#ed7953\"], [0.7777777777777778, \"#fb9f3a\"], [0.8888888888888888, \"#fdca26\"], [1.0, \"#f0f921\"]]}, \"colorway\": [\"#636efa\", \"#EF553B\", \"#00cc96\", \"#ab63fa\", \"#FFA15A\", \"#19d3f3\", \"#FF6692\", \"#B6E880\", \"#FF97FF\", \"#FECB52\"], \"font\": {\"color\": \"#2a3f5f\"}, \"geo\": {\"bgcolor\": \"white\", \"lakecolor\": \"white\", \"landcolor\": \"#E5ECF6\", \"showlakes\": true, \"showland\": true, \"subunitcolor\": \"white\"}, \"hoverlabel\": {\"align\": \"left\"}, \"hovermode\": \"closest\", \"mapbox\": {\"style\": \"light\"}, \"paper_bgcolor\": \"white\", \"plot_bgcolor\": \"#E5ECF6\", \"polar\": {\"angularaxis\": {\"gridcolor\": \"white\", \"linecolor\": \"white\", \"ticks\": \"\"}, \"bgcolor\": \"#E5ECF6\", \"radialaxis\": {\"gridcolor\": \"white\", \"linecolor\": \"white\", \"ticks\": \"\"}}, \"scene\": {\"xaxis\": {\"backgroundcolor\": \"#E5ECF6\", \"gridcolor\": \"white\", \"gridwidth\": 2, \"linecolor\": \"white\", \"showbackground\": true, \"ticks\": \"\", \"zerolinecolor\": \"white\"}, \"yaxis\": {\"backgroundcolor\": \"#E5ECF6\", \"gridcolor\": \"white\", \"gridwidth\": 2, \"linecolor\": \"white\", \"showbackground\": true, \"ticks\": \"\", \"zerolinecolor\": \"white\"}, \"zaxis\": {\"backgroundcolor\": \"#E5ECF6\", \"gridcolor\": \"white\", \"gridwidth\": 2, \"linecolor\": \"white\", \"showbackground\": true, \"ticks\": \"\", \"zerolinecolor\": \"white\"}}, \"shapedefaults\": {\"line\": {\"color\": \"#2a3f5f\"}}, \"ternary\": {\"aaxis\": {\"gridcolor\": \"white\", \"linecolor\": \"white\", \"ticks\": \"\"}, \"baxis\": {\"gridcolor\": \"white\", \"linecolor\": \"white\", \"ticks\": \"\"}, \"bgcolor\": \"#E5ECF6\", \"caxis\": {\"gridcolor\": \"white\", \"linecolor\": \"white\", \"ticks\": \"\"}}, \"title\": {\"x\": 0.05}, \"xaxis\": {\"automargin\": true, \"gridcolor\": \"white\", \"linecolor\": \"white\", \"ticks\": \"\", \"title\": {\"standoff\": 15}, \"zerolinecolor\": \"white\", \"zerolinewidth\": 2}, \"yaxis\": {\"automargin\": true, \"gridcolor\": \"white\", \"linecolor\": \"white\", \"ticks\": \"\", \"title\": {\"standoff\": 15}, \"zerolinecolor\": \"white\", \"zerolinewidth\": 2}}}, \"title\": {\"font\": {\"color\": \"#4D5663\"}, \"text\": \"Hourly total rides\"}, \"xaxis\": {\"gridcolor\": \"#E1E5ED\", \"showgrid\": true, \"tickfont\": {\"color\": \"#4D5663\"}, \"title\": {\"font\": {\"color\": \"#4D5663\"}, \"text\": \"Time\"}, \"zerolinecolor\": \"#E1E5ED\"}, \"yaxis\": {\"gridcolor\": \"#E1E5ED\", \"showgrid\": true, \"tickfont\": {\"color\": \"#4D5663\"}, \"title\": {\"font\": {\"color\": \"#4D5663\"}, \"text\": \"Rides\"}, \"zerolinecolor\": \"#E1E5ED\"}},\n",
       "                        {\"showLink\": true, \"linkText\": \"Export to plot.ly\", \"plotlyServerURL\": \"https://plot.ly\", \"responsive\": true}\n",
       "                    ).then(function(){\n",
       "                            \n",
       "var gd = document.getElementById('72b6ef3e-b1ec-428f-86dc-3f1ec175b9ed');\n",
       "var x = new MutationObserver(function (mutations, observer) {{\n",
       "        var display = window.getComputedStyle(gd).display;\n",
       "        if (!display || display === 'none') {{\n",
       "            console.log([gd, 'removed!']);\n",
       "            Plotly.purge(gd);\n",
       "            observer.disconnect();\n",
       "        }}\n",
       "}});\n",
       "\n",
       "// Listen for the removal of the full notebook cells\n",
       "var notebookContainer = gd.closest('#notebook-container');\n",
       "if (notebookContainer) {{\n",
       "    x.observe(notebookContainer, {childList: true});\n",
       "}}\n",
       "\n",
       "// Listen for the clearing of the current output cell\n",
       "var outputEl = gd.closest('.output');\n",
       "if (outputEl) {{\n",
       "    x.observe(outputEl, {childList: true});\n",
       "}}\n",
       "\n",
       "                        })\n",
       "                };\n",
       "                });\n",
       "            </script>\n",
       "        </div>"
      ]
     },
     "metadata": {},
     "output_type": "display_data"
    },
    {
     "name": "stdout",
     "output_type": "stream",
     "text": [
      "Wall time: 45.5 s\n"
     ]
    }
   ],
   "source": [
    "%%time\n",
    "#Hour-wise\n",
    "df_hourly_cal = df['total_amount']\n",
    "df_hourly = df_hourly_cal.groupby(df['tpep_pickup_datetime'].dt.hour).count().compute().iplot(kind = 'bar',title=\"Hourly total rides\",\n",
    "    xaxis_title=\"Time\",\n",
    "    yaxis_title=\"Rides\")"
   ]
  },
  {
   "cell_type": "code",
   "execution_count": 80,
   "metadata": {
    "ExecuteTime": {
     "end_time": "2020-06-30T09:03:29.565247Z",
     "start_time": "2020-06-30T09:03:29.555274Z"
    }
   },
   "outputs": [
    {
     "name": "stdout",
     "output_type": "stream",
     "text": [
      "Wall time: 2.96 ms\n"
     ]
    }
   ],
   "source": [
    "%%time\n",
    "df_hourly = df_hourly.drop(columns='tpep_pickup_datetime', axis=1)"
   ]
  },
  {
   "cell_type": "code",
   "execution_count": 81,
   "metadata": {
    "ExecuteTime": {
     "end_time": "2020-06-30T09:03:31.986328Z",
     "start_time": "2020-06-30T09:03:31.976358Z"
    }
   },
   "outputs": [],
   "source": [
    "df_hourly = df_hourly.reset_index()"
   ]
  },
  {
   "cell_type": "code",
   "execution_count": 82,
   "metadata": {
    "ExecuteTime": {
     "end_time": "2020-06-30T09:03:58.978199Z",
     "start_time": "2020-06-30T09:03:58.807633Z"
    }
   },
   "outputs": [
    {
     "data": {
      "application/vnd.plotly.v1+json": {
       "config": {
        "plotlyServerURL": "https://plot.ly"
       },
       "data": [
        {
         "alignmentgroup": "True",
         "hovertemplate": "tpep_pickup_datetime=%{x}<br>total_amount=%{y}<extra></extra>",
         "legendgroup": "",
         "marker": {
          "color": "#636efa"
         },
         "name": "",
         "offsetgroup": "",
         "orientation": "v",
         "showlegend": false,
         "textposition": "auto",
         "type": "bar",
         "x": [
          "2016-01-01T00:00:00",
          "2016-01-01T01:00:00",
          "2016-01-01T02:00:00",
          "2016-01-01T03:00:00",
          "2016-01-01T04:00:00",
          "2016-01-01T05:00:00",
          "2016-01-01T06:00:00",
          "2016-01-01T07:00:00",
          "2016-01-01T08:00:00",
          "2016-01-01T09:00:00",
          "2016-01-01T10:00:00",
          "2016-01-01T11:00:00",
          "2016-01-01T12:00:00",
          "2016-01-01T13:00:00",
          "2016-01-01T14:00:00",
          "2016-01-01T15:00:00",
          "2016-01-01T16:00:00",
          "2016-01-01T17:00:00",
          "2016-01-01T18:00:00",
          "2016-01-01T19:00:00",
          "2016-01-01T20:00:00",
          "2016-01-01T21:00:00",
          "2016-01-01T22:00:00",
          "2016-01-01T23:00:00",
          "2016-01-02T00:00:00",
          "2016-01-02T01:00:00",
          "2016-01-02T02:00:00",
          "2016-01-02T03:00:00",
          "2016-01-02T04:00:00",
          "2016-01-02T05:00:00",
          "2016-01-02T06:00:00",
          "2016-01-02T07:00:00",
          "2016-01-02T08:00:00",
          "2016-01-02T09:00:00",
          "2016-01-02T10:00:00",
          "2016-01-02T11:00:00",
          "2016-01-02T12:00:00",
          "2016-01-02T13:00:00",
          "2016-01-02T14:00:00",
          "2016-01-02T15:00:00",
          "2016-01-02T16:00:00",
          "2016-01-02T17:00:00",
          "2016-01-02T18:00:00",
          "2016-01-02T19:00:00",
          "2016-01-02T20:00:00",
          "2016-01-02T21:00:00",
          "2016-01-02T22:00:00",
          "2016-01-02T23:00:00",
          "2016-01-03T00:00:00",
          "2016-01-03T01:00:00",
          "2016-01-03T02:00:00",
          "2016-01-03T03:00:00",
          "2016-01-03T04:00:00",
          "2016-01-03T05:00:00",
          "2016-01-03T06:00:00",
          "2016-01-03T07:00:00",
          "2016-01-03T08:00:00",
          "2016-01-03T09:00:00",
          "2016-01-03T10:00:00",
          "2016-01-03T11:00:00",
          "2016-01-03T12:00:00",
          "2016-01-03T13:00:00",
          "2016-01-03T14:00:00",
          "2016-01-03T15:00:00",
          "2016-01-03T16:00:00",
          "2016-01-03T17:00:00",
          "2016-01-03T18:00:00",
          "2016-01-03T19:00:00",
          "2016-01-03T20:00:00",
          "2016-01-03T21:00:00",
          "2016-01-03T22:00:00",
          "2016-01-03T23:00:00",
          "2016-01-04T00:00:00",
          "2016-01-04T01:00:00",
          "2016-01-04T02:00:00",
          "2016-01-04T03:00:00",
          "2016-01-04T04:00:00",
          "2016-01-04T05:00:00",
          "2016-01-04T06:00:00",
          "2016-01-04T07:00:00",
          "2016-01-04T08:00:00",
          "2016-01-04T09:00:00",
          "2016-01-04T10:00:00",
          "2016-01-04T11:00:00",
          "2016-01-04T12:00:00",
          "2016-01-04T13:00:00",
          "2016-01-04T14:00:00",
          "2016-01-04T15:00:00",
          "2016-01-04T16:00:00",
          "2016-01-04T17:00:00",
          "2016-01-04T18:00:00",
          "2016-01-04T19:00:00",
          "2016-01-04T20:00:00",
          "2016-01-04T21:00:00",
          "2016-01-04T22:00:00",
          "2016-01-04T23:00:00",
          "2016-01-05T00:00:00",
          "2016-01-05T01:00:00",
          "2016-01-05T02:00:00",
          "2016-01-05T03:00:00",
          "2016-01-05T04:00:00",
          "2016-01-05T05:00:00",
          "2016-01-05T06:00:00",
          "2016-01-05T07:00:00",
          "2016-01-05T08:00:00",
          "2016-01-05T09:00:00",
          "2016-01-05T10:00:00",
          "2016-01-05T11:00:00",
          "2016-01-05T12:00:00",
          "2016-01-05T13:00:00",
          "2016-01-05T14:00:00",
          "2016-01-05T15:00:00",
          "2016-01-05T16:00:00",
          "2016-01-05T17:00:00",
          "2016-01-05T18:00:00",
          "2016-01-05T19:00:00",
          "2016-01-05T20:00:00",
          "2016-01-05T21:00:00",
          "2016-01-05T22:00:00",
          "2016-01-05T23:00:00",
          "2016-01-06T00:00:00",
          "2016-01-06T01:00:00",
          "2016-01-06T02:00:00",
          "2016-01-06T03:00:00",
          "2016-01-06T04:00:00",
          "2016-01-06T05:00:00",
          "2016-01-06T06:00:00",
          "2016-01-06T07:00:00",
          "2016-01-06T08:00:00",
          "2016-01-06T09:00:00",
          "2016-01-06T10:00:00",
          "2016-01-06T11:00:00",
          "2016-01-06T12:00:00",
          "2016-01-06T13:00:00",
          "2016-01-06T14:00:00",
          "2016-01-06T15:00:00",
          "2016-01-06T16:00:00",
          "2016-01-06T17:00:00",
          "2016-01-06T18:00:00",
          "2016-01-06T19:00:00",
          "2016-01-06T20:00:00",
          "2016-01-06T21:00:00",
          "2016-01-06T22:00:00",
          "2016-01-06T23:00:00",
          "2016-01-07T00:00:00",
          "2016-01-07T01:00:00",
          "2016-01-07T02:00:00",
          "2016-01-07T03:00:00",
          "2016-01-07T04:00:00",
          "2016-01-07T05:00:00",
          "2016-01-07T06:00:00",
          "2016-01-07T07:00:00",
          "2016-01-07T08:00:00",
          "2016-01-07T09:00:00",
          "2016-01-07T10:00:00",
          "2016-01-07T11:00:00",
          "2016-01-07T12:00:00",
          "2016-01-07T13:00:00",
          "2016-01-07T14:00:00",
          "2016-01-07T15:00:00",
          "2016-01-07T16:00:00",
          "2016-01-07T17:00:00",
          "2016-01-07T18:00:00",
          "2016-01-07T19:00:00",
          "2016-01-07T20:00:00",
          "2016-01-07T21:00:00",
          "2016-01-07T22:00:00",
          "2016-01-07T23:00:00",
          "2016-01-08T00:00:00",
          "2016-01-08T01:00:00",
          "2016-01-08T02:00:00",
          "2016-01-08T03:00:00",
          "2016-01-08T04:00:00",
          "2016-01-08T05:00:00",
          "2016-01-08T06:00:00",
          "2016-01-08T07:00:00",
          "2016-01-08T08:00:00",
          "2016-01-08T09:00:00",
          "2016-01-08T10:00:00",
          "2016-01-08T11:00:00",
          "2016-01-08T12:00:00",
          "2016-01-08T13:00:00",
          "2016-01-08T14:00:00",
          "2016-01-08T15:00:00",
          "2016-01-08T16:00:00",
          "2016-01-08T17:00:00",
          "2016-01-08T18:00:00",
          "2016-01-08T19:00:00",
          "2016-01-08T20:00:00",
          "2016-01-08T21:00:00",
          "2016-01-08T22:00:00",
          "2016-01-08T23:00:00",
          "2016-01-09T00:00:00",
          "2016-01-09T01:00:00",
          "2016-01-09T02:00:00",
          "2016-01-09T03:00:00",
          "2016-01-09T04:00:00",
          "2016-01-09T05:00:00",
          "2016-01-09T06:00:00",
          "2016-01-09T07:00:00",
          "2016-01-09T08:00:00",
          "2016-01-09T09:00:00",
          "2016-01-09T10:00:00",
          "2016-01-09T11:00:00",
          "2016-01-09T12:00:00",
          "2016-01-09T13:00:00",
          "2016-01-09T14:00:00",
          "2016-01-09T15:00:00",
          "2016-01-09T16:00:00",
          "2016-01-09T17:00:00",
          "2016-01-09T18:00:00",
          "2016-01-09T19:00:00",
          "2016-01-09T20:00:00",
          "2016-01-09T21:00:00",
          "2016-01-09T22:00:00",
          "2016-01-09T23:00:00",
          "2016-01-10T00:00:00",
          "2016-01-10T01:00:00",
          "2016-01-10T02:00:00",
          "2016-01-10T03:00:00",
          "2016-01-10T04:00:00",
          "2016-01-10T05:00:00",
          "2016-01-10T06:00:00",
          "2016-01-10T07:00:00",
          "2016-01-10T08:00:00",
          "2016-01-10T09:00:00",
          "2016-01-10T10:00:00",
          "2016-01-10T11:00:00",
          "2016-01-10T12:00:00",
          "2016-01-10T13:00:00",
          "2016-01-10T14:00:00",
          "2016-01-10T15:00:00",
          "2016-01-10T16:00:00",
          "2016-01-10T17:00:00",
          "2016-01-10T18:00:00",
          "2016-01-10T19:00:00",
          "2016-01-10T20:00:00",
          "2016-01-10T21:00:00",
          "2016-01-10T22:00:00",
          "2016-01-10T23:00:00",
          "2016-01-11T00:00:00",
          "2016-01-11T01:00:00",
          "2016-01-11T02:00:00",
          "2016-01-11T03:00:00",
          "2016-01-11T04:00:00",
          "2016-01-11T05:00:00",
          "2016-01-11T06:00:00",
          "2016-01-11T07:00:00",
          "2016-01-11T08:00:00",
          "2016-01-11T09:00:00",
          "2016-01-11T10:00:00",
          "2016-01-11T11:00:00",
          "2016-01-11T12:00:00",
          "2016-01-11T13:00:00",
          "2016-01-11T14:00:00",
          "2016-01-11T15:00:00",
          "2016-01-11T16:00:00",
          "2016-01-11T17:00:00",
          "2016-01-11T18:00:00",
          "2016-01-11T19:00:00",
          "2016-01-11T20:00:00",
          "2016-01-11T21:00:00",
          "2016-01-11T22:00:00",
          "2016-01-11T23:00:00",
          "2016-01-12T00:00:00",
          "2016-01-12T01:00:00",
          "2016-01-12T02:00:00",
          "2016-01-12T03:00:00",
          "2016-01-12T04:00:00",
          "2016-01-12T05:00:00",
          "2016-01-12T06:00:00",
          "2016-01-12T07:00:00",
          "2016-01-12T08:00:00",
          "2016-01-12T09:00:00",
          "2016-01-12T10:00:00",
          "2016-01-12T11:00:00",
          "2016-01-12T12:00:00",
          "2016-01-12T13:00:00",
          "2016-01-12T14:00:00",
          "2016-01-12T15:00:00",
          "2016-01-12T16:00:00",
          "2016-01-12T17:00:00",
          "2016-01-12T18:00:00",
          "2016-01-12T19:00:00",
          "2016-01-12T20:00:00",
          "2016-01-12T21:00:00",
          "2016-01-12T22:00:00",
          "2016-01-12T23:00:00",
          "2016-01-13T00:00:00",
          "2016-01-13T01:00:00",
          "2016-01-13T02:00:00",
          "2016-01-13T03:00:00",
          "2016-01-13T04:00:00",
          "2016-01-13T05:00:00",
          "2016-01-13T06:00:00",
          "2016-01-13T07:00:00",
          "2016-01-13T08:00:00",
          "2016-01-13T09:00:00",
          "2016-01-13T10:00:00",
          "2016-01-13T11:00:00",
          "2016-01-13T12:00:00",
          "2016-01-13T13:00:00",
          "2016-01-13T14:00:00",
          "2016-01-13T15:00:00",
          "2016-01-13T16:00:00",
          "2016-01-13T17:00:00",
          "2016-01-13T18:00:00",
          "2016-01-13T19:00:00",
          "2016-01-13T20:00:00",
          "2016-01-13T21:00:00",
          "2016-01-13T22:00:00",
          "2016-01-13T23:00:00",
          "2016-01-14T00:00:00",
          "2016-01-14T01:00:00",
          "2016-01-14T02:00:00",
          "2016-01-14T03:00:00",
          "2016-01-14T04:00:00",
          "2016-01-14T05:00:00",
          "2016-01-14T06:00:00",
          "2016-01-14T07:00:00",
          "2016-01-14T08:00:00",
          "2016-01-14T09:00:00",
          "2016-01-14T10:00:00",
          "2016-01-14T11:00:00",
          "2016-01-14T12:00:00",
          "2016-01-14T13:00:00",
          "2016-01-14T14:00:00",
          "2016-01-14T15:00:00",
          "2016-01-14T16:00:00",
          "2016-01-14T17:00:00",
          "2016-01-14T18:00:00",
          "2016-01-14T19:00:00",
          "2016-01-14T20:00:00",
          "2016-01-14T21:00:00",
          "2016-01-14T22:00:00",
          "2016-01-14T23:00:00",
          "2016-01-15T00:00:00",
          "2016-01-15T01:00:00",
          "2016-01-15T02:00:00",
          "2016-01-15T03:00:00",
          "2016-01-15T04:00:00",
          "2016-01-15T05:00:00",
          "2016-01-15T06:00:00",
          "2016-01-15T07:00:00",
          "2016-01-15T08:00:00",
          "2016-01-15T09:00:00",
          "2016-01-15T10:00:00",
          "2016-01-15T11:00:00",
          "2016-01-15T12:00:00",
          "2016-01-15T13:00:00",
          "2016-01-15T14:00:00",
          "2016-01-15T15:00:00",
          "2016-01-15T16:00:00",
          "2016-01-15T17:00:00",
          "2016-01-15T18:00:00",
          "2016-01-15T19:00:00",
          "2016-01-15T20:00:00",
          "2016-01-15T21:00:00",
          "2016-01-15T22:00:00",
          "2016-01-15T23:00:00",
          "2016-01-16T00:00:00",
          "2016-01-16T01:00:00",
          "2016-01-16T02:00:00",
          "2016-01-16T03:00:00",
          "2016-01-16T04:00:00",
          "2016-01-16T05:00:00",
          "2016-01-16T06:00:00",
          "2016-01-16T07:00:00",
          "2016-01-16T08:00:00",
          "2016-01-16T09:00:00",
          "2016-01-16T10:00:00",
          "2016-01-16T11:00:00",
          "2016-01-16T12:00:00",
          "2016-01-16T13:00:00",
          "2016-01-16T14:00:00",
          "2016-01-16T15:00:00",
          "2016-01-16T16:00:00",
          "2016-01-16T17:00:00",
          "2016-01-16T18:00:00",
          "2016-01-16T19:00:00",
          "2016-01-16T20:00:00",
          "2016-01-16T21:00:00",
          "2016-01-16T22:00:00",
          "2016-01-16T23:00:00",
          "2016-01-17T00:00:00",
          "2016-01-17T01:00:00",
          "2016-01-17T02:00:00",
          "2016-01-17T03:00:00",
          "2016-01-17T04:00:00",
          "2016-01-17T05:00:00",
          "2016-01-17T06:00:00",
          "2016-01-17T07:00:00",
          "2016-01-17T08:00:00",
          "2016-01-17T09:00:00",
          "2016-01-17T10:00:00",
          "2016-01-17T11:00:00",
          "2016-01-17T12:00:00",
          "2016-01-17T13:00:00",
          "2016-01-17T14:00:00",
          "2016-01-17T15:00:00",
          "2016-01-17T16:00:00",
          "2016-01-17T17:00:00",
          "2016-01-17T18:00:00",
          "2016-01-17T19:00:00",
          "2016-01-17T20:00:00",
          "2016-01-17T21:00:00",
          "2016-01-17T22:00:00",
          "2016-01-17T23:00:00",
          "2016-01-18T00:00:00",
          "2016-01-18T01:00:00",
          "2016-01-18T02:00:00",
          "2016-01-18T03:00:00",
          "2016-01-18T04:00:00",
          "2016-01-18T05:00:00",
          "2016-01-18T06:00:00",
          "2016-01-18T07:00:00",
          "2016-01-18T08:00:00",
          "2016-01-18T09:00:00",
          "2016-01-18T10:00:00",
          "2016-01-18T11:00:00",
          "2016-01-18T12:00:00",
          "2016-01-18T13:00:00",
          "2016-01-18T14:00:00",
          "2016-01-18T15:00:00",
          "2016-01-18T16:00:00",
          "2016-01-18T17:00:00",
          "2016-01-18T18:00:00",
          "2016-01-18T19:00:00",
          "2016-01-18T20:00:00",
          "2016-01-18T21:00:00",
          "2016-01-18T22:00:00",
          "2016-01-18T23:00:00",
          "2016-01-19T00:00:00",
          "2016-01-19T01:00:00",
          "2016-01-19T02:00:00",
          "2016-01-19T03:00:00",
          "2016-01-19T04:00:00",
          "2016-01-19T05:00:00",
          "2016-01-19T06:00:00",
          "2016-01-19T07:00:00",
          "2016-01-19T08:00:00",
          "2016-01-19T09:00:00",
          "2016-01-19T10:00:00",
          "2016-01-19T11:00:00",
          "2016-01-19T12:00:00",
          "2016-01-19T13:00:00",
          "2016-01-19T14:00:00",
          "2016-01-19T15:00:00",
          "2016-01-19T16:00:00",
          "2016-01-19T17:00:00",
          "2016-01-19T18:00:00",
          "2016-01-19T19:00:00",
          "2016-01-19T20:00:00",
          "2016-01-19T21:00:00",
          "2016-01-19T22:00:00",
          "2016-01-19T23:00:00",
          "2016-01-20T00:00:00",
          "2016-01-20T01:00:00",
          "2016-01-20T02:00:00",
          "2016-01-20T03:00:00",
          "2016-01-20T04:00:00",
          "2016-01-20T05:00:00",
          "2016-01-20T06:00:00",
          "2016-01-20T07:00:00",
          "2016-01-20T08:00:00",
          "2016-01-20T09:00:00",
          "2016-01-20T10:00:00",
          "2016-01-20T11:00:00",
          "2016-01-20T12:00:00",
          "2016-01-20T13:00:00",
          "2016-01-20T14:00:00",
          "2016-01-20T15:00:00",
          "2016-01-20T16:00:00",
          "2016-01-20T17:00:00",
          "2016-01-20T18:00:00",
          "2016-01-20T19:00:00",
          "2016-01-20T20:00:00",
          "2016-01-20T21:00:00",
          "2016-01-20T22:00:00",
          "2016-01-20T23:00:00",
          "2016-01-21T00:00:00",
          "2016-01-21T01:00:00",
          "2016-01-21T02:00:00",
          "2016-01-21T03:00:00",
          "2016-01-21T04:00:00",
          "2016-01-21T05:00:00",
          "2016-01-21T06:00:00",
          "2016-01-21T07:00:00",
          "2016-01-21T08:00:00",
          "2016-01-21T09:00:00",
          "2016-01-21T10:00:00",
          "2016-01-21T11:00:00",
          "2016-01-21T12:00:00",
          "2016-01-21T13:00:00",
          "2016-01-21T14:00:00",
          "2016-01-21T15:00:00",
          "2016-01-21T16:00:00",
          "2016-01-21T17:00:00",
          "2016-01-21T18:00:00",
          "2016-01-21T19:00:00",
          "2016-01-21T20:00:00",
          "2016-01-21T21:00:00",
          "2016-01-21T22:00:00",
          "2016-01-21T23:00:00",
          "2016-01-22T00:00:00",
          "2016-01-22T01:00:00",
          "2016-01-22T02:00:00",
          "2016-01-22T03:00:00",
          "2016-01-22T04:00:00",
          "2016-01-22T05:00:00",
          "2016-01-22T06:00:00",
          "2016-01-22T07:00:00",
          "2016-01-22T08:00:00",
          "2016-01-22T09:00:00",
          "2016-01-22T10:00:00",
          "2016-01-22T11:00:00",
          "2016-01-22T12:00:00",
          "2016-01-22T13:00:00",
          "2016-01-22T14:00:00",
          "2016-01-22T15:00:00",
          "2016-01-22T16:00:00",
          "2016-01-22T17:00:00",
          "2016-01-22T18:00:00",
          "2016-01-22T19:00:00",
          "2016-01-22T20:00:00",
          "2016-01-22T21:00:00",
          "2016-01-22T22:00:00",
          "2016-01-22T23:00:00",
          "2016-01-23T00:00:00",
          "2016-01-23T01:00:00",
          "2016-01-23T02:00:00",
          "2016-01-23T03:00:00",
          "2016-01-23T04:00:00",
          "2016-01-23T05:00:00",
          "2016-01-23T06:00:00",
          "2016-01-23T07:00:00",
          "2016-01-23T08:00:00",
          "2016-01-23T09:00:00",
          "2016-01-23T10:00:00",
          "2016-01-23T11:00:00",
          "2016-01-23T12:00:00",
          "2016-01-23T13:00:00",
          "2016-01-23T14:00:00",
          "2016-01-23T15:00:00",
          "2016-01-23T16:00:00",
          "2016-01-23T17:00:00",
          "2016-01-23T18:00:00",
          "2016-01-23T19:00:00",
          "2016-01-23T20:00:00",
          "2016-01-23T21:00:00",
          "2016-01-23T22:00:00",
          "2016-01-23T23:00:00",
          "2016-01-24T00:00:00",
          "2016-01-24T01:00:00",
          "2016-01-24T02:00:00",
          "2016-01-24T03:00:00",
          "2016-01-24T04:00:00",
          "2016-01-24T05:00:00",
          "2016-01-24T06:00:00",
          "2016-01-24T07:00:00",
          "2016-01-24T08:00:00",
          "2016-01-24T09:00:00",
          "2016-01-24T10:00:00",
          "2016-01-24T11:00:00",
          "2016-01-24T12:00:00",
          "2016-01-24T13:00:00",
          "2016-01-24T14:00:00",
          "2016-01-24T15:00:00",
          "2016-01-24T16:00:00",
          "2016-01-24T17:00:00",
          "2016-01-24T18:00:00",
          "2016-01-24T19:00:00",
          "2016-01-24T20:00:00",
          "2016-01-24T21:00:00",
          "2016-01-24T22:00:00",
          "2016-01-24T23:00:00",
          "2016-01-25T00:00:00",
          "2016-01-25T01:00:00",
          "2016-01-25T02:00:00",
          "2016-01-25T03:00:00",
          "2016-01-25T04:00:00",
          "2016-01-25T05:00:00",
          "2016-01-25T06:00:00",
          "2016-01-25T07:00:00",
          "2016-01-25T08:00:00",
          "2016-01-25T09:00:00",
          "2016-01-25T10:00:00",
          "2016-01-25T11:00:00",
          "2016-01-25T12:00:00",
          "2016-01-25T13:00:00",
          "2016-01-25T14:00:00",
          "2016-01-25T15:00:00",
          "2016-01-25T16:00:00",
          "2016-01-25T17:00:00",
          "2016-01-25T18:00:00",
          "2016-01-25T19:00:00",
          "2016-01-25T20:00:00",
          "2016-01-25T21:00:00",
          "2016-01-25T22:00:00",
          "2016-01-25T23:00:00",
          "2016-01-26T00:00:00",
          "2016-01-26T01:00:00",
          "2016-01-26T02:00:00",
          "2016-01-26T03:00:00",
          "2016-01-26T04:00:00",
          "2016-01-26T05:00:00",
          "2016-01-26T06:00:00",
          "2016-01-26T07:00:00",
          "2016-01-26T08:00:00",
          "2016-01-26T09:00:00",
          "2016-01-26T10:00:00",
          "2016-01-26T11:00:00",
          "2016-01-26T12:00:00",
          "2016-01-26T13:00:00",
          "2016-01-26T14:00:00",
          "2016-01-26T15:00:00",
          "2016-01-26T16:00:00",
          "2016-01-26T17:00:00",
          "2016-01-26T18:00:00",
          "2016-01-26T19:00:00",
          "2016-01-26T20:00:00",
          "2016-01-26T21:00:00",
          "2016-01-26T22:00:00",
          "2016-01-26T23:00:00",
          "2016-01-27T00:00:00",
          "2016-01-27T01:00:00",
          "2016-01-27T02:00:00",
          "2016-01-27T03:00:00",
          "2016-01-27T04:00:00",
          "2016-01-27T05:00:00",
          "2016-01-27T06:00:00",
          "2016-01-27T07:00:00",
          "2016-01-27T08:00:00",
          "2016-01-27T09:00:00",
          "2016-01-27T10:00:00",
          "2016-01-27T11:00:00",
          "2016-01-27T12:00:00",
          "2016-01-27T13:00:00",
          "2016-01-27T14:00:00",
          "2016-01-27T15:00:00",
          "2016-01-27T16:00:00",
          "2016-01-27T17:00:00",
          "2016-01-27T18:00:00",
          "2016-01-27T19:00:00",
          "2016-01-27T20:00:00",
          "2016-01-27T21:00:00",
          "2016-01-27T22:00:00",
          "2016-01-27T23:00:00",
          "2016-01-28T00:00:00",
          "2016-01-28T01:00:00",
          "2016-01-28T02:00:00",
          "2016-01-28T03:00:00",
          "2016-01-28T04:00:00",
          "2016-01-28T05:00:00",
          "2016-01-28T06:00:00",
          "2016-01-28T07:00:00",
          "2016-01-28T08:00:00",
          "2016-01-28T09:00:00",
          "2016-01-28T10:00:00",
          "2016-01-28T11:00:00",
          "2016-01-28T12:00:00",
          "2016-01-28T13:00:00",
          "2016-01-28T14:00:00",
          "2016-01-28T15:00:00",
          "2016-01-28T16:00:00",
          "2016-01-28T17:00:00",
          "2016-01-28T18:00:00",
          "2016-01-28T19:00:00",
          "2016-01-28T20:00:00",
          "2016-01-28T21:00:00",
          "2016-01-28T22:00:00",
          "2016-01-28T23:00:00",
          "2016-01-29T00:00:00",
          "2016-01-29T01:00:00",
          "2016-01-29T02:00:00",
          "2016-01-29T03:00:00",
          "2016-01-29T04:00:00",
          "2016-01-29T05:00:00",
          "2016-01-29T06:00:00",
          "2016-01-29T07:00:00",
          "2016-01-29T08:00:00",
          "2016-01-29T09:00:00",
          "2016-01-29T10:00:00",
          "2016-01-29T11:00:00",
          "2016-01-29T12:00:00",
          "2016-01-29T13:00:00",
          "2016-01-29T14:00:00",
          "2016-01-29T15:00:00",
          "2016-01-29T16:00:00",
          "2016-01-29T17:00:00",
          "2016-01-29T18:00:00",
          "2016-01-29T19:00:00",
          "2016-01-29T20:00:00",
          "2016-01-29T21:00:00",
          "2016-01-29T22:00:00",
          "2016-01-29T23:00:00",
          "2016-01-30T00:00:00",
          "2016-01-30T01:00:00",
          "2016-01-30T02:00:00",
          "2016-01-30T03:00:00",
          "2016-01-30T04:00:00",
          "2016-01-30T05:00:00",
          "2016-01-30T06:00:00",
          "2016-01-30T07:00:00",
          "2016-01-30T08:00:00",
          "2016-01-30T09:00:00",
          "2016-01-30T10:00:00",
          "2016-01-30T11:00:00",
          "2016-01-30T12:00:00",
          "2016-01-30T13:00:00",
          "2016-01-30T14:00:00",
          "2016-01-30T15:00:00",
          "2016-01-30T16:00:00",
          "2016-01-30T17:00:00",
          "2016-01-30T18:00:00",
          "2016-01-30T19:00:00",
          "2016-01-30T20:00:00",
          "2016-01-30T21:00:00",
          "2016-01-30T22:00:00",
          "2016-01-30T23:00:00",
          "2016-01-31T00:00:00",
          "2016-01-31T01:00:00",
          "2016-01-31T02:00:00",
          "2016-01-31T03:00:00",
          "2016-01-31T04:00:00",
          "2016-01-31T05:00:00",
          "2016-01-31T06:00:00",
          "2016-01-31T07:00:00",
          "2016-01-31T08:00:00",
          "2016-01-31T09:00:00",
          "2016-01-31T10:00:00",
          "2016-01-31T11:00:00",
          "2016-01-31T12:00:00",
          "2016-01-31T13:00:00",
          "2016-01-31T14:00:00",
          "2016-01-31T15:00:00",
          "2016-01-31T16:00:00",
          "2016-01-31T17:00:00",
          "2016-01-31T18:00:00",
          "2016-01-31T19:00:00",
          "2016-01-31T20:00:00",
          "2016-01-31T21:00:00",
          "2016-01-31T22:00:00",
          "2016-01-31T23:00:00"
         ],
         "xaxis": "x",
         "y": [
          8228,
          9238,
          8203,
          6878,
          5012,
          2584,
          2020,
          1765,
          1662,
          1974,
          2790,
          3855,
          4630,
          5191,
          5426,
          5259,
          4844,
          5136,
          5532,
          5159,
          4348,
          4316,
          4537,
          4132,
          3674,
          2860,
          2145,
          1753,
          1341,
          772,
          1025,
          1416,
          2019,
          3095,
          4038,
          4948,
          5544,
          5744,
          6022,
          6101,
          5707,
          6434,
          6772,
          6756,
          5751,
          5852,
          6311,
          6395,
          5990,
          5203,
          4453,
          3300,
          2298,
          1052,
          1148,
          1385,
          1893,
          3086,
          4362,
          4880,
          5592,
          5616,
          5821,
          5617,
          5800,
          5861,
          5728,
          5179,
          4426,
          3901,
          3505,
          2699,
          1946,
          1163,
          734,
          519,
          625,
          1108,
          3177,
          5265,
          6413,
          5689,
          4690,
          4595,
          4839,
          4921,
          5406,
          5827,
          5500,
          6689,
          7542,
          7323,
          6166,
          5469,
          4930,
          3122,
          2249,
          1407,
          811,
          566,
          550,
          1123,
          3350,
          5988,
          7286,
          6445,
          5503,
          5443,
          5564,
          5318,
          5851,
          6193,
          5320,
          6414,
          7699,
          7243,
          6764,
          6416,
          5254,
          3803,
          2343,
          1410,
          903,
          624,
          615,
          1081,
          3124,
          5844,
          6946,
          6367,
          5427,
          5308,
          5632,
          5442,
          5762,
          5957,
          5140,
          6384,
          7661,
          7592,
          7328,
          6901,
          6078,
          4118,
          2694,
          1640,
          1084,
          706,
          648,
          1142,
          3256,
          5858,
          6891,
          6366,
          5377,
          5395,
          5548,
          5499,
          6099,
          6168,
          5321,
          6224,
          7879,
          8122,
          7303,
          7619,
          7114,
          5623,
          3608,
          2461,
          1638,
          1096,
          888,
          1160,
          3121,
          5708,
          6985,
          6493,
          5751,
          5667,
          5888,
          5971,
          6450,
          6216,
          5496,
          6690,
          8235,
          8656,
          7661,
          7371,
          7717,
          7686,
          6862,
          5993,
          4860,
          3495,
          2129,
          1038,
          1320,
          2056,
          2999,
          4585,
          5442,
          6108,
          7391,
          6820,
          6551,
          6887,
          6483,
          6942,
          7820,
          8140,
          7030,
          6597,
          7515,
          7759,
          8164,
          6959,
          5914,
          4409,
          2512,
          1048,
          1163,
          1761,
          2694,
          3734,
          5506,
          6102,
          6547,
          6163,
          5815,
          6674,
          5951,
          6102,
          6180,
          5241,
          4645,
          4407,
          3991,
          3180,
          2039,
          1294,
          795,
          502,
          672,
          1243,
          3416,
          5745,
          6641,
          6289,
          5482,
          5222,
          5461,
          5217,
          5666,
          6042,
          5516,
          6783,
          8052,
          7495,
          7084,
          6467,
          5363,
          3514,
          2743,
          1477,
          908,
          605,
          659,
          1094,
          3198,
          5963,
          7255,
          6785,
          5908,
          6177,
          5634,
          5742,
          6139,
          6175,
          5457,
          6399,
          7796,
          7513,
          7532,
          7636,
          6910,
          4507,
          2904,
          1627,
          1026,
          685,
          721,
          1219,
          3470,
          6518,
          7873,
          6846,
          6079,
          6001,
          6171,
          6059,
          6658,
          6481,
          5788,
          7043,
          8564,
          8829,
          8396,
          8268,
          7187,
          5262,
          3193,
          1878,
          1223,
          832,
          760,
          1230,
          3492,
          6305,
          7502,
          6862,
          5932,
          5926,
          6359,
          6044,
          6802,
          6658,
          5573,
          6557,
          8116,
          8432,
          8146,
          8125,
          7545,
          6110,
          4315,
          2784,
          1854,
          1228,
          1043,
          1348,
          3297,
          6081,
          7152,
          6743,
          5728,
          5692,
          5998,
          5925,
          6684,
          6417,
          5663,
          6680,
          8374,
          8580,
          7458,
          7622,
          7400,
          7517,
          6971,
          6605,
          5135,
          3580,
          2373,
          1128,
          1364,
          2035,
          3041,
          4368,
          5337,
          6027,
          6580,
          6621,
          6581,
          6946,
          7005,
          7542,
          8007,
          8139,
          7067,
          7028,
          7621,
          7982,
          7722,
          6846,
          5970,
          4497,
          2773,
          1188,
          1168,
          1625,
          2607,
          3660,
          5191,
          6076,
          7021,
          7032,
          6927,
          6783,
          6921,
          6715,
          6891,
          6128,
          5513,
          5390,
          5264,
          4472,
          3526,
          2375,
          1678,
          1150,
          939,
          903,
          1755,
          2709,
          4235,
          4959,
          5477,
          5828,
          6587,
          6613,
          6897,
          6915,
          6662,
          7299,
          7845,
          7171,
          6093,
          5613,
          5124,
          3385,
          2475,
          1346,
          784,
          521,
          601,
          1312,
          3765,
          6817,
          7846,
          7190,
          6452,
          6224,
          6089,
          6292,
          6623,
          6559,
          5872,
          6677,
          8489,
          8152,
          7848,
          7516,
          6468,
          4244,
          2814,
          1602,
          939,
          703,
          725,
          1324,
          3469,
          6291,
          7416,
          6726,
          5929,
          6064,
          6151,
          5790,
          6530,
          6354,
          5352,
          6541,
          8142,
          8333,
          7880,
          7876,
          7328,
          5069,
          3046,
          1859,
          1174,
          773,
          814,
          1253,
          3497,
          6299,
          7470,
          6793,
          6101,
          5880,
          6167,
          6068,
          6619,
          6423,
          5511,
          6879,
          8448,
          8815,
          8412,
          8441,
          7944,
          6325,
          4710,
          2813,
          1870,
          1279,
          1091,
          1319,
          3350,
          6337,
          7416,
          6798,
          6054,
          5978,
          6392,
          6596,
          7002,
          6763,
          5765,
          7129,
          8813,
          9209,
          7828,
          7603,
          7820,
          7244,
          6169,
          4528,
          3441,
          2563,
          1434,
          513,
          513,
          583,
          657,
          748,
          892,
          994,
          1012,
          845,
          409,
          184,
          49,
          29,
          8,
          8,
          2,
          4,
          2,
          1,
          6,
          3,
          4,
          5,
          2,
          13,
          34,
          214,
          463,
          927,
          1636,
          2387,
          2980,
          3311,
          3966,
          4276,
          4134,
          4282,
          4889,
          4456,
          4069,
          3838,
          3642,
          2547,
          1787,
          1126,
          777,
          606,
          741,
          1215,
          2684,
          4266,
          4772,
          4520,
          4182,
          4130,
          4272,
          4139,
          4607,
          4803,
          4397,
          5381,
          6278,
          6364,
          6097,
          5908,
          5111,
          3629,
          2462,
          1465,
          877,
          585,
          670,
          1338,
          3296,
          5514,
          6103,
          5516,
          5041,
          4765,
          4863,
          4796,
          5209,
          5350,
          4412,
          5540,
          6913,
          6985,
          6908,
          6997,
          6548,
          4700,
          2970,
          1591,
          1074,
          725,
          739,
          1212,
          3427,
          5750,
          6846,
          6117,
          5265,
          5084,
          5336,
          5370,
          5609,
          5628,
          4762,
          6030,
          7664,
          7925,
          7689,
          7665,
          7252,
          5973,
          3481,
          2036,
          1305,
          865,
          856,
          1271,
          3545,
          6047,
          6952,
          6292,
          5585,
          5520,
          5647,
          5491,
          6075,
          5901,
          4955,
          6285,
          7847,
          8263,
          8189,
          8285,
          7878,
          6629,
          4659,
          2878,
          1948,
          1289,
          1112,
          1293,
          3324,
          5994,
          7238,
          6437,
          5658,
          5553,
          6062,
          6153,
          6583,
          6060,
          5430,
          6900,
          8523,
          9124,
          8525,
          8299,
          8541,
          8296,
          7615,
          6446,
          5451,
          4054,
          2453,
          1159,
          1400,
          2173,
          3500,
          4861,
          5780,
          6624,
          7166,
          7114,
          6871,
          6936,
          6437,
          7246,
          8641,
          8785,
          7485,
          7447,
          8232,
          8447,
          7956,
          7030,
          6055,
          4808,
          2927,
          1315,
          1211,
          1629,
          2695,
          3949,
          5340,
          6071,
          6358,
          6304,
          6489,
          6055,
          5938,
          6490,
          6762,
          5801,
          4883,
          4642,
          4258,
          3067
         ],
         "yaxis": "y"
        }
       ],
       "layout": {
        "barmode": "relative",
        "height": 600,
        "legend": {
         "tracegroupgap": 0
        },
        "template": {
         "data": {
          "bar": [
           {
            "error_x": {
             "color": "#2a3f5f"
            },
            "error_y": {
             "color": "#2a3f5f"
            },
            "marker": {
             "line": {
              "color": "#E5ECF6",
              "width": 0.5
             }
            },
            "type": "bar"
           }
          ],
          "barpolar": [
           {
            "marker": {
             "line": {
              "color": "#E5ECF6",
              "width": 0.5
             }
            },
            "type": "barpolar"
           }
          ],
          "carpet": [
           {
            "aaxis": {
             "endlinecolor": "#2a3f5f",
             "gridcolor": "white",
             "linecolor": "white",
             "minorgridcolor": "white",
             "startlinecolor": "#2a3f5f"
            },
            "baxis": {
             "endlinecolor": "#2a3f5f",
             "gridcolor": "white",
             "linecolor": "white",
             "minorgridcolor": "white",
             "startlinecolor": "#2a3f5f"
            },
            "type": "carpet"
           }
          ],
          "choropleth": [
           {
            "colorbar": {
             "outlinewidth": 0,
             "ticks": ""
            },
            "type": "choropleth"
           }
          ],
          "contour": [
           {
            "colorbar": {
             "outlinewidth": 0,
             "ticks": ""
            },
            "colorscale": [
             [
              0,
              "#0d0887"
             ],
             [
              0.1111111111111111,
              "#46039f"
             ],
             [
              0.2222222222222222,
              "#7201a8"
             ],
             [
              0.3333333333333333,
              "#9c179e"
             ],
             [
              0.4444444444444444,
              "#bd3786"
             ],
             [
              0.5555555555555556,
              "#d8576b"
             ],
             [
              0.6666666666666666,
              "#ed7953"
             ],
             [
              0.7777777777777778,
              "#fb9f3a"
             ],
             [
              0.8888888888888888,
              "#fdca26"
             ],
             [
              1,
              "#f0f921"
             ]
            ],
            "type": "contour"
           }
          ],
          "contourcarpet": [
           {
            "colorbar": {
             "outlinewidth": 0,
             "ticks": ""
            },
            "type": "contourcarpet"
           }
          ],
          "heatmap": [
           {
            "colorbar": {
             "outlinewidth": 0,
             "ticks": ""
            },
            "colorscale": [
             [
              0,
              "#0d0887"
             ],
             [
              0.1111111111111111,
              "#46039f"
             ],
             [
              0.2222222222222222,
              "#7201a8"
             ],
             [
              0.3333333333333333,
              "#9c179e"
             ],
             [
              0.4444444444444444,
              "#bd3786"
             ],
             [
              0.5555555555555556,
              "#d8576b"
             ],
             [
              0.6666666666666666,
              "#ed7953"
             ],
             [
              0.7777777777777778,
              "#fb9f3a"
             ],
             [
              0.8888888888888888,
              "#fdca26"
             ],
             [
              1,
              "#f0f921"
             ]
            ],
            "type": "heatmap"
           }
          ],
          "heatmapgl": [
           {
            "colorbar": {
             "outlinewidth": 0,
             "ticks": ""
            },
            "colorscale": [
             [
              0,
              "#0d0887"
             ],
             [
              0.1111111111111111,
              "#46039f"
             ],
             [
              0.2222222222222222,
              "#7201a8"
             ],
             [
              0.3333333333333333,
              "#9c179e"
             ],
             [
              0.4444444444444444,
              "#bd3786"
             ],
             [
              0.5555555555555556,
              "#d8576b"
             ],
             [
              0.6666666666666666,
              "#ed7953"
             ],
             [
              0.7777777777777778,
              "#fb9f3a"
             ],
             [
              0.8888888888888888,
              "#fdca26"
             ],
             [
              1,
              "#f0f921"
             ]
            ],
            "type": "heatmapgl"
           }
          ],
          "histogram": [
           {
            "marker": {
             "colorbar": {
              "outlinewidth": 0,
              "ticks": ""
             }
            },
            "type": "histogram"
           }
          ],
          "histogram2d": [
           {
            "colorbar": {
             "outlinewidth": 0,
             "ticks": ""
            },
            "colorscale": [
             [
              0,
              "#0d0887"
             ],
             [
              0.1111111111111111,
              "#46039f"
             ],
             [
              0.2222222222222222,
              "#7201a8"
             ],
             [
              0.3333333333333333,
              "#9c179e"
             ],
             [
              0.4444444444444444,
              "#bd3786"
             ],
             [
              0.5555555555555556,
              "#d8576b"
             ],
             [
              0.6666666666666666,
              "#ed7953"
             ],
             [
              0.7777777777777778,
              "#fb9f3a"
             ],
             [
              0.8888888888888888,
              "#fdca26"
             ],
             [
              1,
              "#f0f921"
             ]
            ],
            "type": "histogram2d"
           }
          ],
          "histogram2dcontour": [
           {
            "colorbar": {
             "outlinewidth": 0,
             "ticks": ""
            },
            "colorscale": [
             [
              0,
              "#0d0887"
             ],
             [
              0.1111111111111111,
              "#46039f"
             ],
             [
              0.2222222222222222,
              "#7201a8"
             ],
             [
              0.3333333333333333,
              "#9c179e"
             ],
             [
              0.4444444444444444,
              "#bd3786"
             ],
             [
              0.5555555555555556,
              "#d8576b"
             ],
             [
              0.6666666666666666,
              "#ed7953"
             ],
             [
              0.7777777777777778,
              "#fb9f3a"
             ],
             [
              0.8888888888888888,
              "#fdca26"
             ],
             [
              1,
              "#f0f921"
             ]
            ],
            "type": "histogram2dcontour"
           }
          ],
          "mesh3d": [
           {
            "colorbar": {
             "outlinewidth": 0,
             "ticks": ""
            },
            "type": "mesh3d"
           }
          ],
          "parcoords": [
           {
            "line": {
             "colorbar": {
              "outlinewidth": 0,
              "ticks": ""
             }
            },
            "type": "parcoords"
           }
          ],
          "pie": [
           {
            "automargin": true,
            "type": "pie"
           }
          ],
          "scatter": [
           {
            "marker": {
             "colorbar": {
              "outlinewidth": 0,
              "ticks": ""
             }
            },
            "type": "scatter"
           }
          ],
          "scatter3d": [
           {
            "line": {
             "colorbar": {
              "outlinewidth": 0,
              "ticks": ""
             }
            },
            "marker": {
             "colorbar": {
              "outlinewidth": 0,
              "ticks": ""
             }
            },
            "type": "scatter3d"
           }
          ],
          "scattercarpet": [
           {
            "marker": {
             "colorbar": {
              "outlinewidth": 0,
              "ticks": ""
             }
            },
            "type": "scattercarpet"
           }
          ],
          "scattergeo": [
           {
            "marker": {
             "colorbar": {
              "outlinewidth": 0,
              "ticks": ""
             }
            },
            "type": "scattergeo"
           }
          ],
          "scattergl": [
           {
            "marker": {
             "colorbar": {
              "outlinewidth": 0,
              "ticks": ""
             }
            },
            "type": "scattergl"
           }
          ],
          "scattermapbox": [
           {
            "marker": {
             "colorbar": {
              "outlinewidth": 0,
              "ticks": ""
             }
            },
            "type": "scattermapbox"
           }
          ],
          "scatterpolar": [
           {
            "marker": {
             "colorbar": {
              "outlinewidth": 0,
              "ticks": ""
             }
            },
            "type": "scatterpolar"
           }
          ],
          "scatterpolargl": [
           {
            "marker": {
             "colorbar": {
              "outlinewidth": 0,
              "ticks": ""
             }
            },
            "type": "scatterpolargl"
           }
          ],
          "scatterternary": [
           {
            "marker": {
             "colorbar": {
              "outlinewidth": 0,
              "ticks": ""
             }
            },
            "type": "scatterternary"
           }
          ],
          "surface": [
           {
            "colorbar": {
             "outlinewidth": 0,
             "ticks": ""
            },
            "colorscale": [
             [
              0,
              "#0d0887"
             ],
             [
              0.1111111111111111,
              "#46039f"
             ],
             [
              0.2222222222222222,
              "#7201a8"
             ],
             [
              0.3333333333333333,
              "#9c179e"
             ],
             [
              0.4444444444444444,
              "#bd3786"
             ],
             [
              0.5555555555555556,
              "#d8576b"
             ],
             [
              0.6666666666666666,
              "#ed7953"
             ],
             [
              0.7777777777777778,
              "#fb9f3a"
             ],
             [
              0.8888888888888888,
              "#fdca26"
             ],
             [
              1,
              "#f0f921"
             ]
            ],
            "type": "surface"
           }
          ],
          "table": [
           {
            "cells": {
             "fill": {
              "color": "#EBF0F8"
             },
             "line": {
              "color": "white"
             }
            },
            "header": {
             "fill": {
              "color": "#C8D4E3"
             },
             "line": {
              "color": "white"
             }
            },
            "type": "table"
           }
          ]
         },
         "layout": {
          "annotationdefaults": {
           "arrowcolor": "#2a3f5f",
           "arrowhead": 0,
           "arrowwidth": 1
          },
          "coloraxis": {
           "colorbar": {
            "outlinewidth": 0,
            "ticks": ""
           }
          },
          "colorscale": {
           "diverging": [
            [
             0,
             "#8e0152"
            ],
            [
             0.1,
             "#c51b7d"
            ],
            [
             0.2,
             "#de77ae"
            ],
            [
             0.3,
             "#f1b6da"
            ],
            [
             0.4,
             "#fde0ef"
            ],
            [
             0.5,
             "#f7f7f7"
            ],
            [
             0.6,
             "#e6f5d0"
            ],
            [
             0.7,
             "#b8e186"
            ],
            [
             0.8,
             "#7fbc41"
            ],
            [
             0.9,
             "#4d9221"
            ],
            [
             1,
             "#276419"
            ]
           ],
           "sequential": [
            [
             0,
             "#0d0887"
            ],
            [
             0.1111111111111111,
             "#46039f"
            ],
            [
             0.2222222222222222,
             "#7201a8"
            ],
            [
             0.3333333333333333,
             "#9c179e"
            ],
            [
             0.4444444444444444,
             "#bd3786"
            ],
            [
             0.5555555555555556,
             "#d8576b"
            ],
            [
             0.6666666666666666,
             "#ed7953"
            ],
            [
             0.7777777777777778,
             "#fb9f3a"
            ],
            [
             0.8888888888888888,
             "#fdca26"
            ],
            [
             1,
             "#f0f921"
            ]
           ],
           "sequentialminus": [
            [
             0,
             "#0d0887"
            ],
            [
             0.1111111111111111,
             "#46039f"
            ],
            [
             0.2222222222222222,
             "#7201a8"
            ],
            [
             0.3333333333333333,
             "#9c179e"
            ],
            [
             0.4444444444444444,
             "#bd3786"
            ],
            [
             0.5555555555555556,
             "#d8576b"
            ],
            [
             0.6666666666666666,
             "#ed7953"
            ],
            [
             0.7777777777777778,
             "#fb9f3a"
            ],
            [
             0.8888888888888888,
             "#fdca26"
            ],
            [
             1,
             "#f0f921"
            ]
           ]
          },
          "colorway": [
           "#636efa",
           "#EF553B",
           "#00cc96",
           "#ab63fa",
           "#FFA15A",
           "#19d3f3",
           "#FF6692",
           "#B6E880",
           "#FF97FF",
           "#FECB52"
          ],
          "font": {
           "color": "#2a3f5f"
          },
          "geo": {
           "bgcolor": "white",
           "lakecolor": "white",
           "landcolor": "#E5ECF6",
           "showlakes": true,
           "showland": true,
           "subunitcolor": "white"
          },
          "hoverlabel": {
           "align": "left"
          },
          "hovermode": "closest",
          "mapbox": {
           "style": "light"
          },
          "paper_bgcolor": "white",
          "plot_bgcolor": "#E5ECF6",
          "polar": {
           "angularaxis": {
            "gridcolor": "white",
            "linecolor": "white",
            "ticks": ""
           },
           "bgcolor": "#E5ECF6",
           "radialaxis": {
            "gridcolor": "white",
            "linecolor": "white",
            "ticks": ""
           }
          },
          "scene": {
           "xaxis": {
            "backgroundcolor": "#E5ECF6",
            "gridcolor": "white",
            "gridwidth": 2,
            "linecolor": "white",
            "showbackground": true,
            "ticks": "",
            "zerolinecolor": "white"
           },
           "yaxis": {
            "backgroundcolor": "#E5ECF6",
            "gridcolor": "white",
            "gridwidth": 2,
            "linecolor": "white",
            "showbackground": true,
            "ticks": "",
            "zerolinecolor": "white"
           },
           "zaxis": {
            "backgroundcolor": "#E5ECF6",
            "gridcolor": "white",
            "gridwidth": 2,
            "linecolor": "white",
            "showbackground": true,
            "ticks": "",
            "zerolinecolor": "white"
           }
          },
          "shapedefaults": {
           "line": {
            "color": "#2a3f5f"
           }
          },
          "ternary": {
           "aaxis": {
            "gridcolor": "white",
            "linecolor": "white",
            "ticks": ""
           },
           "baxis": {
            "gridcolor": "white",
            "linecolor": "white",
            "ticks": ""
           },
           "bgcolor": "#E5ECF6",
           "caxis": {
            "gridcolor": "white",
            "linecolor": "white",
            "ticks": ""
           }
          },
          "title": {
           "x": 0.05
          },
          "xaxis": {
           "automargin": true,
           "gridcolor": "white",
           "linecolor": "white",
           "ticks": "",
           "title": {
            "standoff": 15
           },
           "zerolinecolor": "white",
           "zerolinewidth": 2
          },
          "yaxis": {
           "automargin": true,
           "gridcolor": "white",
           "linecolor": "white",
           "ticks": "",
           "title": {
            "standoff": 15
           },
           "zerolinecolor": "white",
           "zerolinewidth": 2
          }
         }
        },
        "title": {
         "text": "Daily rides"
        },
        "xaxis": {
         "anchor": "y",
         "domain": [
          0,
          1
         ],
         "title": {
          "text": "tpep_pickup_datetime"
         }
        },
        "yaxis": {
         "anchor": "x",
         "domain": [
          0,
          1
         ],
         "title": {
          "text": "total_amount"
         }
        }
       }
      },
      "text/html": [
       "<div>\n",
       "        \n",
       "        \n",
       "            <div id=\"d0cf112a-bbc3-49c1-974a-a335bbe521d7\" class=\"plotly-graph-div\" style=\"height:600px; width:100%;\"></div>\n",
       "            <script type=\"text/javascript\">\n",
       "                require([\"plotly\"], function(Plotly) {\n",
       "                    window.PLOTLYENV=window.PLOTLYENV || {};\n",
       "                    \n",
       "                if (document.getElementById(\"d0cf112a-bbc3-49c1-974a-a335bbe521d7\")) {\n",
       "                    Plotly.newPlot(\n",
       "                        'd0cf112a-bbc3-49c1-974a-a335bbe521d7',\n",
       "                        [{\"alignmentgroup\": \"True\", \"hovertemplate\": \"tpep_pickup_datetime=%{x}<br>total_amount=%{y}<extra></extra>\", \"legendgroup\": \"\", \"marker\": {\"color\": \"#636efa\"}, \"name\": \"\", \"offsetgroup\": \"\", \"orientation\": \"v\", \"showlegend\": false, \"textposition\": \"auto\", \"type\": \"bar\", \"x\": [\"2016-01-01T00:00:00\", \"2016-01-01T01:00:00\", \"2016-01-01T02:00:00\", \"2016-01-01T03:00:00\", \"2016-01-01T04:00:00\", \"2016-01-01T05:00:00\", \"2016-01-01T06:00:00\", \"2016-01-01T07:00:00\", \"2016-01-01T08:00:00\", \"2016-01-01T09:00:00\", \"2016-01-01T10:00:00\", \"2016-01-01T11:00:00\", \"2016-01-01T12:00:00\", \"2016-01-01T13:00:00\", \"2016-01-01T14:00:00\", \"2016-01-01T15:00:00\", \"2016-01-01T16:00:00\", \"2016-01-01T17:00:00\", \"2016-01-01T18:00:00\", \"2016-01-01T19:00:00\", \"2016-01-01T20:00:00\", \"2016-01-01T21:00:00\", \"2016-01-01T22:00:00\", \"2016-01-01T23:00:00\", \"2016-01-02T00:00:00\", \"2016-01-02T01:00:00\", \"2016-01-02T02:00:00\", \"2016-01-02T03:00:00\", \"2016-01-02T04:00:00\", \"2016-01-02T05:00:00\", \"2016-01-02T06:00:00\", \"2016-01-02T07:00:00\", \"2016-01-02T08:00:00\", \"2016-01-02T09:00:00\", \"2016-01-02T10:00:00\", \"2016-01-02T11:00:00\", \"2016-01-02T12:00:00\", \"2016-01-02T13:00:00\", \"2016-01-02T14:00:00\", \"2016-01-02T15:00:00\", \"2016-01-02T16:00:00\", \"2016-01-02T17:00:00\", \"2016-01-02T18:00:00\", \"2016-01-02T19:00:00\", \"2016-01-02T20:00:00\", \"2016-01-02T21:00:00\", \"2016-01-02T22:00:00\", \"2016-01-02T23:00:00\", \"2016-01-03T00:00:00\", \"2016-01-03T01:00:00\", \"2016-01-03T02:00:00\", \"2016-01-03T03:00:00\", \"2016-01-03T04:00:00\", \"2016-01-03T05:00:00\", \"2016-01-03T06:00:00\", \"2016-01-03T07:00:00\", \"2016-01-03T08:00:00\", \"2016-01-03T09:00:00\", \"2016-01-03T10:00:00\", \"2016-01-03T11:00:00\", \"2016-01-03T12:00:00\", \"2016-01-03T13:00:00\", \"2016-01-03T14:00:00\", \"2016-01-03T15:00:00\", \"2016-01-03T16:00:00\", \"2016-01-03T17:00:00\", \"2016-01-03T18:00:00\", \"2016-01-03T19:00:00\", \"2016-01-03T20:00:00\", \"2016-01-03T21:00:00\", \"2016-01-03T22:00:00\", \"2016-01-03T23:00:00\", \"2016-01-04T00:00:00\", \"2016-01-04T01:00:00\", \"2016-01-04T02:00:00\", \"2016-01-04T03:00:00\", \"2016-01-04T04:00:00\", \"2016-01-04T05:00:00\", \"2016-01-04T06:00:00\", \"2016-01-04T07:00:00\", \"2016-01-04T08:00:00\", \"2016-01-04T09:00:00\", \"2016-01-04T10:00:00\", \"2016-01-04T11:00:00\", \"2016-01-04T12:00:00\", \"2016-01-04T13:00:00\", \"2016-01-04T14:00:00\", \"2016-01-04T15:00:00\", \"2016-01-04T16:00:00\", \"2016-01-04T17:00:00\", \"2016-01-04T18:00:00\", \"2016-01-04T19:00:00\", \"2016-01-04T20:00:00\", \"2016-01-04T21:00:00\", \"2016-01-04T22:00:00\", \"2016-01-04T23:00:00\", \"2016-01-05T00:00:00\", \"2016-01-05T01:00:00\", \"2016-01-05T02:00:00\", \"2016-01-05T03:00:00\", \"2016-01-05T04:00:00\", \"2016-01-05T05:00:00\", \"2016-01-05T06:00:00\", \"2016-01-05T07:00:00\", \"2016-01-05T08:00:00\", \"2016-01-05T09:00:00\", \"2016-01-05T10:00:00\", \"2016-01-05T11:00:00\", \"2016-01-05T12:00:00\", \"2016-01-05T13:00:00\", \"2016-01-05T14:00:00\", \"2016-01-05T15:00:00\", \"2016-01-05T16:00:00\", \"2016-01-05T17:00:00\", \"2016-01-05T18:00:00\", \"2016-01-05T19:00:00\", \"2016-01-05T20:00:00\", \"2016-01-05T21:00:00\", \"2016-01-05T22:00:00\", \"2016-01-05T23:00:00\", \"2016-01-06T00:00:00\", \"2016-01-06T01:00:00\", \"2016-01-06T02:00:00\", \"2016-01-06T03:00:00\", \"2016-01-06T04:00:00\", \"2016-01-06T05:00:00\", \"2016-01-06T06:00:00\", \"2016-01-06T07:00:00\", \"2016-01-06T08:00:00\", \"2016-01-06T09:00:00\", \"2016-01-06T10:00:00\", \"2016-01-06T11:00:00\", \"2016-01-06T12:00:00\", \"2016-01-06T13:00:00\", \"2016-01-06T14:00:00\", \"2016-01-06T15:00:00\", \"2016-01-06T16:00:00\", \"2016-01-06T17:00:00\", \"2016-01-06T18:00:00\", \"2016-01-06T19:00:00\", \"2016-01-06T20:00:00\", \"2016-01-06T21:00:00\", \"2016-01-06T22:00:00\", \"2016-01-06T23:00:00\", \"2016-01-07T00:00:00\", \"2016-01-07T01:00:00\", \"2016-01-07T02:00:00\", \"2016-01-07T03:00:00\", \"2016-01-07T04:00:00\", \"2016-01-07T05:00:00\", \"2016-01-07T06:00:00\", \"2016-01-07T07:00:00\", \"2016-01-07T08:00:00\", \"2016-01-07T09:00:00\", \"2016-01-07T10:00:00\", \"2016-01-07T11:00:00\", \"2016-01-07T12:00:00\", \"2016-01-07T13:00:00\", \"2016-01-07T14:00:00\", \"2016-01-07T15:00:00\", \"2016-01-07T16:00:00\", \"2016-01-07T17:00:00\", \"2016-01-07T18:00:00\", \"2016-01-07T19:00:00\", \"2016-01-07T20:00:00\", \"2016-01-07T21:00:00\", \"2016-01-07T22:00:00\", \"2016-01-07T23:00:00\", \"2016-01-08T00:00:00\", \"2016-01-08T01:00:00\", \"2016-01-08T02:00:00\", \"2016-01-08T03:00:00\", \"2016-01-08T04:00:00\", \"2016-01-08T05:00:00\", \"2016-01-08T06:00:00\", \"2016-01-08T07:00:00\", \"2016-01-08T08:00:00\", \"2016-01-08T09:00:00\", \"2016-01-08T10:00:00\", \"2016-01-08T11:00:00\", \"2016-01-08T12:00:00\", \"2016-01-08T13:00:00\", \"2016-01-08T14:00:00\", \"2016-01-08T15:00:00\", \"2016-01-08T16:00:00\", \"2016-01-08T17:00:00\", \"2016-01-08T18:00:00\", \"2016-01-08T19:00:00\", \"2016-01-08T20:00:00\", \"2016-01-08T21:00:00\", \"2016-01-08T22:00:00\", \"2016-01-08T23:00:00\", \"2016-01-09T00:00:00\", \"2016-01-09T01:00:00\", \"2016-01-09T02:00:00\", \"2016-01-09T03:00:00\", \"2016-01-09T04:00:00\", \"2016-01-09T05:00:00\", \"2016-01-09T06:00:00\", \"2016-01-09T07:00:00\", \"2016-01-09T08:00:00\", \"2016-01-09T09:00:00\", \"2016-01-09T10:00:00\", \"2016-01-09T11:00:00\", \"2016-01-09T12:00:00\", \"2016-01-09T13:00:00\", \"2016-01-09T14:00:00\", \"2016-01-09T15:00:00\", \"2016-01-09T16:00:00\", \"2016-01-09T17:00:00\", \"2016-01-09T18:00:00\", \"2016-01-09T19:00:00\", \"2016-01-09T20:00:00\", \"2016-01-09T21:00:00\", \"2016-01-09T22:00:00\", \"2016-01-09T23:00:00\", \"2016-01-10T00:00:00\", \"2016-01-10T01:00:00\", \"2016-01-10T02:00:00\", \"2016-01-10T03:00:00\", \"2016-01-10T04:00:00\", \"2016-01-10T05:00:00\", \"2016-01-10T06:00:00\", \"2016-01-10T07:00:00\", \"2016-01-10T08:00:00\", \"2016-01-10T09:00:00\", \"2016-01-10T10:00:00\", \"2016-01-10T11:00:00\", \"2016-01-10T12:00:00\", \"2016-01-10T13:00:00\", \"2016-01-10T14:00:00\", \"2016-01-10T15:00:00\", \"2016-01-10T16:00:00\", \"2016-01-10T17:00:00\", \"2016-01-10T18:00:00\", \"2016-01-10T19:00:00\", \"2016-01-10T20:00:00\", \"2016-01-10T21:00:00\", \"2016-01-10T22:00:00\", \"2016-01-10T23:00:00\", \"2016-01-11T00:00:00\", \"2016-01-11T01:00:00\", \"2016-01-11T02:00:00\", \"2016-01-11T03:00:00\", \"2016-01-11T04:00:00\", \"2016-01-11T05:00:00\", \"2016-01-11T06:00:00\", \"2016-01-11T07:00:00\", \"2016-01-11T08:00:00\", \"2016-01-11T09:00:00\", \"2016-01-11T10:00:00\", \"2016-01-11T11:00:00\", \"2016-01-11T12:00:00\", \"2016-01-11T13:00:00\", \"2016-01-11T14:00:00\", \"2016-01-11T15:00:00\", \"2016-01-11T16:00:00\", \"2016-01-11T17:00:00\", \"2016-01-11T18:00:00\", \"2016-01-11T19:00:00\", \"2016-01-11T20:00:00\", \"2016-01-11T21:00:00\", \"2016-01-11T22:00:00\", \"2016-01-11T23:00:00\", \"2016-01-12T00:00:00\", \"2016-01-12T01:00:00\", \"2016-01-12T02:00:00\", \"2016-01-12T03:00:00\", \"2016-01-12T04:00:00\", \"2016-01-12T05:00:00\", \"2016-01-12T06:00:00\", \"2016-01-12T07:00:00\", \"2016-01-12T08:00:00\", \"2016-01-12T09:00:00\", \"2016-01-12T10:00:00\", \"2016-01-12T11:00:00\", \"2016-01-12T12:00:00\", \"2016-01-12T13:00:00\", \"2016-01-12T14:00:00\", \"2016-01-12T15:00:00\", \"2016-01-12T16:00:00\", \"2016-01-12T17:00:00\", \"2016-01-12T18:00:00\", \"2016-01-12T19:00:00\", \"2016-01-12T20:00:00\", \"2016-01-12T21:00:00\", \"2016-01-12T22:00:00\", \"2016-01-12T23:00:00\", \"2016-01-13T00:00:00\", \"2016-01-13T01:00:00\", \"2016-01-13T02:00:00\", \"2016-01-13T03:00:00\", \"2016-01-13T04:00:00\", \"2016-01-13T05:00:00\", \"2016-01-13T06:00:00\", \"2016-01-13T07:00:00\", \"2016-01-13T08:00:00\", \"2016-01-13T09:00:00\", \"2016-01-13T10:00:00\", \"2016-01-13T11:00:00\", \"2016-01-13T12:00:00\", \"2016-01-13T13:00:00\", \"2016-01-13T14:00:00\", \"2016-01-13T15:00:00\", \"2016-01-13T16:00:00\", \"2016-01-13T17:00:00\", \"2016-01-13T18:00:00\", \"2016-01-13T19:00:00\", \"2016-01-13T20:00:00\", \"2016-01-13T21:00:00\", \"2016-01-13T22:00:00\", \"2016-01-13T23:00:00\", \"2016-01-14T00:00:00\", \"2016-01-14T01:00:00\", \"2016-01-14T02:00:00\", \"2016-01-14T03:00:00\", \"2016-01-14T04:00:00\", \"2016-01-14T05:00:00\", \"2016-01-14T06:00:00\", \"2016-01-14T07:00:00\", \"2016-01-14T08:00:00\", \"2016-01-14T09:00:00\", \"2016-01-14T10:00:00\", \"2016-01-14T11:00:00\", \"2016-01-14T12:00:00\", \"2016-01-14T13:00:00\", \"2016-01-14T14:00:00\", \"2016-01-14T15:00:00\", \"2016-01-14T16:00:00\", \"2016-01-14T17:00:00\", \"2016-01-14T18:00:00\", \"2016-01-14T19:00:00\", \"2016-01-14T20:00:00\", \"2016-01-14T21:00:00\", \"2016-01-14T22:00:00\", \"2016-01-14T23:00:00\", \"2016-01-15T00:00:00\", \"2016-01-15T01:00:00\", \"2016-01-15T02:00:00\", \"2016-01-15T03:00:00\", \"2016-01-15T04:00:00\", \"2016-01-15T05:00:00\", \"2016-01-15T06:00:00\", \"2016-01-15T07:00:00\", \"2016-01-15T08:00:00\", \"2016-01-15T09:00:00\", \"2016-01-15T10:00:00\", \"2016-01-15T11:00:00\", \"2016-01-15T12:00:00\", \"2016-01-15T13:00:00\", \"2016-01-15T14:00:00\", \"2016-01-15T15:00:00\", \"2016-01-15T16:00:00\", \"2016-01-15T17:00:00\", \"2016-01-15T18:00:00\", \"2016-01-15T19:00:00\", \"2016-01-15T20:00:00\", \"2016-01-15T21:00:00\", \"2016-01-15T22:00:00\", \"2016-01-15T23:00:00\", \"2016-01-16T00:00:00\", \"2016-01-16T01:00:00\", \"2016-01-16T02:00:00\", \"2016-01-16T03:00:00\", \"2016-01-16T04:00:00\", \"2016-01-16T05:00:00\", \"2016-01-16T06:00:00\", \"2016-01-16T07:00:00\", \"2016-01-16T08:00:00\", \"2016-01-16T09:00:00\", \"2016-01-16T10:00:00\", \"2016-01-16T11:00:00\", \"2016-01-16T12:00:00\", \"2016-01-16T13:00:00\", \"2016-01-16T14:00:00\", \"2016-01-16T15:00:00\", \"2016-01-16T16:00:00\", \"2016-01-16T17:00:00\", \"2016-01-16T18:00:00\", \"2016-01-16T19:00:00\", \"2016-01-16T20:00:00\", \"2016-01-16T21:00:00\", \"2016-01-16T22:00:00\", \"2016-01-16T23:00:00\", \"2016-01-17T00:00:00\", \"2016-01-17T01:00:00\", \"2016-01-17T02:00:00\", \"2016-01-17T03:00:00\", \"2016-01-17T04:00:00\", \"2016-01-17T05:00:00\", \"2016-01-17T06:00:00\", \"2016-01-17T07:00:00\", \"2016-01-17T08:00:00\", \"2016-01-17T09:00:00\", \"2016-01-17T10:00:00\", \"2016-01-17T11:00:00\", \"2016-01-17T12:00:00\", \"2016-01-17T13:00:00\", \"2016-01-17T14:00:00\", \"2016-01-17T15:00:00\", \"2016-01-17T16:00:00\", \"2016-01-17T17:00:00\", \"2016-01-17T18:00:00\", \"2016-01-17T19:00:00\", \"2016-01-17T20:00:00\", \"2016-01-17T21:00:00\", \"2016-01-17T22:00:00\", \"2016-01-17T23:00:00\", \"2016-01-18T00:00:00\", \"2016-01-18T01:00:00\", \"2016-01-18T02:00:00\", \"2016-01-18T03:00:00\", \"2016-01-18T04:00:00\", \"2016-01-18T05:00:00\", \"2016-01-18T06:00:00\", \"2016-01-18T07:00:00\", \"2016-01-18T08:00:00\", \"2016-01-18T09:00:00\", \"2016-01-18T10:00:00\", \"2016-01-18T11:00:00\", \"2016-01-18T12:00:00\", \"2016-01-18T13:00:00\", \"2016-01-18T14:00:00\", \"2016-01-18T15:00:00\", \"2016-01-18T16:00:00\", \"2016-01-18T17:00:00\", \"2016-01-18T18:00:00\", \"2016-01-18T19:00:00\", \"2016-01-18T20:00:00\", \"2016-01-18T21:00:00\", \"2016-01-18T22:00:00\", \"2016-01-18T23:00:00\", \"2016-01-19T00:00:00\", \"2016-01-19T01:00:00\", \"2016-01-19T02:00:00\", \"2016-01-19T03:00:00\", \"2016-01-19T04:00:00\", \"2016-01-19T05:00:00\", \"2016-01-19T06:00:00\", \"2016-01-19T07:00:00\", \"2016-01-19T08:00:00\", \"2016-01-19T09:00:00\", \"2016-01-19T10:00:00\", \"2016-01-19T11:00:00\", \"2016-01-19T12:00:00\", \"2016-01-19T13:00:00\", \"2016-01-19T14:00:00\", \"2016-01-19T15:00:00\", \"2016-01-19T16:00:00\", \"2016-01-19T17:00:00\", \"2016-01-19T18:00:00\", \"2016-01-19T19:00:00\", \"2016-01-19T20:00:00\", \"2016-01-19T21:00:00\", \"2016-01-19T22:00:00\", \"2016-01-19T23:00:00\", \"2016-01-20T00:00:00\", \"2016-01-20T01:00:00\", \"2016-01-20T02:00:00\", \"2016-01-20T03:00:00\", \"2016-01-20T04:00:00\", \"2016-01-20T05:00:00\", \"2016-01-20T06:00:00\", \"2016-01-20T07:00:00\", \"2016-01-20T08:00:00\", \"2016-01-20T09:00:00\", \"2016-01-20T10:00:00\", \"2016-01-20T11:00:00\", \"2016-01-20T12:00:00\", \"2016-01-20T13:00:00\", \"2016-01-20T14:00:00\", \"2016-01-20T15:00:00\", \"2016-01-20T16:00:00\", \"2016-01-20T17:00:00\", \"2016-01-20T18:00:00\", \"2016-01-20T19:00:00\", \"2016-01-20T20:00:00\", \"2016-01-20T21:00:00\", \"2016-01-20T22:00:00\", \"2016-01-20T23:00:00\", \"2016-01-21T00:00:00\", \"2016-01-21T01:00:00\", \"2016-01-21T02:00:00\", \"2016-01-21T03:00:00\", \"2016-01-21T04:00:00\", \"2016-01-21T05:00:00\", \"2016-01-21T06:00:00\", \"2016-01-21T07:00:00\", \"2016-01-21T08:00:00\", \"2016-01-21T09:00:00\", \"2016-01-21T10:00:00\", \"2016-01-21T11:00:00\", \"2016-01-21T12:00:00\", \"2016-01-21T13:00:00\", \"2016-01-21T14:00:00\", \"2016-01-21T15:00:00\", \"2016-01-21T16:00:00\", \"2016-01-21T17:00:00\", \"2016-01-21T18:00:00\", \"2016-01-21T19:00:00\", \"2016-01-21T20:00:00\", \"2016-01-21T21:00:00\", \"2016-01-21T22:00:00\", \"2016-01-21T23:00:00\", \"2016-01-22T00:00:00\", \"2016-01-22T01:00:00\", \"2016-01-22T02:00:00\", \"2016-01-22T03:00:00\", \"2016-01-22T04:00:00\", \"2016-01-22T05:00:00\", \"2016-01-22T06:00:00\", \"2016-01-22T07:00:00\", \"2016-01-22T08:00:00\", \"2016-01-22T09:00:00\", \"2016-01-22T10:00:00\", \"2016-01-22T11:00:00\", \"2016-01-22T12:00:00\", \"2016-01-22T13:00:00\", \"2016-01-22T14:00:00\", \"2016-01-22T15:00:00\", \"2016-01-22T16:00:00\", \"2016-01-22T17:00:00\", \"2016-01-22T18:00:00\", \"2016-01-22T19:00:00\", \"2016-01-22T20:00:00\", \"2016-01-22T21:00:00\", \"2016-01-22T22:00:00\", \"2016-01-22T23:00:00\", \"2016-01-23T00:00:00\", \"2016-01-23T01:00:00\", \"2016-01-23T02:00:00\", \"2016-01-23T03:00:00\", \"2016-01-23T04:00:00\", \"2016-01-23T05:00:00\", \"2016-01-23T06:00:00\", \"2016-01-23T07:00:00\", \"2016-01-23T08:00:00\", \"2016-01-23T09:00:00\", \"2016-01-23T10:00:00\", \"2016-01-23T11:00:00\", \"2016-01-23T12:00:00\", \"2016-01-23T13:00:00\", \"2016-01-23T14:00:00\", \"2016-01-23T15:00:00\", \"2016-01-23T16:00:00\", \"2016-01-23T17:00:00\", \"2016-01-23T18:00:00\", \"2016-01-23T19:00:00\", \"2016-01-23T20:00:00\", \"2016-01-23T21:00:00\", \"2016-01-23T22:00:00\", \"2016-01-23T23:00:00\", \"2016-01-24T00:00:00\", \"2016-01-24T01:00:00\", \"2016-01-24T02:00:00\", \"2016-01-24T03:00:00\", \"2016-01-24T04:00:00\", \"2016-01-24T05:00:00\", \"2016-01-24T06:00:00\", \"2016-01-24T07:00:00\", \"2016-01-24T08:00:00\", \"2016-01-24T09:00:00\", \"2016-01-24T10:00:00\", \"2016-01-24T11:00:00\", \"2016-01-24T12:00:00\", \"2016-01-24T13:00:00\", \"2016-01-24T14:00:00\", \"2016-01-24T15:00:00\", \"2016-01-24T16:00:00\", \"2016-01-24T17:00:00\", \"2016-01-24T18:00:00\", \"2016-01-24T19:00:00\", \"2016-01-24T20:00:00\", \"2016-01-24T21:00:00\", \"2016-01-24T22:00:00\", \"2016-01-24T23:00:00\", \"2016-01-25T00:00:00\", \"2016-01-25T01:00:00\", \"2016-01-25T02:00:00\", \"2016-01-25T03:00:00\", \"2016-01-25T04:00:00\", \"2016-01-25T05:00:00\", \"2016-01-25T06:00:00\", \"2016-01-25T07:00:00\", \"2016-01-25T08:00:00\", \"2016-01-25T09:00:00\", \"2016-01-25T10:00:00\", \"2016-01-25T11:00:00\", \"2016-01-25T12:00:00\", \"2016-01-25T13:00:00\", \"2016-01-25T14:00:00\", \"2016-01-25T15:00:00\", \"2016-01-25T16:00:00\", \"2016-01-25T17:00:00\", \"2016-01-25T18:00:00\", \"2016-01-25T19:00:00\", \"2016-01-25T20:00:00\", \"2016-01-25T21:00:00\", \"2016-01-25T22:00:00\", \"2016-01-25T23:00:00\", \"2016-01-26T00:00:00\", \"2016-01-26T01:00:00\", \"2016-01-26T02:00:00\", \"2016-01-26T03:00:00\", \"2016-01-26T04:00:00\", \"2016-01-26T05:00:00\", \"2016-01-26T06:00:00\", \"2016-01-26T07:00:00\", \"2016-01-26T08:00:00\", \"2016-01-26T09:00:00\", \"2016-01-26T10:00:00\", \"2016-01-26T11:00:00\", \"2016-01-26T12:00:00\", \"2016-01-26T13:00:00\", \"2016-01-26T14:00:00\", \"2016-01-26T15:00:00\", \"2016-01-26T16:00:00\", \"2016-01-26T17:00:00\", \"2016-01-26T18:00:00\", \"2016-01-26T19:00:00\", \"2016-01-26T20:00:00\", \"2016-01-26T21:00:00\", \"2016-01-26T22:00:00\", \"2016-01-26T23:00:00\", \"2016-01-27T00:00:00\", \"2016-01-27T01:00:00\", \"2016-01-27T02:00:00\", \"2016-01-27T03:00:00\", \"2016-01-27T04:00:00\", \"2016-01-27T05:00:00\", \"2016-01-27T06:00:00\", \"2016-01-27T07:00:00\", \"2016-01-27T08:00:00\", \"2016-01-27T09:00:00\", \"2016-01-27T10:00:00\", \"2016-01-27T11:00:00\", \"2016-01-27T12:00:00\", \"2016-01-27T13:00:00\", \"2016-01-27T14:00:00\", \"2016-01-27T15:00:00\", \"2016-01-27T16:00:00\", \"2016-01-27T17:00:00\", \"2016-01-27T18:00:00\", \"2016-01-27T19:00:00\", \"2016-01-27T20:00:00\", \"2016-01-27T21:00:00\", \"2016-01-27T22:00:00\", \"2016-01-27T23:00:00\", \"2016-01-28T00:00:00\", \"2016-01-28T01:00:00\", \"2016-01-28T02:00:00\", \"2016-01-28T03:00:00\", \"2016-01-28T04:00:00\", \"2016-01-28T05:00:00\", \"2016-01-28T06:00:00\", \"2016-01-28T07:00:00\", \"2016-01-28T08:00:00\", \"2016-01-28T09:00:00\", \"2016-01-28T10:00:00\", \"2016-01-28T11:00:00\", \"2016-01-28T12:00:00\", \"2016-01-28T13:00:00\", \"2016-01-28T14:00:00\", \"2016-01-28T15:00:00\", \"2016-01-28T16:00:00\", \"2016-01-28T17:00:00\", \"2016-01-28T18:00:00\", \"2016-01-28T19:00:00\", \"2016-01-28T20:00:00\", \"2016-01-28T21:00:00\", \"2016-01-28T22:00:00\", \"2016-01-28T23:00:00\", \"2016-01-29T00:00:00\", \"2016-01-29T01:00:00\", \"2016-01-29T02:00:00\", \"2016-01-29T03:00:00\", \"2016-01-29T04:00:00\", \"2016-01-29T05:00:00\", \"2016-01-29T06:00:00\", \"2016-01-29T07:00:00\", \"2016-01-29T08:00:00\", \"2016-01-29T09:00:00\", \"2016-01-29T10:00:00\", \"2016-01-29T11:00:00\", \"2016-01-29T12:00:00\", \"2016-01-29T13:00:00\", \"2016-01-29T14:00:00\", \"2016-01-29T15:00:00\", \"2016-01-29T16:00:00\", \"2016-01-29T17:00:00\", \"2016-01-29T18:00:00\", \"2016-01-29T19:00:00\", \"2016-01-29T20:00:00\", \"2016-01-29T21:00:00\", \"2016-01-29T22:00:00\", \"2016-01-29T23:00:00\", \"2016-01-30T00:00:00\", \"2016-01-30T01:00:00\", \"2016-01-30T02:00:00\", \"2016-01-30T03:00:00\", \"2016-01-30T04:00:00\", \"2016-01-30T05:00:00\", \"2016-01-30T06:00:00\", \"2016-01-30T07:00:00\", \"2016-01-30T08:00:00\", \"2016-01-30T09:00:00\", \"2016-01-30T10:00:00\", \"2016-01-30T11:00:00\", \"2016-01-30T12:00:00\", \"2016-01-30T13:00:00\", \"2016-01-30T14:00:00\", \"2016-01-30T15:00:00\", \"2016-01-30T16:00:00\", \"2016-01-30T17:00:00\", \"2016-01-30T18:00:00\", \"2016-01-30T19:00:00\", \"2016-01-30T20:00:00\", \"2016-01-30T21:00:00\", \"2016-01-30T22:00:00\", \"2016-01-30T23:00:00\", \"2016-01-31T00:00:00\", \"2016-01-31T01:00:00\", \"2016-01-31T02:00:00\", \"2016-01-31T03:00:00\", \"2016-01-31T04:00:00\", \"2016-01-31T05:00:00\", \"2016-01-31T06:00:00\", \"2016-01-31T07:00:00\", \"2016-01-31T08:00:00\", \"2016-01-31T09:00:00\", \"2016-01-31T10:00:00\", \"2016-01-31T11:00:00\", \"2016-01-31T12:00:00\", \"2016-01-31T13:00:00\", \"2016-01-31T14:00:00\", \"2016-01-31T15:00:00\", \"2016-01-31T16:00:00\", \"2016-01-31T17:00:00\", \"2016-01-31T18:00:00\", \"2016-01-31T19:00:00\", \"2016-01-31T20:00:00\", \"2016-01-31T21:00:00\", \"2016-01-31T22:00:00\", \"2016-01-31T23:00:00\"], \"xaxis\": \"x\", \"y\": [8228, 9238, 8203, 6878, 5012, 2584, 2020, 1765, 1662, 1974, 2790, 3855, 4630, 5191, 5426, 5259, 4844, 5136, 5532, 5159, 4348, 4316, 4537, 4132, 3674, 2860, 2145, 1753, 1341, 772, 1025, 1416, 2019, 3095, 4038, 4948, 5544, 5744, 6022, 6101, 5707, 6434, 6772, 6756, 5751, 5852, 6311, 6395, 5990, 5203, 4453, 3300, 2298, 1052, 1148, 1385, 1893, 3086, 4362, 4880, 5592, 5616, 5821, 5617, 5800, 5861, 5728, 5179, 4426, 3901, 3505, 2699, 1946, 1163, 734, 519, 625, 1108, 3177, 5265, 6413, 5689, 4690, 4595, 4839, 4921, 5406, 5827, 5500, 6689, 7542, 7323, 6166, 5469, 4930, 3122, 2249, 1407, 811, 566, 550, 1123, 3350, 5988, 7286, 6445, 5503, 5443, 5564, 5318, 5851, 6193, 5320, 6414, 7699, 7243, 6764, 6416, 5254, 3803, 2343, 1410, 903, 624, 615, 1081, 3124, 5844, 6946, 6367, 5427, 5308, 5632, 5442, 5762, 5957, 5140, 6384, 7661, 7592, 7328, 6901, 6078, 4118, 2694, 1640, 1084, 706, 648, 1142, 3256, 5858, 6891, 6366, 5377, 5395, 5548, 5499, 6099, 6168, 5321, 6224, 7879, 8122, 7303, 7619, 7114, 5623, 3608, 2461, 1638, 1096, 888, 1160, 3121, 5708, 6985, 6493, 5751, 5667, 5888, 5971, 6450, 6216, 5496, 6690, 8235, 8656, 7661, 7371, 7717, 7686, 6862, 5993, 4860, 3495, 2129, 1038, 1320, 2056, 2999, 4585, 5442, 6108, 7391, 6820, 6551, 6887, 6483, 6942, 7820, 8140, 7030, 6597, 7515, 7759, 8164, 6959, 5914, 4409, 2512, 1048, 1163, 1761, 2694, 3734, 5506, 6102, 6547, 6163, 5815, 6674, 5951, 6102, 6180, 5241, 4645, 4407, 3991, 3180, 2039, 1294, 795, 502, 672, 1243, 3416, 5745, 6641, 6289, 5482, 5222, 5461, 5217, 5666, 6042, 5516, 6783, 8052, 7495, 7084, 6467, 5363, 3514, 2743, 1477, 908, 605, 659, 1094, 3198, 5963, 7255, 6785, 5908, 6177, 5634, 5742, 6139, 6175, 5457, 6399, 7796, 7513, 7532, 7636, 6910, 4507, 2904, 1627, 1026, 685, 721, 1219, 3470, 6518, 7873, 6846, 6079, 6001, 6171, 6059, 6658, 6481, 5788, 7043, 8564, 8829, 8396, 8268, 7187, 5262, 3193, 1878, 1223, 832, 760, 1230, 3492, 6305, 7502, 6862, 5932, 5926, 6359, 6044, 6802, 6658, 5573, 6557, 8116, 8432, 8146, 8125, 7545, 6110, 4315, 2784, 1854, 1228, 1043, 1348, 3297, 6081, 7152, 6743, 5728, 5692, 5998, 5925, 6684, 6417, 5663, 6680, 8374, 8580, 7458, 7622, 7400, 7517, 6971, 6605, 5135, 3580, 2373, 1128, 1364, 2035, 3041, 4368, 5337, 6027, 6580, 6621, 6581, 6946, 7005, 7542, 8007, 8139, 7067, 7028, 7621, 7982, 7722, 6846, 5970, 4497, 2773, 1188, 1168, 1625, 2607, 3660, 5191, 6076, 7021, 7032, 6927, 6783, 6921, 6715, 6891, 6128, 5513, 5390, 5264, 4472, 3526, 2375, 1678, 1150, 939, 903, 1755, 2709, 4235, 4959, 5477, 5828, 6587, 6613, 6897, 6915, 6662, 7299, 7845, 7171, 6093, 5613, 5124, 3385, 2475, 1346, 784, 521, 601, 1312, 3765, 6817, 7846, 7190, 6452, 6224, 6089, 6292, 6623, 6559, 5872, 6677, 8489, 8152, 7848, 7516, 6468, 4244, 2814, 1602, 939, 703, 725, 1324, 3469, 6291, 7416, 6726, 5929, 6064, 6151, 5790, 6530, 6354, 5352, 6541, 8142, 8333, 7880, 7876, 7328, 5069, 3046, 1859, 1174, 773, 814, 1253, 3497, 6299, 7470, 6793, 6101, 5880, 6167, 6068, 6619, 6423, 5511, 6879, 8448, 8815, 8412, 8441, 7944, 6325, 4710, 2813, 1870, 1279, 1091, 1319, 3350, 6337, 7416, 6798, 6054, 5978, 6392, 6596, 7002, 6763, 5765, 7129, 8813, 9209, 7828, 7603, 7820, 7244, 6169, 4528, 3441, 2563, 1434, 513, 513, 583, 657, 748, 892, 994, 1012, 845, 409, 184, 49, 29, 8, 8, 2, 4, 2, 1, 6, 3, 4, 5, 2, 13, 34, 214, 463, 927, 1636, 2387, 2980, 3311, 3966, 4276, 4134, 4282, 4889, 4456, 4069, 3838, 3642, 2547, 1787, 1126, 777, 606, 741, 1215, 2684, 4266, 4772, 4520, 4182, 4130, 4272, 4139, 4607, 4803, 4397, 5381, 6278, 6364, 6097, 5908, 5111, 3629, 2462, 1465, 877, 585, 670, 1338, 3296, 5514, 6103, 5516, 5041, 4765, 4863, 4796, 5209, 5350, 4412, 5540, 6913, 6985, 6908, 6997, 6548, 4700, 2970, 1591, 1074, 725, 739, 1212, 3427, 5750, 6846, 6117, 5265, 5084, 5336, 5370, 5609, 5628, 4762, 6030, 7664, 7925, 7689, 7665, 7252, 5973, 3481, 2036, 1305, 865, 856, 1271, 3545, 6047, 6952, 6292, 5585, 5520, 5647, 5491, 6075, 5901, 4955, 6285, 7847, 8263, 8189, 8285, 7878, 6629, 4659, 2878, 1948, 1289, 1112, 1293, 3324, 5994, 7238, 6437, 5658, 5553, 6062, 6153, 6583, 6060, 5430, 6900, 8523, 9124, 8525, 8299, 8541, 8296, 7615, 6446, 5451, 4054, 2453, 1159, 1400, 2173, 3500, 4861, 5780, 6624, 7166, 7114, 6871, 6936, 6437, 7246, 8641, 8785, 7485, 7447, 8232, 8447, 7956, 7030, 6055, 4808, 2927, 1315, 1211, 1629, 2695, 3949, 5340, 6071, 6358, 6304, 6489, 6055, 5938, 6490, 6762, 5801, 4883, 4642, 4258, 3067], \"yaxis\": \"y\"}],\n",
       "                        {\"barmode\": \"relative\", \"height\": 600, \"legend\": {\"tracegroupgap\": 0}, \"template\": {\"data\": {\"bar\": [{\"error_x\": {\"color\": \"#2a3f5f\"}, \"error_y\": {\"color\": \"#2a3f5f\"}, \"marker\": {\"line\": {\"color\": \"#E5ECF6\", \"width\": 0.5}}, \"type\": \"bar\"}], \"barpolar\": [{\"marker\": {\"line\": {\"color\": \"#E5ECF6\", \"width\": 0.5}}, \"type\": \"barpolar\"}], \"carpet\": [{\"aaxis\": {\"endlinecolor\": \"#2a3f5f\", \"gridcolor\": \"white\", \"linecolor\": \"white\", \"minorgridcolor\": \"white\", \"startlinecolor\": \"#2a3f5f\"}, \"baxis\": {\"endlinecolor\": \"#2a3f5f\", \"gridcolor\": \"white\", \"linecolor\": \"white\", \"minorgridcolor\": \"white\", \"startlinecolor\": \"#2a3f5f\"}, \"type\": \"carpet\"}], \"choropleth\": [{\"colorbar\": {\"outlinewidth\": 0, \"ticks\": \"\"}, \"type\": \"choropleth\"}], \"contour\": [{\"colorbar\": {\"outlinewidth\": 0, \"ticks\": \"\"}, \"colorscale\": [[0.0, \"#0d0887\"], [0.1111111111111111, \"#46039f\"], [0.2222222222222222, \"#7201a8\"], [0.3333333333333333, \"#9c179e\"], [0.4444444444444444, \"#bd3786\"], [0.5555555555555556, \"#d8576b\"], [0.6666666666666666, \"#ed7953\"], [0.7777777777777778, \"#fb9f3a\"], [0.8888888888888888, \"#fdca26\"], [1.0, \"#f0f921\"]], \"type\": \"contour\"}], \"contourcarpet\": [{\"colorbar\": {\"outlinewidth\": 0, \"ticks\": \"\"}, \"type\": \"contourcarpet\"}], \"heatmap\": [{\"colorbar\": {\"outlinewidth\": 0, \"ticks\": \"\"}, \"colorscale\": [[0.0, \"#0d0887\"], [0.1111111111111111, \"#46039f\"], [0.2222222222222222, \"#7201a8\"], [0.3333333333333333, \"#9c179e\"], [0.4444444444444444, \"#bd3786\"], [0.5555555555555556, \"#d8576b\"], [0.6666666666666666, \"#ed7953\"], [0.7777777777777778, \"#fb9f3a\"], [0.8888888888888888, \"#fdca26\"], [1.0, \"#f0f921\"]], \"type\": \"heatmap\"}], \"heatmapgl\": [{\"colorbar\": {\"outlinewidth\": 0, \"ticks\": \"\"}, \"colorscale\": [[0.0, \"#0d0887\"], [0.1111111111111111, \"#46039f\"], [0.2222222222222222, \"#7201a8\"], [0.3333333333333333, \"#9c179e\"], [0.4444444444444444, \"#bd3786\"], [0.5555555555555556, \"#d8576b\"], [0.6666666666666666, \"#ed7953\"], [0.7777777777777778, \"#fb9f3a\"], [0.8888888888888888, \"#fdca26\"], [1.0, \"#f0f921\"]], \"type\": \"heatmapgl\"}], \"histogram\": [{\"marker\": {\"colorbar\": {\"outlinewidth\": 0, \"ticks\": \"\"}}, \"type\": \"histogram\"}], \"histogram2d\": [{\"colorbar\": {\"outlinewidth\": 0, \"ticks\": \"\"}, \"colorscale\": [[0.0, \"#0d0887\"], [0.1111111111111111, \"#46039f\"], [0.2222222222222222, \"#7201a8\"], [0.3333333333333333, \"#9c179e\"], [0.4444444444444444, \"#bd3786\"], [0.5555555555555556, \"#d8576b\"], [0.6666666666666666, \"#ed7953\"], [0.7777777777777778, \"#fb9f3a\"], [0.8888888888888888, \"#fdca26\"], [1.0, \"#f0f921\"]], \"type\": \"histogram2d\"}], \"histogram2dcontour\": [{\"colorbar\": {\"outlinewidth\": 0, \"ticks\": \"\"}, \"colorscale\": [[0.0, \"#0d0887\"], [0.1111111111111111, \"#46039f\"], [0.2222222222222222, \"#7201a8\"], [0.3333333333333333, \"#9c179e\"], [0.4444444444444444, \"#bd3786\"], [0.5555555555555556, \"#d8576b\"], [0.6666666666666666, \"#ed7953\"], [0.7777777777777778, \"#fb9f3a\"], [0.8888888888888888, \"#fdca26\"], [1.0, \"#f0f921\"]], \"type\": \"histogram2dcontour\"}], \"mesh3d\": [{\"colorbar\": {\"outlinewidth\": 0, \"ticks\": \"\"}, \"type\": \"mesh3d\"}], \"parcoords\": [{\"line\": {\"colorbar\": {\"outlinewidth\": 0, \"ticks\": \"\"}}, \"type\": \"parcoords\"}], \"pie\": [{\"automargin\": true, \"type\": \"pie\"}], \"scatter\": [{\"marker\": {\"colorbar\": {\"outlinewidth\": 0, \"ticks\": \"\"}}, \"type\": \"scatter\"}], \"scatter3d\": [{\"line\": {\"colorbar\": {\"outlinewidth\": 0, \"ticks\": \"\"}}, \"marker\": {\"colorbar\": {\"outlinewidth\": 0, \"ticks\": \"\"}}, \"type\": \"scatter3d\"}], \"scattercarpet\": [{\"marker\": {\"colorbar\": {\"outlinewidth\": 0, \"ticks\": \"\"}}, \"type\": \"scattercarpet\"}], \"scattergeo\": [{\"marker\": {\"colorbar\": {\"outlinewidth\": 0, \"ticks\": \"\"}}, \"type\": \"scattergeo\"}], \"scattergl\": [{\"marker\": {\"colorbar\": {\"outlinewidth\": 0, \"ticks\": \"\"}}, \"type\": \"scattergl\"}], \"scattermapbox\": [{\"marker\": {\"colorbar\": {\"outlinewidth\": 0, \"ticks\": \"\"}}, \"type\": \"scattermapbox\"}], \"scatterpolar\": [{\"marker\": {\"colorbar\": {\"outlinewidth\": 0, \"ticks\": \"\"}}, \"type\": \"scatterpolar\"}], \"scatterpolargl\": [{\"marker\": {\"colorbar\": {\"outlinewidth\": 0, \"ticks\": \"\"}}, \"type\": \"scatterpolargl\"}], \"scatterternary\": [{\"marker\": {\"colorbar\": {\"outlinewidth\": 0, \"ticks\": \"\"}}, \"type\": \"scatterternary\"}], \"surface\": [{\"colorbar\": {\"outlinewidth\": 0, \"ticks\": \"\"}, \"colorscale\": [[0.0, \"#0d0887\"], [0.1111111111111111, \"#46039f\"], [0.2222222222222222, \"#7201a8\"], [0.3333333333333333, \"#9c179e\"], [0.4444444444444444, \"#bd3786\"], [0.5555555555555556, \"#d8576b\"], [0.6666666666666666, \"#ed7953\"], [0.7777777777777778, \"#fb9f3a\"], [0.8888888888888888, \"#fdca26\"], [1.0, \"#f0f921\"]], \"type\": \"surface\"}], \"table\": [{\"cells\": {\"fill\": {\"color\": \"#EBF0F8\"}, \"line\": {\"color\": \"white\"}}, \"header\": {\"fill\": {\"color\": \"#C8D4E3\"}, \"line\": {\"color\": \"white\"}}, \"type\": \"table\"}]}, \"layout\": {\"annotationdefaults\": {\"arrowcolor\": \"#2a3f5f\", \"arrowhead\": 0, \"arrowwidth\": 1}, \"coloraxis\": {\"colorbar\": {\"outlinewidth\": 0, \"ticks\": \"\"}}, \"colorscale\": {\"diverging\": [[0, \"#8e0152\"], [0.1, \"#c51b7d\"], [0.2, \"#de77ae\"], [0.3, \"#f1b6da\"], [0.4, \"#fde0ef\"], [0.5, \"#f7f7f7\"], [0.6, \"#e6f5d0\"], [0.7, \"#b8e186\"], [0.8, \"#7fbc41\"], [0.9, \"#4d9221\"], [1, \"#276419\"]], \"sequential\": [[0.0, \"#0d0887\"], [0.1111111111111111, \"#46039f\"], [0.2222222222222222, \"#7201a8\"], [0.3333333333333333, \"#9c179e\"], [0.4444444444444444, \"#bd3786\"], [0.5555555555555556, \"#d8576b\"], [0.6666666666666666, \"#ed7953\"], [0.7777777777777778, \"#fb9f3a\"], [0.8888888888888888, \"#fdca26\"], [1.0, \"#f0f921\"]], \"sequentialminus\": [[0.0, \"#0d0887\"], [0.1111111111111111, \"#46039f\"], [0.2222222222222222, \"#7201a8\"], [0.3333333333333333, \"#9c179e\"], [0.4444444444444444, \"#bd3786\"], [0.5555555555555556, \"#d8576b\"], [0.6666666666666666, \"#ed7953\"], [0.7777777777777778, \"#fb9f3a\"], [0.8888888888888888, \"#fdca26\"], [1.0, \"#f0f921\"]]}, \"colorway\": [\"#636efa\", \"#EF553B\", \"#00cc96\", \"#ab63fa\", \"#FFA15A\", \"#19d3f3\", \"#FF6692\", \"#B6E880\", \"#FF97FF\", \"#FECB52\"], \"font\": {\"color\": \"#2a3f5f\"}, \"geo\": {\"bgcolor\": \"white\", \"lakecolor\": \"white\", \"landcolor\": \"#E5ECF6\", \"showlakes\": true, \"showland\": true, \"subunitcolor\": \"white\"}, \"hoverlabel\": {\"align\": \"left\"}, \"hovermode\": \"closest\", \"mapbox\": {\"style\": \"light\"}, \"paper_bgcolor\": \"white\", \"plot_bgcolor\": \"#E5ECF6\", \"polar\": {\"angularaxis\": {\"gridcolor\": \"white\", \"linecolor\": \"white\", \"ticks\": \"\"}, \"bgcolor\": \"#E5ECF6\", \"radialaxis\": {\"gridcolor\": \"white\", \"linecolor\": \"white\", \"ticks\": \"\"}}, \"scene\": {\"xaxis\": {\"backgroundcolor\": \"#E5ECF6\", \"gridcolor\": \"white\", \"gridwidth\": 2, \"linecolor\": \"white\", \"showbackground\": true, \"ticks\": \"\", \"zerolinecolor\": \"white\"}, \"yaxis\": {\"backgroundcolor\": \"#E5ECF6\", \"gridcolor\": \"white\", \"gridwidth\": 2, \"linecolor\": \"white\", \"showbackground\": true, \"ticks\": \"\", \"zerolinecolor\": \"white\"}, \"zaxis\": {\"backgroundcolor\": \"#E5ECF6\", \"gridcolor\": \"white\", \"gridwidth\": 2, \"linecolor\": \"white\", \"showbackground\": true, \"ticks\": \"\", \"zerolinecolor\": \"white\"}}, \"shapedefaults\": {\"line\": {\"color\": \"#2a3f5f\"}}, \"ternary\": {\"aaxis\": {\"gridcolor\": \"white\", \"linecolor\": \"white\", \"ticks\": \"\"}, \"baxis\": {\"gridcolor\": \"white\", \"linecolor\": \"white\", \"ticks\": \"\"}, \"bgcolor\": \"#E5ECF6\", \"caxis\": {\"gridcolor\": \"white\", \"linecolor\": \"white\", \"ticks\": \"\"}}, \"title\": {\"x\": 0.05}, \"xaxis\": {\"automargin\": true, \"gridcolor\": \"white\", \"linecolor\": \"white\", \"ticks\": \"\", \"title\": {\"standoff\": 15}, \"zerolinecolor\": \"white\", \"zerolinewidth\": 2}, \"yaxis\": {\"automargin\": true, \"gridcolor\": \"white\", \"linecolor\": \"white\", \"ticks\": \"\", \"title\": {\"standoff\": 15}, \"zerolinecolor\": \"white\", \"zerolinewidth\": 2}}}, \"title\": {\"text\": \"Daily rides\"}, \"xaxis\": {\"anchor\": \"y\", \"domain\": [0.0, 1.0], \"title\": {\"text\": \"tpep_pickup_datetime\"}}, \"yaxis\": {\"anchor\": \"x\", \"domain\": [0.0, 1.0], \"title\": {\"text\": \"total_amount\"}}},\n",
       "                        {\"responsive\": true}\n",
       "                    ).then(function(){\n",
       "                            \n",
       "var gd = document.getElementById('d0cf112a-bbc3-49c1-974a-a335bbe521d7');\n",
       "var x = new MutationObserver(function (mutations, observer) {{\n",
       "        var display = window.getComputedStyle(gd).display;\n",
       "        if (!display || display === 'none') {{\n",
       "            console.log([gd, 'removed!']);\n",
       "            Plotly.purge(gd);\n",
       "            observer.disconnect();\n",
       "        }}\n",
       "}});\n",
       "\n",
       "// Listen for the removal of the full notebook cells\n",
       "var notebookContainer = gd.closest('#notebook-container');\n",
       "if (notebookContainer) {{\n",
       "    x.observe(notebookContainer, {childList: true});\n",
       "}}\n",
       "\n",
       "// Listen for the clearing of the current output cell\n",
       "var outputEl = gd.closest('.output');\n",
       "if (outputEl) {{\n",
       "    x.observe(outputEl, {childList: true});\n",
       "}}\n",
       "\n",
       "                        })\n",
       "                };\n",
       "                });\n",
       "            </script>\n",
       "        </div>"
      ]
     },
     "metadata": {},
     "output_type": "display_data"
    }
   ],
   "source": [
    "%%time\n",
    "fig = px.bar(df_hourly, x='tpep_pickup_datetime', y='total_amount',\n",
    "             title='Daily rides',\n",
    "            height=600)\n",
    "fig.show()"
   ]
  },
  {
   "cell_type": "markdown",
   "metadata": {},
   "source": [
    "#### Resampling with averages"
   ]
  },
  {
   "cell_type": "code",
   "execution_count": 47,
   "metadata": {
    "ExecuteTime": {
     "end_time": "2020-06-30T07:37:20.549033Z",
     "start_time": "2020-06-30T07:36:46.266544Z"
    }
   },
   "outputs": [
    {
     "name": "stdout",
     "output_type": "stream",
     "text": [
      "Wall time: 34.2 s\n"
     ]
    },
    {
     "data": {
      "text/html": [
       "<div>\n",
       "<style scoped>\n",
       "    .dataframe tbody tr th:only-of-type {\n",
       "        vertical-align: middle;\n",
       "    }\n",
       "\n",
       "    .dataframe tbody tr th {\n",
       "        vertical-align: top;\n",
       "    }\n",
       "\n",
       "    .dataframe thead th {\n",
       "        text-align: right;\n",
       "    }\n",
       "</style>\n",
       "<table border=\"1\" class=\"dataframe\">\n",
       "  <thead>\n",
       "    <tr style=\"text-align: right;\">\n",
       "      <th></th>\n",
       "      <th>VendorID</th>\n",
       "      <th>passenger_count</th>\n",
       "      <th>trip_distance</th>\n",
       "      <th>pickup_longitude</th>\n",
       "      <th>pickup_latitude</th>\n",
       "      <th>RatecodeID</th>\n",
       "      <th>dropoff_longitude</th>\n",
       "      <th>dropoff_latitude</th>\n",
       "      <th>payment_type</th>\n",
       "      <th>fare_amount</th>\n",
       "      <th>extra</th>\n",
       "      <th>mta_tax</th>\n",
       "      <th>tip_amount</th>\n",
       "      <th>tolls_amount</th>\n",
       "      <th>improvement_surcharge</th>\n",
       "      <th>total_amount</th>\n",
       "      <th>trip_minutes</th>\n",
       "      <th>avg_speed</th>\n",
       "    </tr>\n",
       "    <tr>\n",
       "      <th>tpep_pickup_datetime</th>\n",
       "      <th></th>\n",
       "      <th></th>\n",
       "      <th></th>\n",
       "      <th></th>\n",
       "      <th></th>\n",
       "      <th></th>\n",
       "      <th></th>\n",
       "      <th></th>\n",
       "      <th></th>\n",
       "      <th></th>\n",
       "      <th></th>\n",
       "      <th></th>\n",
       "      <th></th>\n",
       "      <th></th>\n",
       "      <th></th>\n",
       "      <th></th>\n",
       "      <th></th>\n",
       "      <th></th>\n",
       "    </tr>\n",
       "  </thead>\n",
       "  <tbody>\n",
       "    <tr>\n",
       "      <th>2016-01-01 00:00:00</th>\n",
       "      <td>1.542173</td>\n",
       "      <td>1.845649</td>\n",
       "      <td>3.003624</td>\n",
       "      <td>-72.933949</td>\n",
       "      <td>40.176223</td>\n",
       "      <td>1.010938</td>\n",
       "      <td>-72.963194</td>\n",
       "      <td>40.197637</td>\n",
       "      <td>1.454667</td>\n",
       "      <td>12.715009</td>\n",
       "      <td>0.497569</td>\n",
       "      <td>0.499088</td>\n",
       "      <td>1.531155</td>\n",
       "      <td>0.101570</td>\n",
       "      <td>0.30000</td>\n",
       "      <td>15.644391</td>\n",
       "      <td>16.996145</td>\n",
       "      <td>12.697274</td>\n",
       "    </tr>\n",
       "    <tr>\n",
       "      <th>2016-01-01 01:00:00</th>\n",
       "      <td>1.540701</td>\n",
       "      <td>1.850076</td>\n",
       "      <td>3.154812</td>\n",
       "      <td>-72.845096</td>\n",
       "      <td>40.128588</td>\n",
       "      <td>1.013206</td>\n",
       "      <td>-72.934110</td>\n",
       "      <td>40.182711</td>\n",
       "      <td>1.434185</td>\n",
       "      <td>13.071813</td>\n",
       "      <td>0.497456</td>\n",
       "      <td>0.498809</td>\n",
       "      <td>1.554541</td>\n",
       "      <td>0.103753</td>\n",
       "      <td>0.30000</td>\n",
       "      <td>16.026373</td>\n",
       "      <td>16.760931</td>\n",
       "      <td>12.857726</td>\n",
       "    </tr>\n",
       "    <tr>\n",
       "      <th>2016-01-01 02:00:00</th>\n",
       "      <td>1.541022</td>\n",
       "      <td>1.809704</td>\n",
       "      <td>3.444067</td>\n",
       "      <td>-73.007279</td>\n",
       "      <td>40.217100</td>\n",
       "      <td>1.016457</td>\n",
       "      <td>-73.115644</td>\n",
       "      <td>40.283888</td>\n",
       "      <td>1.419968</td>\n",
       "      <td>13.575827</td>\n",
       "      <td>0.497196</td>\n",
       "      <td>0.498903</td>\n",
       "      <td>1.668585</td>\n",
       "      <td>0.151009</td>\n",
       "      <td>0.30000</td>\n",
       "      <td>16.691520</td>\n",
       "      <td>18.498645</td>\n",
       "      <td>13.894178</td>\n",
       "    </tr>\n",
       "    <tr>\n",
       "      <th>2016-01-01 03:00:00</th>\n",
       "      <td>1.546671</td>\n",
       "      <td>1.806339</td>\n",
       "      <td>3.557623</td>\n",
       "      <td>-72.920387</td>\n",
       "      <td>40.165546</td>\n",
       "      <td>1.015702</td>\n",
       "      <td>-73.026429</td>\n",
       "      <td>40.233309</td>\n",
       "      <td>1.437191</td>\n",
       "      <td>13.564484</td>\n",
       "      <td>0.496801</td>\n",
       "      <td>0.498619</td>\n",
       "      <td>1.554858</td>\n",
       "      <td>0.142876</td>\n",
       "      <td>0.30000</td>\n",
       "      <td>16.557637</td>\n",
       "      <td>18.376912</td>\n",
       "      <td>14.921382</td>\n",
       "    </tr>\n",
       "    <tr>\n",
       "      <th>2016-01-01 04:00:00</th>\n",
       "      <td>1.545291</td>\n",
       "      <td>1.798085</td>\n",
       "      <td>3.760742</td>\n",
       "      <td>-72.808893</td>\n",
       "      <td>40.103598</td>\n",
       "      <td>1.025539</td>\n",
       "      <td>-72.940822</td>\n",
       "      <td>40.186771</td>\n",
       "      <td>1.491620</td>\n",
       "      <td>13.999002</td>\n",
       "      <td>0.495012</td>\n",
       "      <td>0.497506</td>\n",
       "      <td>1.510589</td>\n",
       "      <td>0.177041</td>\n",
       "      <td>0.29994</td>\n",
       "      <td>16.979090</td>\n",
       "      <td>17.840579</td>\n",
       "      <td>16.008961</td>\n",
       "    </tr>\n",
       "  </tbody>\n",
       "</table>\n",
       "</div>"
      ],
      "text/plain": [
       "                      VendorID  passenger_count  trip_distance  \\\n",
       "tpep_pickup_datetime                                             \n",
       "2016-01-01 00:00:00   1.542173         1.845649       3.003624   \n",
       "2016-01-01 01:00:00   1.540701         1.850076       3.154812   \n",
       "2016-01-01 02:00:00   1.541022         1.809704       3.444067   \n",
       "2016-01-01 03:00:00   1.546671         1.806339       3.557623   \n",
       "2016-01-01 04:00:00   1.545291         1.798085       3.760742   \n",
       "\n",
       "                      pickup_longitude  pickup_latitude  RatecodeID  \\\n",
       "tpep_pickup_datetime                                                  \n",
       "2016-01-01 00:00:00         -72.933949        40.176223    1.010938   \n",
       "2016-01-01 01:00:00         -72.845096        40.128588    1.013206   \n",
       "2016-01-01 02:00:00         -73.007279        40.217100    1.016457   \n",
       "2016-01-01 03:00:00         -72.920387        40.165546    1.015702   \n",
       "2016-01-01 04:00:00         -72.808893        40.103598    1.025539   \n",
       "\n",
       "                      dropoff_longitude  dropoff_latitude  payment_type  \\\n",
       "tpep_pickup_datetime                                                      \n",
       "2016-01-01 00:00:00          -72.963194         40.197637      1.454667   \n",
       "2016-01-01 01:00:00          -72.934110         40.182711      1.434185   \n",
       "2016-01-01 02:00:00          -73.115644         40.283888      1.419968   \n",
       "2016-01-01 03:00:00          -73.026429         40.233309      1.437191   \n",
       "2016-01-01 04:00:00          -72.940822         40.186771      1.491620   \n",
       "\n",
       "                      fare_amount     extra   mta_tax  tip_amount  \\\n",
       "tpep_pickup_datetime                                                \n",
       "2016-01-01 00:00:00     12.715009  0.497569  0.499088    1.531155   \n",
       "2016-01-01 01:00:00     13.071813  0.497456  0.498809    1.554541   \n",
       "2016-01-01 02:00:00     13.575827  0.497196  0.498903    1.668585   \n",
       "2016-01-01 03:00:00     13.564484  0.496801  0.498619    1.554858   \n",
       "2016-01-01 04:00:00     13.999002  0.495012  0.497506    1.510589   \n",
       "\n",
       "                      tolls_amount  improvement_surcharge  total_amount  \\\n",
       "tpep_pickup_datetime                                                      \n",
       "2016-01-01 00:00:00       0.101570                0.30000     15.644391   \n",
       "2016-01-01 01:00:00       0.103753                0.30000     16.026373   \n",
       "2016-01-01 02:00:00       0.151009                0.30000     16.691520   \n",
       "2016-01-01 03:00:00       0.142876                0.30000     16.557637   \n",
       "2016-01-01 04:00:00       0.177041                0.29994     16.979090   \n",
       "\n",
       "                      trip_minutes  avg_speed  \n",
       "tpep_pickup_datetime                           \n",
       "2016-01-01 00:00:00      16.996145  12.697274  \n",
       "2016-01-01 01:00:00      16.760931  12.857726  \n",
       "2016-01-01 02:00:00      18.498645  13.894178  \n",
       "2016-01-01 03:00:00      18.376912  14.921382  \n",
       "2016-01-01 04:00:00      17.840579  16.008961  "
      ]
     },
     "execution_count": 47,
     "metadata": {},
     "output_type": "execute_result"
    }
   ],
   "source": [
    "%%time\n",
    "df_avg_hourly = df.resample('1H').mean()\n",
    "df_avg_hourly.head()"
   ]
  },
  {
   "cell_type": "code",
   "execution_count": 48,
   "metadata": {
    "ExecuteTime": {
     "end_time": "2020-06-30T07:39:33.309569Z",
     "start_time": "2020-06-30T07:38:44.874807Z"
    }
   },
   "outputs": [
    {
     "name": "stdout",
     "output_type": "stream",
     "text": [
      "Wall time: 48.3 s\n"
     ]
    },
    {
     "data": {
      "text/html": [
       "<div>\n",
       "<style scoped>\n",
       "    .dataframe tbody tr th:only-of-type {\n",
       "        vertical-align: middle;\n",
       "    }\n",
       "\n",
       "    .dataframe tbody tr th {\n",
       "        vertical-align: top;\n",
       "    }\n",
       "\n",
       "    .dataframe thead th {\n",
       "        text-align: right;\n",
       "    }\n",
       "</style>\n",
       "<table border=\"1\" class=\"dataframe\">\n",
       "  <thead>\n",
       "    <tr style=\"text-align: right;\">\n",
       "      <th></th>\n",
       "      <th>VendorID</th>\n",
       "      <th>passenger_count</th>\n",
       "      <th>trip_distance</th>\n",
       "      <th>pickup_longitude</th>\n",
       "      <th>pickup_latitude</th>\n",
       "      <th>RatecodeID</th>\n",
       "      <th>dropoff_longitude</th>\n",
       "      <th>dropoff_latitude</th>\n",
       "      <th>payment_type</th>\n",
       "      <th>fare_amount</th>\n",
       "      <th>extra</th>\n",
       "      <th>mta_tax</th>\n",
       "      <th>tip_amount</th>\n",
       "      <th>tolls_amount</th>\n",
       "      <th>improvement_surcharge</th>\n",
       "      <th>total_amount</th>\n",
       "      <th>trip_minutes</th>\n",
       "      <th>avg_speed</th>\n",
       "    </tr>\n",
       "    <tr>\n",
       "      <th>tpep_pickup_datetime</th>\n",
       "      <th></th>\n",
       "      <th></th>\n",
       "      <th></th>\n",
       "      <th></th>\n",
       "      <th></th>\n",
       "      <th></th>\n",
       "      <th></th>\n",
       "      <th></th>\n",
       "      <th></th>\n",
       "      <th></th>\n",
       "      <th></th>\n",
       "      <th></th>\n",
       "      <th></th>\n",
       "      <th></th>\n",
       "      <th></th>\n",
       "      <th></th>\n",
       "      <th></th>\n",
       "      <th></th>\n",
       "    </tr>\n",
       "  </thead>\n",
       "  <tbody>\n",
       "    <tr>\n",
       "      <th>0</th>\n",
       "      <td>1.521754</td>\n",
       "      <td>1.679198</td>\n",
       "      <td>3.509243</td>\n",
       "      <td>-72.940491</td>\n",
       "      <td>40.175722</td>\n",
       "      <td>1.028602</td>\n",
       "      <td>-73.033404</td>\n",
       "      <td>40.232242</td>\n",
       "      <td>1.343939</td>\n",
       "      <td>13.204014</td>\n",
       "      <td>0.489329</td>\n",
       "      <td>0.499068</td>\n",
       "      <td>1.847254</td>\n",
       "      <td>0.209623</td>\n",
       "      <td>0.299999</td>\n",
       "      <td>16.549286</td>\n",
       "      <td>14.902260</td>\n",
       "      <td>15.566413</td>\n",
       "    </tr>\n",
       "    <tr>\n",
       "      <th>1</th>\n",
       "      <td>1.528728</td>\n",
       "      <td>1.667938</td>\n",
       "      <td>3.429497</td>\n",
       "      <td>-72.924507</td>\n",
       "      <td>40.165531</td>\n",
       "      <td>1.026783</td>\n",
       "      <td>-73.024960</td>\n",
       "      <td>40.229888</td>\n",
       "      <td>1.373329</td>\n",
       "      <td>12.854950</td>\n",
       "      <td>0.490830</td>\n",
       "      <td>0.498928</td>\n",
       "      <td>1.663722</td>\n",
       "      <td>0.148680</td>\n",
       "      <td>0.299993</td>\n",
       "      <td>15.957102</td>\n",
       "      <td>13.967598</td>\n",
       "      <td>15.990996</td>\n",
       "    </tr>\n",
       "    <tr>\n",
       "      <th>2</th>\n",
       "      <td>1.502496</td>\n",
       "      <td>1.670901</td>\n",
       "      <td>3.372384</td>\n",
       "      <td>-72.923002</td>\n",
       "      <td>40.161316</td>\n",
       "      <td>1.021071</td>\n",
       "      <td>-73.043564</td>\n",
       "      <td>40.238237</td>\n",
       "      <td>1.393663</td>\n",
       "      <td>12.622741</td>\n",
       "      <td>0.494708</td>\n",
       "      <td>0.498447</td>\n",
       "      <td>1.580116</td>\n",
       "      <td>0.112113</td>\n",
       "      <td>0.300000</td>\n",
       "      <td>15.608125</td>\n",
       "      <td>14.101570</td>\n",
       "      <td>16.206928</td>\n",
       "    </tr>\n",
       "    <tr>\n",
       "      <th>3</th>\n",
       "      <td>1.490474</td>\n",
       "      <td>1.696082</td>\n",
       "      <td>3.598584</td>\n",
       "      <td>-73.007569</td>\n",
       "      <td>40.207946</td>\n",
       "      <td>1.024412</td>\n",
       "      <td>-73.064249</td>\n",
       "      <td>40.250525</td>\n",
       "      <td>1.431342</td>\n",
       "      <td>13.199292</td>\n",
       "      <td>0.493336</td>\n",
       "      <td>0.498096</td>\n",
       "      <td>1.535799</td>\n",
       "      <td>0.156595</td>\n",
       "      <td>0.299981</td>\n",
       "      <td>16.183100</td>\n",
       "      <td>14.413207</td>\n",
       "      <td>17.005413</td>\n",
       "    </tr>\n",
       "    <tr>\n",
       "      <th>4</th>\n",
       "      <td>1.515811</td>\n",
       "      <td>1.692848</td>\n",
       "      <td>4.350513</td>\n",
       "      <td>-72.912497</td>\n",
       "      <td>40.160702</td>\n",
       "      <td>1.058961</td>\n",
       "      <td>-73.061512</td>\n",
       "      <td>40.254784</td>\n",
       "      <td>1.459459</td>\n",
       "      <td>15.135166</td>\n",
       "      <td>0.480908</td>\n",
       "      <td>0.495315</td>\n",
       "      <td>1.802032</td>\n",
       "      <td>0.463208</td>\n",
       "      <td>0.299998</td>\n",
       "      <td>18.676627</td>\n",
       "      <td>15.032385</td>\n",
       "      <td>18.844703</td>\n",
       "    </tr>\n",
       "    <tr>\n",
       "      <th>5</th>\n",
       "      <td>1.500665</td>\n",
       "      <td>1.608635</td>\n",
       "      <td>4.585341</td>\n",
       "      <td>-72.933708</td>\n",
       "      <td>40.178858</td>\n",
       "      <td>1.098489</td>\n",
       "      <td>-73.045433</td>\n",
       "      <td>40.246267</td>\n",
       "      <td>1.432542</td>\n",
       "      <td>15.625705</td>\n",
       "      <td>0.432803</td>\n",
       "      <td>0.495215</td>\n",
       "      <td>2.026558</td>\n",
       "      <td>0.684212</td>\n",
       "      <td>0.300000</td>\n",
       "      <td>19.564494</td>\n",
       "      <td>13.874879</td>\n",
       "      <td>19.435324</td>\n",
       "    </tr>\n",
       "    <tr>\n",
       "      <th>6</th>\n",
       "      <td>1.501346</td>\n",
       "      <td>1.569032</td>\n",
       "      <td>3.793572</td>\n",
       "      <td>-72.774409</td>\n",
       "      <td>40.093039</td>\n",
       "      <td>1.069682</td>\n",
       "      <td>-72.885053</td>\n",
       "      <td>40.156708</td>\n",
       "      <td>1.392847</td>\n",
       "      <td>13.603099</td>\n",
       "      <td>0.006420</td>\n",
       "      <td>0.497337</td>\n",
       "      <td>1.776083</td>\n",
       "      <td>0.487687</td>\n",
       "      <td>0.299989</td>\n",
       "      <td>16.670615</td>\n",
       "      <td>14.275393</td>\n",
       "      <td>16.910878</td>\n",
       "    </tr>\n",
       "    <tr>\n",
       "      <th>7</th>\n",
       "      <td>1.525515</td>\n",
       "      <td>1.597329</td>\n",
       "      <td>3.098908</td>\n",
       "      <td>-72.828561</td>\n",
       "      <td>40.126047</td>\n",
       "      <td>1.041983</td>\n",
       "      <td>-72.949749</td>\n",
       "      <td>40.193221</td>\n",
       "      <td>1.355049</td>\n",
       "      <td>12.336590</td>\n",
       "      <td>0.000406</td>\n",
       "      <td>0.498129</td>\n",
       "      <td>1.661731</td>\n",
       "      <td>0.339346</td>\n",
       "      <td>0.299994</td>\n",
       "      <td>15.136195</td>\n",
       "      <td>13.606715</td>\n",
       "      <td>14.107921</td>\n",
       "    </tr>\n",
       "    <tr>\n",
       "      <th>8</th>\n",
       "      <td>1.536446</td>\n",
       "      <td>1.628523</td>\n",
       "      <td>2.715825</td>\n",
       "      <td>-72.879395</td>\n",
       "      <td>40.152866</td>\n",
       "      <td>1.026095</td>\n",
       "      <td>-73.030252</td>\n",
       "      <td>40.233496</td>\n",
       "      <td>1.328247</td>\n",
       "      <td>11.987234</td>\n",
       "      <td>0.000307</td>\n",
       "      <td>0.498710</td>\n",
       "      <td>1.675701</td>\n",
       "      <td>0.272114</td>\n",
       "      <td>0.299997</td>\n",
       "      <td>14.734063</td>\n",
       "      <td>14.407380</td>\n",
       "      <td>12.033587</td>\n",
       "    </tr>\n",
       "    <tr>\n",
       "      <th>9</th>\n",
       "      <td>1.544119</td>\n",
       "      <td>1.629637</td>\n",
       "      <td>2.589204</td>\n",
       "      <td>-72.901378</td>\n",
       "      <td>40.164112</td>\n",
       "      <td>1.023438</td>\n",
       "      <td>-73.018998</td>\n",
       "      <td>40.225353</td>\n",
       "      <td>1.336324</td>\n",
       "      <td>11.828316</td>\n",
       "      <td>0.000266</td>\n",
       "      <td>0.498727</td>\n",
       "      <td>1.650922</td>\n",
       "      <td>0.273839</td>\n",
       "      <td>0.299984</td>\n",
       "      <td>14.552053</td>\n",
       "      <td>14.716469</td>\n",
       "      <td>11.449367</td>\n",
       "    </tr>\n",
       "    <tr>\n",
       "      <th>10</th>\n",
       "      <td>1.548376</td>\n",
       "      <td>1.661792</td>\n",
       "      <td>2.608106</td>\n",
       "      <td>-72.921287</td>\n",
       "      <td>40.175962</td>\n",
       "      <td>1.022612</td>\n",
       "      <td>-73.037382</td>\n",
       "      <td>40.236552</td>\n",
       "      <td>1.366743</td>\n",
       "      <td>11.929087</td>\n",
       "      <td>0.000399</td>\n",
       "      <td>0.498807</td>\n",
       "      <td>1.620051</td>\n",
       "      <td>0.301417</td>\n",
       "      <td>0.299988</td>\n",
       "      <td>14.649749</td>\n",
       "      <td>14.969669</td>\n",
       "      <td>11.215522</td>\n",
       "    </tr>\n",
       "    <tr>\n",
       "      <th>11</th>\n",
       "      <td>1.547058</td>\n",
       "      <td>1.681851</td>\n",
       "      <td>2.555480</td>\n",
       "      <td>-72.911548</td>\n",
       "      <td>40.169631</td>\n",
       "      <td>1.021729</td>\n",
       "      <td>-73.033306</td>\n",
       "      <td>40.234666</td>\n",
       "      <td>1.377195</td>\n",
       "      <td>11.938778</td>\n",
       "      <td>0.000489</td>\n",
       "      <td>0.498799</td>\n",
       "      <td>1.601067</td>\n",
       "      <td>0.283639</td>\n",
       "      <td>0.299998</td>\n",
       "      <td>14.622769</td>\n",
       "      <td>15.606751</td>\n",
       "      <td>10.743357</td>\n",
       "    </tr>\n",
       "    <tr>\n",
       "      <th>12</th>\n",
       "      <td>1.543143</td>\n",
       "      <td>1.681776</td>\n",
       "      <td>2.576388</td>\n",
       "      <td>-72.921373</td>\n",
       "      <td>40.175022</td>\n",
       "      <td>1.025495</td>\n",
       "      <td>-73.037251</td>\n",
       "      <td>40.237386</td>\n",
       "      <td>1.380788</td>\n",
       "      <td>11.983835</td>\n",
       "      <td>0.000314</td>\n",
       "      <td>0.498810</td>\n",
       "      <td>1.598420</td>\n",
       "      <td>0.296129</td>\n",
       "      <td>0.299998</td>\n",
       "      <td>14.677507</td>\n",
       "      <td>15.606920</td>\n",
       "      <td>10.608830</td>\n",
       "    </tr>\n",
       "    <tr>\n",
       "      <th>13</th>\n",
       "      <td>1.535213</td>\n",
       "      <td>1.686195</td>\n",
       "      <td>2.720203</td>\n",
       "      <td>-72.865610</td>\n",
       "      <td>40.143482</td>\n",
       "      <td>1.031152</td>\n",
       "      <td>-73.000674</td>\n",
       "      <td>40.217779</td>\n",
       "      <td>1.387191</td>\n",
       "      <td>12.316553</td>\n",
       "      <td>0.000335</td>\n",
       "      <td>0.498651</td>\n",
       "      <td>1.626322</td>\n",
       "      <td>0.337825</td>\n",
       "      <td>0.299998</td>\n",
       "      <td>15.079685</td>\n",
       "      <td>15.439573</td>\n",
       "      <td>10.741382</td>\n",
       "    </tr>\n",
       "    <tr>\n",
       "      <th>14</th>\n",
       "      <td>1.531606</td>\n",
       "      <td>1.678706</td>\n",
       "      <td>2.858138</td>\n",
       "      <td>-72.884615</td>\n",
       "      <td>40.154418</td>\n",
       "      <td>1.038903</td>\n",
       "      <td>-73.001855</td>\n",
       "      <td>40.218855</td>\n",
       "      <td>1.385454</td>\n",
       "      <td>12.745045</td>\n",
       "      <td>0.000527</td>\n",
       "      <td>0.498140</td>\n",
       "      <td>1.687176</td>\n",
       "      <td>0.381661</td>\n",
       "      <td>0.299994</td>\n",
       "      <td>15.612543</td>\n",
       "      <td>16.400311</td>\n",
       "      <td>10.605064</td>\n",
       "    </tr>\n",
       "    <tr>\n",
       "      <th>15</th>\n",
       "      <td>1.521934</td>\n",
       "      <td>1.691629</td>\n",
       "      <td>2.823531</td>\n",
       "      <td>-72.818004</td>\n",
       "      <td>40.118278</td>\n",
       "      <td>1.040285</td>\n",
       "      <td>-72.963690</td>\n",
       "      <td>40.198625</td>\n",
       "      <td>1.390647</td>\n",
       "      <td>12.646732</td>\n",
       "      <td>0.029642</td>\n",
       "      <td>0.498284</td>\n",
       "      <td>1.667881</td>\n",
       "      <td>0.381825</td>\n",
       "      <td>0.299995</td>\n",
       "      <td>15.524358</td>\n",
       "      <td>16.753817</td>\n",
       "      <td>10.376929</td>\n",
       "    </tr>\n",
       "    <tr>\n",
       "      <th>16</th>\n",
       "      <td>1.536075</td>\n",
       "      <td>1.675519</td>\n",
       "      <td>2.841472</td>\n",
       "      <td>-72.824987</td>\n",
       "      <td>40.122823</td>\n",
       "      <td>1.037865</td>\n",
       "      <td>-72.962838</td>\n",
       "      <td>40.198835</td>\n",
       "      <td>1.387589</td>\n",
       "      <td>12.577143</td>\n",
       "      <td>0.608085</td>\n",
       "      <td>0.498772</td>\n",
       "      <td>1.740238</td>\n",
       "      <td>0.374944</td>\n",
       "      <td>0.299991</td>\n",
       "      <td>16.099174</td>\n",
       "      <td>16.645383</td>\n",
       "      <td>10.569083</td>\n",
       "    </tr>\n",
       "    <tr>\n",
       "      <th>17</th>\n",
       "      <td>1.543671</td>\n",
       "      <td>1.659689</td>\n",
       "      <td>2.747750</td>\n",
       "      <td>-72.888105</td>\n",
       "      <td>40.156820</td>\n",
       "      <td>1.034198</td>\n",
       "      <td>-72.991700</td>\n",
       "      <td>40.213328</td>\n",
       "      <td>1.364685</td>\n",
       "      <td>12.403968</td>\n",
       "      <td>0.629358</td>\n",
       "      <td>0.499055</td>\n",
       "      <td>1.789847</td>\n",
       "      <td>0.307801</td>\n",
       "      <td>0.299993</td>\n",
       "      <td>15.930023</td>\n",
       "      <td>16.597336</td>\n",
       "      <td>10.402957</td>\n",
       "    </tr>\n",
       "    <tr>\n",
       "      <th>18</th>\n",
       "      <td>1.542627</td>\n",
       "      <td>1.652547</td>\n",
       "      <td>2.593953</td>\n",
       "      <td>-72.937453</td>\n",
       "      <td>40.182390</td>\n",
       "      <td>1.038417</td>\n",
       "      <td>-73.044965</td>\n",
       "      <td>40.241082</td>\n",
       "      <td>1.343389</td>\n",
       "      <td>11.937285</td>\n",
       "      <td>0.626956</td>\n",
       "      <td>0.499335</td>\n",
       "      <td>1.741473</td>\n",
       "      <td>0.232978</td>\n",
       "      <td>0.299989</td>\n",
       "      <td>15.338016</td>\n",
       "      <td>15.531917</td>\n",
       "      <td>10.489910</td>\n",
       "    </tr>\n",
       "    <tr>\n",
       "      <th>19</th>\n",
       "      <td>1.541724</td>\n",
       "      <td>1.672473</td>\n",
       "      <td>2.663192</td>\n",
       "      <td>-72.966358</td>\n",
       "      <td>40.195997</td>\n",
       "      <td>1.020546</td>\n",
       "      <td>-73.071597</td>\n",
       "      <td>40.253599</td>\n",
       "      <td>1.322349</td>\n",
       "      <td>11.755923</td>\n",
       "      <td>0.627076</td>\n",
       "      <td>0.499532</td>\n",
       "      <td>1.766670</td>\n",
       "      <td>0.220002</td>\n",
       "      <td>0.299997</td>\n",
       "      <td>15.169199</td>\n",
       "      <td>15.263873</td>\n",
       "      <td>11.372370</td>\n",
       "    </tr>\n",
       "    <tr>\n",
       "      <th>20</th>\n",
       "      <td>1.542553</td>\n",
       "      <td>1.716500</td>\n",
       "      <td>2.894205</td>\n",
       "      <td>-72.954511</td>\n",
       "      <td>40.186506</td>\n",
       "      <td>1.024840</td>\n",
       "      <td>-73.053406</td>\n",
       "      <td>40.241837</td>\n",
       "      <td>1.311432</td>\n",
       "      <td>11.983884</td>\n",
       "      <td>0.493508</td>\n",
       "      <td>0.499504</td>\n",
       "      <td>1.940011</td>\n",
       "      <td>0.239608</td>\n",
       "      <td>0.299997</td>\n",
       "      <td>15.456513</td>\n",
       "      <td>14.449309</td>\n",
       "      <td>12.650457</td>\n",
       "    </tr>\n",
       "    <tr>\n",
       "      <th>21</th>\n",
       "      <td>1.544076</td>\n",
       "      <td>1.742155</td>\n",
       "      <td>3.067225</td>\n",
       "      <td>-72.944648</td>\n",
       "      <td>40.180012</td>\n",
       "      <td>1.024288</td>\n",
       "      <td>-73.041283</td>\n",
       "      <td>40.234603</td>\n",
       "      <td>1.314954</td>\n",
       "      <td>12.336045</td>\n",
       "      <td>0.489942</td>\n",
       "      <td>0.499368</td>\n",
       "      <td>1.843760</td>\n",
       "      <td>0.240978</td>\n",
       "      <td>0.299997</td>\n",
       "      <td>15.710090</td>\n",
       "      <td>14.393218</td>\n",
       "      <td>13.409111</td>\n",
       "    </tr>\n",
       "    <tr>\n",
       "      <th>22</th>\n",
       "      <td>1.544614</td>\n",
       "      <td>1.739308</td>\n",
       "      <td>3.157822</td>\n",
       "      <td>-72.943100</td>\n",
       "      <td>40.177098</td>\n",
       "      <td>1.027312</td>\n",
       "      <td>-73.051198</td>\n",
       "      <td>40.239448</td>\n",
       "      <td>1.321761</td>\n",
       "      <td>12.527716</td>\n",
       "      <td>0.489285</td>\n",
       "      <td>0.499362</td>\n",
       "      <td>1.858006</td>\n",
       "      <td>0.228770</td>\n",
       "      <td>0.299998</td>\n",
       "      <td>15.903137</td>\n",
       "      <td>14.302633</td>\n",
       "      <td>13.685920</td>\n",
       "    </tr>\n",
       "    <tr>\n",
       "      <th>23</th>\n",
       "      <td>1.554557</td>\n",
       "      <td>1.665277</td>\n",
       "      <td>4.194403</td>\n",
       "      <td>-72.912655</td>\n",
       "      <td>40.162376</td>\n",
       "      <td>1.061710</td>\n",
       "      <td>-73.012699</td>\n",
       "      <td>40.221380</td>\n",
       "      <td>1.355525</td>\n",
       "      <td>14.617267</td>\n",
       "      <td>0.472559</td>\n",
       "      <td>0.499145</td>\n",
       "      <td>1.840798</td>\n",
       "      <td>0.265798</td>\n",
       "      <td>0.300000</td>\n",
       "      <td>17.995568</td>\n",
       "      <td>15.457686</td>\n",
       "      <td>15.714191</td>\n",
       "    </tr>\n",
       "  </tbody>\n",
       "</table>\n",
       "</div>"
      ],
      "text/plain": [
       "                      VendorID  passenger_count  trip_distance  \\\n",
       "tpep_pickup_datetime                                             \n",
       "0                     1.521754         1.679198       3.509243   \n",
       "1                     1.528728         1.667938       3.429497   \n",
       "2                     1.502496         1.670901       3.372384   \n",
       "3                     1.490474         1.696082       3.598584   \n",
       "4                     1.515811         1.692848       4.350513   \n",
       "5                     1.500665         1.608635       4.585341   \n",
       "6                     1.501346         1.569032       3.793572   \n",
       "7                     1.525515         1.597329       3.098908   \n",
       "8                     1.536446         1.628523       2.715825   \n",
       "9                     1.544119         1.629637       2.589204   \n",
       "10                    1.548376         1.661792       2.608106   \n",
       "11                    1.547058         1.681851       2.555480   \n",
       "12                    1.543143         1.681776       2.576388   \n",
       "13                    1.535213         1.686195       2.720203   \n",
       "14                    1.531606         1.678706       2.858138   \n",
       "15                    1.521934         1.691629       2.823531   \n",
       "16                    1.536075         1.675519       2.841472   \n",
       "17                    1.543671         1.659689       2.747750   \n",
       "18                    1.542627         1.652547       2.593953   \n",
       "19                    1.541724         1.672473       2.663192   \n",
       "20                    1.542553         1.716500       2.894205   \n",
       "21                    1.544076         1.742155       3.067225   \n",
       "22                    1.544614         1.739308       3.157822   \n",
       "23                    1.554557         1.665277       4.194403   \n",
       "\n",
       "                      pickup_longitude  pickup_latitude  RatecodeID  \\\n",
       "tpep_pickup_datetime                                                  \n",
       "0                           -72.940491        40.175722    1.028602   \n",
       "1                           -72.924507        40.165531    1.026783   \n",
       "2                           -72.923002        40.161316    1.021071   \n",
       "3                           -73.007569        40.207946    1.024412   \n",
       "4                           -72.912497        40.160702    1.058961   \n",
       "5                           -72.933708        40.178858    1.098489   \n",
       "6                           -72.774409        40.093039    1.069682   \n",
       "7                           -72.828561        40.126047    1.041983   \n",
       "8                           -72.879395        40.152866    1.026095   \n",
       "9                           -72.901378        40.164112    1.023438   \n",
       "10                          -72.921287        40.175962    1.022612   \n",
       "11                          -72.911548        40.169631    1.021729   \n",
       "12                          -72.921373        40.175022    1.025495   \n",
       "13                          -72.865610        40.143482    1.031152   \n",
       "14                          -72.884615        40.154418    1.038903   \n",
       "15                          -72.818004        40.118278    1.040285   \n",
       "16                          -72.824987        40.122823    1.037865   \n",
       "17                          -72.888105        40.156820    1.034198   \n",
       "18                          -72.937453        40.182390    1.038417   \n",
       "19                          -72.966358        40.195997    1.020546   \n",
       "20                          -72.954511        40.186506    1.024840   \n",
       "21                          -72.944648        40.180012    1.024288   \n",
       "22                          -72.943100        40.177098    1.027312   \n",
       "23                          -72.912655        40.162376    1.061710   \n",
       "\n",
       "                      dropoff_longitude  dropoff_latitude  payment_type  \\\n",
       "tpep_pickup_datetime                                                      \n",
       "0                            -73.033404         40.232242      1.343939   \n",
       "1                            -73.024960         40.229888      1.373329   \n",
       "2                            -73.043564         40.238237      1.393663   \n",
       "3                            -73.064249         40.250525      1.431342   \n",
       "4                            -73.061512         40.254784      1.459459   \n",
       "5                            -73.045433         40.246267      1.432542   \n",
       "6                            -72.885053         40.156708      1.392847   \n",
       "7                            -72.949749         40.193221      1.355049   \n",
       "8                            -73.030252         40.233496      1.328247   \n",
       "9                            -73.018998         40.225353      1.336324   \n",
       "10                           -73.037382         40.236552      1.366743   \n",
       "11                           -73.033306         40.234666      1.377195   \n",
       "12                           -73.037251         40.237386      1.380788   \n",
       "13                           -73.000674         40.217779      1.387191   \n",
       "14                           -73.001855         40.218855      1.385454   \n",
       "15                           -72.963690         40.198625      1.390647   \n",
       "16                           -72.962838         40.198835      1.387589   \n",
       "17                           -72.991700         40.213328      1.364685   \n",
       "18                           -73.044965         40.241082      1.343389   \n",
       "19                           -73.071597         40.253599      1.322349   \n",
       "20                           -73.053406         40.241837      1.311432   \n",
       "21                           -73.041283         40.234603      1.314954   \n",
       "22                           -73.051198         40.239448      1.321761   \n",
       "23                           -73.012699         40.221380      1.355525   \n",
       "\n",
       "                      fare_amount     extra   mta_tax  tip_amount  \\\n",
       "tpep_pickup_datetime                                                \n",
       "0                       13.204014  0.489329  0.499068    1.847254   \n",
       "1                       12.854950  0.490830  0.498928    1.663722   \n",
       "2                       12.622741  0.494708  0.498447    1.580116   \n",
       "3                       13.199292  0.493336  0.498096    1.535799   \n",
       "4                       15.135166  0.480908  0.495315    1.802032   \n",
       "5                       15.625705  0.432803  0.495215    2.026558   \n",
       "6                       13.603099  0.006420  0.497337    1.776083   \n",
       "7                       12.336590  0.000406  0.498129    1.661731   \n",
       "8                       11.987234  0.000307  0.498710    1.675701   \n",
       "9                       11.828316  0.000266  0.498727    1.650922   \n",
       "10                      11.929087  0.000399  0.498807    1.620051   \n",
       "11                      11.938778  0.000489  0.498799    1.601067   \n",
       "12                      11.983835  0.000314  0.498810    1.598420   \n",
       "13                      12.316553  0.000335  0.498651    1.626322   \n",
       "14                      12.745045  0.000527  0.498140    1.687176   \n",
       "15                      12.646732  0.029642  0.498284    1.667881   \n",
       "16                      12.577143  0.608085  0.498772    1.740238   \n",
       "17                      12.403968  0.629358  0.499055    1.789847   \n",
       "18                      11.937285  0.626956  0.499335    1.741473   \n",
       "19                      11.755923  0.627076  0.499532    1.766670   \n",
       "20                      11.983884  0.493508  0.499504    1.940011   \n",
       "21                      12.336045  0.489942  0.499368    1.843760   \n",
       "22                      12.527716  0.489285  0.499362    1.858006   \n",
       "23                      14.617267  0.472559  0.499145    1.840798   \n",
       "\n",
       "                      tolls_amount  improvement_surcharge  total_amount  \\\n",
       "tpep_pickup_datetime                                                      \n",
       "0                         0.209623               0.299999     16.549286   \n",
       "1                         0.148680               0.299993     15.957102   \n",
       "2                         0.112113               0.300000     15.608125   \n",
       "3                         0.156595               0.299981     16.183100   \n",
       "4                         0.463208               0.299998     18.676627   \n",
       "5                         0.684212               0.300000     19.564494   \n",
       "6                         0.487687               0.299989     16.670615   \n",
       "7                         0.339346               0.299994     15.136195   \n",
       "8                         0.272114               0.299997     14.734063   \n",
       "9                         0.273839               0.299984     14.552053   \n",
       "10                        0.301417               0.299988     14.649749   \n",
       "11                        0.283639               0.299998     14.622769   \n",
       "12                        0.296129               0.299998     14.677507   \n",
       "13                        0.337825               0.299998     15.079685   \n",
       "14                        0.381661               0.299994     15.612543   \n",
       "15                        0.381825               0.299995     15.524358   \n",
       "16                        0.374944               0.299991     16.099174   \n",
       "17                        0.307801               0.299993     15.930023   \n",
       "18                        0.232978               0.299989     15.338016   \n",
       "19                        0.220002               0.299997     15.169199   \n",
       "20                        0.239608               0.299997     15.456513   \n",
       "21                        0.240978               0.299997     15.710090   \n",
       "22                        0.228770               0.299998     15.903137   \n",
       "23                        0.265798               0.300000     17.995568   \n",
       "\n",
       "                      trip_minutes  avg_speed  \n",
       "tpep_pickup_datetime                           \n",
       "0                        14.902260  15.566413  \n",
       "1                        13.967598  15.990996  \n",
       "2                        14.101570  16.206928  \n",
       "3                        14.413207  17.005413  \n",
       "4                        15.032385  18.844703  \n",
       "5                        13.874879  19.435324  \n",
       "6                        14.275393  16.910878  \n",
       "7                        13.606715  14.107921  \n",
       "8                        14.407380  12.033587  \n",
       "9                        14.716469  11.449367  \n",
       "10                       14.969669  11.215522  \n",
       "11                       15.606751  10.743357  \n",
       "12                       15.606920  10.608830  \n",
       "13                       15.439573  10.741382  \n",
       "14                       16.400311  10.605064  \n",
       "15                       16.753817  10.376929  \n",
       "16                       16.645383  10.569083  \n",
       "17                       16.597336  10.402957  \n",
       "18                       15.531917  10.489910  \n",
       "19                       15.263873  11.372370  \n",
       "20                       14.449309  12.650457  \n",
       "21                       14.393218  13.409111  \n",
       "22                       14.302633  13.685920  \n",
       "23                       15.457686  15.714191  "
      ]
     },
     "execution_count": 48,
     "metadata": {},
     "output_type": "execute_result"
    }
   ],
   "source": [
    "%%time\n",
    "h_avg_table = df_avg_hourly.groupby(df_avg_hourly.index.hour).mean().compute()\n",
    "h_avg_table"
   ]
  },
  {
   "cell_type": "code",
   "execution_count": 52,
   "metadata": {
    "ExecuteTime": {
     "end_time": "2020-06-30T07:44:20.036003Z",
     "start_time": "2020-06-30T07:44:20.028990Z"
    }
   },
   "outputs": [],
   "source": [
    "h_avg_table = h_avg_table.reset_index()"
   ]
  },
  {
   "cell_type": "markdown",
   "metadata": {},
   "source": [
    "#### Average speed and trip distance by hour of the day"
   ]
  },
  {
   "cell_type": "code",
   "execution_count": 88,
   "metadata": {
    "ExecuteTime": {
     "end_time": "2020-06-30T09:21:22.911228Z",
     "start_time": "2020-06-30T09:21:22.802518Z"
    }
   },
   "outputs": [
    {
     "data": {
      "application/vnd.plotly.v1+json": {
       "config": {
        "plotlyServerURL": "https://plot.ly"
       },
       "data": [
        {
         "alignmentgroup": "True",
         "hovertemplate": "tpep_pickup_datetime=%{x}<br>avg_speed=%{y}<br>trip_distance=%{marker.color}<extra></extra>",
         "legendgroup": "",
         "marker": {
          "color": [
           3.509242988699033,
           3.42949713932666,
           3.372384192163941,
           3.598584230119036,
           4.350513243821321,
           4.585340760880213,
           3.793571622683815,
           3.098907607936817,
           2.71582517628176,
           2.589204067938462,
           2.608106476208649,
           2.555479569210044,
           2.5763876537237995,
           2.7202025228687052,
           2.858138443312799,
           2.8235309890721725,
           2.8414721386552095,
           2.74775012924975,
           2.593953376186821,
           2.6631920957741513,
           2.8942049525377045,
           3.0672249043362885,
           3.157821598144093,
           4.194402892055409
          ],
          "coloraxis": "coloraxis"
         },
         "name": "",
         "offsetgroup": "",
         "orientation": "v",
         "showlegend": false,
         "textposition": "auto",
         "type": "bar",
         "x": [
          0,
          1,
          2,
          3,
          4,
          5,
          6,
          7,
          8,
          9,
          10,
          11,
          12,
          13,
          14,
          15,
          16,
          17,
          18,
          19,
          20,
          21,
          22,
          23
         ],
         "xaxis": "x",
         "y": [
          15.566413016459501,
          15.990995878170635,
          16.20692766518213,
          17.00541304387941,
          18.844703384997274,
          19.435323989837055,
          16.910877608519403,
          14.107920687575602,
          12.033586799189576,
          11.44936744253143,
          11.215522299736781,
          10.743356553279368,
          10.608830119673003,
          10.741381854649571,
          10.605063706582367,
          10.3769285546291,
          10.569082895754754,
          10.40295717242279,
          10.48990983152744,
          11.372370170607988,
          12.650457393417813,
          13.409110602534035,
          13.685919864211641,
          15.714190697272324
         ],
         "yaxis": "y"
        }
       ],
       "layout": {
        "barmode": "relative",
        "coloraxis": {
         "colorbar": {
          "title": {
           "text": "trip_distance"
          }
         },
         "colorscale": [
          [
           0,
           "#0d0887"
          ],
          [
           0.1111111111111111,
           "#46039f"
          ],
          [
           0.2222222222222222,
           "#7201a8"
          ],
          [
           0.3333333333333333,
           "#9c179e"
          ],
          [
           0.4444444444444444,
           "#bd3786"
          ],
          [
           0.5555555555555556,
           "#d8576b"
          ],
          [
           0.6666666666666666,
           "#ed7953"
          ],
          [
           0.7777777777777778,
           "#fb9f3a"
          ],
          [
           0.8888888888888888,
           "#fdca26"
          ],
          [
           1,
           "#f0f921"
          ]
         ]
        },
        "height": 500,
        "legend": {
         "tracegroupgap": 0
        },
        "template": {
         "data": {
          "bar": [
           {
            "error_x": {
             "color": "#2a3f5f"
            },
            "error_y": {
             "color": "#2a3f5f"
            },
            "marker": {
             "line": {
              "color": "#E5ECF6",
              "width": 0.5
             }
            },
            "type": "bar"
           }
          ],
          "barpolar": [
           {
            "marker": {
             "line": {
              "color": "#E5ECF6",
              "width": 0.5
             }
            },
            "type": "barpolar"
           }
          ],
          "carpet": [
           {
            "aaxis": {
             "endlinecolor": "#2a3f5f",
             "gridcolor": "white",
             "linecolor": "white",
             "minorgridcolor": "white",
             "startlinecolor": "#2a3f5f"
            },
            "baxis": {
             "endlinecolor": "#2a3f5f",
             "gridcolor": "white",
             "linecolor": "white",
             "minorgridcolor": "white",
             "startlinecolor": "#2a3f5f"
            },
            "type": "carpet"
           }
          ],
          "choropleth": [
           {
            "colorbar": {
             "outlinewidth": 0,
             "ticks": ""
            },
            "type": "choropleth"
           }
          ],
          "contour": [
           {
            "colorbar": {
             "outlinewidth": 0,
             "ticks": ""
            },
            "colorscale": [
             [
              0,
              "#0d0887"
             ],
             [
              0.1111111111111111,
              "#46039f"
             ],
             [
              0.2222222222222222,
              "#7201a8"
             ],
             [
              0.3333333333333333,
              "#9c179e"
             ],
             [
              0.4444444444444444,
              "#bd3786"
             ],
             [
              0.5555555555555556,
              "#d8576b"
             ],
             [
              0.6666666666666666,
              "#ed7953"
             ],
             [
              0.7777777777777778,
              "#fb9f3a"
             ],
             [
              0.8888888888888888,
              "#fdca26"
             ],
             [
              1,
              "#f0f921"
             ]
            ],
            "type": "contour"
           }
          ],
          "contourcarpet": [
           {
            "colorbar": {
             "outlinewidth": 0,
             "ticks": ""
            },
            "type": "contourcarpet"
           }
          ],
          "heatmap": [
           {
            "colorbar": {
             "outlinewidth": 0,
             "ticks": ""
            },
            "colorscale": [
             [
              0,
              "#0d0887"
             ],
             [
              0.1111111111111111,
              "#46039f"
             ],
             [
              0.2222222222222222,
              "#7201a8"
             ],
             [
              0.3333333333333333,
              "#9c179e"
             ],
             [
              0.4444444444444444,
              "#bd3786"
             ],
             [
              0.5555555555555556,
              "#d8576b"
             ],
             [
              0.6666666666666666,
              "#ed7953"
             ],
             [
              0.7777777777777778,
              "#fb9f3a"
             ],
             [
              0.8888888888888888,
              "#fdca26"
             ],
             [
              1,
              "#f0f921"
             ]
            ],
            "type": "heatmap"
           }
          ],
          "heatmapgl": [
           {
            "colorbar": {
             "outlinewidth": 0,
             "ticks": ""
            },
            "colorscale": [
             [
              0,
              "#0d0887"
             ],
             [
              0.1111111111111111,
              "#46039f"
             ],
             [
              0.2222222222222222,
              "#7201a8"
             ],
             [
              0.3333333333333333,
              "#9c179e"
             ],
             [
              0.4444444444444444,
              "#bd3786"
             ],
             [
              0.5555555555555556,
              "#d8576b"
             ],
             [
              0.6666666666666666,
              "#ed7953"
             ],
             [
              0.7777777777777778,
              "#fb9f3a"
             ],
             [
              0.8888888888888888,
              "#fdca26"
             ],
             [
              1,
              "#f0f921"
             ]
            ],
            "type": "heatmapgl"
           }
          ],
          "histogram": [
           {
            "marker": {
             "colorbar": {
              "outlinewidth": 0,
              "ticks": ""
             }
            },
            "type": "histogram"
           }
          ],
          "histogram2d": [
           {
            "colorbar": {
             "outlinewidth": 0,
             "ticks": ""
            },
            "colorscale": [
             [
              0,
              "#0d0887"
             ],
             [
              0.1111111111111111,
              "#46039f"
             ],
             [
              0.2222222222222222,
              "#7201a8"
             ],
             [
              0.3333333333333333,
              "#9c179e"
             ],
             [
              0.4444444444444444,
              "#bd3786"
             ],
             [
              0.5555555555555556,
              "#d8576b"
             ],
             [
              0.6666666666666666,
              "#ed7953"
             ],
             [
              0.7777777777777778,
              "#fb9f3a"
             ],
             [
              0.8888888888888888,
              "#fdca26"
             ],
             [
              1,
              "#f0f921"
             ]
            ],
            "type": "histogram2d"
           }
          ],
          "histogram2dcontour": [
           {
            "colorbar": {
             "outlinewidth": 0,
             "ticks": ""
            },
            "colorscale": [
             [
              0,
              "#0d0887"
             ],
             [
              0.1111111111111111,
              "#46039f"
             ],
             [
              0.2222222222222222,
              "#7201a8"
             ],
             [
              0.3333333333333333,
              "#9c179e"
             ],
             [
              0.4444444444444444,
              "#bd3786"
             ],
             [
              0.5555555555555556,
              "#d8576b"
             ],
             [
              0.6666666666666666,
              "#ed7953"
             ],
             [
              0.7777777777777778,
              "#fb9f3a"
             ],
             [
              0.8888888888888888,
              "#fdca26"
             ],
             [
              1,
              "#f0f921"
             ]
            ],
            "type": "histogram2dcontour"
           }
          ],
          "mesh3d": [
           {
            "colorbar": {
             "outlinewidth": 0,
             "ticks": ""
            },
            "type": "mesh3d"
           }
          ],
          "parcoords": [
           {
            "line": {
             "colorbar": {
              "outlinewidth": 0,
              "ticks": ""
             }
            },
            "type": "parcoords"
           }
          ],
          "pie": [
           {
            "automargin": true,
            "type": "pie"
           }
          ],
          "scatter": [
           {
            "marker": {
             "colorbar": {
              "outlinewidth": 0,
              "ticks": ""
             }
            },
            "type": "scatter"
           }
          ],
          "scatter3d": [
           {
            "line": {
             "colorbar": {
              "outlinewidth": 0,
              "ticks": ""
             }
            },
            "marker": {
             "colorbar": {
              "outlinewidth": 0,
              "ticks": ""
             }
            },
            "type": "scatter3d"
           }
          ],
          "scattercarpet": [
           {
            "marker": {
             "colorbar": {
              "outlinewidth": 0,
              "ticks": ""
             }
            },
            "type": "scattercarpet"
           }
          ],
          "scattergeo": [
           {
            "marker": {
             "colorbar": {
              "outlinewidth": 0,
              "ticks": ""
             }
            },
            "type": "scattergeo"
           }
          ],
          "scattergl": [
           {
            "marker": {
             "colorbar": {
              "outlinewidth": 0,
              "ticks": ""
             }
            },
            "type": "scattergl"
           }
          ],
          "scattermapbox": [
           {
            "marker": {
             "colorbar": {
              "outlinewidth": 0,
              "ticks": ""
             }
            },
            "type": "scattermapbox"
           }
          ],
          "scatterpolar": [
           {
            "marker": {
             "colorbar": {
              "outlinewidth": 0,
              "ticks": ""
             }
            },
            "type": "scatterpolar"
           }
          ],
          "scatterpolargl": [
           {
            "marker": {
             "colorbar": {
              "outlinewidth": 0,
              "ticks": ""
             }
            },
            "type": "scatterpolargl"
           }
          ],
          "scatterternary": [
           {
            "marker": {
             "colorbar": {
              "outlinewidth": 0,
              "ticks": ""
             }
            },
            "type": "scatterternary"
           }
          ],
          "surface": [
           {
            "colorbar": {
             "outlinewidth": 0,
             "ticks": ""
            },
            "colorscale": [
             [
              0,
              "#0d0887"
             ],
             [
              0.1111111111111111,
              "#46039f"
             ],
             [
              0.2222222222222222,
              "#7201a8"
             ],
             [
              0.3333333333333333,
              "#9c179e"
             ],
             [
              0.4444444444444444,
              "#bd3786"
             ],
             [
              0.5555555555555556,
              "#d8576b"
             ],
             [
              0.6666666666666666,
              "#ed7953"
             ],
             [
              0.7777777777777778,
              "#fb9f3a"
             ],
             [
              0.8888888888888888,
              "#fdca26"
             ],
             [
              1,
              "#f0f921"
             ]
            ],
            "type": "surface"
           }
          ],
          "table": [
           {
            "cells": {
             "fill": {
              "color": "#EBF0F8"
             },
             "line": {
              "color": "white"
             }
            },
            "header": {
             "fill": {
              "color": "#C8D4E3"
             },
             "line": {
              "color": "white"
             }
            },
            "type": "table"
           }
          ]
         },
         "layout": {
          "annotationdefaults": {
           "arrowcolor": "#2a3f5f",
           "arrowhead": 0,
           "arrowwidth": 1
          },
          "coloraxis": {
           "colorbar": {
            "outlinewidth": 0,
            "ticks": ""
           }
          },
          "colorscale": {
           "diverging": [
            [
             0,
             "#8e0152"
            ],
            [
             0.1,
             "#c51b7d"
            ],
            [
             0.2,
             "#de77ae"
            ],
            [
             0.3,
             "#f1b6da"
            ],
            [
             0.4,
             "#fde0ef"
            ],
            [
             0.5,
             "#f7f7f7"
            ],
            [
             0.6,
             "#e6f5d0"
            ],
            [
             0.7,
             "#b8e186"
            ],
            [
             0.8,
             "#7fbc41"
            ],
            [
             0.9,
             "#4d9221"
            ],
            [
             1,
             "#276419"
            ]
           ],
           "sequential": [
            [
             0,
             "#0d0887"
            ],
            [
             0.1111111111111111,
             "#46039f"
            ],
            [
             0.2222222222222222,
             "#7201a8"
            ],
            [
             0.3333333333333333,
             "#9c179e"
            ],
            [
             0.4444444444444444,
             "#bd3786"
            ],
            [
             0.5555555555555556,
             "#d8576b"
            ],
            [
             0.6666666666666666,
             "#ed7953"
            ],
            [
             0.7777777777777778,
             "#fb9f3a"
            ],
            [
             0.8888888888888888,
             "#fdca26"
            ],
            [
             1,
             "#f0f921"
            ]
           ],
           "sequentialminus": [
            [
             0,
             "#0d0887"
            ],
            [
             0.1111111111111111,
             "#46039f"
            ],
            [
             0.2222222222222222,
             "#7201a8"
            ],
            [
             0.3333333333333333,
             "#9c179e"
            ],
            [
             0.4444444444444444,
             "#bd3786"
            ],
            [
             0.5555555555555556,
             "#d8576b"
            ],
            [
             0.6666666666666666,
             "#ed7953"
            ],
            [
             0.7777777777777778,
             "#fb9f3a"
            ],
            [
             0.8888888888888888,
             "#fdca26"
            ],
            [
             1,
             "#f0f921"
            ]
           ]
          },
          "colorway": [
           "#636efa",
           "#EF553B",
           "#00cc96",
           "#ab63fa",
           "#FFA15A",
           "#19d3f3",
           "#FF6692",
           "#B6E880",
           "#FF97FF",
           "#FECB52"
          ],
          "font": {
           "color": "#2a3f5f"
          },
          "geo": {
           "bgcolor": "white",
           "lakecolor": "white",
           "landcolor": "#E5ECF6",
           "showlakes": true,
           "showland": true,
           "subunitcolor": "white"
          },
          "hoverlabel": {
           "align": "left"
          },
          "hovermode": "closest",
          "mapbox": {
           "style": "light"
          },
          "paper_bgcolor": "white",
          "plot_bgcolor": "#E5ECF6",
          "polar": {
           "angularaxis": {
            "gridcolor": "white",
            "linecolor": "white",
            "ticks": ""
           },
           "bgcolor": "#E5ECF6",
           "radialaxis": {
            "gridcolor": "white",
            "linecolor": "white",
            "ticks": ""
           }
          },
          "scene": {
           "xaxis": {
            "backgroundcolor": "#E5ECF6",
            "gridcolor": "white",
            "gridwidth": 2,
            "linecolor": "white",
            "showbackground": true,
            "ticks": "",
            "zerolinecolor": "white"
           },
           "yaxis": {
            "backgroundcolor": "#E5ECF6",
            "gridcolor": "white",
            "gridwidth": 2,
            "linecolor": "white",
            "showbackground": true,
            "ticks": "",
            "zerolinecolor": "white"
           },
           "zaxis": {
            "backgroundcolor": "#E5ECF6",
            "gridcolor": "white",
            "gridwidth": 2,
            "linecolor": "white",
            "showbackground": true,
            "ticks": "",
            "zerolinecolor": "white"
           }
          },
          "shapedefaults": {
           "line": {
            "color": "#2a3f5f"
           }
          },
          "ternary": {
           "aaxis": {
            "gridcolor": "white",
            "linecolor": "white",
            "ticks": ""
           },
           "baxis": {
            "gridcolor": "white",
            "linecolor": "white",
            "ticks": ""
           },
           "bgcolor": "#E5ECF6",
           "caxis": {
            "gridcolor": "white",
            "linecolor": "white",
            "ticks": ""
           }
          },
          "title": {
           "x": 0.05
          },
          "xaxis": {
           "automargin": true,
           "gridcolor": "white",
           "linecolor": "white",
           "ticks": "",
           "title": {
            "standoff": 15
           },
           "zerolinecolor": "white",
           "zerolinewidth": 2
          },
          "yaxis": {
           "automargin": true,
           "gridcolor": "white",
           "linecolor": "white",
           "ticks": "",
           "title": {
            "standoff": 15
           },
           "zerolinecolor": "white",
           "zerolinewidth": 2
          }
         }
        },
        "title": {
         "text": "Average speed and trip distance by hour of the day",
         "x": 0.5,
         "xanchor": "center",
         "y": 0.9,
         "yanchor": "top"
        },
        "xaxis": {
         "anchor": "y",
         "domain": [
          0,
          1
         ],
         "title": {
          "text": "tpep_pickup_datetime"
         }
        },
        "yaxis": {
         "anchor": "x",
         "domain": [
          0,
          1
         ],
         "title": {
          "text": "avg_speed"
         }
        }
       }
      },
      "text/html": [
       "<div>\n",
       "        \n",
       "        \n",
       "            <div id=\"bb554cf2-0b12-4ffd-a3bc-a99d35fa8646\" class=\"plotly-graph-div\" style=\"height:500px; width:100%;\"></div>\n",
       "            <script type=\"text/javascript\">\n",
       "                require([\"plotly\"], function(Plotly) {\n",
       "                    window.PLOTLYENV=window.PLOTLYENV || {};\n",
       "                    \n",
       "                if (document.getElementById(\"bb554cf2-0b12-4ffd-a3bc-a99d35fa8646\")) {\n",
       "                    Plotly.newPlot(\n",
       "                        'bb554cf2-0b12-4ffd-a3bc-a99d35fa8646',\n",
       "                        [{\"alignmentgroup\": \"True\", \"hovertemplate\": \"tpep_pickup_datetime=%{x}<br>avg_speed=%{y}<br>trip_distance=%{marker.color}<extra></extra>\", \"legendgroup\": \"\", \"marker\": {\"color\": [3.509242988699033, 3.42949713932666, 3.372384192163941, 3.598584230119036, 4.350513243821321, 4.585340760880213, 3.793571622683815, 3.098907607936817, 2.71582517628176, 2.589204067938462, 2.608106476208649, 2.555479569210044, 2.5763876537237995, 2.7202025228687052, 2.858138443312799, 2.8235309890721725, 2.8414721386552095, 2.74775012924975, 2.593953376186821, 2.6631920957741513, 2.8942049525377045, 3.0672249043362885, 3.157821598144093, 4.194402892055409], \"coloraxis\": \"coloraxis\"}, \"name\": \"\", \"offsetgroup\": \"\", \"orientation\": \"v\", \"showlegend\": false, \"textposition\": \"auto\", \"type\": \"bar\", \"x\": [0, 1, 2, 3, 4, 5, 6, 7, 8, 9, 10, 11, 12, 13, 14, 15, 16, 17, 18, 19, 20, 21, 22, 23], \"xaxis\": \"x\", \"y\": [15.566413016459501, 15.990995878170635, 16.20692766518213, 17.00541304387941, 18.844703384997274, 19.435323989837055, 16.910877608519403, 14.107920687575602, 12.033586799189576, 11.44936744253143, 11.215522299736781, 10.743356553279368, 10.608830119673003, 10.741381854649571, 10.605063706582367, 10.3769285546291, 10.569082895754754, 10.40295717242279, 10.48990983152744, 11.372370170607988, 12.650457393417813, 13.409110602534035, 13.685919864211641, 15.714190697272324], \"yaxis\": \"y\"}],\n",
       "                        {\"barmode\": \"relative\", \"coloraxis\": {\"colorbar\": {\"title\": {\"text\": \"trip_distance\"}}, \"colorscale\": [[0.0, \"#0d0887\"], [0.1111111111111111, \"#46039f\"], [0.2222222222222222, \"#7201a8\"], [0.3333333333333333, \"#9c179e\"], [0.4444444444444444, \"#bd3786\"], [0.5555555555555556, \"#d8576b\"], [0.6666666666666666, \"#ed7953\"], [0.7777777777777778, \"#fb9f3a\"], [0.8888888888888888, \"#fdca26\"], [1.0, \"#f0f921\"]]}, \"height\": 500, \"legend\": {\"tracegroupgap\": 0}, \"template\": {\"data\": {\"bar\": [{\"error_x\": {\"color\": \"#2a3f5f\"}, \"error_y\": {\"color\": \"#2a3f5f\"}, \"marker\": {\"line\": {\"color\": \"#E5ECF6\", \"width\": 0.5}}, \"type\": \"bar\"}], \"barpolar\": [{\"marker\": {\"line\": {\"color\": \"#E5ECF6\", \"width\": 0.5}}, \"type\": \"barpolar\"}], \"carpet\": [{\"aaxis\": {\"endlinecolor\": \"#2a3f5f\", \"gridcolor\": \"white\", \"linecolor\": \"white\", \"minorgridcolor\": \"white\", \"startlinecolor\": \"#2a3f5f\"}, \"baxis\": {\"endlinecolor\": \"#2a3f5f\", \"gridcolor\": \"white\", \"linecolor\": \"white\", \"minorgridcolor\": \"white\", \"startlinecolor\": \"#2a3f5f\"}, \"type\": \"carpet\"}], \"choropleth\": [{\"colorbar\": {\"outlinewidth\": 0, \"ticks\": \"\"}, \"type\": \"choropleth\"}], \"contour\": [{\"colorbar\": {\"outlinewidth\": 0, \"ticks\": \"\"}, \"colorscale\": [[0.0, \"#0d0887\"], [0.1111111111111111, \"#46039f\"], [0.2222222222222222, \"#7201a8\"], [0.3333333333333333, \"#9c179e\"], [0.4444444444444444, \"#bd3786\"], [0.5555555555555556, \"#d8576b\"], [0.6666666666666666, \"#ed7953\"], [0.7777777777777778, \"#fb9f3a\"], [0.8888888888888888, \"#fdca26\"], [1.0, \"#f0f921\"]], \"type\": \"contour\"}], \"contourcarpet\": [{\"colorbar\": {\"outlinewidth\": 0, \"ticks\": \"\"}, \"type\": \"contourcarpet\"}], \"heatmap\": [{\"colorbar\": {\"outlinewidth\": 0, \"ticks\": \"\"}, \"colorscale\": [[0.0, \"#0d0887\"], [0.1111111111111111, \"#46039f\"], [0.2222222222222222, \"#7201a8\"], [0.3333333333333333, \"#9c179e\"], [0.4444444444444444, \"#bd3786\"], [0.5555555555555556, \"#d8576b\"], [0.6666666666666666, \"#ed7953\"], [0.7777777777777778, \"#fb9f3a\"], [0.8888888888888888, \"#fdca26\"], [1.0, \"#f0f921\"]], \"type\": \"heatmap\"}], \"heatmapgl\": [{\"colorbar\": {\"outlinewidth\": 0, \"ticks\": \"\"}, \"colorscale\": [[0.0, \"#0d0887\"], [0.1111111111111111, \"#46039f\"], [0.2222222222222222, \"#7201a8\"], [0.3333333333333333, \"#9c179e\"], [0.4444444444444444, \"#bd3786\"], [0.5555555555555556, \"#d8576b\"], [0.6666666666666666, \"#ed7953\"], [0.7777777777777778, \"#fb9f3a\"], [0.8888888888888888, \"#fdca26\"], [1.0, \"#f0f921\"]], \"type\": \"heatmapgl\"}], \"histogram\": [{\"marker\": {\"colorbar\": {\"outlinewidth\": 0, \"ticks\": \"\"}}, \"type\": \"histogram\"}], \"histogram2d\": [{\"colorbar\": {\"outlinewidth\": 0, \"ticks\": \"\"}, \"colorscale\": [[0.0, \"#0d0887\"], [0.1111111111111111, \"#46039f\"], [0.2222222222222222, \"#7201a8\"], [0.3333333333333333, \"#9c179e\"], [0.4444444444444444, \"#bd3786\"], [0.5555555555555556, \"#d8576b\"], [0.6666666666666666, \"#ed7953\"], [0.7777777777777778, \"#fb9f3a\"], [0.8888888888888888, \"#fdca26\"], [1.0, \"#f0f921\"]], \"type\": \"histogram2d\"}], \"histogram2dcontour\": [{\"colorbar\": {\"outlinewidth\": 0, \"ticks\": \"\"}, \"colorscale\": [[0.0, \"#0d0887\"], [0.1111111111111111, \"#46039f\"], [0.2222222222222222, \"#7201a8\"], [0.3333333333333333, \"#9c179e\"], [0.4444444444444444, \"#bd3786\"], [0.5555555555555556, \"#d8576b\"], [0.6666666666666666, \"#ed7953\"], [0.7777777777777778, \"#fb9f3a\"], [0.8888888888888888, \"#fdca26\"], [1.0, \"#f0f921\"]], \"type\": \"histogram2dcontour\"}], \"mesh3d\": [{\"colorbar\": {\"outlinewidth\": 0, \"ticks\": \"\"}, \"type\": \"mesh3d\"}], \"parcoords\": [{\"line\": {\"colorbar\": {\"outlinewidth\": 0, \"ticks\": \"\"}}, \"type\": \"parcoords\"}], \"pie\": [{\"automargin\": true, \"type\": \"pie\"}], \"scatter\": [{\"marker\": {\"colorbar\": {\"outlinewidth\": 0, \"ticks\": \"\"}}, \"type\": \"scatter\"}], \"scatter3d\": [{\"line\": {\"colorbar\": {\"outlinewidth\": 0, \"ticks\": \"\"}}, \"marker\": {\"colorbar\": {\"outlinewidth\": 0, \"ticks\": \"\"}}, \"type\": \"scatter3d\"}], \"scattercarpet\": [{\"marker\": {\"colorbar\": {\"outlinewidth\": 0, \"ticks\": \"\"}}, \"type\": \"scattercarpet\"}], \"scattergeo\": [{\"marker\": {\"colorbar\": {\"outlinewidth\": 0, \"ticks\": \"\"}}, \"type\": \"scattergeo\"}], \"scattergl\": [{\"marker\": {\"colorbar\": {\"outlinewidth\": 0, \"ticks\": \"\"}}, \"type\": \"scattergl\"}], \"scattermapbox\": [{\"marker\": {\"colorbar\": {\"outlinewidth\": 0, \"ticks\": \"\"}}, \"type\": \"scattermapbox\"}], \"scatterpolar\": [{\"marker\": {\"colorbar\": {\"outlinewidth\": 0, \"ticks\": \"\"}}, \"type\": \"scatterpolar\"}], \"scatterpolargl\": [{\"marker\": {\"colorbar\": {\"outlinewidth\": 0, \"ticks\": \"\"}}, \"type\": \"scatterpolargl\"}], \"scatterternary\": [{\"marker\": {\"colorbar\": {\"outlinewidth\": 0, \"ticks\": \"\"}}, \"type\": \"scatterternary\"}], \"surface\": [{\"colorbar\": {\"outlinewidth\": 0, \"ticks\": \"\"}, \"colorscale\": [[0.0, \"#0d0887\"], [0.1111111111111111, \"#46039f\"], [0.2222222222222222, \"#7201a8\"], [0.3333333333333333, \"#9c179e\"], [0.4444444444444444, \"#bd3786\"], [0.5555555555555556, \"#d8576b\"], [0.6666666666666666, \"#ed7953\"], [0.7777777777777778, \"#fb9f3a\"], [0.8888888888888888, \"#fdca26\"], [1.0, \"#f0f921\"]], \"type\": \"surface\"}], \"table\": [{\"cells\": {\"fill\": {\"color\": \"#EBF0F8\"}, \"line\": {\"color\": \"white\"}}, \"header\": {\"fill\": {\"color\": \"#C8D4E3\"}, \"line\": {\"color\": \"white\"}}, \"type\": \"table\"}]}, \"layout\": {\"annotationdefaults\": {\"arrowcolor\": \"#2a3f5f\", \"arrowhead\": 0, \"arrowwidth\": 1}, \"coloraxis\": {\"colorbar\": {\"outlinewidth\": 0, \"ticks\": \"\"}}, \"colorscale\": {\"diverging\": [[0, \"#8e0152\"], [0.1, \"#c51b7d\"], [0.2, \"#de77ae\"], [0.3, \"#f1b6da\"], [0.4, \"#fde0ef\"], [0.5, \"#f7f7f7\"], [0.6, \"#e6f5d0\"], [0.7, \"#b8e186\"], [0.8, \"#7fbc41\"], [0.9, \"#4d9221\"], [1, \"#276419\"]], \"sequential\": [[0.0, \"#0d0887\"], [0.1111111111111111, \"#46039f\"], [0.2222222222222222, \"#7201a8\"], [0.3333333333333333, \"#9c179e\"], [0.4444444444444444, \"#bd3786\"], [0.5555555555555556, \"#d8576b\"], [0.6666666666666666, \"#ed7953\"], [0.7777777777777778, \"#fb9f3a\"], [0.8888888888888888, \"#fdca26\"], [1.0, \"#f0f921\"]], \"sequentialminus\": [[0.0, \"#0d0887\"], [0.1111111111111111, \"#46039f\"], [0.2222222222222222, \"#7201a8\"], [0.3333333333333333, \"#9c179e\"], [0.4444444444444444, \"#bd3786\"], [0.5555555555555556, \"#d8576b\"], [0.6666666666666666, \"#ed7953\"], [0.7777777777777778, \"#fb9f3a\"], [0.8888888888888888, \"#fdca26\"], [1.0, \"#f0f921\"]]}, \"colorway\": [\"#636efa\", \"#EF553B\", \"#00cc96\", \"#ab63fa\", \"#FFA15A\", \"#19d3f3\", \"#FF6692\", \"#B6E880\", \"#FF97FF\", \"#FECB52\"], \"font\": {\"color\": \"#2a3f5f\"}, \"geo\": {\"bgcolor\": \"white\", \"lakecolor\": \"white\", \"landcolor\": \"#E5ECF6\", \"showlakes\": true, \"showland\": true, \"subunitcolor\": \"white\"}, \"hoverlabel\": {\"align\": \"left\"}, \"hovermode\": \"closest\", \"mapbox\": {\"style\": \"light\"}, \"paper_bgcolor\": \"white\", \"plot_bgcolor\": \"#E5ECF6\", \"polar\": {\"angularaxis\": {\"gridcolor\": \"white\", \"linecolor\": \"white\", \"ticks\": \"\"}, \"bgcolor\": \"#E5ECF6\", \"radialaxis\": {\"gridcolor\": \"white\", \"linecolor\": \"white\", \"ticks\": \"\"}}, \"scene\": {\"xaxis\": {\"backgroundcolor\": \"#E5ECF6\", \"gridcolor\": \"white\", \"gridwidth\": 2, \"linecolor\": \"white\", \"showbackground\": true, \"ticks\": \"\", \"zerolinecolor\": \"white\"}, \"yaxis\": {\"backgroundcolor\": \"#E5ECF6\", \"gridcolor\": \"white\", \"gridwidth\": 2, \"linecolor\": \"white\", \"showbackground\": true, \"ticks\": \"\", \"zerolinecolor\": \"white\"}, \"zaxis\": {\"backgroundcolor\": \"#E5ECF6\", \"gridcolor\": \"white\", \"gridwidth\": 2, \"linecolor\": \"white\", \"showbackground\": true, \"ticks\": \"\", \"zerolinecolor\": \"white\"}}, \"shapedefaults\": {\"line\": {\"color\": \"#2a3f5f\"}}, \"ternary\": {\"aaxis\": {\"gridcolor\": \"white\", \"linecolor\": \"white\", \"ticks\": \"\"}, \"baxis\": {\"gridcolor\": \"white\", \"linecolor\": \"white\", \"ticks\": \"\"}, \"bgcolor\": \"#E5ECF6\", \"caxis\": {\"gridcolor\": \"white\", \"linecolor\": \"white\", \"ticks\": \"\"}}, \"title\": {\"x\": 0.05}, \"xaxis\": {\"automargin\": true, \"gridcolor\": \"white\", \"linecolor\": \"white\", \"ticks\": \"\", \"title\": {\"standoff\": 15}, \"zerolinecolor\": \"white\", \"zerolinewidth\": 2}, \"yaxis\": {\"automargin\": true, \"gridcolor\": \"white\", \"linecolor\": \"white\", \"ticks\": \"\", \"title\": {\"standoff\": 15}, \"zerolinecolor\": \"white\", \"zerolinewidth\": 2}}}, \"title\": {\"text\": \"Average speed and trip distance by hour of the day\", \"x\": 0.5, \"xanchor\": \"center\", \"y\": 0.9, \"yanchor\": \"top\"}, \"xaxis\": {\"anchor\": \"y\", \"domain\": [0.0, 1.0], \"title\": {\"text\": \"tpep_pickup_datetime\"}}, \"yaxis\": {\"anchor\": \"x\", \"domain\": [0.0, 1.0], \"title\": {\"text\": \"avg_speed\"}}},\n",
       "                        {\"responsive\": true}\n",
       "                    ).then(function(){\n",
       "                            \n",
       "var gd = document.getElementById('bb554cf2-0b12-4ffd-a3bc-a99d35fa8646');\n",
       "var x = new MutationObserver(function (mutations, observer) {{\n",
       "        var display = window.getComputedStyle(gd).display;\n",
       "        if (!display || display === 'none') {{\n",
       "            console.log([gd, 'removed!']);\n",
       "            Plotly.purge(gd);\n",
       "            observer.disconnect();\n",
       "        }}\n",
       "}});\n",
       "\n",
       "// Listen for the removal of the full notebook cells\n",
       "var notebookContainer = gd.closest('#notebook-container');\n",
       "if (notebookContainer) {{\n",
       "    x.observe(notebookContainer, {childList: true});\n",
       "}}\n",
       "\n",
       "// Listen for the clearing of the current output cell\n",
       "var outputEl = gd.closest('.output');\n",
       "if (outputEl) {{\n",
       "    x.observe(outputEl, {childList: true});\n",
       "}}\n",
       "\n",
       "                        })\n",
       "                };\n",
       "                });\n",
       "            </script>\n",
       "        </div>"
      ]
     },
     "metadata": {},
     "output_type": "display_data"
    },
    {
     "name": "stdout",
     "output_type": "stream",
     "text": [
      "Wall time: 96.7 ms\n"
     ]
    }
   ],
   "source": [
    "%%time\n",
    "fig = px.bar(h_avg_table, x='tpep_pickup_datetime', y='avg_speed',\n",
    "            color='trip_distance',\n",
    "             title='Average speed and trip distance by hour of the day',\n",
    "            height=500)\n",
    "\n",
    "\n",
    "fig.update_layout(\n",
    "    title={\n",
    "        'text': \"Average speed and trip distance by hour of the day\",\n",
    "        'y':0.9,\n",
    "        'x':0.5,\n",
    "        'xanchor': 'center',\n",
    "        'yanchor': 'top'})\n",
    "\n",
    "fig.show()"
   ]
  },
  {
   "cell_type": "markdown",
   "metadata": {},
   "source": [
    "#### Average speed and tip amount by hour of the day"
   ]
  },
  {
   "cell_type": "code",
   "execution_count": 90,
   "metadata": {
    "ExecuteTime": {
     "end_time": "2020-06-30T09:24:19.812118Z",
     "start_time": "2020-06-30T09:24:19.716378Z"
    }
   },
   "outputs": [
    {
     "data": {
      "application/vnd.plotly.v1+json": {
       "config": {
        "plotlyServerURL": "https://plot.ly"
       },
       "data": [
        {
         "alignmentgroup": "True",
         "hovertemplate": "tpep_pickup_datetime=%{x}<br>avg_speed=%{y}<br>tip_amount=%{marker.color}<extra></extra>",
         "legendgroup": "",
         "marker": {
          "color": [
           1.8472535530898875,
           1.6637218488729177,
           1.5801160089234043,
           1.5357993050340353,
           1.8020319090741568,
           2.026558440510853,
           1.7760826920510562,
           1.6617306629720685,
           1.675701316551841,
           1.6509224648773695,
           1.620051033036189,
           1.6010668943108104,
           1.5984202560363925,
           1.626321843967795,
           1.6871756628157841,
           1.6678811582277897,
           1.7402382845505957,
           1.789847366595386,
           1.741472744552586,
           1.766669769857502,
           1.9400114311881491,
           1.843760380045834,
           1.8580063231645298,
           1.840797980712774
          ],
          "coloraxis": "coloraxis"
         },
         "name": "",
         "offsetgroup": "",
         "orientation": "v",
         "showlegend": false,
         "textposition": "auto",
         "type": "bar",
         "x": [
          0,
          1,
          2,
          3,
          4,
          5,
          6,
          7,
          8,
          9,
          10,
          11,
          12,
          13,
          14,
          15,
          16,
          17,
          18,
          19,
          20,
          21,
          22,
          23
         ],
         "xaxis": "x",
         "y": [
          15.566413016459501,
          15.990995878170635,
          16.20692766518213,
          17.00541304387941,
          18.844703384997274,
          19.435323989837055,
          16.910877608519403,
          14.107920687575602,
          12.033586799189576,
          11.44936744253143,
          11.215522299736781,
          10.743356553279368,
          10.608830119673003,
          10.741381854649571,
          10.605063706582367,
          10.3769285546291,
          10.569082895754754,
          10.40295717242279,
          10.48990983152744,
          11.372370170607988,
          12.650457393417813,
          13.409110602534035,
          13.685919864211641,
          15.714190697272324
         ],
         "yaxis": "y"
        }
       ],
       "layout": {
        "barmode": "relative",
        "coloraxis": {
         "colorbar": {
          "title": {
           "text": "tip_amount"
          }
         },
         "colorscale": [
          [
           0,
           "#0d0887"
          ],
          [
           0.1111111111111111,
           "#46039f"
          ],
          [
           0.2222222222222222,
           "#7201a8"
          ],
          [
           0.3333333333333333,
           "#9c179e"
          ],
          [
           0.4444444444444444,
           "#bd3786"
          ],
          [
           0.5555555555555556,
           "#d8576b"
          ],
          [
           0.6666666666666666,
           "#ed7953"
          ],
          [
           0.7777777777777778,
           "#fb9f3a"
          ],
          [
           0.8888888888888888,
           "#fdca26"
          ],
          [
           1,
           "#f0f921"
          ]
         ]
        },
        "height": 500,
        "legend": {
         "tracegroupgap": 0
        },
        "template": {
         "data": {
          "bar": [
           {
            "error_x": {
             "color": "#2a3f5f"
            },
            "error_y": {
             "color": "#2a3f5f"
            },
            "marker": {
             "line": {
              "color": "#E5ECF6",
              "width": 0.5
             }
            },
            "type": "bar"
           }
          ],
          "barpolar": [
           {
            "marker": {
             "line": {
              "color": "#E5ECF6",
              "width": 0.5
             }
            },
            "type": "barpolar"
           }
          ],
          "carpet": [
           {
            "aaxis": {
             "endlinecolor": "#2a3f5f",
             "gridcolor": "white",
             "linecolor": "white",
             "minorgridcolor": "white",
             "startlinecolor": "#2a3f5f"
            },
            "baxis": {
             "endlinecolor": "#2a3f5f",
             "gridcolor": "white",
             "linecolor": "white",
             "minorgridcolor": "white",
             "startlinecolor": "#2a3f5f"
            },
            "type": "carpet"
           }
          ],
          "choropleth": [
           {
            "colorbar": {
             "outlinewidth": 0,
             "ticks": ""
            },
            "type": "choropleth"
           }
          ],
          "contour": [
           {
            "colorbar": {
             "outlinewidth": 0,
             "ticks": ""
            },
            "colorscale": [
             [
              0,
              "#0d0887"
             ],
             [
              0.1111111111111111,
              "#46039f"
             ],
             [
              0.2222222222222222,
              "#7201a8"
             ],
             [
              0.3333333333333333,
              "#9c179e"
             ],
             [
              0.4444444444444444,
              "#bd3786"
             ],
             [
              0.5555555555555556,
              "#d8576b"
             ],
             [
              0.6666666666666666,
              "#ed7953"
             ],
             [
              0.7777777777777778,
              "#fb9f3a"
             ],
             [
              0.8888888888888888,
              "#fdca26"
             ],
             [
              1,
              "#f0f921"
             ]
            ],
            "type": "contour"
           }
          ],
          "contourcarpet": [
           {
            "colorbar": {
             "outlinewidth": 0,
             "ticks": ""
            },
            "type": "contourcarpet"
           }
          ],
          "heatmap": [
           {
            "colorbar": {
             "outlinewidth": 0,
             "ticks": ""
            },
            "colorscale": [
             [
              0,
              "#0d0887"
             ],
             [
              0.1111111111111111,
              "#46039f"
             ],
             [
              0.2222222222222222,
              "#7201a8"
             ],
             [
              0.3333333333333333,
              "#9c179e"
             ],
             [
              0.4444444444444444,
              "#bd3786"
             ],
             [
              0.5555555555555556,
              "#d8576b"
             ],
             [
              0.6666666666666666,
              "#ed7953"
             ],
             [
              0.7777777777777778,
              "#fb9f3a"
             ],
             [
              0.8888888888888888,
              "#fdca26"
             ],
             [
              1,
              "#f0f921"
             ]
            ],
            "type": "heatmap"
           }
          ],
          "heatmapgl": [
           {
            "colorbar": {
             "outlinewidth": 0,
             "ticks": ""
            },
            "colorscale": [
             [
              0,
              "#0d0887"
             ],
             [
              0.1111111111111111,
              "#46039f"
             ],
             [
              0.2222222222222222,
              "#7201a8"
             ],
             [
              0.3333333333333333,
              "#9c179e"
             ],
             [
              0.4444444444444444,
              "#bd3786"
             ],
             [
              0.5555555555555556,
              "#d8576b"
             ],
             [
              0.6666666666666666,
              "#ed7953"
             ],
             [
              0.7777777777777778,
              "#fb9f3a"
             ],
             [
              0.8888888888888888,
              "#fdca26"
             ],
             [
              1,
              "#f0f921"
             ]
            ],
            "type": "heatmapgl"
           }
          ],
          "histogram": [
           {
            "marker": {
             "colorbar": {
              "outlinewidth": 0,
              "ticks": ""
             }
            },
            "type": "histogram"
           }
          ],
          "histogram2d": [
           {
            "colorbar": {
             "outlinewidth": 0,
             "ticks": ""
            },
            "colorscale": [
             [
              0,
              "#0d0887"
             ],
             [
              0.1111111111111111,
              "#46039f"
             ],
             [
              0.2222222222222222,
              "#7201a8"
             ],
             [
              0.3333333333333333,
              "#9c179e"
             ],
             [
              0.4444444444444444,
              "#bd3786"
             ],
             [
              0.5555555555555556,
              "#d8576b"
             ],
             [
              0.6666666666666666,
              "#ed7953"
             ],
             [
              0.7777777777777778,
              "#fb9f3a"
             ],
             [
              0.8888888888888888,
              "#fdca26"
             ],
             [
              1,
              "#f0f921"
             ]
            ],
            "type": "histogram2d"
           }
          ],
          "histogram2dcontour": [
           {
            "colorbar": {
             "outlinewidth": 0,
             "ticks": ""
            },
            "colorscale": [
             [
              0,
              "#0d0887"
             ],
             [
              0.1111111111111111,
              "#46039f"
             ],
             [
              0.2222222222222222,
              "#7201a8"
             ],
             [
              0.3333333333333333,
              "#9c179e"
             ],
             [
              0.4444444444444444,
              "#bd3786"
             ],
             [
              0.5555555555555556,
              "#d8576b"
             ],
             [
              0.6666666666666666,
              "#ed7953"
             ],
             [
              0.7777777777777778,
              "#fb9f3a"
             ],
             [
              0.8888888888888888,
              "#fdca26"
             ],
             [
              1,
              "#f0f921"
             ]
            ],
            "type": "histogram2dcontour"
           }
          ],
          "mesh3d": [
           {
            "colorbar": {
             "outlinewidth": 0,
             "ticks": ""
            },
            "type": "mesh3d"
           }
          ],
          "parcoords": [
           {
            "line": {
             "colorbar": {
              "outlinewidth": 0,
              "ticks": ""
             }
            },
            "type": "parcoords"
           }
          ],
          "pie": [
           {
            "automargin": true,
            "type": "pie"
           }
          ],
          "scatter": [
           {
            "marker": {
             "colorbar": {
              "outlinewidth": 0,
              "ticks": ""
             }
            },
            "type": "scatter"
           }
          ],
          "scatter3d": [
           {
            "line": {
             "colorbar": {
              "outlinewidth": 0,
              "ticks": ""
             }
            },
            "marker": {
             "colorbar": {
              "outlinewidth": 0,
              "ticks": ""
             }
            },
            "type": "scatter3d"
           }
          ],
          "scattercarpet": [
           {
            "marker": {
             "colorbar": {
              "outlinewidth": 0,
              "ticks": ""
             }
            },
            "type": "scattercarpet"
           }
          ],
          "scattergeo": [
           {
            "marker": {
             "colorbar": {
              "outlinewidth": 0,
              "ticks": ""
             }
            },
            "type": "scattergeo"
           }
          ],
          "scattergl": [
           {
            "marker": {
             "colorbar": {
              "outlinewidth": 0,
              "ticks": ""
             }
            },
            "type": "scattergl"
           }
          ],
          "scattermapbox": [
           {
            "marker": {
             "colorbar": {
              "outlinewidth": 0,
              "ticks": ""
             }
            },
            "type": "scattermapbox"
           }
          ],
          "scatterpolar": [
           {
            "marker": {
             "colorbar": {
              "outlinewidth": 0,
              "ticks": ""
             }
            },
            "type": "scatterpolar"
           }
          ],
          "scatterpolargl": [
           {
            "marker": {
             "colorbar": {
              "outlinewidth": 0,
              "ticks": ""
             }
            },
            "type": "scatterpolargl"
           }
          ],
          "scatterternary": [
           {
            "marker": {
             "colorbar": {
              "outlinewidth": 0,
              "ticks": ""
             }
            },
            "type": "scatterternary"
           }
          ],
          "surface": [
           {
            "colorbar": {
             "outlinewidth": 0,
             "ticks": ""
            },
            "colorscale": [
             [
              0,
              "#0d0887"
             ],
             [
              0.1111111111111111,
              "#46039f"
             ],
             [
              0.2222222222222222,
              "#7201a8"
             ],
             [
              0.3333333333333333,
              "#9c179e"
             ],
             [
              0.4444444444444444,
              "#bd3786"
             ],
             [
              0.5555555555555556,
              "#d8576b"
             ],
             [
              0.6666666666666666,
              "#ed7953"
             ],
             [
              0.7777777777777778,
              "#fb9f3a"
             ],
             [
              0.8888888888888888,
              "#fdca26"
             ],
             [
              1,
              "#f0f921"
             ]
            ],
            "type": "surface"
           }
          ],
          "table": [
           {
            "cells": {
             "fill": {
              "color": "#EBF0F8"
             },
             "line": {
              "color": "white"
             }
            },
            "header": {
             "fill": {
              "color": "#C8D4E3"
             },
             "line": {
              "color": "white"
             }
            },
            "type": "table"
           }
          ]
         },
         "layout": {
          "annotationdefaults": {
           "arrowcolor": "#2a3f5f",
           "arrowhead": 0,
           "arrowwidth": 1
          },
          "coloraxis": {
           "colorbar": {
            "outlinewidth": 0,
            "ticks": ""
           }
          },
          "colorscale": {
           "diverging": [
            [
             0,
             "#8e0152"
            ],
            [
             0.1,
             "#c51b7d"
            ],
            [
             0.2,
             "#de77ae"
            ],
            [
             0.3,
             "#f1b6da"
            ],
            [
             0.4,
             "#fde0ef"
            ],
            [
             0.5,
             "#f7f7f7"
            ],
            [
             0.6,
             "#e6f5d0"
            ],
            [
             0.7,
             "#b8e186"
            ],
            [
             0.8,
             "#7fbc41"
            ],
            [
             0.9,
             "#4d9221"
            ],
            [
             1,
             "#276419"
            ]
           ],
           "sequential": [
            [
             0,
             "#0d0887"
            ],
            [
             0.1111111111111111,
             "#46039f"
            ],
            [
             0.2222222222222222,
             "#7201a8"
            ],
            [
             0.3333333333333333,
             "#9c179e"
            ],
            [
             0.4444444444444444,
             "#bd3786"
            ],
            [
             0.5555555555555556,
             "#d8576b"
            ],
            [
             0.6666666666666666,
             "#ed7953"
            ],
            [
             0.7777777777777778,
             "#fb9f3a"
            ],
            [
             0.8888888888888888,
             "#fdca26"
            ],
            [
             1,
             "#f0f921"
            ]
           ],
           "sequentialminus": [
            [
             0,
             "#0d0887"
            ],
            [
             0.1111111111111111,
             "#46039f"
            ],
            [
             0.2222222222222222,
             "#7201a8"
            ],
            [
             0.3333333333333333,
             "#9c179e"
            ],
            [
             0.4444444444444444,
             "#bd3786"
            ],
            [
             0.5555555555555556,
             "#d8576b"
            ],
            [
             0.6666666666666666,
             "#ed7953"
            ],
            [
             0.7777777777777778,
             "#fb9f3a"
            ],
            [
             0.8888888888888888,
             "#fdca26"
            ],
            [
             1,
             "#f0f921"
            ]
           ]
          },
          "colorway": [
           "#636efa",
           "#EF553B",
           "#00cc96",
           "#ab63fa",
           "#FFA15A",
           "#19d3f3",
           "#FF6692",
           "#B6E880",
           "#FF97FF",
           "#FECB52"
          ],
          "font": {
           "color": "#2a3f5f"
          },
          "geo": {
           "bgcolor": "white",
           "lakecolor": "white",
           "landcolor": "#E5ECF6",
           "showlakes": true,
           "showland": true,
           "subunitcolor": "white"
          },
          "hoverlabel": {
           "align": "left"
          },
          "hovermode": "closest",
          "mapbox": {
           "style": "light"
          },
          "paper_bgcolor": "white",
          "plot_bgcolor": "#E5ECF6",
          "polar": {
           "angularaxis": {
            "gridcolor": "white",
            "linecolor": "white",
            "ticks": ""
           },
           "bgcolor": "#E5ECF6",
           "radialaxis": {
            "gridcolor": "white",
            "linecolor": "white",
            "ticks": ""
           }
          },
          "scene": {
           "xaxis": {
            "backgroundcolor": "#E5ECF6",
            "gridcolor": "white",
            "gridwidth": 2,
            "linecolor": "white",
            "showbackground": true,
            "ticks": "",
            "zerolinecolor": "white"
           },
           "yaxis": {
            "backgroundcolor": "#E5ECF6",
            "gridcolor": "white",
            "gridwidth": 2,
            "linecolor": "white",
            "showbackground": true,
            "ticks": "",
            "zerolinecolor": "white"
           },
           "zaxis": {
            "backgroundcolor": "#E5ECF6",
            "gridcolor": "white",
            "gridwidth": 2,
            "linecolor": "white",
            "showbackground": true,
            "ticks": "",
            "zerolinecolor": "white"
           }
          },
          "shapedefaults": {
           "line": {
            "color": "#2a3f5f"
           }
          },
          "ternary": {
           "aaxis": {
            "gridcolor": "white",
            "linecolor": "white",
            "ticks": ""
           },
           "baxis": {
            "gridcolor": "white",
            "linecolor": "white",
            "ticks": ""
           },
           "bgcolor": "#E5ECF6",
           "caxis": {
            "gridcolor": "white",
            "linecolor": "white",
            "ticks": ""
           }
          },
          "title": {
           "x": 0.05
          },
          "xaxis": {
           "automargin": true,
           "gridcolor": "white",
           "linecolor": "white",
           "ticks": "",
           "title": {
            "standoff": 15
           },
           "zerolinecolor": "white",
           "zerolinewidth": 2
          },
          "yaxis": {
           "automargin": true,
           "gridcolor": "white",
           "linecolor": "white",
           "ticks": "",
           "title": {
            "standoff": 15
           },
           "zerolinecolor": "white",
           "zerolinewidth": 2
          }
         }
        },
        "title": {
         "text": "Average speed and tip amount by hour of the day",
         "x": 0.5,
         "xanchor": "center",
         "y": 0.9,
         "yanchor": "top"
        },
        "xaxis": {
         "anchor": "y",
         "domain": [
          0,
          1
         ],
         "title": {
          "text": "tpep_pickup_datetime"
         }
        },
        "yaxis": {
         "anchor": "x",
         "domain": [
          0,
          1
         ],
         "title": {
          "text": "avg_speed"
         }
        }
       }
      },
      "text/html": [
       "<div>\n",
       "        \n",
       "        \n",
       "            <div id=\"ee2086fc-f0d8-4535-9187-a7eeaacdbb20\" class=\"plotly-graph-div\" style=\"height:500px; width:100%;\"></div>\n",
       "            <script type=\"text/javascript\">\n",
       "                require([\"plotly\"], function(Plotly) {\n",
       "                    window.PLOTLYENV=window.PLOTLYENV || {};\n",
       "                    \n",
       "                if (document.getElementById(\"ee2086fc-f0d8-4535-9187-a7eeaacdbb20\")) {\n",
       "                    Plotly.newPlot(\n",
       "                        'ee2086fc-f0d8-4535-9187-a7eeaacdbb20',\n",
       "                        [{\"alignmentgroup\": \"True\", \"hovertemplate\": \"tpep_pickup_datetime=%{x}<br>avg_speed=%{y}<br>tip_amount=%{marker.color}<extra></extra>\", \"legendgroup\": \"\", \"marker\": {\"color\": [1.8472535530898875, 1.6637218488729177, 1.5801160089234043, 1.5357993050340353, 1.8020319090741568, 2.026558440510853, 1.7760826920510562, 1.6617306629720685, 1.675701316551841, 1.6509224648773695, 1.620051033036189, 1.6010668943108104, 1.5984202560363925, 1.626321843967795, 1.6871756628157841, 1.6678811582277897, 1.7402382845505957, 1.789847366595386, 1.741472744552586, 1.766669769857502, 1.9400114311881491, 1.843760380045834, 1.8580063231645298, 1.840797980712774], \"coloraxis\": \"coloraxis\"}, \"name\": \"\", \"offsetgroup\": \"\", \"orientation\": \"v\", \"showlegend\": false, \"textposition\": \"auto\", \"type\": \"bar\", \"x\": [0, 1, 2, 3, 4, 5, 6, 7, 8, 9, 10, 11, 12, 13, 14, 15, 16, 17, 18, 19, 20, 21, 22, 23], \"xaxis\": \"x\", \"y\": [15.566413016459501, 15.990995878170635, 16.20692766518213, 17.00541304387941, 18.844703384997274, 19.435323989837055, 16.910877608519403, 14.107920687575602, 12.033586799189576, 11.44936744253143, 11.215522299736781, 10.743356553279368, 10.608830119673003, 10.741381854649571, 10.605063706582367, 10.3769285546291, 10.569082895754754, 10.40295717242279, 10.48990983152744, 11.372370170607988, 12.650457393417813, 13.409110602534035, 13.685919864211641, 15.714190697272324], \"yaxis\": \"y\"}],\n",
       "                        {\"barmode\": \"relative\", \"coloraxis\": {\"colorbar\": {\"title\": {\"text\": \"tip_amount\"}}, \"colorscale\": [[0.0, \"#0d0887\"], [0.1111111111111111, \"#46039f\"], [0.2222222222222222, \"#7201a8\"], [0.3333333333333333, \"#9c179e\"], [0.4444444444444444, \"#bd3786\"], [0.5555555555555556, \"#d8576b\"], [0.6666666666666666, \"#ed7953\"], [0.7777777777777778, \"#fb9f3a\"], [0.8888888888888888, \"#fdca26\"], [1.0, \"#f0f921\"]]}, \"height\": 500, \"legend\": {\"tracegroupgap\": 0}, \"template\": {\"data\": {\"bar\": [{\"error_x\": {\"color\": \"#2a3f5f\"}, \"error_y\": {\"color\": \"#2a3f5f\"}, \"marker\": {\"line\": {\"color\": \"#E5ECF6\", \"width\": 0.5}}, \"type\": \"bar\"}], \"barpolar\": [{\"marker\": {\"line\": {\"color\": \"#E5ECF6\", \"width\": 0.5}}, \"type\": \"barpolar\"}], \"carpet\": [{\"aaxis\": {\"endlinecolor\": \"#2a3f5f\", \"gridcolor\": \"white\", \"linecolor\": \"white\", \"minorgridcolor\": \"white\", \"startlinecolor\": \"#2a3f5f\"}, \"baxis\": {\"endlinecolor\": \"#2a3f5f\", \"gridcolor\": \"white\", \"linecolor\": \"white\", \"minorgridcolor\": \"white\", \"startlinecolor\": \"#2a3f5f\"}, \"type\": \"carpet\"}], \"choropleth\": [{\"colorbar\": {\"outlinewidth\": 0, \"ticks\": \"\"}, \"type\": \"choropleth\"}], \"contour\": [{\"colorbar\": {\"outlinewidth\": 0, \"ticks\": \"\"}, \"colorscale\": [[0.0, \"#0d0887\"], [0.1111111111111111, \"#46039f\"], [0.2222222222222222, \"#7201a8\"], [0.3333333333333333, \"#9c179e\"], [0.4444444444444444, \"#bd3786\"], [0.5555555555555556, \"#d8576b\"], [0.6666666666666666, \"#ed7953\"], [0.7777777777777778, \"#fb9f3a\"], [0.8888888888888888, \"#fdca26\"], [1.0, \"#f0f921\"]], \"type\": \"contour\"}], \"contourcarpet\": [{\"colorbar\": {\"outlinewidth\": 0, \"ticks\": \"\"}, \"type\": \"contourcarpet\"}], \"heatmap\": [{\"colorbar\": {\"outlinewidth\": 0, \"ticks\": \"\"}, \"colorscale\": [[0.0, \"#0d0887\"], [0.1111111111111111, \"#46039f\"], [0.2222222222222222, \"#7201a8\"], [0.3333333333333333, \"#9c179e\"], [0.4444444444444444, \"#bd3786\"], [0.5555555555555556, \"#d8576b\"], [0.6666666666666666, \"#ed7953\"], [0.7777777777777778, \"#fb9f3a\"], [0.8888888888888888, \"#fdca26\"], [1.0, \"#f0f921\"]], \"type\": \"heatmap\"}], \"heatmapgl\": [{\"colorbar\": {\"outlinewidth\": 0, \"ticks\": \"\"}, \"colorscale\": [[0.0, \"#0d0887\"], [0.1111111111111111, \"#46039f\"], [0.2222222222222222, \"#7201a8\"], [0.3333333333333333, \"#9c179e\"], [0.4444444444444444, \"#bd3786\"], [0.5555555555555556, \"#d8576b\"], [0.6666666666666666, \"#ed7953\"], [0.7777777777777778, \"#fb9f3a\"], [0.8888888888888888, \"#fdca26\"], [1.0, \"#f0f921\"]], \"type\": \"heatmapgl\"}], \"histogram\": [{\"marker\": {\"colorbar\": {\"outlinewidth\": 0, \"ticks\": \"\"}}, \"type\": \"histogram\"}], \"histogram2d\": [{\"colorbar\": {\"outlinewidth\": 0, \"ticks\": \"\"}, \"colorscale\": [[0.0, \"#0d0887\"], [0.1111111111111111, \"#46039f\"], [0.2222222222222222, \"#7201a8\"], [0.3333333333333333, \"#9c179e\"], [0.4444444444444444, \"#bd3786\"], [0.5555555555555556, \"#d8576b\"], [0.6666666666666666, \"#ed7953\"], [0.7777777777777778, \"#fb9f3a\"], [0.8888888888888888, \"#fdca26\"], [1.0, \"#f0f921\"]], \"type\": \"histogram2d\"}], \"histogram2dcontour\": [{\"colorbar\": {\"outlinewidth\": 0, \"ticks\": \"\"}, \"colorscale\": [[0.0, \"#0d0887\"], [0.1111111111111111, \"#46039f\"], [0.2222222222222222, \"#7201a8\"], [0.3333333333333333, \"#9c179e\"], [0.4444444444444444, \"#bd3786\"], [0.5555555555555556, \"#d8576b\"], [0.6666666666666666, \"#ed7953\"], [0.7777777777777778, \"#fb9f3a\"], [0.8888888888888888, \"#fdca26\"], [1.0, \"#f0f921\"]], \"type\": \"histogram2dcontour\"}], \"mesh3d\": [{\"colorbar\": {\"outlinewidth\": 0, \"ticks\": \"\"}, \"type\": \"mesh3d\"}], \"parcoords\": [{\"line\": {\"colorbar\": {\"outlinewidth\": 0, \"ticks\": \"\"}}, \"type\": \"parcoords\"}], \"pie\": [{\"automargin\": true, \"type\": \"pie\"}], \"scatter\": [{\"marker\": {\"colorbar\": {\"outlinewidth\": 0, \"ticks\": \"\"}}, \"type\": \"scatter\"}], \"scatter3d\": [{\"line\": {\"colorbar\": {\"outlinewidth\": 0, \"ticks\": \"\"}}, \"marker\": {\"colorbar\": {\"outlinewidth\": 0, \"ticks\": \"\"}}, \"type\": \"scatter3d\"}], \"scattercarpet\": [{\"marker\": {\"colorbar\": {\"outlinewidth\": 0, \"ticks\": \"\"}}, \"type\": \"scattercarpet\"}], \"scattergeo\": [{\"marker\": {\"colorbar\": {\"outlinewidth\": 0, \"ticks\": \"\"}}, \"type\": \"scattergeo\"}], \"scattergl\": [{\"marker\": {\"colorbar\": {\"outlinewidth\": 0, \"ticks\": \"\"}}, \"type\": \"scattergl\"}], \"scattermapbox\": [{\"marker\": {\"colorbar\": {\"outlinewidth\": 0, \"ticks\": \"\"}}, \"type\": \"scattermapbox\"}], \"scatterpolar\": [{\"marker\": {\"colorbar\": {\"outlinewidth\": 0, \"ticks\": \"\"}}, \"type\": \"scatterpolar\"}], \"scatterpolargl\": [{\"marker\": {\"colorbar\": {\"outlinewidth\": 0, \"ticks\": \"\"}}, \"type\": \"scatterpolargl\"}], \"scatterternary\": [{\"marker\": {\"colorbar\": {\"outlinewidth\": 0, \"ticks\": \"\"}}, \"type\": \"scatterternary\"}], \"surface\": [{\"colorbar\": {\"outlinewidth\": 0, \"ticks\": \"\"}, \"colorscale\": [[0.0, \"#0d0887\"], [0.1111111111111111, \"#46039f\"], [0.2222222222222222, \"#7201a8\"], [0.3333333333333333, \"#9c179e\"], [0.4444444444444444, \"#bd3786\"], [0.5555555555555556, \"#d8576b\"], [0.6666666666666666, \"#ed7953\"], [0.7777777777777778, \"#fb9f3a\"], [0.8888888888888888, \"#fdca26\"], [1.0, \"#f0f921\"]], \"type\": \"surface\"}], \"table\": [{\"cells\": {\"fill\": {\"color\": \"#EBF0F8\"}, \"line\": {\"color\": \"white\"}}, \"header\": {\"fill\": {\"color\": \"#C8D4E3\"}, \"line\": {\"color\": \"white\"}}, \"type\": \"table\"}]}, \"layout\": {\"annotationdefaults\": {\"arrowcolor\": \"#2a3f5f\", \"arrowhead\": 0, \"arrowwidth\": 1}, \"coloraxis\": {\"colorbar\": {\"outlinewidth\": 0, \"ticks\": \"\"}}, \"colorscale\": {\"diverging\": [[0, \"#8e0152\"], [0.1, \"#c51b7d\"], [0.2, \"#de77ae\"], [0.3, \"#f1b6da\"], [0.4, \"#fde0ef\"], [0.5, \"#f7f7f7\"], [0.6, \"#e6f5d0\"], [0.7, \"#b8e186\"], [0.8, \"#7fbc41\"], [0.9, \"#4d9221\"], [1, \"#276419\"]], \"sequential\": [[0.0, \"#0d0887\"], [0.1111111111111111, \"#46039f\"], [0.2222222222222222, \"#7201a8\"], [0.3333333333333333, \"#9c179e\"], [0.4444444444444444, \"#bd3786\"], [0.5555555555555556, \"#d8576b\"], [0.6666666666666666, \"#ed7953\"], [0.7777777777777778, \"#fb9f3a\"], [0.8888888888888888, \"#fdca26\"], [1.0, \"#f0f921\"]], \"sequentialminus\": [[0.0, \"#0d0887\"], [0.1111111111111111, \"#46039f\"], [0.2222222222222222, \"#7201a8\"], [0.3333333333333333, \"#9c179e\"], [0.4444444444444444, \"#bd3786\"], [0.5555555555555556, \"#d8576b\"], [0.6666666666666666, \"#ed7953\"], [0.7777777777777778, \"#fb9f3a\"], [0.8888888888888888, \"#fdca26\"], [1.0, \"#f0f921\"]]}, \"colorway\": [\"#636efa\", \"#EF553B\", \"#00cc96\", \"#ab63fa\", \"#FFA15A\", \"#19d3f3\", \"#FF6692\", \"#B6E880\", \"#FF97FF\", \"#FECB52\"], \"font\": {\"color\": \"#2a3f5f\"}, \"geo\": {\"bgcolor\": \"white\", \"lakecolor\": \"white\", \"landcolor\": \"#E5ECF6\", \"showlakes\": true, \"showland\": true, \"subunitcolor\": \"white\"}, \"hoverlabel\": {\"align\": \"left\"}, \"hovermode\": \"closest\", \"mapbox\": {\"style\": \"light\"}, \"paper_bgcolor\": \"white\", \"plot_bgcolor\": \"#E5ECF6\", \"polar\": {\"angularaxis\": {\"gridcolor\": \"white\", \"linecolor\": \"white\", \"ticks\": \"\"}, \"bgcolor\": \"#E5ECF6\", \"radialaxis\": {\"gridcolor\": \"white\", \"linecolor\": \"white\", \"ticks\": \"\"}}, \"scene\": {\"xaxis\": {\"backgroundcolor\": \"#E5ECF6\", \"gridcolor\": \"white\", \"gridwidth\": 2, \"linecolor\": \"white\", \"showbackground\": true, \"ticks\": \"\", \"zerolinecolor\": \"white\"}, \"yaxis\": {\"backgroundcolor\": \"#E5ECF6\", \"gridcolor\": \"white\", \"gridwidth\": 2, \"linecolor\": \"white\", \"showbackground\": true, \"ticks\": \"\", \"zerolinecolor\": \"white\"}, \"zaxis\": {\"backgroundcolor\": \"#E5ECF6\", \"gridcolor\": \"white\", \"gridwidth\": 2, \"linecolor\": \"white\", \"showbackground\": true, \"ticks\": \"\", \"zerolinecolor\": \"white\"}}, \"shapedefaults\": {\"line\": {\"color\": \"#2a3f5f\"}}, \"ternary\": {\"aaxis\": {\"gridcolor\": \"white\", \"linecolor\": \"white\", \"ticks\": \"\"}, \"baxis\": {\"gridcolor\": \"white\", \"linecolor\": \"white\", \"ticks\": \"\"}, \"bgcolor\": \"#E5ECF6\", \"caxis\": {\"gridcolor\": \"white\", \"linecolor\": \"white\", \"ticks\": \"\"}}, \"title\": {\"x\": 0.05}, \"xaxis\": {\"automargin\": true, \"gridcolor\": \"white\", \"linecolor\": \"white\", \"ticks\": \"\", \"title\": {\"standoff\": 15}, \"zerolinecolor\": \"white\", \"zerolinewidth\": 2}, \"yaxis\": {\"automargin\": true, \"gridcolor\": \"white\", \"linecolor\": \"white\", \"ticks\": \"\", \"title\": {\"standoff\": 15}, \"zerolinecolor\": \"white\", \"zerolinewidth\": 2}}}, \"title\": {\"text\": \"Average speed and tip amount by hour of the day\", \"x\": 0.5, \"xanchor\": \"center\", \"y\": 0.9, \"yanchor\": \"top\"}, \"xaxis\": {\"anchor\": \"y\", \"domain\": [0.0, 1.0], \"title\": {\"text\": \"tpep_pickup_datetime\"}}, \"yaxis\": {\"anchor\": \"x\", \"domain\": [0.0, 1.0], \"title\": {\"text\": \"avg_speed\"}}},\n",
       "                        {\"responsive\": true}\n",
       "                    ).then(function(){\n",
       "                            \n",
       "var gd = document.getElementById('ee2086fc-f0d8-4535-9187-a7eeaacdbb20');\n",
       "var x = new MutationObserver(function (mutations, observer) {{\n",
       "        var display = window.getComputedStyle(gd).display;\n",
       "        if (!display || display === 'none') {{\n",
       "            console.log([gd, 'removed!']);\n",
       "            Plotly.purge(gd);\n",
       "            observer.disconnect();\n",
       "        }}\n",
       "}});\n",
       "\n",
       "// Listen for the removal of the full notebook cells\n",
       "var notebookContainer = gd.closest('#notebook-container');\n",
       "if (notebookContainer) {{\n",
       "    x.observe(notebookContainer, {childList: true});\n",
       "}}\n",
       "\n",
       "// Listen for the clearing of the current output cell\n",
       "var outputEl = gd.closest('.output');\n",
       "if (outputEl) {{\n",
       "    x.observe(outputEl, {childList: true});\n",
       "}}\n",
       "\n",
       "                        })\n",
       "                };\n",
       "                });\n",
       "            </script>\n",
       "        </div>"
      ]
     },
     "metadata": {},
     "output_type": "display_data"
    },
    {
     "name": "stdout",
     "output_type": "stream",
     "text": [
      "Wall time: 88.8 ms\n"
     ]
    }
   ],
   "source": [
    "%%time\n",
    "fig = px.bar(h_avg_table, x='tpep_pickup_datetime', y='avg_speed',\n",
    "            color='tip_amount',\n",
    "             title='Average speed and trip distance by hour of the day',\n",
    "            height=500)\n",
    "\n",
    "\n",
    "fig.update_layout(\n",
    "    title={\n",
    "        'text': \"Average speed and tip amount by hour of the day\",\n",
    "        'y':0.9,\n",
    "        'x':0.5,\n",
    "        'xanchor': 'center',\n",
    "        'yanchor': 'top'})\n",
    "\n",
    "fig.show()"
   ]
  },
  {
   "cell_type": "markdown",
   "metadata": {},
   "source": [
    "#### Trip distance and trip minutes by hour of the day\n"
   ]
  },
  {
   "cell_type": "code",
   "execution_count": 93,
   "metadata": {
    "ExecuteTime": {
     "end_time": "2020-06-30T09:27:10.515288Z",
     "start_time": "2020-06-30T09:27:10.400597Z"
    }
   },
   "outputs": [
    {
     "data": {
      "application/vnd.plotly.v1+json": {
       "config": {
        "plotlyServerURL": "https://plot.ly"
       },
       "data": [
        {
         "alignmentgroup": "True",
         "hovertemplate": "tpep_pickup_datetime=%{x}<br>trip_distance=%{y}<br>trip_minutes=%{marker.color}<extra></extra>",
         "legendgroup": "",
         "marker": {
          "color": [
           14.902260394392318,
           13.967597598789894,
           14.101569747859587,
           14.413207325965978,
           15.032385363442355,
           13.874879198806967,
           14.275393307632948,
           13.606714535623844,
           14.407379757897388,
           14.716469196207257,
           14.9696694275236,
           15.606750734031001,
           15.6069199821643,
           15.439573223013085,
           16.40031135428523,
           16.753816708973456,
           16.645382694734728,
           16.59733623956938,
           15.531916925829295,
           15.263873200541198,
           14.4493093952112,
           14.393218084846815,
           14.302633243337501,
           15.457685975553618
          ],
          "coloraxis": "coloraxis"
         },
         "name": "",
         "offsetgroup": "",
         "orientation": "v",
         "showlegend": false,
         "textposition": "auto",
         "type": "bar",
         "x": [
          0,
          1,
          2,
          3,
          4,
          5,
          6,
          7,
          8,
          9,
          10,
          11,
          12,
          13,
          14,
          15,
          16,
          17,
          18,
          19,
          20,
          21,
          22,
          23
         ],
         "xaxis": "x",
         "y": [
          3.509242988699033,
          3.42949713932666,
          3.372384192163941,
          3.598584230119036,
          4.350513243821321,
          4.585340760880213,
          3.793571622683815,
          3.098907607936817,
          2.71582517628176,
          2.589204067938462,
          2.608106476208649,
          2.555479569210044,
          2.5763876537237995,
          2.7202025228687052,
          2.858138443312799,
          2.8235309890721725,
          2.8414721386552095,
          2.74775012924975,
          2.593953376186821,
          2.6631920957741513,
          2.8942049525377045,
          3.0672249043362885,
          3.157821598144093,
          4.194402892055409
         ],
         "yaxis": "y"
        }
       ],
       "layout": {
        "barmode": "relative",
        "coloraxis": {
         "colorbar": {
          "title": {
           "text": "trip_minutes"
          }
         },
         "colorscale": [
          [
           0,
           "#0d0887"
          ],
          [
           0.1111111111111111,
           "#46039f"
          ],
          [
           0.2222222222222222,
           "#7201a8"
          ],
          [
           0.3333333333333333,
           "#9c179e"
          ],
          [
           0.4444444444444444,
           "#bd3786"
          ],
          [
           0.5555555555555556,
           "#d8576b"
          ],
          [
           0.6666666666666666,
           "#ed7953"
          ],
          [
           0.7777777777777778,
           "#fb9f3a"
          ],
          [
           0.8888888888888888,
           "#fdca26"
          ],
          [
           1,
           "#f0f921"
          ]
         ]
        },
        "height": 500,
        "legend": {
         "tracegroupgap": 0
        },
        "template": {
         "data": {
          "bar": [
           {
            "error_x": {
             "color": "#2a3f5f"
            },
            "error_y": {
             "color": "#2a3f5f"
            },
            "marker": {
             "line": {
              "color": "#E5ECF6",
              "width": 0.5
             }
            },
            "type": "bar"
           }
          ],
          "barpolar": [
           {
            "marker": {
             "line": {
              "color": "#E5ECF6",
              "width": 0.5
             }
            },
            "type": "barpolar"
           }
          ],
          "carpet": [
           {
            "aaxis": {
             "endlinecolor": "#2a3f5f",
             "gridcolor": "white",
             "linecolor": "white",
             "minorgridcolor": "white",
             "startlinecolor": "#2a3f5f"
            },
            "baxis": {
             "endlinecolor": "#2a3f5f",
             "gridcolor": "white",
             "linecolor": "white",
             "minorgridcolor": "white",
             "startlinecolor": "#2a3f5f"
            },
            "type": "carpet"
           }
          ],
          "choropleth": [
           {
            "colorbar": {
             "outlinewidth": 0,
             "ticks": ""
            },
            "type": "choropleth"
           }
          ],
          "contour": [
           {
            "colorbar": {
             "outlinewidth": 0,
             "ticks": ""
            },
            "colorscale": [
             [
              0,
              "#0d0887"
             ],
             [
              0.1111111111111111,
              "#46039f"
             ],
             [
              0.2222222222222222,
              "#7201a8"
             ],
             [
              0.3333333333333333,
              "#9c179e"
             ],
             [
              0.4444444444444444,
              "#bd3786"
             ],
             [
              0.5555555555555556,
              "#d8576b"
             ],
             [
              0.6666666666666666,
              "#ed7953"
             ],
             [
              0.7777777777777778,
              "#fb9f3a"
             ],
             [
              0.8888888888888888,
              "#fdca26"
             ],
             [
              1,
              "#f0f921"
             ]
            ],
            "type": "contour"
           }
          ],
          "contourcarpet": [
           {
            "colorbar": {
             "outlinewidth": 0,
             "ticks": ""
            },
            "type": "contourcarpet"
           }
          ],
          "heatmap": [
           {
            "colorbar": {
             "outlinewidth": 0,
             "ticks": ""
            },
            "colorscale": [
             [
              0,
              "#0d0887"
             ],
             [
              0.1111111111111111,
              "#46039f"
             ],
             [
              0.2222222222222222,
              "#7201a8"
             ],
             [
              0.3333333333333333,
              "#9c179e"
             ],
             [
              0.4444444444444444,
              "#bd3786"
             ],
             [
              0.5555555555555556,
              "#d8576b"
             ],
             [
              0.6666666666666666,
              "#ed7953"
             ],
             [
              0.7777777777777778,
              "#fb9f3a"
             ],
             [
              0.8888888888888888,
              "#fdca26"
             ],
             [
              1,
              "#f0f921"
             ]
            ],
            "type": "heatmap"
           }
          ],
          "heatmapgl": [
           {
            "colorbar": {
             "outlinewidth": 0,
             "ticks": ""
            },
            "colorscale": [
             [
              0,
              "#0d0887"
             ],
             [
              0.1111111111111111,
              "#46039f"
             ],
             [
              0.2222222222222222,
              "#7201a8"
             ],
             [
              0.3333333333333333,
              "#9c179e"
             ],
             [
              0.4444444444444444,
              "#bd3786"
             ],
             [
              0.5555555555555556,
              "#d8576b"
             ],
             [
              0.6666666666666666,
              "#ed7953"
             ],
             [
              0.7777777777777778,
              "#fb9f3a"
             ],
             [
              0.8888888888888888,
              "#fdca26"
             ],
             [
              1,
              "#f0f921"
             ]
            ],
            "type": "heatmapgl"
           }
          ],
          "histogram": [
           {
            "marker": {
             "colorbar": {
              "outlinewidth": 0,
              "ticks": ""
             }
            },
            "type": "histogram"
           }
          ],
          "histogram2d": [
           {
            "colorbar": {
             "outlinewidth": 0,
             "ticks": ""
            },
            "colorscale": [
             [
              0,
              "#0d0887"
             ],
             [
              0.1111111111111111,
              "#46039f"
             ],
             [
              0.2222222222222222,
              "#7201a8"
             ],
             [
              0.3333333333333333,
              "#9c179e"
             ],
             [
              0.4444444444444444,
              "#bd3786"
             ],
             [
              0.5555555555555556,
              "#d8576b"
             ],
             [
              0.6666666666666666,
              "#ed7953"
             ],
             [
              0.7777777777777778,
              "#fb9f3a"
             ],
             [
              0.8888888888888888,
              "#fdca26"
             ],
             [
              1,
              "#f0f921"
             ]
            ],
            "type": "histogram2d"
           }
          ],
          "histogram2dcontour": [
           {
            "colorbar": {
             "outlinewidth": 0,
             "ticks": ""
            },
            "colorscale": [
             [
              0,
              "#0d0887"
             ],
             [
              0.1111111111111111,
              "#46039f"
             ],
             [
              0.2222222222222222,
              "#7201a8"
             ],
             [
              0.3333333333333333,
              "#9c179e"
             ],
             [
              0.4444444444444444,
              "#bd3786"
             ],
             [
              0.5555555555555556,
              "#d8576b"
             ],
             [
              0.6666666666666666,
              "#ed7953"
             ],
             [
              0.7777777777777778,
              "#fb9f3a"
             ],
             [
              0.8888888888888888,
              "#fdca26"
             ],
             [
              1,
              "#f0f921"
             ]
            ],
            "type": "histogram2dcontour"
           }
          ],
          "mesh3d": [
           {
            "colorbar": {
             "outlinewidth": 0,
             "ticks": ""
            },
            "type": "mesh3d"
           }
          ],
          "parcoords": [
           {
            "line": {
             "colorbar": {
              "outlinewidth": 0,
              "ticks": ""
             }
            },
            "type": "parcoords"
           }
          ],
          "pie": [
           {
            "automargin": true,
            "type": "pie"
           }
          ],
          "scatter": [
           {
            "marker": {
             "colorbar": {
              "outlinewidth": 0,
              "ticks": ""
             }
            },
            "type": "scatter"
           }
          ],
          "scatter3d": [
           {
            "line": {
             "colorbar": {
              "outlinewidth": 0,
              "ticks": ""
             }
            },
            "marker": {
             "colorbar": {
              "outlinewidth": 0,
              "ticks": ""
             }
            },
            "type": "scatter3d"
           }
          ],
          "scattercarpet": [
           {
            "marker": {
             "colorbar": {
              "outlinewidth": 0,
              "ticks": ""
             }
            },
            "type": "scattercarpet"
           }
          ],
          "scattergeo": [
           {
            "marker": {
             "colorbar": {
              "outlinewidth": 0,
              "ticks": ""
             }
            },
            "type": "scattergeo"
           }
          ],
          "scattergl": [
           {
            "marker": {
             "colorbar": {
              "outlinewidth": 0,
              "ticks": ""
             }
            },
            "type": "scattergl"
           }
          ],
          "scattermapbox": [
           {
            "marker": {
             "colorbar": {
              "outlinewidth": 0,
              "ticks": ""
             }
            },
            "type": "scattermapbox"
           }
          ],
          "scatterpolar": [
           {
            "marker": {
             "colorbar": {
              "outlinewidth": 0,
              "ticks": ""
             }
            },
            "type": "scatterpolar"
           }
          ],
          "scatterpolargl": [
           {
            "marker": {
             "colorbar": {
              "outlinewidth": 0,
              "ticks": ""
             }
            },
            "type": "scatterpolargl"
           }
          ],
          "scatterternary": [
           {
            "marker": {
             "colorbar": {
              "outlinewidth": 0,
              "ticks": ""
             }
            },
            "type": "scatterternary"
           }
          ],
          "surface": [
           {
            "colorbar": {
             "outlinewidth": 0,
             "ticks": ""
            },
            "colorscale": [
             [
              0,
              "#0d0887"
             ],
             [
              0.1111111111111111,
              "#46039f"
             ],
             [
              0.2222222222222222,
              "#7201a8"
             ],
             [
              0.3333333333333333,
              "#9c179e"
             ],
             [
              0.4444444444444444,
              "#bd3786"
             ],
             [
              0.5555555555555556,
              "#d8576b"
             ],
             [
              0.6666666666666666,
              "#ed7953"
             ],
             [
              0.7777777777777778,
              "#fb9f3a"
             ],
             [
              0.8888888888888888,
              "#fdca26"
             ],
             [
              1,
              "#f0f921"
             ]
            ],
            "type": "surface"
           }
          ],
          "table": [
           {
            "cells": {
             "fill": {
              "color": "#EBF0F8"
             },
             "line": {
              "color": "white"
             }
            },
            "header": {
             "fill": {
              "color": "#C8D4E3"
             },
             "line": {
              "color": "white"
             }
            },
            "type": "table"
           }
          ]
         },
         "layout": {
          "annotationdefaults": {
           "arrowcolor": "#2a3f5f",
           "arrowhead": 0,
           "arrowwidth": 1
          },
          "coloraxis": {
           "colorbar": {
            "outlinewidth": 0,
            "ticks": ""
           }
          },
          "colorscale": {
           "diverging": [
            [
             0,
             "#8e0152"
            ],
            [
             0.1,
             "#c51b7d"
            ],
            [
             0.2,
             "#de77ae"
            ],
            [
             0.3,
             "#f1b6da"
            ],
            [
             0.4,
             "#fde0ef"
            ],
            [
             0.5,
             "#f7f7f7"
            ],
            [
             0.6,
             "#e6f5d0"
            ],
            [
             0.7,
             "#b8e186"
            ],
            [
             0.8,
             "#7fbc41"
            ],
            [
             0.9,
             "#4d9221"
            ],
            [
             1,
             "#276419"
            ]
           ],
           "sequential": [
            [
             0,
             "#0d0887"
            ],
            [
             0.1111111111111111,
             "#46039f"
            ],
            [
             0.2222222222222222,
             "#7201a8"
            ],
            [
             0.3333333333333333,
             "#9c179e"
            ],
            [
             0.4444444444444444,
             "#bd3786"
            ],
            [
             0.5555555555555556,
             "#d8576b"
            ],
            [
             0.6666666666666666,
             "#ed7953"
            ],
            [
             0.7777777777777778,
             "#fb9f3a"
            ],
            [
             0.8888888888888888,
             "#fdca26"
            ],
            [
             1,
             "#f0f921"
            ]
           ],
           "sequentialminus": [
            [
             0,
             "#0d0887"
            ],
            [
             0.1111111111111111,
             "#46039f"
            ],
            [
             0.2222222222222222,
             "#7201a8"
            ],
            [
             0.3333333333333333,
             "#9c179e"
            ],
            [
             0.4444444444444444,
             "#bd3786"
            ],
            [
             0.5555555555555556,
             "#d8576b"
            ],
            [
             0.6666666666666666,
             "#ed7953"
            ],
            [
             0.7777777777777778,
             "#fb9f3a"
            ],
            [
             0.8888888888888888,
             "#fdca26"
            ],
            [
             1,
             "#f0f921"
            ]
           ]
          },
          "colorway": [
           "#636efa",
           "#EF553B",
           "#00cc96",
           "#ab63fa",
           "#FFA15A",
           "#19d3f3",
           "#FF6692",
           "#B6E880",
           "#FF97FF",
           "#FECB52"
          ],
          "font": {
           "color": "#2a3f5f"
          },
          "geo": {
           "bgcolor": "white",
           "lakecolor": "white",
           "landcolor": "#E5ECF6",
           "showlakes": true,
           "showland": true,
           "subunitcolor": "white"
          },
          "hoverlabel": {
           "align": "left"
          },
          "hovermode": "closest",
          "mapbox": {
           "style": "light"
          },
          "paper_bgcolor": "white",
          "plot_bgcolor": "#E5ECF6",
          "polar": {
           "angularaxis": {
            "gridcolor": "white",
            "linecolor": "white",
            "ticks": ""
           },
           "bgcolor": "#E5ECF6",
           "radialaxis": {
            "gridcolor": "white",
            "linecolor": "white",
            "ticks": ""
           }
          },
          "scene": {
           "xaxis": {
            "backgroundcolor": "#E5ECF6",
            "gridcolor": "white",
            "gridwidth": 2,
            "linecolor": "white",
            "showbackground": true,
            "ticks": "",
            "zerolinecolor": "white"
           },
           "yaxis": {
            "backgroundcolor": "#E5ECF6",
            "gridcolor": "white",
            "gridwidth": 2,
            "linecolor": "white",
            "showbackground": true,
            "ticks": "",
            "zerolinecolor": "white"
           },
           "zaxis": {
            "backgroundcolor": "#E5ECF6",
            "gridcolor": "white",
            "gridwidth": 2,
            "linecolor": "white",
            "showbackground": true,
            "ticks": "",
            "zerolinecolor": "white"
           }
          },
          "shapedefaults": {
           "line": {
            "color": "#2a3f5f"
           }
          },
          "ternary": {
           "aaxis": {
            "gridcolor": "white",
            "linecolor": "white",
            "ticks": ""
           },
           "baxis": {
            "gridcolor": "white",
            "linecolor": "white",
            "ticks": ""
           },
           "bgcolor": "#E5ECF6",
           "caxis": {
            "gridcolor": "white",
            "linecolor": "white",
            "ticks": ""
           }
          },
          "title": {
           "x": 0.05
          },
          "xaxis": {
           "automargin": true,
           "gridcolor": "white",
           "linecolor": "white",
           "ticks": "",
           "title": {
            "standoff": 15
           },
           "zerolinecolor": "white",
           "zerolinewidth": 2
          },
          "yaxis": {
           "automargin": true,
           "gridcolor": "white",
           "linecolor": "white",
           "ticks": "",
           "title": {
            "standoff": 15
           },
           "zerolinecolor": "white",
           "zerolinewidth": 2
          }
         }
        },
        "title": {
         "text": "Trip distance and trip minutes by hour of the day",
         "x": 0.5,
         "xanchor": "center",
         "y": 0.9,
         "yanchor": "top"
        },
        "xaxis": {
         "anchor": "y",
         "domain": [
          0,
          1
         ],
         "title": {
          "text": "tpep_pickup_datetime"
         }
        },
        "yaxis": {
         "anchor": "x",
         "domain": [
          0,
          1
         ],
         "title": {
          "text": "trip_distance"
         }
        }
       }
      },
      "text/html": [
       "<div>\n",
       "        \n",
       "        \n",
       "            <div id=\"141f14c5-87c5-46ff-a004-7eaf21cc7d17\" class=\"plotly-graph-div\" style=\"height:500px; width:100%;\"></div>\n",
       "            <script type=\"text/javascript\">\n",
       "                require([\"plotly\"], function(Plotly) {\n",
       "                    window.PLOTLYENV=window.PLOTLYENV || {};\n",
       "                    \n",
       "                if (document.getElementById(\"141f14c5-87c5-46ff-a004-7eaf21cc7d17\")) {\n",
       "                    Plotly.newPlot(\n",
       "                        '141f14c5-87c5-46ff-a004-7eaf21cc7d17',\n",
       "                        [{\"alignmentgroup\": \"True\", \"hovertemplate\": \"tpep_pickup_datetime=%{x}<br>trip_distance=%{y}<br>trip_minutes=%{marker.color}<extra></extra>\", \"legendgroup\": \"\", \"marker\": {\"color\": [14.902260394392318, 13.967597598789894, 14.101569747859587, 14.413207325965978, 15.032385363442355, 13.874879198806967, 14.275393307632948, 13.606714535623844, 14.407379757897388, 14.716469196207257, 14.9696694275236, 15.606750734031001, 15.6069199821643, 15.439573223013085, 16.40031135428523, 16.753816708973456, 16.645382694734728, 16.59733623956938, 15.531916925829295, 15.263873200541198, 14.4493093952112, 14.393218084846815, 14.302633243337501, 15.457685975553618], \"coloraxis\": \"coloraxis\"}, \"name\": \"\", \"offsetgroup\": \"\", \"orientation\": \"v\", \"showlegend\": false, \"textposition\": \"auto\", \"type\": \"bar\", \"x\": [0, 1, 2, 3, 4, 5, 6, 7, 8, 9, 10, 11, 12, 13, 14, 15, 16, 17, 18, 19, 20, 21, 22, 23], \"xaxis\": \"x\", \"y\": [3.509242988699033, 3.42949713932666, 3.372384192163941, 3.598584230119036, 4.350513243821321, 4.585340760880213, 3.793571622683815, 3.098907607936817, 2.71582517628176, 2.589204067938462, 2.608106476208649, 2.555479569210044, 2.5763876537237995, 2.7202025228687052, 2.858138443312799, 2.8235309890721725, 2.8414721386552095, 2.74775012924975, 2.593953376186821, 2.6631920957741513, 2.8942049525377045, 3.0672249043362885, 3.157821598144093, 4.194402892055409], \"yaxis\": \"y\"}],\n",
       "                        {\"barmode\": \"relative\", \"coloraxis\": {\"colorbar\": {\"title\": {\"text\": \"trip_minutes\"}}, \"colorscale\": [[0.0, \"#0d0887\"], [0.1111111111111111, \"#46039f\"], [0.2222222222222222, \"#7201a8\"], [0.3333333333333333, \"#9c179e\"], [0.4444444444444444, \"#bd3786\"], [0.5555555555555556, \"#d8576b\"], [0.6666666666666666, \"#ed7953\"], [0.7777777777777778, \"#fb9f3a\"], [0.8888888888888888, \"#fdca26\"], [1.0, \"#f0f921\"]]}, \"height\": 500, \"legend\": {\"tracegroupgap\": 0}, \"template\": {\"data\": {\"bar\": [{\"error_x\": {\"color\": \"#2a3f5f\"}, \"error_y\": {\"color\": \"#2a3f5f\"}, \"marker\": {\"line\": {\"color\": \"#E5ECF6\", \"width\": 0.5}}, \"type\": \"bar\"}], \"barpolar\": [{\"marker\": {\"line\": {\"color\": \"#E5ECF6\", \"width\": 0.5}}, \"type\": \"barpolar\"}], \"carpet\": [{\"aaxis\": {\"endlinecolor\": \"#2a3f5f\", \"gridcolor\": \"white\", \"linecolor\": \"white\", \"minorgridcolor\": \"white\", \"startlinecolor\": \"#2a3f5f\"}, \"baxis\": {\"endlinecolor\": \"#2a3f5f\", \"gridcolor\": \"white\", \"linecolor\": \"white\", \"minorgridcolor\": \"white\", \"startlinecolor\": \"#2a3f5f\"}, \"type\": \"carpet\"}], \"choropleth\": [{\"colorbar\": {\"outlinewidth\": 0, \"ticks\": \"\"}, \"type\": \"choropleth\"}], \"contour\": [{\"colorbar\": {\"outlinewidth\": 0, \"ticks\": \"\"}, \"colorscale\": [[0.0, \"#0d0887\"], [0.1111111111111111, \"#46039f\"], [0.2222222222222222, \"#7201a8\"], [0.3333333333333333, \"#9c179e\"], [0.4444444444444444, \"#bd3786\"], [0.5555555555555556, \"#d8576b\"], [0.6666666666666666, \"#ed7953\"], [0.7777777777777778, \"#fb9f3a\"], [0.8888888888888888, \"#fdca26\"], [1.0, \"#f0f921\"]], \"type\": \"contour\"}], \"contourcarpet\": [{\"colorbar\": {\"outlinewidth\": 0, \"ticks\": \"\"}, \"type\": \"contourcarpet\"}], \"heatmap\": [{\"colorbar\": {\"outlinewidth\": 0, \"ticks\": \"\"}, \"colorscale\": [[0.0, \"#0d0887\"], [0.1111111111111111, \"#46039f\"], [0.2222222222222222, \"#7201a8\"], [0.3333333333333333, \"#9c179e\"], [0.4444444444444444, \"#bd3786\"], [0.5555555555555556, \"#d8576b\"], [0.6666666666666666, \"#ed7953\"], [0.7777777777777778, \"#fb9f3a\"], [0.8888888888888888, \"#fdca26\"], [1.0, \"#f0f921\"]], \"type\": \"heatmap\"}], \"heatmapgl\": [{\"colorbar\": {\"outlinewidth\": 0, \"ticks\": \"\"}, \"colorscale\": [[0.0, \"#0d0887\"], [0.1111111111111111, \"#46039f\"], [0.2222222222222222, \"#7201a8\"], [0.3333333333333333, \"#9c179e\"], [0.4444444444444444, \"#bd3786\"], [0.5555555555555556, \"#d8576b\"], [0.6666666666666666, \"#ed7953\"], [0.7777777777777778, \"#fb9f3a\"], [0.8888888888888888, \"#fdca26\"], [1.0, \"#f0f921\"]], \"type\": \"heatmapgl\"}], \"histogram\": [{\"marker\": {\"colorbar\": {\"outlinewidth\": 0, \"ticks\": \"\"}}, \"type\": \"histogram\"}], \"histogram2d\": [{\"colorbar\": {\"outlinewidth\": 0, \"ticks\": \"\"}, \"colorscale\": [[0.0, \"#0d0887\"], [0.1111111111111111, \"#46039f\"], [0.2222222222222222, \"#7201a8\"], [0.3333333333333333, \"#9c179e\"], [0.4444444444444444, \"#bd3786\"], [0.5555555555555556, \"#d8576b\"], [0.6666666666666666, \"#ed7953\"], [0.7777777777777778, \"#fb9f3a\"], [0.8888888888888888, \"#fdca26\"], [1.0, \"#f0f921\"]], \"type\": \"histogram2d\"}], \"histogram2dcontour\": [{\"colorbar\": {\"outlinewidth\": 0, \"ticks\": \"\"}, \"colorscale\": [[0.0, \"#0d0887\"], [0.1111111111111111, \"#46039f\"], [0.2222222222222222, \"#7201a8\"], [0.3333333333333333, \"#9c179e\"], [0.4444444444444444, \"#bd3786\"], [0.5555555555555556, \"#d8576b\"], [0.6666666666666666, \"#ed7953\"], [0.7777777777777778, \"#fb9f3a\"], [0.8888888888888888, \"#fdca26\"], [1.0, \"#f0f921\"]], \"type\": \"histogram2dcontour\"}], \"mesh3d\": [{\"colorbar\": {\"outlinewidth\": 0, \"ticks\": \"\"}, \"type\": \"mesh3d\"}], \"parcoords\": [{\"line\": {\"colorbar\": {\"outlinewidth\": 0, \"ticks\": \"\"}}, \"type\": \"parcoords\"}], \"pie\": [{\"automargin\": true, \"type\": \"pie\"}], \"scatter\": [{\"marker\": {\"colorbar\": {\"outlinewidth\": 0, \"ticks\": \"\"}}, \"type\": \"scatter\"}], \"scatter3d\": [{\"line\": {\"colorbar\": {\"outlinewidth\": 0, \"ticks\": \"\"}}, \"marker\": {\"colorbar\": {\"outlinewidth\": 0, \"ticks\": \"\"}}, \"type\": \"scatter3d\"}], \"scattercarpet\": [{\"marker\": {\"colorbar\": {\"outlinewidth\": 0, \"ticks\": \"\"}}, \"type\": \"scattercarpet\"}], \"scattergeo\": [{\"marker\": {\"colorbar\": {\"outlinewidth\": 0, \"ticks\": \"\"}}, \"type\": \"scattergeo\"}], \"scattergl\": [{\"marker\": {\"colorbar\": {\"outlinewidth\": 0, \"ticks\": \"\"}}, \"type\": \"scattergl\"}], \"scattermapbox\": [{\"marker\": {\"colorbar\": {\"outlinewidth\": 0, \"ticks\": \"\"}}, \"type\": \"scattermapbox\"}], \"scatterpolar\": [{\"marker\": {\"colorbar\": {\"outlinewidth\": 0, \"ticks\": \"\"}}, \"type\": \"scatterpolar\"}], \"scatterpolargl\": [{\"marker\": {\"colorbar\": {\"outlinewidth\": 0, \"ticks\": \"\"}}, \"type\": \"scatterpolargl\"}], \"scatterternary\": [{\"marker\": {\"colorbar\": {\"outlinewidth\": 0, \"ticks\": \"\"}}, \"type\": \"scatterternary\"}], \"surface\": [{\"colorbar\": {\"outlinewidth\": 0, \"ticks\": \"\"}, \"colorscale\": [[0.0, \"#0d0887\"], [0.1111111111111111, \"#46039f\"], [0.2222222222222222, \"#7201a8\"], [0.3333333333333333, \"#9c179e\"], [0.4444444444444444, \"#bd3786\"], [0.5555555555555556, \"#d8576b\"], [0.6666666666666666, \"#ed7953\"], [0.7777777777777778, \"#fb9f3a\"], [0.8888888888888888, \"#fdca26\"], [1.0, \"#f0f921\"]], \"type\": \"surface\"}], \"table\": [{\"cells\": {\"fill\": {\"color\": \"#EBF0F8\"}, \"line\": {\"color\": \"white\"}}, \"header\": {\"fill\": {\"color\": \"#C8D4E3\"}, \"line\": {\"color\": \"white\"}}, \"type\": \"table\"}]}, \"layout\": {\"annotationdefaults\": {\"arrowcolor\": \"#2a3f5f\", \"arrowhead\": 0, \"arrowwidth\": 1}, \"coloraxis\": {\"colorbar\": {\"outlinewidth\": 0, \"ticks\": \"\"}}, \"colorscale\": {\"diverging\": [[0, \"#8e0152\"], [0.1, \"#c51b7d\"], [0.2, \"#de77ae\"], [0.3, \"#f1b6da\"], [0.4, \"#fde0ef\"], [0.5, \"#f7f7f7\"], [0.6, \"#e6f5d0\"], [0.7, \"#b8e186\"], [0.8, \"#7fbc41\"], [0.9, \"#4d9221\"], [1, \"#276419\"]], \"sequential\": [[0.0, \"#0d0887\"], [0.1111111111111111, \"#46039f\"], [0.2222222222222222, \"#7201a8\"], [0.3333333333333333, \"#9c179e\"], [0.4444444444444444, \"#bd3786\"], [0.5555555555555556, \"#d8576b\"], [0.6666666666666666, \"#ed7953\"], [0.7777777777777778, \"#fb9f3a\"], [0.8888888888888888, \"#fdca26\"], [1.0, \"#f0f921\"]], \"sequentialminus\": [[0.0, \"#0d0887\"], [0.1111111111111111, \"#46039f\"], [0.2222222222222222, \"#7201a8\"], [0.3333333333333333, \"#9c179e\"], [0.4444444444444444, \"#bd3786\"], [0.5555555555555556, \"#d8576b\"], [0.6666666666666666, \"#ed7953\"], [0.7777777777777778, \"#fb9f3a\"], [0.8888888888888888, \"#fdca26\"], [1.0, \"#f0f921\"]]}, \"colorway\": [\"#636efa\", \"#EF553B\", \"#00cc96\", \"#ab63fa\", \"#FFA15A\", \"#19d3f3\", \"#FF6692\", \"#B6E880\", \"#FF97FF\", \"#FECB52\"], \"font\": {\"color\": \"#2a3f5f\"}, \"geo\": {\"bgcolor\": \"white\", \"lakecolor\": \"white\", \"landcolor\": \"#E5ECF6\", \"showlakes\": true, \"showland\": true, \"subunitcolor\": \"white\"}, \"hoverlabel\": {\"align\": \"left\"}, \"hovermode\": \"closest\", \"mapbox\": {\"style\": \"light\"}, \"paper_bgcolor\": \"white\", \"plot_bgcolor\": \"#E5ECF6\", \"polar\": {\"angularaxis\": {\"gridcolor\": \"white\", \"linecolor\": \"white\", \"ticks\": \"\"}, \"bgcolor\": \"#E5ECF6\", \"radialaxis\": {\"gridcolor\": \"white\", \"linecolor\": \"white\", \"ticks\": \"\"}}, \"scene\": {\"xaxis\": {\"backgroundcolor\": \"#E5ECF6\", \"gridcolor\": \"white\", \"gridwidth\": 2, \"linecolor\": \"white\", \"showbackground\": true, \"ticks\": \"\", \"zerolinecolor\": \"white\"}, \"yaxis\": {\"backgroundcolor\": \"#E5ECF6\", \"gridcolor\": \"white\", \"gridwidth\": 2, \"linecolor\": \"white\", \"showbackground\": true, \"ticks\": \"\", \"zerolinecolor\": \"white\"}, \"zaxis\": {\"backgroundcolor\": \"#E5ECF6\", \"gridcolor\": \"white\", \"gridwidth\": 2, \"linecolor\": \"white\", \"showbackground\": true, \"ticks\": \"\", \"zerolinecolor\": \"white\"}}, \"shapedefaults\": {\"line\": {\"color\": \"#2a3f5f\"}}, \"ternary\": {\"aaxis\": {\"gridcolor\": \"white\", \"linecolor\": \"white\", \"ticks\": \"\"}, \"baxis\": {\"gridcolor\": \"white\", \"linecolor\": \"white\", \"ticks\": \"\"}, \"bgcolor\": \"#E5ECF6\", \"caxis\": {\"gridcolor\": \"white\", \"linecolor\": \"white\", \"ticks\": \"\"}}, \"title\": {\"x\": 0.05}, \"xaxis\": {\"automargin\": true, \"gridcolor\": \"white\", \"linecolor\": \"white\", \"ticks\": \"\", \"title\": {\"standoff\": 15}, \"zerolinecolor\": \"white\", \"zerolinewidth\": 2}, \"yaxis\": {\"automargin\": true, \"gridcolor\": \"white\", \"linecolor\": \"white\", \"ticks\": \"\", \"title\": {\"standoff\": 15}, \"zerolinecolor\": \"white\", \"zerolinewidth\": 2}}}, \"title\": {\"text\": \"Trip distance and trip minutes by hour of the day\", \"x\": 0.5, \"xanchor\": \"center\", \"y\": 0.9, \"yanchor\": \"top\"}, \"xaxis\": {\"anchor\": \"y\", \"domain\": [0.0, 1.0], \"title\": {\"text\": \"tpep_pickup_datetime\"}}, \"yaxis\": {\"anchor\": \"x\", \"domain\": [0.0, 1.0], \"title\": {\"text\": \"trip_distance\"}}},\n",
       "                        {\"responsive\": true}\n",
       "                    ).then(function(){\n",
       "                            \n",
       "var gd = document.getElementById('141f14c5-87c5-46ff-a004-7eaf21cc7d17');\n",
       "var x = new MutationObserver(function (mutations, observer) {{\n",
       "        var display = window.getComputedStyle(gd).display;\n",
       "        if (!display || display === 'none') {{\n",
       "            console.log([gd, 'removed!']);\n",
       "            Plotly.purge(gd);\n",
       "            observer.disconnect();\n",
       "        }}\n",
       "}});\n",
       "\n",
       "// Listen for the removal of the full notebook cells\n",
       "var notebookContainer = gd.closest('#notebook-container');\n",
       "if (notebookContainer) {{\n",
       "    x.observe(notebookContainer, {childList: true});\n",
       "}}\n",
       "\n",
       "// Listen for the clearing of the current output cell\n",
       "var outputEl = gd.closest('.output');\n",
       "if (outputEl) {{\n",
       "    x.observe(outputEl, {childList: true});\n",
       "}}\n",
       "\n",
       "                        })\n",
       "                };\n",
       "                });\n",
       "            </script>\n",
       "        </div>"
      ]
     },
     "metadata": {},
     "output_type": "display_data"
    },
    {
     "name": "stdout",
     "output_type": "stream",
     "text": [
      "Wall time: 109 ms\n"
     ]
    }
   ],
   "source": [
    "%%time\n",
    "fig = px.bar(h_avg_table, x='tpep_pickup_datetime', y='trip_distance',\n",
    "            color='trip_minutes',\n",
    "             title='Trip distance and trip minutes by hour of the day',\n",
    "            height=500)\n",
    "\n",
    "\n",
    "fig.update_layout(\n",
    "    title={\n",
    "        'text': \"Trip distance and trip minutes by hour of the day\",\n",
    "        'y':0.9,\n",
    "        'x':0.5,\n",
    "        'xanchor': 'center',\n",
    "        'yanchor': 'top'})\n",
    "\n",
    "fig.show()"
   ]
  },
  {
   "cell_type": "code",
   "execution_count": null,
   "metadata": {},
   "outputs": [],
   "source": [
    "# corr_mat = df_accident.corr().compute()\n",
    "# figure = ff.create_annotated_heatmap(\n",
    "#     z=corr_mat.values,\n",
    "#     x=list(corr_mat.columns),\n",
    "#     y=list(corr_mat.index),\n",
    "#     annotation_text=corr_mat.round(2).values,\n",
    "#     showscale=True)\n",
    "# figure"
   ]
  },
  {
   "cell_type": "code",
   "execution_count": null,
   "metadata": {},
   "outputs": [],
   "source": []
  }
 ],
 "metadata": {
  "kernelspec": {
   "display_name": "Python 3",
   "language": "python",
   "name": "python3"
  },
  "language_info": {
   "codemirror_mode": {
    "name": "ipython",
    "version": 3
   },
   "file_extension": ".py",
   "mimetype": "text/x-python",
   "name": "python",
   "nbconvert_exporter": "python",
   "pygments_lexer": "ipython3",
   "version": "3.7.1"
  },
  "toc": {
   "base_numbering": 1,
   "nav_menu": {},
   "number_sections": true,
   "sideBar": true,
   "skip_h1_title": false,
   "title_cell": "Table of Contents",
   "title_sidebar": "Contents",
   "toc_cell": false,
   "toc_position": {},
   "toc_section_display": true,
   "toc_window_display": false
  },
  "varInspector": {
   "cols": {
    "lenName": 16,
    "lenType": 16,
    "lenVar": 40
   },
   "kernels_config": {
    "python": {
     "delete_cmd_postfix": "",
     "delete_cmd_prefix": "del ",
     "library": "var_list.py",
     "varRefreshCmd": "print(var_dic_list())"
    },
    "r": {
     "delete_cmd_postfix": ") ",
     "delete_cmd_prefix": "rm(",
     "library": "var_list.r",
     "varRefreshCmd": "cat(var_dic_list()) "
    }
   },
   "types_to_exclude": [
    "module",
    "function",
    "builtin_function_or_method",
    "instance",
    "_Feature"
   ],
   "window_display": false
  }
 },
 "nbformat": 4,
 "nbformat_minor": 4
}
